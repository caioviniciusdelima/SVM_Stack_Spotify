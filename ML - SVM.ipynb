{
 "cells": [
  {
   "cell_type": "code",
   "execution_count": 1,
   "source": [
    "import matplotlib.pyplot as plt\r\n",
    "import pandas as pd\r\n",
    "import numpy as np\r\n",
    "from matplotlib import style\r\n",
    "from sklearn.model_selection import cross_val_predict\r\n",
    "from sklearn import metrics\r\n",
    "from sklearn import svm\r\n",
    "from sklearn.preprocessing import LabelEncoder\r\n",
    "from sklearn.preprocessing import OneHotEncoder\r\n",
    "from sklearn.pipeline import Pipeline\r\n",
    "from sklearn.preprocessing import StandardScaler\r\n",
    "from sklearn.preprocessing import MinMaxScaler\r\n",
    "from sklearn.model_selection import GridSearchCV"
   ],
   "outputs": [],
   "metadata": {
    "ExecuteTime": {
     "end_time": "2021-09-28T00:16:00.018422Z",
     "start_time": "2021-09-28T00:15:29.334302Z"
    }
   }
  },
  {
   "cell_type": "code",
   "execution_count": 15,
   "source": [
    "def Acuracia(clf,X,y):\r\n",
    "    resultados = cross_val_predict(clf, X, y, cv=10)\r\n",
    "    return metrics.accuracy_score(y,resultados)"
   ],
   "outputs": [],
   "metadata": {
    "ExecuteTime": {
     "end_time": "2021-09-28T00:17:41.158378Z",
     "start_time": "2021-09-28T00:17:41.148383Z"
    }
   }
  },
  {
   "cell_type": "code",
   "execution_count": null,
   "source": [
    "def remove_features(lista_features):\r\n",
    "    for i in lista_features:\r\n",
    "        dataset.drop(i, axis=1, inplace=True)\r\n",
    "    return 0"
   ],
   "outputs": [],
   "metadata": {
    "ExecuteTime": {
     "end_time": "2021-09-28T00:16:16.063971Z",
     "start_time": "2021-09-28T00:16:16.041969Z"
    }
   }
  },
  {
   "cell_type": "markdown",
   "source": [
    "### Base de dados Spotify - escolha de música"
   ],
   "metadata": {}
  },
  {
   "cell_type": "code",
   "execution_count": 2,
   "source": [
    "dataset = pd.read_csv('data.csv')"
   ],
   "outputs": [],
   "metadata": {
    "ExecuteTime": {
     "end_time": "2021-09-28T00:16:00.516490Z",
     "start_time": "2021-09-28T00:16:00.040422Z"
    }
   }
  },
  {
   "cell_type": "code",
   "execution_count": 18,
   "source": [
    "dataset.head()"
   ],
   "outputs": [
    {
     "output_type": "execute_result",
     "data": {
      "text/html": [
       "<div>\n",
       "<style scoped>\n",
       "    .dataframe tbody tr th:only-of-type {\n",
       "        vertical-align: middle;\n",
       "    }\n",
       "\n",
       "    .dataframe tbody tr th {\n",
       "        vertical-align: top;\n",
       "    }\n",
       "\n",
       "    .dataframe thead th {\n",
       "        text-align: right;\n",
       "    }\n",
       "</style>\n",
       "<table border=\"1\" class=\"dataframe\">\n",
       "  <thead>\n",
       "    <tr style=\"text-align: right;\">\n",
       "      <th></th>\n",
       "      <th>id</th>\n",
       "      <th>acousticness</th>\n",
       "      <th>danceability</th>\n",
       "      <th>duration_ms</th>\n",
       "      <th>energy</th>\n",
       "      <th>instrumentalness</th>\n",
       "      <th>key</th>\n",
       "      <th>liveness</th>\n",
       "      <th>loudness</th>\n",
       "      <th>mode</th>\n",
       "      <th>speechiness</th>\n",
       "      <th>tempo</th>\n",
       "      <th>time_signature</th>\n",
       "      <th>valence</th>\n",
       "      <th>target</th>\n",
       "      <th>song_title</th>\n",
       "      <th>artist</th>\n",
       "    </tr>\n",
       "  </thead>\n",
       "  <tbody>\n",
       "    <tr>\n",
       "      <th>0</th>\n",
       "      <td>0</td>\n",
       "      <td>0.0102</td>\n",
       "      <td>0.833</td>\n",
       "      <td>204600</td>\n",
       "      <td>0.434</td>\n",
       "      <td>0.021900</td>\n",
       "      <td>2</td>\n",
       "      <td>0.1650</td>\n",
       "      <td>-8.795</td>\n",
       "      <td>1</td>\n",
       "      <td>0.4310</td>\n",
       "      <td>150.062</td>\n",
       "      <td>4.0</td>\n",
       "      <td>0.286</td>\n",
       "      <td>1</td>\n",
       "      <td>Mask Off</td>\n",
       "      <td>Future</td>\n",
       "    </tr>\n",
       "    <tr>\n",
       "      <th>1</th>\n",
       "      <td>1</td>\n",
       "      <td>0.1990</td>\n",
       "      <td>0.743</td>\n",
       "      <td>326933</td>\n",
       "      <td>0.359</td>\n",
       "      <td>0.006110</td>\n",
       "      <td>1</td>\n",
       "      <td>0.1370</td>\n",
       "      <td>-10.401</td>\n",
       "      <td>1</td>\n",
       "      <td>0.0794</td>\n",
       "      <td>160.083</td>\n",
       "      <td>4.0</td>\n",
       "      <td>0.588</td>\n",
       "      <td>1</td>\n",
       "      <td>Redbone</td>\n",
       "      <td>Childish Gambino</td>\n",
       "    </tr>\n",
       "    <tr>\n",
       "      <th>2</th>\n",
       "      <td>2</td>\n",
       "      <td>0.0344</td>\n",
       "      <td>0.838</td>\n",
       "      <td>185707</td>\n",
       "      <td>0.412</td>\n",
       "      <td>0.000234</td>\n",
       "      <td>2</td>\n",
       "      <td>0.1590</td>\n",
       "      <td>-7.148</td>\n",
       "      <td>1</td>\n",
       "      <td>0.2890</td>\n",
       "      <td>75.044</td>\n",
       "      <td>4.0</td>\n",
       "      <td>0.173</td>\n",
       "      <td>1</td>\n",
       "      <td>Xanny Family</td>\n",
       "      <td>Future</td>\n",
       "    </tr>\n",
       "    <tr>\n",
       "      <th>3</th>\n",
       "      <td>3</td>\n",
       "      <td>0.6040</td>\n",
       "      <td>0.494</td>\n",
       "      <td>199413</td>\n",
       "      <td>0.338</td>\n",
       "      <td>0.510000</td>\n",
       "      <td>5</td>\n",
       "      <td>0.0922</td>\n",
       "      <td>-15.236</td>\n",
       "      <td>1</td>\n",
       "      <td>0.0261</td>\n",
       "      <td>86.468</td>\n",
       "      <td>4.0</td>\n",
       "      <td>0.230</td>\n",
       "      <td>1</td>\n",
       "      <td>Master Of None</td>\n",
       "      <td>Beach House</td>\n",
       "    </tr>\n",
       "    <tr>\n",
       "      <th>4</th>\n",
       "      <td>4</td>\n",
       "      <td>0.1800</td>\n",
       "      <td>0.678</td>\n",
       "      <td>392893</td>\n",
       "      <td>0.561</td>\n",
       "      <td>0.512000</td>\n",
       "      <td>5</td>\n",
       "      <td>0.4390</td>\n",
       "      <td>-11.648</td>\n",
       "      <td>0</td>\n",
       "      <td>0.0694</td>\n",
       "      <td>174.004</td>\n",
       "      <td>4.0</td>\n",
       "      <td>0.904</td>\n",
       "      <td>1</td>\n",
       "      <td>Parallel Lines</td>\n",
       "      <td>Junior Boys</td>\n",
       "    </tr>\n",
       "  </tbody>\n",
       "</table>\n",
       "</div>"
      ],
      "text/plain": [
       "   id  acousticness  danceability  duration_ms  energy  instrumentalness  key  \\\n",
       "0   0        0.0102         0.833       204600   0.434          0.021900    2   \n",
       "1   1        0.1990         0.743       326933   0.359          0.006110    1   \n",
       "2   2        0.0344         0.838       185707   0.412          0.000234    2   \n",
       "3   3        0.6040         0.494       199413   0.338          0.510000    5   \n",
       "4   4        0.1800         0.678       392893   0.561          0.512000    5   \n",
       "\n",
       "   liveness  loudness  mode  speechiness    tempo  time_signature  valence  \\\n",
       "0    0.1650    -8.795     1       0.4310  150.062             4.0    0.286   \n",
       "1    0.1370   -10.401     1       0.0794  160.083             4.0    0.588   \n",
       "2    0.1590    -7.148     1       0.2890   75.044             4.0    0.173   \n",
       "3    0.0922   -15.236     1       0.0261   86.468             4.0    0.230   \n",
       "4    0.4390   -11.648     0       0.0694  174.004             4.0    0.904   \n",
       "\n",
       "   target      song_title            artist  \n",
       "0       1        Mask Off            Future  \n",
       "1       1         Redbone  Childish Gambino  \n",
       "2       1    Xanny Family            Future  \n",
       "3       1  Master Of None       Beach House  \n",
       "4       1  Parallel Lines       Junior Boys  "
      ]
     },
     "metadata": {},
     "execution_count": 18
    }
   ],
   "metadata": {
    "ExecuteTime": {
     "end_time": "2021-09-26T22:40:56.624749Z",
     "start_time": "2021-09-26T22:40:56.578751Z"
    }
   }
  },
  {
   "cell_type": "markdown",
   "source": [
    "### Analise dos dados"
   ],
   "metadata": {}
  },
  {
   "cell_type": "code",
   "execution_count": 19,
   "source": [
    "dataset.info()"
   ],
   "outputs": [
    {
     "output_type": "stream",
     "name": "stdout",
     "text": [
      "<class 'pandas.core.frame.DataFrame'>\n",
      "RangeIndex: 2017 entries, 0 to 2016\n",
      "Data columns (total 17 columns):\n",
      " #   Column            Non-Null Count  Dtype  \n",
      "---  ------            --------------  -----  \n",
      " 0   id                2017 non-null   int64  \n",
      " 1   acousticness      2017 non-null   float64\n",
      " 2   danceability      2017 non-null   float64\n",
      " 3   duration_ms       2017 non-null   int64  \n",
      " 4   energy            2017 non-null   float64\n",
      " 5   instrumentalness  2017 non-null   float64\n",
      " 6   key               2017 non-null   int64  \n",
      " 7   liveness          2017 non-null   float64\n",
      " 8   loudness          2017 non-null   float64\n",
      " 9   mode              2017 non-null   int64  \n",
      " 10  speechiness       2017 non-null   float64\n",
      " 11  tempo             2017 non-null   float64\n",
      " 12  time_signature    2017 non-null   float64\n",
      " 13  valence           2017 non-null   float64\n",
      " 14  target            2017 non-null   int64  \n",
      " 15  song_title        2017 non-null   object \n",
      " 16  artist            2017 non-null   object \n",
      "dtypes: float64(10), int64(5), object(2)\n",
      "memory usage: 268.0+ KB\n"
     ]
    }
   ],
   "metadata": {
    "ExecuteTime": {
     "end_time": "2021-09-26T22:41:47.495218Z",
     "start_time": "2021-09-26T22:41:47.081963Z"
    }
   }
  },
  {
   "cell_type": "code",
   "execution_count": 20,
   "source": [
    "dataset.describe()"
   ],
   "outputs": [
    {
     "output_type": "execute_result",
     "data": {
      "text/html": [
       "<div>\n",
       "<style scoped>\n",
       "    .dataframe tbody tr th:only-of-type {\n",
       "        vertical-align: middle;\n",
       "    }\n",
       "\n",
       "    .dataframe tbody tr th {\n",
       "        vertical-align: top;\n",
       "    }\n",
       "\n",
       "    .dataframe thead th {\n",
       "        text-align: right;\n",
       "    }\n",
       "</style>\n",
       "<table border=\"1\" class=\"dataframe\">\n",
       "  <thead>\n",
       "    <tr style=\"text-align: right;\">\n",
       "      <th></th>\n",
       "      <th>id</th>\n",
       "      <th>acousticness</th>\n",
       "      <th>danceability</th>\n",
       "      <th>duration_ms</th>\n",
       "      <th>energy</th>\n",
       "      <th>instrumentalness</th>\n",
       "      <th>key</th>\n",
       "      <th>liveness</th>\n",
       "      <th>loudness</th>\n",
       "      <th>mode</th>\n",
       "      <th>speechiness</th>\n",
       "      <th>tempo</th>\n",
       "      <th>time_signature</th>\n",
       "      <th>valence</th>\n",
       "      <th>target</th>\n",
       "    </tr>\n",
       "  </thead>\n",
       "  <tbody>\n",
       "    <tr>\n",
       "      <th>count</th>\n",
       "      <td>2017.000000</td>\n",
       "      <td>2017.000000</td>\n",
       "      <td>2017.000000</td>\n",
       "      <td>2.017000e+03</td>\n",
       "      <td>2017.000000</td>\n",
       "      <td>2017.000000</td>\n",
       "      <td>2017.000000</td>\n",
       "      <td>2017.000000</td>\n",
       "      <td>2017.000000</td>\n",
       "      <td>2017.000000</td>\n",
       "      <td>2017.000000</td>\n",
       "      <td>2017.000000</td>\n",
       "      <td>2017.000000</td>\n",
       "      <td>2017.000000</td>\n",
       "      <td>2017.000000</td>\n",
       "    </tr>\n",
       "    <tr>\n",
       "      <th>mean</th>\n",
       "      <td>1008.000000</td>\n",
       "      <td>0.187590</td>\n",
       "      <td>0.618422</td>\n",
       "      <td>2.463062e+05</td>\n",
       "      <td>0.681577</td>\n",
       "      <td>0.133286</td>\n",
       "      <td>5.342588</td>\n",
       "      <td>0.190844</td>\n",
       "      <td>-7.085624</td>\n",
       "      <td>0.612295</td>\n",
       "      <td>0.092664</td>\n",
       "      <td>121.603272</td>\n",
       "      <td>3.968270</td>\n",
       "      <td>0.496815</td>\n",
       "      <td>0.505702</td>\n",
       "    </tr>\n",
       "    <tr>\n",
       "      <th>std</th>\n",
       "      <td>582.402066</td>\n",
       "      <td>0.259989</td>\n",
       "      <td>0.161029</td>\n",
       "      <td>8.198181e+04</td>\n",
       "      <td>0.210273</td>\n",
       "      <td>0.273162</td>\n",
       "      <td>3.648240</td>\n",
       "      <td>0.155453</td>\n",
       "      <td>3.761684</td>\n",
       "      <td>0.487347</td>\n",
       "      <td>0.089931</td>\n",
       "      <td>26.685604</td>\n",
       "      <td>0.255853</td>\n",
       "      <td>0.247195</td>\n",
       "      <td>0.500091</td>\n",
       "    </tr>\n",
       "    <tr>\n",
       "      <th>min</th>\n",
       "      <td>0.000000</td>\n",
       "      <td>0.000003</td>\n",
       "      <td>0.122000</td>\n",
       "      <td>1.604200e+04</td>\n",
       "      <td>0.014800</td>\n",
       "      <td>0.000000</td>\n",
       "      <td>0.000000</td>\n",
       "      <td>0.018800</td>\n",
       "      <td>-33.097000</td>\n",
       "      <td>0.000000</td>\n",
       "      <td>0.023100</td>\n",
       "      <td>47.859000</td>\n",
       "      <td>1.000000</td>\n",
       "      <td>0.034800</td>\n",
       "      <td>0.000000</td>\n",
       "    </tr>\n",
       "    <tr>\n",
       "      <th>25%</th>\n",
       "      <td>504.000000</td>\n",
       "      <td>0.009630</td>\n",
       "      <td>0.514000</td>\n",
       "      <td>2.000150e+05</td>\n",
       "      <td>0.563000</td>\n",
       "      <td>0.000000</td>\n",
       "      <td>2.000000</td>\n",
       "      <td>0.092300</td>\n",
       "      <td>-8.394000</td>\n",
       "      <td>0.000000</td>\n",
       "      <td>0.037500</td>\n",
       "      <td>100.189000</td>\n",
       "      <td>4.000000</td>\n",
       "      <td>0.295000</td>\n",
       "      <td>0.000000</td>\n",
       "    </tr>\n",
       "    <tr>\n",
       "      <th>50%</th>\n",
       "      <td>1008.000000</td>\n",
       "      <td>0.063300</td>\n",
       "      <td>0.631000</td>\n",
       "      <td>2.292610e+05</td>\n",
       "      <td>0.715000</td>\n",
       "      <td>0.000076</td>\n",
       "      <td>6.000000</td>\n",
       "      <td>0.127000</td>\n",
       "      <td>-6.248000</td>\n",
       "      <td>1.000000</td>\n",
       "      <td>0.054900</td>\n",
       "      <td>121.427000</td>\n",
       "      <td>4.000000</td>\n",
       "      <td>0.492000</td>\n",
       "      <td>1.000000</td>\n",
       "    </tr>\n",
       "    <tr>\n",
       "      <th>75%</th>\n",
       "      <td>1512.000000</td>\n",
       "      <td>0.265000</td>\n",
       "      <td>0.738000</td>\n",
       "      <td>2.703330e+05</td>\n",
       "      <td>0.846000</td>\n",
       "      <td>0.054000</td>\n",
       "      <td>9.000000</td>\n",
       "      <td>0.247000</td>\n",
       "      <td>-4.746000</td>\n",
       "      <td>1.000000</td>\n",
       "      <td>0.108000</td>\n",
       "      <td>137.849000</td>\n",
       "      <td>4.000000</td>\n",
       "      <td>0.691000</td>\n",
       "      <td>1.000000</td>\n",
       "    </tr>\n",
       "    <tr>\n",
       "      <th>max</th>\n",
       "      <td>2016.000000</td>\n",
       "      <td>0.995000</td>\n",
       "      <td>0.984000</td>\n",
       "      <td>1.004627e+06</td>\n",
       "      <td>0.998000</td>\n",
       "      <td>0.976000</td>\n",
       "      <td>11.000000</td>\n",
       "      <td>0.969000</td>\n",
       "      <td>-0.307000</td>\n",
       "      <td>1.000000</td>\n",
       "      <td>0.816000</td>\n",
       "      <td>219.331000</td>\n",
       "      <td>5.000000</td>\n",
       "      <td>0.992000</td>\n",
       "      <td>1.000000</td>\n",
       "    </tr>\n",
       "  </tbody>\n",
       "</table>\n",
       "</div>"
      ],
      "text/plain": [
       "                id  acousticness  danceability   duration_ms       energy  \\\n",
       "count  2017.000000   2017.000000   2017.000000  2.017000e+03  2017.000000   \n",
       "mean   1008.000000      0.187590      0.618422  2.463062e+05     0.681577   \n",
       "std     582.402066      0.259989      0.161029  8.198181e+04     0.210273   \n",
       "min       0.000000      0.000003      0.122000  1.604200e+04     0.014800   \n",
       "25%     504.000000      0.009630      0.514000  2.000150e+05     0.563000   \n",
       "50%    1008.000000      0.063300      0.631000  2.292610e+05     0.715000   \n",
       "75%    1512.000000      0.265000      0.738000  2.703330e+05     0.846000   \n",
       "max    2016.000000      0.995000      0.984000  1.004627e+06     0.998000   \n",
       "\n",
       "       instrumentalness          key     liveness     loudness         mode  \\\n",
       "count       2017.000000  2017.000000  2017.000000  2017.000000  2017.000000   \n",
       "mean           0.133286     5.342588     0.190844    -7.085624     0.612295   \n",
       "std            0.273162     3.648240     0.155453     3.761684     0.487347   \n",
       "min            0.000000     0.000000     0.018800   -33.097000     0.000000   \n",
       "25%            0.000000     2.000000     0.092300    -8.394000     0.000000   \n",
       "50%            0.000076     6.000000     0.127000    -6.248000     1.000000   \n",
       "75%            0.054000     9.000000     0.247000    -4.746000     1.000000   \n",
       "max            0.976000    11.000000     0.969000    -0.307000     1.000000   \n",
       "\n",
       "       speechiness        tempo  time_signature      valence       target  \n",
       "count  2017.000000  2017.000000     2017.000000  2017.000000  2017.000000  \n",
       "mean      0.092664   121.603272        3.968270     0.496815     0.505702  \n",
       "std       0.089931    26.685604        0.255853     0.247195     0.500091  \n",
       "min       0.023100    47.859000        1.000000     0.034800     0.000000  \n",
       "25%       0.037500   100.189000        4.000000     0.295000     0.000000  \n",
       "50%       0.054900   121.427000        4.000000     0.492000     1.000000  \n",
       "75%       0.108000   137.849000        4.000000     0.691000     1.000000  \n",
       "max       0.816000   219.331000        5.000000     0.992000     1.000000  "
      ]
     },
     "metadata": {},
     "execution_count": 20
    }
   ],
   "metadata": {
    "ExecuteTime": {
     "end_time": "2021-09-26T22:42:16.970105Z",
     "start_time": "2021-09-26T22:42:16.730106Z"
    }
   }
  },
  {
   "cell_type": "code",
   "execution_count": 22,
   "source": [
    "#Checagem de valores nulos\r\n",
    "dataset.isnull().sum()"
   ],
   "outputs": [
    {
     "output_type": "execute_result",
     "data": {
      "text/plain": [
       "id                  0\n",
       "acousticness        0\n",
       "danceability        0\n",
       "duration_ms         0\n",
       "energy              0\n",
       "instrumentalness    0\n",
       "key                 0\n",
       "liveness            0\n",
       "loudness            0\n",
       "mode                0\n",
       "speechiness         0\n",
       "tempo               0\n",
       "time_signature      0\n",
       "valence             0\n",
       "target              0\n",
       "song_title          0\n",
       "artist              0\n",
       "dtype: int64"
      ]
     },
     "metadata": {},
     "execution_count": 22
    }
   ],
   "metadata": {
    "ExecuteTime": {
     "end_time": "2021-09-26T22:43:29.980817Z",
     "start_time": "2021-09-26T22:43:29.954796Z"
    }
   }
  },
  {
   "cell_type": "code",
   "execution_count": 59,
   "source": [
    "%matplotlib notebook\r\n",
    "style.use(\"seaborn-pastel\")\r\n",
    "dataset.plot(x='acousticness', y='danceability', c=classe, kind='scatter', colormap='Accent_r')"
   ],
   "outputs": [
    {
     "output_type": "display_data",
     "data": {
      "application/javascript": "/* Put everything inside the global mpl namespace */\nwindow.mpl = {};\n\n\nmpl.get_websocket_type = function() {\n    if (typeof(WebSocket) !== 'undefined') {\n        return WebSocket;\n    } else if (typeof(MozWebSocket) !== 'undefined') {\n        return MozWebSocket;\n    } else {\n        alert('Your browser does not have WebSocket support. ' +\n              'Please try Chrome, Safari or Firefox ≥ 6. ' +\n              'Firefox 4 and 5 are also supported but you ' +\n              'have to enable WebSockets in about:config.');\n    };\n}\n\nmpl.figure = function(figure_id, websocket, ondownload, parent_element) {\n    this.id = figure_id;\n\n    this.ws = websocket;\n\n    this.supports_binary = (this.ws.binaryType != undefined);\n\n    if (!this.supports_binary) {\n        var warnings = document.getElementById(\"mpl-warnings\");\n        if (warnings) {\n            warnings.style.display = 'block';\n            warnings.textContent = (\n                \"This browser does not support binary websocket messages. \" +\n                    \"Performance may be slow.\");\n        }\n    }\n\n    this.imageObj = new Image();\n\n    this.context = undefined;\n    this.message = undefined;\n    this.canvas = undefined;\n    this.rubberband_canvas = undefined;\n    this.rubberband_context = undefined;\n    this.format_dropdown = undefined;\n\n    this.image_mode = 'full';\n\n    this.root = $('<div/>');\n    this._root_extra_style(this.root)\n    this.root.attr('style', 'display: inline-block');\n\n    $(parent_element).append(this.root);\n\n    this._init_header(this);\n    this._init_canvas(this);\n    this._init_toolbar(this);\n\n    var fig = this;\n\n    this.waiting = false;\n\n    this.ws.onopen =  function () {\n            fig.send_message(\"supports_binary\", {value: fig.supports_binary});\n            fig.send_message(\"send_image_mode\", {});\n            if (mpl.ratio != 1) {\n                fig.send_message(\"set_dpi_ratio\", {'dpi_ratio': mpl.ratio});\n            }\n            fig.send_message(\"refresh\", {});\n        }\n\n    this.imageObj.onload = function() {\n            if (fig.image_mode == 'full') {\n                // Full images could contain transparency (where diff images\n                // almost always do), so we need to clear the canvas so that\n                // there is no ghosting.\n                fig.context.clearRect(0, 0, fig.canvas.width, fig.canvas.height);\n            }\n            fig.context.drawImage(fig.imageObj, 0, 0);\n        };\n\n    this.imageObj.onunload = function() {\n        fig.ws.close();\n    }\n\n    this.ws.onmessage = this._make_on_message_function(this);\n\n    this.ondownload = ondownload;\n}\n\nmpl.figure.prototype._init_header = function() {\n    var titlebar = $(\n        '<div class=\"ui-dialog-titlebar ui-widget-header ui-corner-all ' +\n        'ui-helper-clearfix\"/>');\n    var titletext = $(\n        '<div class=\"ui-dialog-title\" style=\"width: 100%; ' +\n        'text-align: center; padding: 3px;\"/>');\n    titlebar.append(titletext)\n    this.root.append(titlebar);\n    this.header = titletext[0];\n}\n\n\n\nmpl.figure.prototype._canvas_extra_style = function(canvas_div) {\n\n}\n\n\nmpl.figure.prototype._root_extra_style = function(canvas_div) {\n\n}\n\nmpl.figure.prototype._init_canvas = function() {\n    var fig = this;\n\n    var canvas_div = $('<div/>');\n\n    canvas_div.attr('style', 'position: relative; clear: both; outline: 0');\n\n    function canvas_keyboard_event(event) {\n        return fig.key_event(event, event['data']);\n    }\n\n    canvas_div.keydown('key_press', canvas_keyboard_event);\n    canvas_div.keyup('key_release', canvas_keyboard_event);\n    this.canvas_div = canvas_div\n    this._canvas_extra_style(canvas_div)\n    this.root.append(canvas_div);\n\n    var canvas = $('<canvas/>');\n    canvas.addClass('mpl-canvas');\n    canvas.attr('style', \"left: 0; top: 0; z-index: 0; outline: 0\")\n\n    this.canvas = canvas[0];\n    this.context = canvas[0].getContext(\"2d\");\n\n    var backingStore = this.context.backingStorePixelRatio ||\n\tthis.context.webkitBackingStorePixelRatio ||\n\tthis.context.mozBackingStorePixelRatio ||\n\tthis.context.msBackingStorePixelRatio ||\n\tthis.context.oBackingStorePixelRatio ||\n\tthis.context.backingStorePixelRatio || 1;\n\n    mpl.ratio = (window.devicePixelRatio || 1) / backingStore;\n\n    var rubberband = $('<canvas/>');\n    rubberband.attr('style', \"position: absolute; left: 0; top: 0; z-index: 1;\")\n\n    var pass_mouse_events = true;\n\n    canvas_div.resizable({\n        start: function(event, ui) {\n            pass_mouse_events = false;\n        },\n        resize: function(event, ui) {\n            fig.request_resize(ui.size.width, ui.size.height);\n        },\n        stop: function(event, ui) {\n            pass_mouse_events = true;\n            fig.request_resize(ui.size.width, ui.size.height);\n        },\n    });\n\n    function mouse_event_fn(event) {\n        if (pass_mouse_events)\n            return fig.mouse_event(event, event['data']);\n    }\n\n    rubberband.mousedown('button_press', mouse_event_fn);\n    rubberband.mouseup('button_release', mouse_event_fn);\n    // Throttle sequential mouse events to 1 every 20ms.\n    rubberband.mousemove('motion_notify', mouse_event_fn);\n\n    rubberband.mouseenter('figure_enter', mouse_event_fn);\n    rubberband.mouseleave('figure_leave', mouse_event_fn);\n\n    canvas_div.on(\"wheel\", function (event) {\n        event = event.originalEvent;\n        event['data'] = 'scroll'\n        if (event.deltaY < 0) {\n            event.step = 1;\n        } else {\n            event.step = -1;\n        }\n        mouse_event_fn(event);\n    });\n\n    canvas_div.append(canvas);\n    canvas_div.append(rubberband);\n\n    this.rubberband = rubberband;\n    this.rubberband_canvas = rubberband[0];\n    this.rubberband_context = rubberband[0].getContext(\"2d\");\n    this.rubberband_context.strokeStyle = \"#000000\";\n\n    this._resize_canvas = function(width, height) {\n        // Keep the size of the canvas, canvas container, and rubber band\n        // canvas in synch.\n        canvas_div.css('width', width)\n        canvas_div.css('height', height)\n\n        canvas.attr('width', width * mpl.ratio);\n        canvas.attr('height', height * mpl.ratio);\n        canvas.attr('style', 'width: ' + width + 'px; height: ' + height + 'px;');\n\n        rubberband.attr('width', width);\n        rubberband.attr('height', height);\n    }\n\n    // Set the figure to an initial 600x600px, this will subsequently be updated\n    // upon first draw.\n    this._resize_canvas(600, 600);\n\n    // Disable right mouse context menu.\n    $(this.rubberband_canvas).bind(\"contextmenu\",function(e){\n        return false;\n    });\n\n    function set_focus () {\n        canvas.focus();\n        canvas_div.focus();\n    }\n\n    window.setTimeout(set_focus, 100);\n}\n\nmpl.figure.prototype._init_toolbar = function() {\n    var fig = this;\n\n    var nav_element = $('<div/>');\n    nav_element.attr('style', 'width: 100%');\n    this.root.append(nav_element);\n\n    // Define a callback function for later on.\n    function toolbar_event(event) {\n        return fig.toolbar_button_onclick(event['data']);\n    }\n    function toolbar_mouse_event(event) {\n        return fig.toolbar_button_onmouseover(event['data']);\n    }\n\n    for(var toolbar_ind in mpl.toolbar_items) {\n        var name = mpl.toolbar_items[toolbar_ind][0];\n        var tooltip = mpl.toolbar_items[toolbar_ind][1];\n        var image = mpl.toolbar_items[toolbar_ind][2];\n        var method_name = mpl.toolbar_items[toolbar_ind][3];\n\n        if (!name) {\n            // put a spacer in here.\n            continue;\n        }\n        var button = $('<button/>');\n        button.addClass('ui-button ui-widget ui-state-default ui-corner-all ' +\n                        'ui-button-icon-only');\n        button.attr('role', 'button');\n        button.attr('aria-disabled', 'false');\n        button.click(method_name, toolbar_event);\n        button.mouseover(tooltip, toolbar_mouse_event);\n\n        var icon_img = $('<span/>');\n        icon_img.addClass('ui-button-icon-primary ui-icon');\n        icon_img.addClass(image);\n        icon_img.addClass('ui-corner-all');\n\n        var tooltip_span = $('<span/>');\n        tooltip_span.addClass('ui-button-text');\n        tooltip_span.html(tooltip);\n\n        button.append(icon_img);\n        button.append(tooltip_span);\n\n        nav_element.append(button);\n    }\n\n    var fmt_picker_span = $('<span/>');\n\n    var fmt_picker = $('<select/>');\n    fmt_picker.addClass('mpl-toolbar-option ui-widget ui-widget-content');\n    fmt_picker_span.append(fmt_picker);\n    nav_element.append(fmt_picker_span);\n    this.format_dropdown = fmt_picker[0];\n\n    for (var ind in mpl.extensions) {\n        var fmt = mpl.extensions[ind];\n        var option = $(\n            '<option/>', {selected: fmt === mpl.default_extension}).html(fmt);\n        fmt_picker.append(option);\n    }\n\n    // Add hover states to the ui-buttons\n    $( \".ui-button\" ).hover(\n        function() { $(this).addClass(\"ui-state-hover\");},\n        function() { $(this).removeClass(\"ui-state-hover\");}\n    );\n\n    var status_bar = $('<span class=\"mpl-message\"/>');\n    nav_element.append(status_bar);\n    this.message = status_bar[0];\n}\n\nmpl.figure.prototype.request_resize = function(x_pixels, y_pixels) {\n    // Request matplotlib to resize the figure. Matplotlib will then trigger a resize in the client,\n    // which will in turn request a refresh of the image.\n    this.send_message('resize', {'width': x_pixels, 'height': y_pixels});\n}\n\nmpl.figure.prototype.send_message = function(type, properties) {\n    properties['type'] = type;\n    properties['figure_id'] = this.id;\n    this.ws.send(JSON.stringify(properties));\n}\n\nmpl.figure.prototype.send_draw_message = function() {\n    if (!this.waiting) {\n        this.waiting = true;\n        this.ws.send(JSON.stringify({type: \"draw\", figure_id: this.id}));\n    }\n}\n\n\nmpl.figure.prototype.handle_save = function(fig, msg) {\n    var format_dropdown = fig.format_dropdown;\n    var format = format_dropdown.options[format_dropdown.selectedIndex].value;\n    fig.ondownload(fig, format);\n}\n\n\nmpl.figure.prototype.handle_resize = function(fig, msg) {\n    var size = msg['size'];\n    if (size[0] != fig.canvas.width || size[1] != fig.canvas.height) {\n        fig._resize_canvas(size[0], size[1]);\n        fig.send_message(\"refresh\", {});\n    };\n}\n\nmpl.figure.prototype.handle_rubberband = function(fig, msg) {\n    var x0 = msg['x0'] / mpl.ratio;\n    var y0 = (fig.canvas.height - msg['y0']) / mpl.ratio;\n    var x1 = msg['x1'] / mpl.ratio;\n    var y1 = (fig.canvas.height - msg['y1']) / mpl.ratio;\n    x0 = Math.floor(x0) + 0.5;\n    y0 = Math.floor(y0) + 0.5;\n    x1 = Math.floor(x1) + 0.5;\n    y1 = Math.floor(y1) + 0.5;\n    var min_x = Math.min(x0, x1);\n    var min_y = Math.min(y0, y1);\n    var width = Math.abs(x1 - x0);\n    var height = Math.abs(y1 - y0);\n\n    fig.rubberband_context.clearRect(\n        0, 0, fig.canvas.width / mpl.ratio, fig.canvas.height / mpl.ratio);\n\n    fig.rubberband_context.strokeRect(min_x, min_y, width, height);\n}\n\nmpl.figure.prototype.handle_figure_label = function(fig, msg) {\n    // Updates the figure title.\n    fig.header.textContent = msg['label'];\n}\n\nmpl.figure.prototype.handle_cursor = function(fig, msg) {\n    var cursor = msg['cursor'];\n    switch(cursor)\n    {\n    case 0:\n        cursor = 'pointer';\n        break;\n    case 1:\n        cursor = 'default';\n        break;\n    case 2:\n        cursor = 'crosshair';\n        break;\n    case 3:\n        cursor = 'move';\n        break;\n    }\n    fig.rubberband_canvas.style.cursor = cursor;\n}\n\nmpl.figure.prototype.handle_message = function(fig, msg) {\n    fig.message.textContent = msg['message'];\n}\n\nmpl.figure.prototype.handle_draw = function(fig, msg) {\n    // Request the server to send over a new figure.\n    fig.send_draw_message();\n}\n\nmpl.figure.prototype.handle_image_mode = function(fig, msg) {\n    fig.image_mode = msg['mode'];\n}\n\nmpl.figure.prototype.updated_canvas_event = function() {\n    // Called whenever the canvas gets updated.\n    this.send_message(\"ack\", {});\n}\n\n// A function to construct a web socket function for onmessage handling.\n// Called in the figure constructor.\nmpl.figure.prototype._make_on_message_function = function(fig) {\n    return function socket_on_message(evt) {\n        if (evt.data instanceof Blob) {\n            /* FIXME: We get \"Resource interpreted as Image but\n             * transferred with MIME type text/plain:\" errors on\n             * Chrome.  But how to set the MIME type?  It doesn't seem\n             * to be part of the websocket stream */\n            evt.data.type = \"image/png\";\n\n            /* Free the memory for the previous frames */\n            if (fig.imageObj.src) {\n                (window.URL || window.webkitURL).revokeObjectURL(\n                    fig.imageObj.src);\n            }\n\n            fig.imageObj.src = (window.URL || window.webkitURL).createObjectURL(\n                evt.data);\n            fig.updated_canvas_event();\n            fig.waiting = false;\n            return;\n        }\n        else if (typeof evt.data === 'string' && evt.data.slice(0, 21) == \"data:image/png;base64\") {\n            fig.imageObj.src = evt.data;\n            fig.updated_canvas_event();\n            fig.waiting = false;\n            return;\n        }\n\n        var msg = JSON.parse(evt.data);\n        var msg_type = msg['type'];\n\n        // Call the  \"handle_{type}\" callback, which takes\n        // the figure and JSON message as its only arguments.\n        try {\n            var callback = fig[\"handle_\" + msg_type];\n        } catch (e) {\n            console.log(\"No handler for the '\" + msg_type + \"' message type: \", msg);\n            return;\n        }\n\n        if (callback) {\n            try {\n                // console.log(\"Handling '\" + msg_type + \"' message: \", msg);\n                callback(fig, msg);\n            } catch (e) {\n                console.log(\"Exception inside the 'handler_\" + msg_type + \"' callback:\", e, e.stack, msg);\n            }\n        }\n    };\n}\n\n// from http://stackoverflow.com/questions/1114465/getting-mouse-location-in-canvas\nmpl.findpos = function(e) {\n    //this section is from http://www.quirksmode.org/js/events_properties.html\n    var targ;\n    if (!e)\n        e = window.event;\n    if (e.target)\n        targ = e.target;\n    else if (e.srcElement)\n        targ = e.srcElement;\n    if (targ.nodeType == 3) // defeat Safari bug\n        targ = targ.parentNode;\n\n    // jQuery normalizes the pageX and pageY\n    // pageX,Y are the mouse positions relative to the document\n    // offset() returns the position of the element relative to the document\n    var x = e.pageX - $(targ).offset().left;\n    var y = e.pageY - $(targ).offset().top;\n\n    return {\"x\": x, \"y\": y};\n};\n\n/*\n * return a copy of an object with only non-object keys\n * we need this to avoid circular references\n * http://stackoverflow.com/a/24161582/3208463\n */\nfunction simpleKeys (original) {\n  return Object.keys(original).reduce(function (obj, key) {\n    if (typeof original[key] !== 'object')\n        obj[key] = original[key]\n    return obj;\n  }, {});\n}\n\nmpl.figure.prototype.mouse_event = function(event, name) {\n    var canvas_pos = mpl.findpos(event)\n\n    if (name === 'button_press')\n    {\n        this.canvas.focus();\n        this.canvas_div.focus();\n    }\n\n    var x = canvas_pos.x * mpl.ratio;\n    var y = canvas_pos.y * mpl.ratio;\n\n    this.send_message(name, {x: x, y: y, button: event.button,\n                             step: event.step,\n                             guiEvent: simpleKeys(event)});\n\n    /* This prevents the web browser from automatically changing to\n     * the text insertion cursor when the button is pressed.  We want\n     * to control all of the cursor setting manually through the\n     * 'cursor' event from matplotlib */\n    event.preventDefault();\n    return false;\n}\n\nmpl.figure.prototype._key_event_extra = function(event, name) {\n    // Handle any extra behaviour associated with a key event\n}\n\nmpl.figure.prototype.key_event = function(event, name) {\n\n    // Prevent repeat events\n    if (name == 'key_press')\n    {\n        if (event.which === this._key)\n            return;\n        else\n            this._key = event.which;\n    }\n    if (name == 'key_release')\n        this._key = null;\n\n    var value = '';\n    if (event.ctrlKey && event.which != 17)\n        value += \"ctrl+\";\n    if (event.altKey && event.which != 18)\n        value += \"alt+\";\n    if (event.shiftKey && event.which != 16)\n        value += \"shift+\";\n\n    value += 'k';\n    value += event.which.toString();\n\n    this._key_event_extra(event, name);\n\n    this.send_message(name, {key: value,\n                             guiEvent: simpleKeys(event)});\n    return false;\n}\n\nmpl.figure.prototype.toolbar_button_onclick = function(name) {\n    if (name == 'download') {\n        this.handle_save(this, null);\n    } else {\n        this.send_message(\"toolbar_button\", {name: name});\n    }\n};\n\nmpl.figure.prototype.toolbar_button_onmouseover = function(tooltip) {\n    this.message.textContent = tooltip;\n};\nmpl.toolbar_items = [[\"Home\", \"Reset original view\", \"fa fa-home icon-home\", \"home\"], [\"Back\", \"Back to previous view\", \"fa fa-arrow-left icon-arrow-left\", \"back\"], [\"Forward\", \"Forward to next view\", \"fa fa-arrow-right icon-arrow-right\", \"forward\"], [\"\", \"\", \"\", \"\"], [\"Pan\", \"Pan axes with left mouse, zoom with right\", \"fa fa-arrows icon-move\", \"pan\"], [\"Zoom\", \"Zoom to rectangle\", \"fa fa-square-o icon-check-empty\", \"zoom\"], [\"\", \"\", \"\", \"\"], [\"Download\", \"Download plot\", \"fa fa-floppy-o icon-save\", \"download\"]];\n\nmpl.extensions = [\"eps\", \"jpeg\", \"pdf\", \"png\", \"ps\", \"raw\", \"svg\", \"tif\"];\n\nmpl.default_extension = \"png\";var comm_websocket_adapter = function(comm) {\n    // Create a \"websocket\"-like object which calls the given IPython comm\n    // object with the appropriate methods. Currently this is a non binary\n    // socket, so there is still some room for performance tuning.\n    var ws = {};\n\n    ws.close = function() {\n        comm.close()\n    };\n    ws.send = function(m) {\n        //console.log('sending', m);\n        comm.send(m);\n    };\n    // Register the callback with on_msg.\n    comm.on_msg(function(msg) {\n        //console.log('receiving', msg['content']['data'], msg);\n        // Pass the mpl event to the overridden (by mpl) onmessage function.\n        ws.onmessage(msg['content']['data'])\n    });\n    return ws;\n}\n\nmpl.mpl_figure_comm = function(comm, msg) {\n    // This is the function which gets called when the mpl process\n    // starts-up an IPython Comm through the \"matplotlib\" channel.\n\n    var id = msg.content.data.id;\n    // Get hold of the div created by the display call when the Comm\n    // socket was opened in Python.\n    var element = $(\"#\" + id);\n    var ws_proxy = comm_websocket_adapter(comm)\n\n    function ondownload(figure, format) {\n        window.open(figure.imageObj.src);\n    }\n\n    var fig = new mpl.figure(id, ws_proxy,\n                           ondownload,\n                           element.get(0));\n\n    // Call onopen now - mpl needs it, as it is assuming we've passed it a real\n    // web socket which is closed, not our websocket->open comm proxy.\n    ws_proxy.onopen();\n\n    fig.parent_element = element.get(0);\n    fig.cell_info = mpl.find_output_cell(\"<div id='\" + id + \"'></div>\");\n    if (!fig.cell_info) {\n        console.error(\"Failed to find cell for figure\", id, fig);\n        return;\n    }\n\n    var output_index = fig.cell_info[2]\n    var cell = fig.cell_info[0];\n\n};\n\nmpl.figure.prototype.handle_close = function(fig, msg) {\n    var width = fig.canvas.width/mpl.ratio\n    fig.root.unbind('remove')\n\n    // Update the output cell to use the data from the current canvas.\n    fig.push_to_output();\n    var dataURL = fig.canvas.toDataURL();\n    // Re-enable the keyboard manager in IPython - without this line, in FF,\n    // the notebook keyboard shortcuts fail.\n    IPython.keyboard_manager.enable()\n    $(fig.parent_element).html('<img src=\"' + dataURL + '\" width=\"' + width + '\">');\n    fig.close_ws(fig, msg);\n}\n\nmpl.figure.prototype.close_ws = function(fig, msg){\n    fig.send_message('closing', msg);\n    // fig.ws.close()\n}\n\nmpl.figure.prototype.push_to_output = function(remove_interactive) {\n    // Turn the data on the canvas into data in the output cell.\n    var width = this.canvas.width/mpl.ratio\n    var dataURL = this.canvas.toDataURL();\n    this.cell_info[1]['text/html'] = '<img src=\"' + dataURL + '\" width=\"' + width + '\">';\n}\n\nmpl.figure.prototype.updated_canvas_event = function() {\n    // Tell IPython that the notebook contents must change.\n    IPython.notebook.set_dirty(true);\n    this.send_message(\"ack\", {});\n    var fig = this;\n    // Wait a second, then push the new image to the DOM so\n    // that it is saved nicely (might be nice to debounce this).\n    setTimeout(function () { fig.push_to_output() }, 1000);\n}\n\nmpl.figure.prototype._init_toolbar = function() {\n    var fig = this;\n\n    var nav_element = $('<div/>');\n    nav_element.attr('style', 'width: 100%');\n    this.root.append(nav_element);\n\n    // Define a callback function for later on.\n    function toolbar_event(event) {\n        return fig.toolbar_button_onclick(event['data']);\n    }\n    function toolbar_mouse_event(event) {\n        return fig.toolbar_button_onmouseover(event['data']);\n    }\n\n    for(var toolbar_ind in mpl.toolbar_items){\n        var name = mpl.toolbar_items[toolbar_ind][0];\n        var tooltip = mpl.toolbar_items[toolbar_ind][1];\n        var image = mpl.toolbar_items[toolbar_ind][2];\n        var method_name = mpl.toolbar_items[toolbar_ind][3];\n\n        if (!name) { continue; };\n\n        var button = $('<button class=\"btn btn-default\" href=\"#\" title=\"' + name + '\"><i class=\"fa ' + image + ' fa-lg\"></i></button>');\n        button.click(method_name, toolbar_event);\n        button.mouseover(tooltip, toolbar_mouse_event);\n        nav_element.append(button);\n    }\n\n    // Add the status bar.\n    var status_bar = $('<span class=\"mpl-message\" style=\"text-align:right; float: right;\"/>');\n    nav_element.append(status_bar);\n    this.message = status_bar[0];\n\n    // Add the close button to the window.\n    var buttongrp = $('<div class=\"btn-group inline pull-right\"></div>');\n    var button = $('<button class=\"btn btn-mini btn-primary\" href=\"#\" title=\"Stop Interaction\"><i class=\"fa fa-power-off icon-remove icon-large\"></i></button>');\n    button.click(function (evt) { fig.handle_close(fig, {}); } );\n    button.mouseover('Stop Interaction', toolbar_mouse_event);\n    buttongrp.append(button);\n    var titlebar = this.root.find($('.ui-dialog-titlebar'));\n    titlebar.prepend(buttongrp);\n}\n\nmpl.figure.prototype._root_extra_style = function(el){\n    var fig = this\n    el.on(\"remove\", function(){\n\tfig.close_ws(fig, {});\n    });\n}\n\nmpl.figure.prototype._canvas_extra_style = function(el){\n    // this is important to make the div 'focusable\n    el.attr('tabindex', 0)\n    // reach out to IPython and tell the keyboard manager to turn it's self\n    // off when our div gets focus\n\n    // location in version 3\n    if (IPython.notebook.keyboard_manager) {\n        IPython.notebook.keyboard_manager.register_events(el);\n    }\n    else {\n        // location in version 2\n        IPython.keyboard_manager.register_events(el);\n    }\n\n}\n\nmpl.figure.prototype._key_event_extra = function(event, name) {\n    var manager = IPython.notebook.keyboard_manager;\n    if (!manager)\n        manager = IPython.keyboard_manager;\n\n    // Check for shift+enter\n    if (event.shiftKey && event.which == 13) {\n        this.canvas_div.blur();\n        // select the cell after this one\n        var index = IPython.notebook.find_cell_index(this.cell_info[0]);\n        IPython.notebook.select(index + 1);\n    }\n}\n\nmpl.figure.prototype.handle_save = function(fig, msg) {\n    fig.ondownload(fig, null);\n}\n\n\nmpl.find_output_cell = function(html_output) {\n    // Return the cell and output element which can be found *uniquely* in the notebook.\n    // Note - this is a bit hacky, but it is done because the \"notebook_saving.Notebook\"\n    // IPython event is triggered only after the cells have been serialised, which for\n    // our purposes (turning an active figure into a static one), is too late.\n    var cells = IPython.notebook.get_cells();\n    var ncells = cells.length;\n    for (var i=0; i<ncells; i++) {\n        var cell = cells[i];\n        if (cell.cell_type === 'code'){\n            for (var j=0; j<cell.output_area.outputs.length; j++) {\n                var data = cell.output_area.outputs[j];\n                if (data.data) {\n                    // IPython >= 3 moved mimebundle to data attribute of output\n                    data = data.data;\n                }\n                if (data['text/html'] == html_output) {\n                    return [cell, data, j];\n                }\n            }\n        }\n    }\n}\n\n// Register the function which deals with the matplotlib target/channel.\n// The kernel may be null if the page has been refreshed.\nif (IPython.notebook.kernel != null) {\n    IPython.notebook.kernel.comm_manager.register_target('matplotlib', mpl.mpl_figure_comm);\n}\n",
      "text/plain": [
       "<IPython.core.display.Javascript object>"
      ]
     },
     "metadata": {}
    },
    {
     "output_type": "display_data",
     "data": {
      "text/html": [
       "<img src=\"data:image/png;base64,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\" width=\"640\">"
      ],
      "text/plain": [
       "<IPython.core.display.HTML object>"
      ]
     },
     "metadata": {}
    },
    {
     "output_type": "execute_result",
     "data": {
      "text/plain": [
       "<matplotlib.axes._subplots.AxesSubplot at 0x21832d5a4f0>"
      ]
     },
     "metadata": {},
     "execution_count": 59
    }
   ],
   "metadata": {
    "ExecuteTime": {
     "end_time": "2021-09-26T23:12:32.488320Z",
     "start_time": "2021-09-26T23:12:32.322319Z"
    }
   }
  },
  {
   "cell_type": "code",
   "execution_count": 25,
   "source": [
    "%matplotlib notebook\r\n",
    "from matplotlib import style\r\n",
    "style.use(\"seaborn-colorblind\")\r\n",
    "dataset.plot(x='tempo', y='valence', c='target', kind='scatter' , colormap='Accent_r')"
   ],
   "outputs": [
    {
     "output_type": "display_data",
     "data": {
      "application/javascript": "/* Put everything inside the global mpl namespace */\nwindow.mpl = {};\n\n\nmpl.get_websocket_type = function() {\n    if (typeof(WebSocket) !== 'undefined') {\n        return WebSocket;\n    } else if (typeof(MozWebSocket) !== 'undefined') {\n        return MozWebSocket;\n    } else {\n        alert('Your browser does not have WebSocket support. ' +\n              'Please try Chrome, Safari or Firefox ≥ 6. ' +\n              'Firefox 4 and 5 are also supported but you ' +\n              'have to enable WebSockets in about:config.');\n    };\n}\n\nmpl.figure = function(figure_id, websocket, ondownload, parent_element) {\n    this.id = figure_id;\n\n    this.ws = websocket;\n\n    this.supports_binary = (this.ws.binaryType != undefined);\n\n    if (!this.supports_binary) {\n        var warnings = document.getElementById(\"mpl-warnings\");\n        if (warnings) {\n            warnings.style.display = 'block';\n            warnings.textContent = (\n                \"This browser does not support binary websocket messages. \" +\n                    \"Performance may be slow.\");\n        }\n    }\n\n    this.imageObj = new Image();\n\n    this.context = undefined;\n    this.message = undefined;\n    this.canvas = undefined;\n    this.rubberband_canvas = undefined;\n    this.rubberband_context = undefined;\n    this.format_dropdown = undefined;\n\n    this.image_mode = 'full';\n\n    this.root = $('<div/>');\n    this._root_extra_style(this.root)\n    this.root.attr('style', 'display: inline-block');\n\n    $(parent_element).append(this.root);\n\n    this._init_header(this);\n    this._init_canvas(this);\n    this._init_toolbar(this);\n\n    var fig = this;\n\n    this.waiting = false;\n\n    this.ws.onopen =  function () {\n            fig.send_message(\"supports_binary\", {value: fig.supports_binary});\n            fig.send_message(\"send_image_mode\", {});\n            if (mpl.ratio != 1) {\n                fig.send_message(\"set_dpi_ratio\", {'dpi_ratio': mpl.ratio});\n            }\n            fig.send_message(\"refresh\", {});\n        }\n\n    this.imageObj.onload = function() {\n            if (fig.image_mode == 'full') {\n                // Full images could contain transparency (where diff images\n                // almost always do), so we need to clear the canvas so that\n                // there is no ghosting.\n                fig.context.clearRect(0, 0, fig.canvas.width, fig.canvas.height);\n            }\n            fig.context.drawImage(fig.imageObj, 0, 0);\n        };\n\n    this.imageObj.onunload = function() {\n        fig.ws.close();\n    }\n\n    this.ws.onmessage = this._make_on_message_function(this);\n\n    this.ondownload = ondownload;\n}\n\nmpl.figure.prototype._init_header = function() {\n    var titlebar = $(\n        '<div class=\"ui-dialog-titlebar ui-widget-header ui-corner-all ' +\n        'ui-helper-clearfix\"/>');\n    var titletext = $(\n        '<div class=\"ui-dialog-title\" style=\"width: 100%; ' +\n        'text-align: center; padding: 3px;\"/>');\n    titlebar.append(titletext)\n    this.root.append(titlebar);\n    this.header = titletext[0];\n}\n\n\n\nmpl.figure.prototype._canvas_extra_style = function(canvas_div) {\n\n}\n\n\nmpl.figure.prototype._root_extra_style = function(canvas_div) {\n\n}\n\nmpl.figure.prototype._init_canvas = function() {\n    var fig = this;\n\n    var canvas_div = $('<div/>');\n\n    canvas_div.attr('style', 'position: relative; clear: both; outline: 0');\n\n    function canvas_keyboard_event(event) {\n        return fig.key_event(event, event['data']);\n    }\n\n    canvas_div.keydown('key_press', canvas_keyboard_event);\n    canvas_div.keyup('key_release', canvas_keyboard_event);\n    this.canvas_div = canvas_div\n    this._canvas_extra_style(canvas_div)\n    this.root.append(canvas_div);\n\n    var canvas = $('<canvas/>');\n    canvas.addClass('mpl-canvas');\n    canvas.attr('style', \"left: 0; top: 0; z-index: 0; outline: 0\")\n\n    this.canvas = canvas[0];\n    this.context = canvas[0].getContext(\"2d\");\n\n    var backingStore = this.context.backingStorePixelRatio ||\n\tthis.context.webkitBackingStorePixelRatio ||\n\tthis.context.mozBackingStorePixelRatio ||\n\tthis.context.msBackingStorePixelRatio ||\n\tthis.context.oBackingStorePixelRatio ||\n\tthis.context.backingStorePixelRatio || 1;\n\n    mpl.ratio = (window.devicePixelRatio || 1) / backingStore;\n\n    var rubberband = $('<canvas/>');\n    rubberband.attr('style', \"position: absolute; left: 0; top: 0; z-index: 1;\")\n\n    var pass_mouse_events = true;\n\n    canvas_div.resizable({\n        start: function(event, ui) {\n            pass_mouse_events = false;\n        },\n        resize: function(event, ui) {\n            fig.request_resize(ui.size.width, ui.size.height);\n        },\n        stop: function(event, ui) {\n            pass_mouse_events = true;\n            fig.request_resize(ui.size.width, ui.size.height);\n        },\n    });\n\n    function mouse_event_fn(event) {\n        if (pass_mouse_events)\n            return fig.mouse_event(event, event['data']);\n    }\n\n    rubberband.mousedown('button_press', mouse_event_fn);\n    rubberband.mouseup('button_release', mouse_event_fn);\n    // Throttle sequential mouse events to 1 every 20ms.\n    rubberband.mousemove('motion_notify', mouse_event_fn);\n\n    rubberband.mouseenter('figure_enter', mouse_event_fn);\n    rubberband.mouseleave('figure_leave', mouse_event_fn);\n\n    canvas_div.on(\"wheel\", function (event) {\n        event = event.originalEvent;\n        event['data'] = 'scroll'\n        if (event.deltaY < 0) {\n            event.step = 1;\n        } else {\n            event.step = -1;\n        }\n        mouse_event_fn(event);\n    });\n\n    canvas_div.append(canvas);\n    canvas_div.append(rubberband);\n\n    this.rubberband = rubberband;\n    this.rubberband_canvas = rubberband[0];\n    this.rubberband_context = rubberband[0].getContext(\"2d\");\n    this.rubberband_context.strokeStyle = \"#000000\";\n\n    this._resize_canvas = function(width, height) {\n        // Keep the size of the canvas, canvas container, and rubber band\n        // canvas in synch.\n        canvas_div.css('width', width)\n        canvas_div.css('height', height)\n\n        canvas.attr('width', width * mpl.ratio);\n        canvas.attr('height', height * mpl.ratio);\n        canvas.attr('style', 'width: ' + width + 'px; height: ' + height + 'px;');\n\n        rubberband.attr('width', width);\n        rubberband.attr('height', height);\n    }\n\n    // Set the figure to an initial 600x600px, this will subsequently be updated\n    // upon first draw.\n    this._resize_canvas(600, 600);\n\n    // Disable right mouse context menu.\n    $(this.rubberband_canvas).bind(\"contextmenu\",function(e){\n        return false;\n    });\n\n    function set_focus () {\n        canvas.focus();\n        canvas_div.focus();\n    }\n\n    window.setTimeout(set_focus, 100);\n}\n\nmpl.figure.prototype._init_toolbar = function() {\n    var fig = this;\n\n    var nav_element = $('<div/>');\n    nav_element.attr('style', 'width: 100%');\n    this.root.append(nav_element);\n\n    // Define a callback function for later on.\n    function toolbar_event(event) {\n        return fig.toolbar_button_onclick(event['data']);\n    }\n    function toolbar_mouse_event(event) {\n        return fig.toolbar_button_onmouseover(event['data']);\n    }\n\n    for(var toolbar_ind in mpl.toolbar_items) {\n        var name = mpl.toolbar_items[toolbar_ind][0];\n        var tooltip = mpl.toolbar_items[toolbar_ind][1];\n        var image = mpl.toolbar_items[toolbar_ind][2];\n        var method_name = mpl.toolbar_items[toolbar_ind][3];\n\n        if (!name) {\n            // put a spacer in here.\n            continue;\n        }\n        var button = $('<button/>');\n        button.addClass('ui-button ui-widget ui-state-default ui-corner-all ' +\n                        'ui-button-icon-only');\n        button.attr('role', 'button');\n        button.attr('aria-disabled', 'false');\n        button.click(method_name, toolbar_event);\n        button.mouseover(tooltip, toolbar_mouse_event);\n\n        var icon_img = $('<span/>');\n        icon_img.addClass('ui-button-icon-primary ui-icon');\n        icon_img.addClass(image);\n        icon_img.addClass('ui-corner-all');\n\n        var tooltip_span = $('<span/>');\n        tooltip_span.addClass('ui-button-text');\n        tooltip_span.html(tooltip);\n\n        button.append(icon_img);\n        button.append(tooltip_span);\n\n        nav_element.append(button);\n    }\n\n    var fmt_picker_span = $('<span/>');\n\n    var fmt_picker = $('<select/>');\n    fmt_picker.addClass('mpl-toolbar-option ui-widget ui-widget-content');\n    fmt_picker_span.append(fmt_picker);\n    nav_element.append(fmt_picker_span);\n    this.format_dropdown = fmt_picker[0];\n\n    for (var ind in mpl.extensions) {\n        var fmt = mpl.extensions[ind];\n        var option = $(\n            '<option/>', {selected: fmt === mpl.default_extension}).html(fmt);\n        fmt_picker.append(option);\n    }\n\n    // Add hover states to the ui-buttons\n    $( \".ui-button\" ).hover(\n        function() { $(this).addClass(\"ui-state-hover\");},\n        function() { $(this).removeClass(\"ui-state-hover\");}\n    );\n\n    var status_bar = $('<span class=\"mpl-message\"/>');\n    nav_element.append(status_bar);\n    this.message = status_bar[0];\n}\n\nmpl.figure.prototype.request_resize = function(x_pixels, y_pixels) {\n    // Request matplotlib to resize the figure. Matplotlib will then trigger a resize in the client,\n    // which will in turn request a refresh of the image.\n    this.send_message('resize', {'width': x_pixels, 'height': y_pixels});\n}\n\nmpl.figure.prototype.send_message = function(type, properties) {\n    properties['type'] = type;\n    properties['figure_id'] = this.id;\n    this.ws.send(JSON.stringify(properties));\n}\n\nmpl.figure.prototype.send_draw_message = function() {\n    if (!this.waiting) {\n        this.waiting = true;\n        this.ws.send(JSON.stringify({type: \"draw\", figure_id: this.id}));\n    }\n}\n\n\nmpl.figure.prototype.handle_save = function(fig, msg) {\n    var format_dropdown = fig.format_dropdown;\n    var format = format_dropdown.options[format_dropdown.selectedIndex].value;\n    fig.ondownload(fig, format);\n}\n\n\nmpl.figure.prototype.handle_resize = function(fig, msg) {\n    var size = msg['size'];\n    if (size[0] != fig.canvas.width || size[1] != fig.canvas.height) {\n        fig._resize_canvas(size[0], size[1]);\n        fig.send_message(\"refresh\", {});\n    };\n}\n\nmpl.figure.prototype.handle_rubberband = function(fig, msg) {\n    var x0 = msg['x0'] / mpl.ratio;\n    var y0 = (fig.canvas.height - msg['y0']) / mpl.ratio;\n    var x1 = msg['x1'] / mpl.ratio;\n    var y1 = (fig.canvas.height - msg['y1']) / mpl.ratio;\n    x0 = Math.floor(x0) + 0.5;\n    y0 = Math.floor(y0) + 0.5;\n    x1 = Math.floor(x1) + 0.5;\n    y1 = Math.floor(y1) + 0.5;\n    var min_x = Math.min(x0, x1);\n    var min_y = Math.min(y0, y1);\n    var width = Math.abs(x1 - x0);\n    var height = Math.abs(y1 - y0);\n\n    fig.rubberband_context.clearRect(\n        0, 0, fig.canvas.width / mpl.ratio, fig.canvas.height / mpl.ratio);\n\n    fig.rubberband_context.strokeRect(min_x, min_y, width, height);\n}\n\nmpl.figure.prototype.handle_figure_label = function(fig, msg) {\n    // Updates the figure title.\n    fig.header.textContent = msg['label'];\n}\n\nmpl.figure.prototype.handle_cursor = function(fig, msg) {\n    var cursor = msg['cursor'];\n    switch(cursor)\n    {\n    case 0:\n        cursor = 'pointer';\n        break;\n    case 1:\n        cursor = 'default';\n        break;\n    case 2:\n        cursor = 'crosshair';\n        break;\n    case 3:\n        cursor = 'move';\n        break;\n    }\n    fig.rubberband_canvas.style.cursor = cursor;\n}\n\nmpl.figure.prototype.handle_message = function(fig, msg) {\n    fig.message.textContent = msg['message'];\n}\n\nmpl.figure.prototype.handle_draw = function(fig, msg) {\n    // Request the server to send over a new figure.\n    fig.send_draw_message();\n}\n\nmpl.figure.prototype.handle_image_mode = function(fig, msg) {\n    fig.image_mode = msg['mode'];\n}\n\nmpl.figure.prototype.updated_canvas_event = function() {\n    // Called whenever the canvas gets updated.\n    this.send_message(\"ack\", {});\n}\n\n// A function to construct a web socket function for onmessage handling.\n// Called in the figure constructor.\nmpl.figure.prototype._make_on_message_function = function(fig) {\n    return function socket_on_message(evt) {\n        if (evt.data instanceof Blob) {\n            /* FIXME: We get \"Resource interpreted as Image but\n             * transferred with MIME type text/plain:\" errors on\n             * Chrome.  But how to set the MIME type?  It doesn't seem\n             * to be part of the websocket stream */\n            evt.data.type = \"image/png\";\n\n            /* Free the memory for the previous frames */\n            if (fig.imageObj.src) {\n                (window.URL || window.webkitURL).revokeObjectURL(\n                    fig.imageObj.src);\n            }\n\n            fig.imageObj.src = (window.URL || window.webkitURL).createObjectURL(\n                evt.data);\n            fig.updated_canvas_event();\n            fig.waiting = false;\n            return;\n        }\n        else if (typeof evt.data === 'string' && evt.data.slice(0, 21) == \"data:image/png;base64\") {\n            fig.imageObj.src = evt.data;\n            fig.updated_canvas_event();\n            fig.waiting = false;\n            return;\n        }\n\n        var msg = JSON.parse(evt.data);\n        var msg_type = msg['type'];\n\n        // Call the  \"handle_{type}\" callback, which takes\n        // the figure and JSON message as its only arguments.\n        try {\n            var callback = fig[\"handle_\" + msg_type];\n        } catch (e) {\n            console.log(\"No handler for the '\" + msg_type + \"' message type: \", msg);\n            return;\n        }\n\n        if (callback) {\n            try {\n                // console.log(\"Handling '\" + msg_type + \"' message: \", msg);\n                callback(fig, msg);\n            } catch (e) {\n                console.log(\"Exception inside the 'handler_\" + msg_type + \"' callback:\", e, e.stack, msg);\n            }\n        }\n    };\n}\n\n// from http://stackoverflow.com/questions/1114465/getting-mouse-location-in-canvas\nmpl.findpos = function(e) {\n    //this section is from http://www.quirksmode.org/js/events_properties.html\n    var targ;\n    if (!e)\n        e = window.event;\n    if (e.target)\n        targ = e.target;\n    else if (e.srcElement)\n        targ = e.srcElement;\n    if (targ.nodeType == 3) // defeat Safari bug\n        targ = targ.parentNode;\n\n    // jQuery normalizes the pageX and pageY\n    // pageX,Y are the mouse positions relative to the document\n    // offset() returns the position of the element relative to the document\n    var x = e.pageX - $(targ).offset().left;\n    var y = e.pageY - $(targ).offset().top;\n\n    return {\"x\": x, \"y\": y};\n};\n\n/*\n * return a copy of an object with only non-object keys\n * we need this to avoid circular references\n * http://stackoverflow.com/a/24161582/3208463\n */\nfunction simpleKeys (original) {\n  return Object.keys(original).reduce(function (obj, key) {\n    if (typeof original[key] !== 'object')\n        obj[key] = original[key]\n    return obj;\n  }, {});\n}\n\nmpl.figure.prototype.mouse_event = function(event, name) {\n    var canvas_pos = mpl.findpos(event)\n\n    if (name === 'button_press')\n    {\n        this.canvas.focus();\n        this.canvas_div.focus();\n    }\n\n    var x = canvas_pos.x * mpl.ratio;\n    var y = canvas_pos.y * mpl.ratio;\n\n    this.send_message(name, {x: x, y: y, button: event.button,\n                             step: event.step,\n                             guiEvent: simpleKeys(event)});\n\n    /* This prevents the web browser from automatically changing to\n     * the text insertion cursor when the button is pressed.  We want\n     * to control all of the cursor setting manually through the\n     * 'cursor' event from matplotlib */\n    event.preventDefault();\n    return false;\n}\n\nmpl.figure.prototype._key_event_extra = function(event, name) {\n    // Handle any extra behaviour associated with a key event\n}\n\nmpl.figure.prototype.key_event = function(event, name) {\n\n    // Prevent repeat events\n    if (name == 'key_press')\n    {\n        if (event.which === this._key)\n            return;\n        else\n            this._key = event.which;\n    }\n    if (name == 'key_release')\n        this._key = null;\n\n    var value = '';\n    if (event.ctrlKey && event.which != 17)\n        value += \"ctrl+\";\n    if (event.altKey && event.which != 18)\n        value += \"alt+\";\n    if (event.shiftKey && event.which != 16)\n        value += \"shift+\";\n\n    value += 'k';\n    value += event.which.toString();\n\n    this._key_event_extra(event, name);\n\n    this.send_message(name, {key: value,\n                             guiEvent: simpleKeys(event)});\n    return false;\n}\n\nmpl.figure.prototype.toolbar_button_onclick = function(name) {\n    if (name == 'download') {\n        this.handle_save(this, null);\n    } else {\n        this.send_message(\"toolbar_button\", {name: name});\n    }\n};\n\nmpl.figure.prototype.toolbar_button_onmouseover = function(tooltip) {\n    this.message.textContent = tooltip;\n};\nmpl.toolbar_items = [[\"Home\", \"Reset original view\", \"fa fa-home icon-home\", \"home\"], [\"Back\", \"Back to previous view\", \"fa fa-arrow-left icon-arrow-left\", \"back\"], [\"Forward\", \"Forward to next view\", \"fa fa-arrow-right icon-arrow-right\", \"forward\"], [\"\", \"\", \"\", \"\"], [\"Pan\", \"Pan axes with left mouse, zoom with right\", \"fa fa-arrows icon-move\", \"pan\"], [\"Zoom\", \"Zoom to rectangle\", \"fa fa-square-o icon-check-empty\", \"zoom\"], [\"\", \"\", \"\", \"\"], [\"Download\", \"Download plot\", \"fa fa-floppy-o icon-save\", \"download\"]];\n\nmpl.extensions = [\"eps\", \"jpeg\", \"pdf\", \"png\", \"ps\", \"raw\", \"svg\", \"tif\"];\n\nmpl.default_extension = \"png\";var comm_websocket_adapter = function(comm) {\n    // Create a \"websocket\"-like object which calls the given IPython comm\n    // object with the appropriate methods. Currently this is a non binary\n    // socket, so there is still some room for performance tuning.\n    var ws = {};\n\n    ws.close = function() {\n        comm.close()\n    };\n    ws.send = function(m) {\n        //console.log('sending', m);\n        comm.send(m);\n    };\n    // Register the callback with on_msg.\n    comm.on_msg(function(msg) {\n        //console.log('receiving', msg['content']['data'], msg);\n        // Pass the mpl event to the overridden (by mpl) onmessage function.\n        ws.onmessage(msg['content']['data'])\n    });\n    return ws;\n}\n\nmpl.mpl_figure_comm = function(comm, msg) {\n    // This is the function which gets called when the mpl process\n    // starts-up an IPython Comm through the \"matplotlib\" channel.\n\n    var id = msg.content.data.id;\n    // Get hold of the div created by the display call when the Comm\n    // socket was opened in Python.\n    var element = $(\"#\" + id);\n    var ws_proxy = comm_websocket_adapter(comm)\n\n    function ondownload(figure, format) {\n        window.open(figure.imageObj.src);\n    }\n\n    var fig = new mpl.figure(id, ws_proxy,\n                           ondownload,\n                           element.get(0));\n\n    // Call onopen now - mpl needs it, as it is assuming we've passed it a real\n    // web socket which is closed, not our websocket->open comm proxy.\n    ws_proxy.onopen();\n\n    fig.parent_element = element.get(0);\n    fig.cell_info = mpl.find_output_cell(\"<div id='\" + id + \"'></div>\");\n    if (!fig.cell_info) {\n        console.error(\"Failed to find cell for figure\", id, fig);\n        return;\n    }\n\n    var output_index = fig.cell_info[2]\n    var cell = fig.cell_info[0];\n\n};\n\nmpl.figure.prototype.handle_close = function(fig, msg) {\n    var width = fig.canvas.width/mpl.ratio\n    fig.root.unbind('remove')\n\n    // Update the output cell to use the data from the current canvas.\n    fig.push_to_output();\n    var dataURL = fig.canvas.toDataURL();\n    // Re-enable the keyboard manager in IPython - without this line, in FF,\n    // the notebook keyboard shortcuts fail.\n    IPython.keyboard_manager.enable()\n    $(fig.parent_element).html('<img src=\"' + dataURL + '\" width=\"' + width + '\">');\n    fig.close_ws(fig, msg);\n}\n\nmpl.figure.prototype.close_ws = function(fig, msg){\n    fig.send_message('closing', msg);\n    // fig.ws.close()\n}\n\nmpl.figure.prototype.push_to_output = function(remove_interactive) {\n    // Turn the data on the canvas into data in the output cell.\n    var width = this.canvas.width/mpl.ratio\n    var dataURL = this.canvas.toDataURL();\n    this.cell_info[1]['text/html'] = '<img src=\"' + dataURL + '\" width=\"' + width + '\">';\n}\n\nmpl.figure.prototype.updated_canvas_event = function() {\n    // Tell IPython that the notebook contents must change.\n    IPython.notebook.set_dirty(true);\n    this.send_message(\"ack\", {});\n    var fig = this;\n    // Wait a second, then push the new image to the DOM so\n    // that it is saved nicely (might be nice to debounce this).\n    setTimeout(function () { fig.push_to_output() }, 1000);\n}\n\nmpl.figure.prototype._init_toolbar = function() {\n    var fig = this;\n\n    var nav_element = $('<div/>');\n    nav_element.attr('style', 'width: 100%');\n    this.root.append(nav_element);\n\n    // Define a callback function for later on.\n    function toolbar_event(event) {\n        return fig.toolbar_button_onclick(event['data']);\n    }\n    function toolbar_mouse_event(event) {\n        return fig.toolbar_button_onmouseover(event['data']);\n    }\n\n    for(var toolbar_ind in mpl.toolbar_items){\n        var name = mpl.toolbar_items[toolbar_ind][0];\n        var tooltip = mpl.toolbar_items[toolbar_ind][1];\n        var image = mpl.toolbar_items[toolbar_ind][2];\n        var method_name = mpl.toolbar_items[toolbar_ind][3];\n\n        if (!name) { continue; };\n\n        var button = $('<button class=\"btn btn-default\" href=\"#\" title=\"' + name + '\"><i class=\"fa ' + image + ' fa-lg\"></i></button>');\n        button.click(method_name, toolbar_event);\n        button.mouseover(tooltip, toolbar_mouse_event);\n        nav_element.append(button);\n    }\n\n    // Add the status bar.\n    var status_bar = $('<span class=\"mpl-message\" style=\"text-align:right; float: right;\"/>');\n    nav_element.append(status_bar);\n    this.message = status_bar[0];\n\n    // Add the close button to the window.\n    var buttongrp = $('<div class=\"btn-group inline pull-right\"></div>');\n    var button = $('<button class=\"btn btn-mini btn-primary\" href=\"#\" title=\"Stop Interaction\"><i class=\"fa fa-power-off icon-remove icon-large\"></i></button>');\n    button.click(function (evt) { fig.handle_close(fig, {}); } );\n    button.mouseover('Stop Interaction', toolbar_mouse_event);\n    buttongrp.append(button);\n    var titlebar = this.root.find($('.ui-dialog-titlebar'));\n    titlebar.prepend(buttongrp);\n}\n\nmpl.figure.prototype._root_extra_style = function(el){\n    var fig = this\n    el.on(\"remove\", function(){\n\tfig.close_ws(fig, {});\n    });\n}\n\nmpl.figure.prototype._canvas_extra_style = function(el){\n    // this is important to make the div 'focusable\n    el.attr('tabindex', 0)\n    // reach out to IPython and tell the keyboard manager to turn it's self\n    // off when our div gets focus\n\n    // location in version 3\n    if (IPython.notebook.keyboard_manager) {\n        IPython.notebook.keyboard_manager.register_events(el);\n    }\n    else {\n        // location in version 2\n        IPython.keyboard_manager.register_events(el);\n    }\n\n}\n\nmpl.figure.prototype._key_event_extra = function(event, name) {\n    var manager = IPython.notebook.keyboard_manager;\n    if (!manager)\n        manager = IPython.keyboard_manager;\n\n    // Check for shift+enter\n    if (event.shiftKey && event.which == 13) {\n        this.canvas_div.blur();\n        // select the cell after this one\n        var index = IPython.notebook.find_cell_index(this.cell_info[0]);\n        IPython.notebook.select(index + 1);\n    }\n}\n\nmpl.figure.prototype.handle_save = function(fig, msg) {\n    fig.ondownload(fig, null);\n}\n\n\nmpl.find_output_cell = function(html_output) {\n    // Return the cell and output element which can be found *uniquely* in the notebook.\n    // Note - this is a bit hacky, but it is done because the \"notebook_saving.Notebook\"\n    // IPython event is triggered only after the cells have been serialised, which for\n    // our purposes (turning an active figure into a static one), is too late.\n    var cells = IPython.notebook.get_cells();\n    var ncells = cells.length;\n    for (var i=0; i<ncells; i++) {\n        var cell = cells[i];\n        if (cell.cell_type === 'code'){\n            for (var j=0; j<cell.output_area.outputs.length; j++) {\n                var data = cell.output_area.outputs[j];\n                if (data.data) {\n                    // IPython >= 3 moved mimebundle to data attribute of output\n                    data = data.data;\n                }\n                if (data['text/html'] == html_output) {\n                    return [cell, data, j];\n                }\n            }\n        }\n    }\n}\n\n// Register the function which deals with the matplotlib target/channel.\n// The kernel may be null if the page has been refreshed.\nif (IPython.notebook.kernel != null) {\n    IPython.notebook.kernel.comm_manager.register_target('matplotlib', mpl.mpl_figure_comm);\n}\n",
      "text/plain": [
       "<IPython.core.display.Javascript object>"
      ]
     },
     "metadata": {}
    },
    {
     "output_type": "display_data",
     "data": {
      "text/html": [
       "<img src=\"data:image/png;base64,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\" width=\"640\">"
      ],
      "text/plain": [
       "<IPython.core.display.HTML object>"
      ]
     },
     "metadata": {}
    },
    {
     "output_type": "execute_result",
     "data": {
      "text/plain": [
       "<matplotlib.axes._subplots.AxesSubplot at 0x21832d5afd0>"
      ]
     },
     "metadata": {},
     "execution_count": 25
    }
   ],
   "metadata": {
    "ExecuteTime": {
     "end_time": "2021-09-26T22:46:35.501784Z",
     "start_time": "2021-09-26T22:46:35.336757Z"
    }
   }
  },
  {
   "cell_type": "code",
   "execution_count": 26,
   "source": [
    "%matplotlib notebook\r\n",
    "\r\n",
    "style.use(\"seaborn-colorblind\")\r\n",
    "dataset.plot(x='tempo', y='speechiness', c='target', kind='scatter' , colormap='Accent')"
   ],
   "outputs": [
    {
     "output_type": "display_data",
     "data": {
      "application/javascript": "/* Put everything inside the global mpl namespace */\nwindow.mpl = {};\n\n\nmpl.get_websocket_type = function() {\n    if (typeof(WebSocket) !== 'undefined') {\n        return WebSocket;\n    } else if (typeof(MozWebSocket) !== 'undefined') {\n        return MozWebSocket;\n    } else {\n        alert('Your browser does not have WebSocket support. ' +\n              'Please try Chrome, Safari or Firefox ≥ 6. ' +\n              'Firefox 4 and 5 are also supported but you ' +\n              'have to enable WebSockets in about:config.');\n    };\n}\n\nmpl.figure = function(figure_id, websocket, ondownload, parent_element) {\n    this.id = figure_id;\n\n    this.ws = websocket;\n\n    this.supports_binary = (this.ws.binaryType != undefined);\n\n    if (!this.supports_binary) {\n        var warnings = document.getElementById(\"mpl-warnings\");\n        if (warnings) {\n            warnings.style.display = 'block';\n            warnings.textContent = (\n                \"This browser does not support binary websocket messages. \" +\n                    \"Performance may be slow.\");\n        }\n    }\n\n    this.imageObj = new Image();\n\n    this.context = undefined;\n    this.message = undefined;\n    this.canvas = undefined;\n    this.rubberband_canvas = undefined;\n    this.rubberband_context = undefined;\n    this.format_dropdown = undefined;\n\n    this.image_mode = 'full';\n\n    this.root = $('<div/>');\n    this._root_extra_style(this.root)\n    this.root.attr('style', 'display: inline-block');\n\n    $(parent_element).append(this.root);\n\n    this._init_header(this);\n    this._init_canvas(this);\n    this._init_toolbar(this);\n\n    var fig = this;\n\n    this.waiting = false;\n\n    this.ws.onopen =  function () {\n            fig.send_message(\"supports_binary\", {value: fig.supports_binary});\n            fig.send_message(\"send_image_mode\", {});\n            if (mpl.ratio != 1) {\n                fig.send_message(\"set_dpi_ratio\", {'dpi_ratio': mpl.ratio});\n            }\n            fig.send_message(\"refresh\", {});\n        }\n\n    this.imageObj.onload = function() {\n            if (fig.image_mode == 'full') {\n                // Full images could contain transparency (where diff images\n                // almost always do), so we need to clear the canvas so that\n                // there is no ghosting.\n                fig.context.clearRect(0, 0, fig.canvas.width, fig.canvas.height);\n            }\n            fig.context.drawImage(fig.imageObj, 0, 0);\n        };\n\n    this.imageObj.onunload = function() {\n        fig.ws.close();\n    }\n\n    this.ws.onmessage = this._make_on_message_function(this);\n\n    this.ondownload = ondownload;\n}\n\nmpl.figure.prototype._init_header = function() {\n    var titlebar = $(\n        '<div class=\"ui-dialog-titlebar ui-widget-header ui-corner-all ' +\n        'ui-helper-clearfix\"/>');\n    var titletext = $(\n        '<div class=\"ui-dialog-title\" style=\"width: 100%; ' +\n        'text-align: center; padding: 3px;\"/>');\n    titlebar.append(titletext)\n    this.root.append(titlebar);\n    this.header = titletext[0];\n}\n\n\n\nmpl.figure.prototype._canvas_extra_style = function(canvas_div) {\n\n}\n\n\nmpl.figure.prototype._root_extra_style = function(canvas_div) {\n\n}\n\nmpl.figure.prototype._init_canvas = function() {\n    var fig = this;\n\n    var canvas_div = $('<div/>');\n\n    canvas_div.attr('style', 'position: relative; clear: both; outline: 0');\n\n    function canvas_keyboard_event(event) {\n        return fig.key_event(event, event['data']);\n    }\n\n    canvas_div.keydown('key_press', canvas_keyboard_event);\n    canvas_div.keyup('key_release', canvas_keyboard_event);\n    this.canvas_div = canvas_div\n    this._canvas_extra_style(canvas_div)\n    this.root.append(canvas_div);\n\n    var canvas = $('<canvas/>');\n    canvas.addClass('mpl-canvas');\n    canvas.attr('style', \"left: 0; top: 0; z-index: 0; outline: 0\")\n\n    this.canvas = canvas[0];\n    this.context = canvas[0].getContext(\"2d\");\n\n    var backingStore = this.context.backingStorePixelRatio ||\n\tthis.context.webkitBackingStorePixelRatio ||\n\tthis.context.mozBackingStorePixelRatio ||\n\tthis.context.msBackingStorePixelRatio ||\n\tthis.context.oBackingStorePixelRatio ||\n\tthis.context.backingStorePixelRatio || 1;\n\n    mpl.ratio = (window.devicePixelRatio || 1) / backingStore;\n\n    var rubberband = $('<canvas/>');\n    rubberband.attr('style', \"position: absolute; left: 0; top: 0; z-index: 1;\")\n\n    var pass_mouse_events = true;\n\n    canvas_div.resizable({\n        start: function(event, ui) {\n            pass_mouse_events = false;\n        },\n        resize: function(event, ui) {\n            fig.request_resize(ui.size.width, ui.size.height);\n        },\n        stop: function(event, ui) {\n            pass_mouse_events = true;\n            fig.request_resize(ui.size.width, ui.size.height);\n        },\n    });\n\n    function mouse_event_fn(event) {\n        if (pass_mouse_events)\n            return fig.mouse_event(event, event['data']);\n    }\n\n    rubberband.mousedown('button_press', mouse_event_fn);\n    rubberband.mouseup('button_release', mouse_event_fn);\n    // Throttle sequential mouse events to 1 every 20ms.\n    rubberband.mousemove('motion_notify', mouse_event_fn);\n\n    rubberband.mouseenter('figure_enter', mouse_event_fn);\n    rubberband.mouseleave('figure_leave', mouse_event_fn);\n\n    canvas_div.on(\"wheel\", function (event) {\n        event = event.originalEvent;\n        event['data'] = 'scroll'\n        if (event.deltaY < 0) {\n            event.step = 1;\n        } else {\n            event.step = -1;\n        }\n        mouse_event_fn(event);\n    });\n\n    canvas_div.append(canvas);\n    canvas_div.append(rubberband);\n\n    this.rubberband = rubberband;\n    this.rubberband_canvas = rubberband[0];\n    this.rubberband_context = rubberband[0].getContext(\"2d\");\n    this.rubberband_context.strokeStyle = \"#000000\";\n\n    this._resize_canvas = function(width, height) {\n        // Keep the size of the canvas, canvas container, and rubber band\n        // canvas in synch.\n        canvas_div.css('width', width)\n        canvas_div.css('height', height)\n\n        canvas.attr('width', width * mpl.ratio);\n        canvas.attr('height', height * mpl.ratio);\n        canvas.attr('style', 'width: ' + width + 'px; height: ' + height + 'px;');\n\n        rubberband.attr('width', width);\n        rubberband.attr('height', height);\n    }\n\n    // Set the figure to an initial 600x600px, this will subsequently be updated\n    // upon first draw.\n    this._resize_canvas(600, 600);\n\n    // Disable right mouse context menu.\n    $(this.rubberband_canvas).bind(\"contextmenu\",function(e){\n        return false;\n    });\n\n    function set_focus () {\n        canvas.focus();\n        canvas_div.focus();\n    }\n\n    window.setTimeout(set_focus, 100);\n}\n\nmpl.figure.prototype._init_toolbar = function() {\n    var fig = this;\n\n    var nav_element = $('<div/>');\n    nav_element.attr('style', 'width: 100%');\n    this.root.append(nav_element);\n\n    // Define a callback function for later on.\n    function toolbar_event(event) {\n        return fig.toolbar_button_onclick(event['data']);\n    }\n    function toolbar_mouse_event(event) {\n        return fig.toolbar_button_onmouseover(event['data']);\n    }\n\n    for(var toolbar_ind in mpl.toolbar_items) {\n        var name = mpl.toolbar_items[toolbar_ind][0];\n        var tooltip = mpl.toolbar_items[toolbar_ind][1];\n        var image = mpl.toolbar_items[toolbar_ind][2];\n        var method_name = mpl.toolbar_items[toolbar_ind][3];\n\n        if (!name) {\n            // put a spacer in here.\n            continue;\n        }\n        var button = $('<button/>');\n        button.addClass('ui-button ui-widget ui-state-default ui-corner-all ' +\n                        'ui-button-icon-only');\n        button.attr('role', 'button');\n        button.attr('aria-disabled', 'false');\n        button.click(method_name, toolbar_event);\n        button.mouseover(tooltip, toolbar_mouse_event);\n\n        var icon_img = $('<span/>');\n        icon_img.addClass('ui-button-icon-primary ui-icon');\n        icon_img.addClass(image);\n        icon_img.addClass('ui-corner-all');\n\n        var tooltip_span = $('<span/>');\n        tooltip_span.addClass('ui-button-text');\n        tooltip_span.html(tooltip);\n\n        button.append(icon_img);\n        button.append(tooltip_span);\n\n        nav_element.append(button);\n    }\n\n    var fmt_picker_span = $('<span/>');\n\n    var fmt_picker = $('<select/>');\n    fmt_picker.addClass('mpl-toolbar-option ui-widget ui-widget-content');\n    fmt_picker_span.append(fmt_picker);\n    nav_element.append(fmt_picker_span);\n    this.format_dropdown = fmt_picker[0];\n\n    for (var ind in mpl.extensions) {\n        var fmt = mpl.extensions[ind];\n        var option = $(\n            '<option/>', {selected: fmt === mpl.default_extension}).html(fmt);\n        fmt_picker.append(option);\n    }\n\n    // Add hover states to the ui-buttons\n    $( \".ui-button\" ).hover(\n        function() { $(this).addClass(\"ui-state-hover\");},\n        function() { $(this).removeClass(\"ui-state-hover\");}\n    );\n\n    var status_bar = $('<span class=\"mpl-message\"/>');\n    nav_element.append(status_bar);\n    this.message = status_bar[0];\n}\n\nmpl.figure.prototype.request_resize = function(x_pixels, y_pixels) {\n    // Request matplotlib to resize the figure. Matplotlib will then trigger a resize in the client,\n    // which will in turn request a refresh of the image.\n    this.send_message('resize', {'width': x_pixels, 'height': y_pixels});\n}\n\nmpl.figure.prototype.send_message = function(type, properties) {\n    properties['type'] = type;\n    properties['figure_id'] = this.id;\n    this.ws.send(JSON.stringify(properties));\n}\n\nmpl.figure.prototype.send_draw_message = function() {\n    if (!this.waiting) {\n        this.waiting = true;\n        this.ws.send(JSON.stringify({type: \"draw\", figure_id: this.id}));\n    }\n}\n\n\nmpl.figure.prototype.handle_save = function(fig, msg) {\n    var format_dropdown = fig.format_dropdown;\n    var format = format_dropdown.options[format_dropdown.selectedIndex].value;\n    fig.ondownload(fig, format);\n}\n\n\nmpl.figure.prototype.handle_resize = function(fig, msg) {\n    var size = msg['size'];\n    if (size[0] != fig.canvas.width || size[1] != fig.canvas.height) {\n        fig._resize_canvas(size[0], size[1]);\n        fig.send_message(\"refresh\", {});\n    };\n}\n\nmpl.figure.prototype.handle_rubberband = function(fig, msg) {\n    var x0 = msg['x0'] / mpl.ratio;\n    var y0 = (fig.canvas.height - msg['y0']) / mpl.ratio;\n    var x1 = msg['x1'] / mpl.ratio;\n    var y1 = (fig.canvas.height - msg['y1']) / mpl.ratio;\n    x0 = Math.floor(x0) + 0.5;\n    y0 = Math.floor(y0) + 0.5;\n    x1 = Math.floor(x1) + 0.5;\n    y1 = Math.floor(y1) + 0.5;\n    var min_x = Math.min(x0, x1);\n    var min_y = Math.min(y0, y1);\n    var width = Math.abs(x1 - x0);\n    var height = Math.abs(y1 - y0);\n\n    fig.rubberband_context.clearRect(\n        0, 0, fig.canvas.width / mpl.ratio, fig.canvas.height / mpl.ratio);\n\n    fig.rubberband_context.strokeRect(min_x, min_y, width, height);\n}\n\nmpl.figure.prototype.handle_figure_label = function(fig, msg) {\n    // Updates the figure title.\n    fig.header.textContent = msg['label'];\n}\n\nmpl.figure.prototype.handle_cursor = function(fig, msg) {\n    var cursor = msg['cursor'];\n    switch(cursor)\n    {\n    case 0:\n        cursor = 'pointer';\n        break;\n    case 1:\n        cursor = 'default';\n        break;\n    case 2:\n        cursor = 'crosshair';\n        break;\n    case 3:\n        cursor = 'move';\n        break;\n    }\n    fig.rubberband_canvas.style.cursor = cursor;\n}\n\nmpl.figure.prototype.handle_message = function(fig, msg) {\n    fig.message.textContent = msg['message'];\n}\n\nmpl.figure.prototype.handle_draw = function(fig, msg) {\n    // Request the server to send over a new figure.\n    fig.send_draw_message();\n}\n\nmpl.figure.prototype.handle_image_mode = function(fig, msg) {\n    fig.image_mode = msg['mode'];\n}\n\nmpl.figure.prototype.updated_canvas_event = function() {\n    // Called whenever the canvas gets updated.\n    this.send_message(\"ack\", {});\n}\n\n// A function to construct a web socket function for onmessage handling.\n// Called in the figure constructor.\nmpl.figure.prototype._make_on_message_function = function(fig) {\n    return function socket_on_message(evt) {\n        if (evt.data instanceof Blob) {\n            /* FIXME: We get \"Resource interpreted as Image but\n             * transferred with MIME type text/plain:\" errors on\n             * Chrome.  But how to set the MIME type?  It doesn't seem\n             * to be part of the websocket stream */\n            evt.data.type = \"image/png\";\n\n            /* Free the memory for the previous frames */\n            if (fig.imageObj.src) {\n                (window.URL || window.webkitURL).revokeObjectURL(\n                    fig.imageObj.src);\n            }\n\n            fig.imageObj.src = (window.URL || window.webkitURL).createObjectURL(\n                evt.data);\n            fig.updated_canvas_event();\n            fig.waiting = false;\n            return;\n        }\n        else if (typeof evt.data === 'string' && evt.data.slice(0, 21) == \"data:image/png;base64\") {\n            fig.imageObj.src = evt.data;\n            fig.updated_canvas_event();\n            fig.waiting = false;\n            return;\n        }\n\n        var msg = JSON.parse(evt.data);\n        var msg_type = msg['type'];\n\n        // Call the  \"handle_{type}\" callback, which takes\n        // the figure and JSON message as its only arguments.\n        try {\n            var callback = fig[\"handle_\" + msg_type];\n        } catch (e) {\n            console.log(\"No handler for the '\" + msg_type + \"' message type: \", msg);\n            return;\n        }\n\n        if (callback) {\n            try {\n                // console.log(\"Handling '\" + msg_type + \"' message: \", msg);\n                callback(fig, msg);\n            } catch (e) {\n                console.log(\"Exception inside the 'handler_\" + msg_type + \"' callback:\", e, e.stack, msg);\n            }\n        }\n    };\n}\n\n// from http://stackoverflow.com/questions/1114465/getting-mouse-location-in-canvas\nmpl.findpos = function(e) {\n    //this section is from http://www.quirksmode.org/js/events_properties.html\n    var targ;\n    if (!e)\n        e = window.event;\n    if (e.target)\n        targ = e.target;\n    else if (e.srcElement)\n        targ = e.srcElement;\n    if (targ.nodeType == 3) // defeat Safari bug\n        targ = targ.parentNode;\n\n    // jQuery normalizes the pageX and pageY\n    // pageX,Y are the mouse positions relative to the document\n    // offset() returns the position of the element relative to the document\n    var x = e.pageX - $(targ).offset().left;\n    var y = e.pageY - $(targ).offset().top;\n\n    return {\"x\": x, \"y\": y};\n};\n\n/*\n * return a copy of an object with only non-object keys\n * we need this to avoid circular references\n * http://stackoverflow.com/a/24161582/3208463\n */\nfunction simpleKeys (original) {\n  return Object.keys(original).reduce(function (obj, key) {\n    if (typeof original[key] !== 'object')\n        obj[key] = original[key]\n    return obj;\n  }, {});\n}\n\nmpl.figure.prototype.mouse_event = function(event, name) {\n    var canvas_pos = mpl.findpos(event)\n\n    if (name === 'button_press')\n    {\n        this.canvas.focus();\n        this.canvas_div.focus();\n    }\n\n    var x = canvas_pos.x * mpl.ratio;\n    var y = canvas_pos.y * mpl.ratio;\n\n    this.send_message(name, {x: x, y: y, button: event.button,\n                             step: event.step,\n                             guiEvent: simpleKeys(event)});\n\n    /* This prevents the web browser from automatically changing to\n     * the text insertion cursor when the button is pressed.  We want\n     * to control all of the cursor setting manually through the\n     * 'cursor' event from matplotlib */\n    event.preventDefault();\n    return false;\n}\n\nmpl.figure.prototype._key_event_extra = function(event, name) {\n    // Handle any extra behaviour associated with a key event\n}\n\nmpl.figure.prototype.key_event = function(event, name) {\n\n    // Prevent repeat events\n    if (name == 'key_press')\n    {\n        if (event.which === this._key)\n            return;\n        else\n            this._key = event.which;\n    }\n    if (name == 'key_release')\n        this._key = null;\n\n    var value = '';\n    if (event.ctrlKey && event.which != 17)\n        value += \"ctrl+\";\n    if (event.altKey && event.which != 18)\n        value += \"alt+\";\n    if (event.shiftKey && event.which != 16)\n        value += \"shift+\";\n\n    value += 'k';\n    value += event.which.toString();\n\n    this._key_event_extra(event, name);\n\n    this.send_message(name, {key: value,\n                             guiEvent: simpleKeys(event)});\n    return false;\n}\n\nmpl.figure.prototype.toolbar_button_onclick = function(name) {\n    if (name == 'download') {\n        this.handle_save(this, null);\n    } else {\n        this.send_message(\"toolbar_button\", {name: name});\n    }\n};\n\nmpl.figure.prototype.toolbar_button_onmouseover = function(tooltip) {\n    this.message.textContent = tooltip;\n};\nmpl.toolbar_items = [[\"Home\", \"Reset original view\", \"fa fa-home icon-home\", \"home\"], [\"Back\", \"Back to previous view\", \"fa fa-arrow-left icon-arrow-left\", \"back\"], [\"Forward\", \"Forward to next view\", \"fa fa-arrow-right icon-arrow-right\", \"forward\"], [\"\", \"\", \"\", \"\"], [\"Pan\", \"Pan axes with left mouse, zoom with right\", \"fa fa-arrows icon-move\", \"pan\"], [\"Zoom\", \"Zoom to rectangle\", \"fa fa-square-o icon-check-empty\", \"zoom\"], [\"\", \"\", \"\", \"\"], [\"Download\", \"Download plot\", \"fa fa-floppy-o icon-save\", \"download\"]];\n\nmpl.extensions = [\"eps\", \"jpeg\", \"pdf\", \"png\", \"ps\", \"raw\", \"svg\", \"tif\"];\n\nmpl.default_extension = \"png\";var comm_websocket_adapter = function(comm) {\n    // Create a \"websocket\"-like object which calls the given IPython comm\n    // object with the appropriate methods. Currently this is a non binary\n    // socket, so there is still some room for performance tuning.\n    var ws = {};\n\n    ws.close = function() {\n        comm.close()\n    };\n    ws.send = function(m) {\n        //console.log('sending', m);\n        comm.send(m);\n    };\n    // Register the callback with on_msg.\n    comm.on_msg(function(msg) {\n        //console.log('receiving', msg['content']['data'], msg);\n        // Pass the mpl event to the overridden (by mpl) onmessage function.\n        ws.onmessage(msg['content']['data'])\n    });\n    return ws;\n}\n\nmpl.mpl_figure_comm = function(comm, msg) {\n    // This is the function which gets called when the mpl process\n    // starts-up an IPython Comm through the \"matplotlib\" channel.\n\n    var id = msg.content.data.id;\n    // Get hold of the div created by the display call when the Comm\n    // socket was opened in Python.\n    var element = $(\"#\" + id);\n    var ws_proxy = comm_websocket_adapter(comm)\n\n    function ondownload(figure, format) {\n        window.open(figure.imageObj.src);\n    }\n\n    var fig = new mpl.figure(id, ws_proxy,\n                           ondownload,\n                           element.get(0));\n\n    // Call onopen now - mpl needs it, as it is assuming we've passed it a real\n    // web socket which is closed, not our websocket->open comm proxy.\n    ws_proxy.onopen();\n\n    fig.parent_element = element.get(0);\n    fig.cell_info = mpl.find_output_cell(\"<div id='\" + id + \"'></div>\");\n    if (!fig.cell_info) {\n        console.error(\"Failed to find cell for figure\", id, fig);\n        return;\n    }\n\n    var output_index = fig.cell_info[2]\n    var cell = fig.cell_info[0];\n\n};\n\nmpl.figure.prototype.handle_close = function(fig, msg) {\n    var width = fig.canvas.width/mpl.ratio\n    fig.root.unbind('remove')\n\n    // Update the output cell to use the data from the current canvas.\n    fig.push_to_output();\n    var dataURL = fig.canvas.toDataURL();\n    // Re-enable the keyboard manager in IPython - without this line, in FF,\n    // the notebook keyboard shortcuts fail.\n    IPython.keyboard_manager.enable()\n    $(fig.parent_element).html('<img src=\"' + dataURL + '\" width=\"' + width + '\">');\n    fig.close_ws(fig, msg);\n}\n\nmpl.figure.prototype.close_ws = function(fig, msg){\n    fig.send_message('closing', msg);\n    // fig.ws.close()\n}\n\nmpl.figure.prototype.push_to_output = function(remove_interactive) {\n    // Turn the data on the canvas into data in the output cell.\n    var width = this.canvas.width/mpl.ratio\n    var dataURL = this.canvas.toDataURL();\n    this.cell_info[1]['text/html'] = '<img src=\"' + dataURL + '\" width=\"' + width + '\">';\n}\n\nmpl.figure.prototype.updated_canvas_event = function() {\n    // Tell IPython that the notebook contents must change.\n    IPython.notebook.set_dirty(true);\n    this.send_message(\"ack\", {});\n    var fig = this;\n    // Wait a second, then push the new image to the DOM so\n    // that it is saved nicely (might be nice to debounce this).\n    setTimeout(function () { fig.push_to_output() }, 1000);\n}\n\nmpl.figure.prototype._init_toolbar = function() {\n    var fig = this;\n\n    var nav_element = $('<div/>');\n    nav_element.attr('style', 'width: 100%');\n    this.root.append(nav_element);\n\n    // Define a callback function for later on.\n    function toolbar_event(event) {\n        return fig.toolbar_button_onclick(event['data']);\n    }\n    function toolbar_mouse_event(event) {\n        return fig.toolbar_button_onmouseover(event['data']);\n    }\n\n    for(var toolbar_ind in mpl.toolbar_items){\n        var name = mpl.toolbar_items[toolbar_ind][0];\n        var tooltip = mpl.toolbar_items[toolbar_ind][1];\n        var image = mpl.toolbar_items[toolbar_ind][2];\n        var method_name = mpl.toolbar_items[toolbar_ind][3];\n\n        if (!name) { continue; };\n\n        var button = $('<button class=\"btn btn-default\" href=\"#\" title=\"' + name + '\"><i class=\"fa ' + image + ' fa-lg\"></i></button>');\n        button.click(method_name, toolbar_event);\n        button.mouseover(tooltip, toolbar_mouse_event);\n        nav_element.append(button);\n    }\n\n    // Add the status bar.\n    var status_bar = $('<span class=\"mpl-message\" style=\"text-align:right; float: right;\"/>');\n    nav_element.append(status_bar);\n    this.message = status_bar[0];\n\n    // Add the close button to the window.\n    var buttongrp = $('<div class=\"btn-group inline pull-right\"></div>');\n    var button = $('<button class=\"btn btn-mini btn-primary\" href=\"#\" title=\"Stop Interaction\"><i class=\"fa fa-power-off icon-remove icon-large\"></i></button>');\n    button.click(function (evt) { fig.handle_close(fig, {}); } );\n    button.mouseover('Stop Interaction', toolbar_mouse_event);\n    buttongrp.append(button);\n    var titlebar = this.root.find($('.ui-dialog-titlebar'));\n    titlebar.prepend(buttongrp);\n}\n\nmpl.figure.prototype._root_extra_style = function(el){\n    var fig = this\n    el.on(\"remove\", function(){\n\tfig.close_ws(fig, {});\n    });\n}\n\nmpl.figure.prototype._canvas_extra_style = function(el){\n    // this is important to make the div 'focusable\n    el.attr('tabindex', 0)\n    // reach out to IPython and tell the keyboard manager to turn it's self\n    // off when our div gets focus\n\n    // location in version 3\n    if (IPython.notebook.keyboard_manager) {\n        IPython.notebook.keyboard_manager.register_events(el);\n    }\n    else {\n        // location in version 2\n        IPython.keyboard_manager.register_events(el);\n    }\n\n}\n\nmpl.figure.prototype._key_event_extra = function(event, name) {\n    var manager = IPython.notebook.keyboard_manager;\n    if (!manager)\n        manager = IPython.keyboard_manager;\n\n    // Check for shift+enter\n    if (event.shiftKey && event.which == 13) {\n        this.canvas_div.blur();\n        // select the cell after this one\n        var index = IPython.notebook.find_cell_index(this.cell_info[0]);\n        IPython.notebook.select(index + 1);\n    }\n}\n\nmpl.figure.prototype.handle_save = function(fig, msg) {\n    fig.ondownload(fig, null);\n}\n\n\nmpl.find_output_cell = function(html_output) {\n    // Return the cell and output element which can be found *uniquely* in the notebook.\n    // Note - this is a bit hacky, but it is done because the \"notebook_saving.Notebook\"\n    // IPython event is triggered only after the cells have been serialised, which for\n    // our purposes (turning an active figure into a static one), is too late.\n    var cells = IPython.notebook.get_cells();\n    var ncells = cells.length;\n    for (var i=0; i<ncells; i++) {\n        var cell = cells[i];\n        if (cell.cell_type === 'code'){\n            for (var j=0; j<cell.output_area.outputs.length; j++) {\n                var data = cell.output_area.outputs[j];\n                if (data.data) {\n                    // IPython >= 3 moved mimebundle to data attribute of output\n                    data = data.data;\n                }\n                if (data['text/html'] == html_output) {\n                    return [cell, data, j];\n                }\n            }\n        }\n    }\n}\n\n// Register the function which deals with the matplotlib target/channel.\n// The kernel may be null if the page has been refreshed.\nif (IPython.notebook.kernel != null) {\n    IPython.notebook.kernel.comm_manager.register_target('matplotlib', mpl.mpl_figure_comm);\n}\n",
      "text/plain": [
       "<IPython.core.display.Javascript object>"
      ]
     },
     "metadata": {}
    },
    {
     "output_type": "display_data",
     "data": {
      "text/html": [
       "<img src=\"data:image/png;base64,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\" width=\"640\">"
      ],
      "text/plain": [
       "<IPython.core.display.HTML object>"
      ]
     },
     "metadata": {}
    },
    {
     "output_type": "execute_result",
     "data": {
      "text/plain": [
       "<matplotlib.axes._subplots.AxesSubplot at 0x218334899d0>"
      ]
     },
     "metadata": {},
     "execution_count": 26
    }
   ],
   "metadata": {
    "ExecuteTime": {
     "end_time": "2021-09-26T22:47:21.782039Z",
     "start_time": "2021-09-26T22:47:21.462052Z"
    }
   }
  },
  {
   "cell_type": "code",
   "execution_count": 27,
   "source": [
    "%matplotlib notebook\r\n",
    "\r\n",
    "style.use(\"seaborn-colorblind\")\r\n",
    "dataset.plot(x='danceability', y='energy', c='target', kind='scatter' , colormap='Reds')"
   ],
   "outputs": [
    {
     "output_type": "display_data",
     "data": {
      "application/javascript": "/* Put everything inside the global mpl namespace */\nwindow.mpl = {};\n\n\nmpl.get_websocket_type = function() {\n    if (typeof(WebSocket) !== 'undefined') {\n        return WebSocket;\n    } else if (typeof(MozWebSocket) !== 'undefined') {\n        return MozWebSocket;\n    } else {\n        alert('Your browser does not have WebSocket support. ' +\n              'Please try Chrome, Safari or Firefox ≥ 6. ' +\n              'Firefox 4 and 5 are also supported but you ' +\n              'have to enable WebSockets in about:config.');\n    };\n}\n\nmpl.figure = function(figure_id, websocket, ondownload, parent_element) {\n    this.id = figure_id;\n\n    this.ws = websocket;\n\n    this.supports_binary = (this.ws.binaryType != undefined);\n\n    if (!this.supports_binary) {\n        var warnings = document.getElementById(\"mpl-warnings\");\n        if (warnings) {\n            warnings.style.display = 'block';\n            warnings.textContent = (\n                \"This browser does not support binary websocket messages. \" +\n                    \"Performance may be slow.\");\n        }\n    }\n\n    this.imageObj = new Image();\n\n    this.context = undefined;\n    this.message = undefined;\n    this.canvas = undefined;\n    this.rubberband_canvas = undefined;\n    this.rubberband_context = undefined;\n    this.format_dropdown = undefined;\n\n    this.image_mode = 'full';\n\n    this.root = $('<div/>');\n    this._root_extra_style(this.root)\n    this.root.attr('style', 'display: inline-block');\n\n    $(parent_element).append(this.root);\n\n    this._init_header(this);\n    this._init_canvas(this);\n    this._init_toolbar(this);\n\n    var fig = this;\n\n    this.waiting = false;\n\n    this.ws.onopen =  function () {\n            fig.send_message(\"supports_binary\", {value: fig.supports_binary});\n            fig.send_message(\"send_image_mode\", {});\n            if (mpl.ratio != 1) {\n                fig.send_message(\"set_dpi_ratio\", {'dpi_ratio': mpl.ratio});\n            }\n            fig.send_message(\"refresh\", {});\n        }\n\n    this.imageObj.onload = function() {\n            if (fig.image_mode == 'full') {\n                // Full images could contain transparency (where diff images\n                // almost always do), so we need to clear the canvas so that\n                // there is no ghosting.\n                fig.context.clearRect(0, 0, fig.canvas.width, fig.canvas.height);\n            }\n            fig.context.drawImage(fig.imageObj, 0, 0);\n        };\n\n    this.imageObj.onunload = function() {\n        fig.ws.close();\n    }\n\n    this.ws.onmessage = this._make_on_message_function(this);\n\n    this.ondownload = ondownload;\n}\n\nmpl.figure.prototype._init_header = function() {\n    var titlebar = $(\n        '<div class=\"ui-dialog-titlebar ui-widget-header ui-corner-all ' +\n        'ui-helper-clearfix\"/>');\n    var titletext = $(\n        '<div class=\"ui-dialog-title\" style=\"width: 100%; ' +\n        'text-align: center; padding: 3px;\"/>');\n    titlebar.append(titletext)\n    this.root.append(titlebar);\n    this.header = titletext[0];\n}\n\n\n\nmpl.figure.prototype._canvas_extra_style = function(canvas_div) {\n\n}\n\n\nmpl.figure.prototype._root_extra_style = function(canvas_div) {\n\n}\n\nmpl.figure.prototype._init_canvas = function() {\n    var fig = this;\n\n    var canvas_div = $('<div/>');\n\n    canvas_div.attr('style', 'position: relative; clear: both; outline: 0');\n\n    function canvas_keyboard_event(event) {\n        return fig.key_event(event, event['data']);\n    }\n\n    canvas_div.keydown('key_press', canvas_keyboard_event);\n    canvas_div.keyup('key_release', canvas_keyboard_event);\n    this.canvas_div = canvas_div\n    this._canvas_extra_style(canvas_div)\n    this.root.append(canvas_div);\n\n    var canvas = $('<canvas/>');\n    canvas.addClass('mpl-canvas');\n    canvas.attr('style', \"left: 0; top: 0; z-index: 0; outline: 0\")\n\n    this.canvas = canvas[0];\n    this.context = canvas[0].getContext(\"2d\");\n\n    var backingStore = this.context.backingStorePixelRatio ||\n\tthis.context.webkitBackingStorePixelRatio ||\n\tthis.context.mozBackingStorePixelRatio ||\n\tthis.context.msBackingStorePixelRatio ||\n\tthis.context.oBackingStorePixelRatio ||\n\tthis.context.backingStorePixelRatio || 1;\n\n    mpl.ratio = (window.devicePixelRatio || 1) / backingStore;\n\n    var rubberband = $('<canvas/>');\n    rubberband.attr('style', \"position: absolute; left: 0; top: 0; z-index: 1;\")\n\n    var pass_mouse_events = true;\n\n    canvas_div.resizable({\n        start: function(event, ui) {\n            pass_mouse_events = false;\n        },\n        resize: function(event, ui) {\n            fig.request_resize(ui.size.width, ui.size.height);\n        },\n        stop: function(event, ui) {\n            pass_mouse_events = true;\n            fig.request_resize(ui.size.width, ui.size.height);\n        },\n    });\n\n    function mouse_event_fn(event) {\n        if (pass_mouse_events)\n            return fig.mouse_event(event, event['data']);\n    }\n\n    rubberband.mousedown('button_press', mouse_event_fn);\n    rubberband.mouseup('button_release', mouse_event_fn);\n    // Throttle sequential mouse events to 1 every 20ms.\n    rubberband.mousemove('motion_notify', mouse_event_fn);\n\n    rubberband.mouseenter('figure_enter', mouse_event_fn);\n    rubberband.mouseleave('figure_leave', mouse_event_fn);\n\n    canvas_div.on(\"wheel\", function (event) {\n        event = event.originalEvent;\n        event['data'] = 'scroll'\n        if (event.deltaY < 0) {\n            event.step = 1;\n        } else {\n            event.step = -1;\n        }\n        mouse_event_fn(event);\n    });\n\n    canvas_div.append(canvas);\n    canvas_div.append(rubberband);\n\n    this.rubberband = rubberband;\n    this.rubberband_canvas = rubberband[0];\n    this.rubberband_context = rubberband[0].getContext(\"2d\");\n    this.rubberband_context.strokeStyle = \"#000000\";\n\n    this._resize_canvas = function(width, height) {\n        // Keep the size of the canvas, canvas container, and rubber band\n        // canvas in synch.\n        canvas_div.css('width', width)\n        canvas_div.css('height', height)\n\n        canvas.attr('width', width * mpl.ratio);\n        canvas.attr('height', height * mpl.ratio);\n        canvas.attr('style', 'width: ' + width + 'px; height: ' + height + 'px;');\n\n        rubberband.attr('width', width);\n        rubberband.attr('height', height);\n    }\n\n    // Set the figure to an initial 600x600px, this will subsequently be updated\n    // upon first draw.\n    this._resize_canvas(600, 600);\n\n    // Disable right mouse context menu.\n    $(this.rubberband_canvas).bind(\"contextmenu\",function(e){\n        return false;\n    });\n\n    function set_focus () {\n        canvas.focus();\n        canvas_div.focus();\n    }\n\n    window.setTimeout(set_focus, 100);\n}\n\nmpl.figure.prototype._init_toolbar = function() {\n    var fig = this;\n\n    var nav_element = $('<div/>');\n    nav_element.attr('style', 'width: 100%');\n    this.root.append(nav_element);\n\n    // Define a callback function for later on.\n    function toolbar_event(event) {\n        return fig.toolbar_button_onclick(event['data']);\n    }\n    function toolbar_mouse_event(event) {\n        return fig.toolbar_button_onmouseover(event['data']);\n    }\n\n    for(var toolbar_ind in mpl.toolbar_items) {\n        var name = mpl.toolbar_items[toolbar_ind][0];\n        var tooltip = mpl.toolbar_items[toolbar_ind][1];\n        var image = mpl.toolbar_items[toolbar_ind][2];\n        var method_name = mpl.toolbar_items[toolbar_ind][3];\n\n        if (!name) {\n            // put a spacer in here.\n            continue;\n        }\n        var button = $('<button/>');\n        button.addClass('ui-button ui-widget ui-state-default ui-corner-all ' +\n                        'ui-button-icon-only');\n        button.attr('role', 'button');\n        button.attr('aria-disabled', 'false');\n        button.click(method_name, toolbar_event);\n        button.mouseover(tooltip, toolbar_mouse_event);\n\n        var icon_img = $('<span/>');\n        icon_img.addClass('ui-button-icon-primary ui-icon');\n        icon_img.addClass(image);\n        icon_img.addClass('ui-corner-all');\n\n        var tooltip_span = $('<span/>');\n        tooltip_span.addClass('ui-button-text');\n        tooltip_span.html(tooltip);\n\n        button.append(icon_img);\n        button.append(tooltip_span);\n\n        nav_element.append(button);\n    }\n\n    var fmt_picker_span = $('<span/>');\n\n    var fmt_picker = $('<select/>');\n    fmt_picker.addClass('mpl-toolbar-option ui-widget ui-widget-content');\n    fmt_picker_span.append(fmt_picker);\n    nav_element.append(fmt_picker_span);\n    this.format_dropdown = fmt_picker[0];\n\n    for (var ind in mpl.extensions) {\n        var fmt = mpl.extensions[ind];\n        var option = $(\n            '<option/>', {selected: fmt === mpl.default_extension}).html(fmt);\n        fmt_picker.append(option);\n    }\n\n    // Add hover states to the ui-buttons\n    $( \".ui-button\" ).hover(\n        function() { $(this).addClass(\"ui-state-hover\");},\n        function() { $(this).removeClass(\"ui-state-hover\");}\n    );\n\n    var status_bar = $('<span class=\"mpl-message\"/>');\n    nav_element.append(status_bar);\n    this.message = status_bar[0];\n}\n\nmpl.figure.prototype.request_resize = function(x_pixels, y_pixels) {\n    // Request matplotlib to resize the figure. Matplotlib will then trigger a resize in the client,\n    // which will in turn request a refresh of the image.\n    this.send_message('resize', {'width': x_pixels, 'height': y_pixels});\n}\n\nmpl.figure.prototype.send_message = function(type, properties) {\n    properties['type'] = type;\n    properties['figure_id'] = this.id;\n    this.ws.send(JSON.stringify(properties));\n}\n\nmpl.figure.prototype.send_draw_message = function() {\n    if (!this.waiting) {\n        this.waiting = true;\n        this.ws.send(JSON.stringify({type: \"draw\", figure_id: this.id}));\n    }\n}\n\n\nmpl.figure.prototype.handle_save = function(fig, msg) {\n    var format_dropdown = fig.format_dropdown;\n    var format = format_dropdown.options[format_dropdown.selectedIndex].value;\n    fig.ondownload(fig, format);\n}\n\n\nmpl.figure.prototype.handle_resize = function(fig, msg) {\n    var size = msg['size'];\n    if (size[0] != fig.canvas.width || size[1] != fig.canvas.height) {\n        fig._resize_canvas(size[0], size[1]);\n        fig.send_message(\"refresh\", {});\n    };\n}\n\nmpl.figure.prototype.handle_rubberband = function(fig, msg) {\n    var x0 = msg['x0'] / mpl.ratio;\n    var y0 = (fig.canvas.height - msg['y0']) / mpl.ratio;\n    var x1 = msg['x1'] / mpl.ratio;\n    var y1 = (fig.canvas.height - msg['y1']) / mpl.ratio;\n    x0 = Math.floor(x0) + 0.5;\n    y0 = Math.floor(y0) + 0.5;\n    x1 = Math.floor(x1) + 0.5;\n    y1 = Math.floor(y1) + 0.5;\n    var min_x = Math.min(x0, x1);\n    var min_y = Math.min(y0, y1);\n    var width = Math.abs(x1 - x0);\n    var height = Math.abs(y1 - y0);\n\n    fig.rubberband_context.clearRect(\n        0, 0, fig.canvas.width / mpl.ratio, fig.canvas.height / mpl.ratio);\n\n    fig.rubberband_context.strokeRect(min_x, min_y, width, height);\n}\n\nmpl.figure.prototype.handle_figure_label = function(fig, msg) {\n    // Updates the figure title.\n    fig.header.textContent = msg['label'];\n}\n\nmpl.figure.prototype.handle_cursor = function(fig, msg) {\n    var cursor = msg['cursor'];\n    switch(cursor)\n    {\n    case 0:\n        cursor = 'pointer';\n        break;\n    case 1:\n        cursor = 'default';\n        break;\n    case 2:\n        cursor = 'crosshair';\n        break;\n    case 3:\n        cursor = 'move';\n        break;\n    }\n    fig.rubberband_canvas.style.cursor = cursor;\n}\n\nmpl.figure.prototype.handle_message = function(fig, msg) {\n    fig.message.textContent = msg['message'];\n}\n\nmpl.figure.prototype.handle_draw = function(fig, msg) {\n    // Request the server to send over a new figure.\n    fig.send_draw_message();\n}\n\nmpl.figure.prototype.handle_image_mode = function(fig, msg) {\n    fig.image_mode = msg['mode'];\n}\n\nmpl.figure.prototype.updated_canvas_event = function() {\n    // Called whenever the canvas gets updated.\n    this.send_message(\"ack\", {});\n}\n\n// A function to construct a web socket function for onmessage handling.\n// Called in the figure constructor.\nmpl.figure.prototype._make_on_message_function = function(fig) {\n    return function socket_on_message(evt) {\n        if (evt.data instanceof Blob) {\n            /* FIXME: We get \"Resource interpreted as Image but\n             * transferred with MIME type text/plain:\" errors on\n             * Chrome.  But how to set the MIME type?  It doesn't seem\n             * to be part of the websocket stream */\n            evt.data.type = \"image/png\";\n\n            /* Free the memory for the previous frames */\n            if (fig.imageObj.src) {\n                (window.URL || window.webkitURL).revokeObjectURL(\n                    fig.imageObj.src);\n            }\n\n            fig.imageObj.src = (window.URL || window.webkitURL).createObjectURL(\n                evt.data);\n            fig.updated_canvas_event();\n            fig.waiting = false;\n            return;\n        }\n        else if (typeof evt.data === 'string' && evt.data.slice(0, 21) == \"data:image/png;base64\") {\n            fig.imageObj.src = evt.data;\n            fig.updated_canvas_event();\n            fig.waiting = false;\n            return;\n        }\n\n        var msg = JSON.parse(evt.data);\n        var msg_type = msg['type'];\n\n        // Call the  \"handle_{type}\" callback, which takes\n        // the figure and JSON message as its only arguments.\n        try {\n            var callback = fig[\"handle_\" + msg_type];\n        } catch (e) {\n            console.log(\"No handler for the '\" + msg_type + \"' message type: \", msg);\n            return;\n        }\n\n        if (callback) {\n            try {\n                // console.log(\"Handling '\" + msg_type + \"' message: \", msg);\n                callback(fig, msg);\n            } catch (e) {\n                console.log(\"Exception inside the 'handler_\" + msg_type + \"' callback:\", e, e.stack, msg);\n            }\n        }\n    };\n}\n\n// from http://stackoverflow.com/questions/1114465/getting-mouse-location-in-canvas\nmpl.findpos = function(e) {\n    //this section is from http://www.quirksmode.org/js/events_properties.html\n    var targ;\n    if (!e)\n        e = window.event;\n    if (e.target)\n        targ = e.target;\n    else if (e.srcElement)\n        targ = e.srcElement;\n    if (targ.nodeType == 3) // defeat Safari bug\n        targ = targ.parentNode;\n\n    // jQuery normalizes the pageX and pageY\n    // pageX,Y are the mouse positions relative to the document\n    // offset() returns the position of the element relative to the document\n    var x = e.pageX - $(targ).offset().left;\n    var y = e.pageY - $(targ).offset().top;\n\n    return {\"x\": x, \"y\": y};\n};\n\n/*\n * return a copy of an object with only non-object keys\n * we need this to avoid circular references\n * http://stackoverflow.com/a/24161582/3208463\n */\nfunction simpleKeys (original) {\n  return Object.keys(original).reduce(function (obj, key) {\n    if (typeof original[key] !== 'object')\n        obj[key] = original[key]\n    return obj;\n  }, {});\n}\n\nmpl.figure.prototype.mouse_event = function(event, name) {\n    var canvas_pos = mpl.findpos(event)\n\n    if (name === 'button_press')\n    {\n        this.canvas.focus();\n        this.canvas_div.focus();\n    }\n\n    var x = canvas_pos.x * mpl.ratio;\n    var y = canvas_pos.y * mpl.ratio;\n\n    this.send_message(name, {x: x, y: y, button: event.button,\n                             step: event.step,\n                             guiEvent: simpleKeys(event)});\n\n    /* This prevents the web browser from automatically changing to\n     * the text insertion cursor when the button is pressed.  We want\n     * to control all of the cursor setting manually through the\n     * 'cursor' event from matplotlib */\n    event.preventDefault();\n    return false;\n}\n\nmpl.figure.prototype._key_event_extra = function(event, name) {\n    // Handle any extra behaviour associated with a key event\n}\n\nmpl.figure.prototype.key_event = function(event, name) {\n\n    // Prevent repeat events\n    if (name == 'key_press')\n    {\n        if (event.which === this._key)\n            return;\n        else\n            this._key = event.which;\n    }\n    if (name == 'key_release')\n        this._key = null;\n\n    var value = '';\n    if (event.ctrlKey && event.which != 17)\n        value += \"ctrl+\";\n    if (event.altKey && event.which != 18)\n        value += \"alt+\";\n    if (event.shiftKey && event.which != 16)\n        value += \"shift+\";\n\n    value += 'k';\n    value += event.which.toString();\n\n    this._key_event_extra(event, name);\n\n    this.send_message(name, {key: value,\n                             guiEvent: simpleKeys(event)});\n    return false;\n}\n\nmpl.figure.prototype.toolbar_button_onclick = function(name) {\n    if (name == 'download') {\n        this.handle_save(this, null);\n    } else {\n        this.send_message(\"toolbar_button\", {name: name});\n    }\n};\n\nmpl.figure.prototype.toolbar_button_onmouseover = function(tooltip) {\n    this.message.textContent = tooltip;\n};\nmpl.toolbar_items = [[\"Home\", \"Reset original view\", \"fa fa-home icon-home\", \"home\"], [\"Back\", \"Back to previous view\", \"fa fa-arrow-left icon-arrow-left\", \"back\"], [\"Forward\", \"Forward to next view\", \"fa fa-arrow-right icon-arrow-right\", \"forward\"], [\"\", \"\", \"\", \"\"], [\"Pan\", \"Pan axes with left mouse, zoom with right\", \"fa fa-arrows icon-move\", \"pan\"], [\"Zoom\", \"Zoom to rectangle\", \"fa fa-square-o icon-check-empty\", \"zoom\"], [\"\", \"\", \"\", \"\"], [\"Download\", \"Download plot\", \"fa fa-floppy-o icon-save\", \"download\"]];\n\nmpl.extensions = [\"eps\", \"jpeg\", \"pdf\", \"png\", \"ps\", \"raw\", \"svg\", \"tif\"];\n\nmpl.default_extension = \"png\";var comm_websocket_adapter = function(comm) {\n    // Create a \"websocket\"-like object which calls the given IPython comm\n    // object with the appropriate methods. Currently this is a non binary\n    // socket, so there is still some room for performance tuning.\n    var ws = {};\n\n    ws.close = function() {\n        comm.close()\n    };\n    ws.send = function(m) {\n        //console.log('sending', m);\n        comm.send(m);\n    };\n    // Register the callback with on_msg.\n    comm.on_msg(function(msg) {\n        //console.log('receiving', msg['content']['data'], msg);\n        // Pass the mpl event to the overridden (by mpl) onmessage function.\n        ws.onmessage(msg['content']['data'])\n    });\n    return ws;\n}\n\nmpl.mpl_figure_comm = function(comm, msg) {\n    // This is the function which gets called when the mpl process\n    // starts-up an IPython Comm through the \"matplotlib\" channel.\n\n    var id = msg.content.data.id;\n    // Get hold of the div created by the display call when the Comm\n    // socket was opened in Python.\n    var element = $(\"#\" + id);\n    var ws_proxy = comm_websocket_adapter(comm)\n\n    function ondownload(figure, format) {\n        window.open(figure.imageObj.src);\n    }\n\n    var fig = new mpl.figure(id, ws_proxy,\n                           ondownload,\n                           element.get(0));\n\n    // Call onopen now - mpl needs it, as it is assuming we've passed it a real\n    // web socket which is closed, not our websocket->open comm proxy.\n    ws_proxy.onopen();\n\n    fig.parent_element = element.get(0);\n    fig.cell_info = mpl.find_output_cell(\"<div id='\" + id + \"'></div>\");\n    if (!fig.cell_info) {\n        console.error(\"Failed to find cell for figure\", id, fig);\n        return;\n    }\n\n    var output_index = fig.cell_info[2]\n    var cell = fig.cell_info[0];\n\n};\n\nmpl.figure.prototype.handle_close = function(fig, msg) {\n    var width = fig.canvas.width/mpl.ratio\n    fig.root.unbind('remove')\n\n    // Update the output cell to use the data from the current canvas.\n    fig.push_to_output();\n    var dataURL = fig.canvas.toDataURL();\n    // Re-enable the keyboard manager in IPython - without this line, in FF,\n    // the notebook keyboard shortcuts fail.\n    IPython.keyboard_manager.enable()\n    $(fig.parent_element).html('<img src=\"' + dataURL + '\" width=\"' + width + '\">');\n    fig.close_ws(fig, msg);\n}\n\nmpl.figure.prototype.close_ws = function(fig, msg){\n    fig.send_message('closing', msg);\n    // fig.ws.close()\n}\n\nmpl.figure.prototype.push_to_output = function(remove_interactive) {\n    // Turn the data on the canvas into data in the output cell.\n    var width = this.canvas.width/mpl.ratio\n    var dataURL = this.canvas.toDataURL();\n    this.cell_info[1]['text/html'] = '<img src=\"' + dataURL + '\" width=\"' + width + '\">';\n}\n\nmpl.figure.prototype.updated_canvas_event = function() {\n    // Tell IPython that the notebook contents must change.\n    IPython.notebook.set_dirty(true);\n    this.send_message(\"ack\", {});\n    var fig = this;\n    // Wait a second, then push the new image to the DOM so\n    // that it is saved nicely (might be nice to debounce this).\n    setTimeout(function () { fig.push_to_output() }, 1000);\n}\n\nmpl.figure.prototype._init_toolbar = function() {\n    var fig = this;\n\n    var nav_element = $('<div/>');\n    nav_element.attr('style', 'width: 100%');\n    this.root.append(nav_element);\n\n    // Define a callback function for later on.\n    function toolbar_event(event) {\n        return fig.toolbar_button_onclick(event['data']);\n    }\n    function toolbar_mouse_event(event) {\n        return fig.toolbar_button_onmouseover(event['data']);\n    }\n\n    for(var toolbar_ind in mpl.toolbar_items){\n        var name = mpl.toolbar_items[toolbar_ind][0];\n        var tooltip = mpl.toolbar_items[toolbar_ind][1];\n        var image = mpl.toolbar_items[toolbar_ind][2];\n        var method_name = mpl.toolbar_items[toolbar_ind][3];\n\n        if (!name) { continue; };\n\n        var button = $('<button class=\"btn btn-default\" href=\"#\" title=\"' + name + '\"><i class=\"fa ' + image + ' fa-lg\"></i></button>');\n        button.click(method_name, toolbar_event);\n        button.mouseover(tooltip, toolbar_mouse_event);\n        nav_element.append(button);\n    }\n\n    // Add the status bar.\n    var status_bar = $('<span class=\"mpl-message\" style=\"text-align:right; float: right;\"/>');\n    nav_element.append(status_bar);\n    this.message = status_bar[0];\n\n    // Add the close button to the window.\n    var buttongrp = $('<div class=\"btn-group inline pull-right\"></div>');\n    var button = $('<button class=\"btn btn-mini btn-primary\" href=\"#\" title=\"Stop Interaction\"><i class=\"fa fa-power-off icon-remove icon-large\"></i></button>');\n    button.click(function (evt) { fig.handle_close(fig, {}); } );\n    button.mouseover('Stop Interaction', toolbar_mouse_event);\n    buttongrp.append(button);\n    var titlebar = this.root.find($('.ui-dialog-titlebar'));\n    titlebar.prepend(buttongrp);\n}\n\nmpl.figure.prototype._root_extra_style = function(el){\n    var fig = this\n    el.on(\"remove\", function(){\n\tfig.close_ws(fig, {});\n    });\n}\n\nmpl.figure.prototype._canvas_extra_style = function(el){\n    // this is important to make the div 'focusable\n    el.attr('tabindex', 0)\n    // reach out to IPython and tell the keyboard manager to turn it's self\n    // off when our div gets focus\n\n    // location in version 3\n    if (IPython.notebook.keyboard_manager) {\n        IPython.notebook.keyboard_manager.register_events(el);\n    }\n    else {\n        // location in version 2\n        IPython.keyboard_manager.register_events(el);\n    }\n\n}\n\nmpl.figure.prototype._key_event_extra = function(event, name) {\n    var manager = IPython.notebook.keyboard_manager;\n    if (!manager)\n        manager = IPython.keyboard_manager;\n\n    // Check for shift+enter\n    if (event.shiftKey && event.which == 13) {\n        this.canvas_div.blur();\n        // select the cell after this one\n        var index = IPython.notebook.find_cell_index(this.cell_info[0]);\n        IPython.notebook.select(index + 1);\n    }\n}\n\nmpl.figure.prototype.handle_save = function(fig, msg) {\n    fig.ondownload(fig, null);\n}\n\n\nmpl.find_output_cell = function(html_output) {\n    // Return the cell and output element which can be found *uniquely* in the notebook.\n    // Note - this is a bit hacky, but it is done because the \"notebook_saving.Notebook\"\n    // IPython event is triggered only after the cells have been serialised, which for\n    // our purposes (turning an active figure into a static one), is too late.\n    var cells = IPython.notebook.get_cells();\n    var ncells = cells.length;\n    for (var i=0; i<ncells; i++) {\n        var cell = cells[i];\n        if (cell.cell_type === 'code'){\n            for (var j=0; j<cell.output_area.outputs.length; j++) {\n                var data = cell.output_area.outputs[j];\n                if (data.data) {\n                    // IPython >= 3 moved mimebundle to data attribute of output\n                    data = data.data;\n                }\n                if (data['text/html'] == html_output) {\n                    return [cell, data, j];\n                }\n            }\n        }\n    }\n}\n\n// Register the function which deals with the matplotlib target/channel.\n// The kernel may be null if the page has been refreshed.\nif (IPython.notebook.kernel != null) {\n    IPython.notebook.kernel.comm_manager.register_target('matplotlib', mpl.mpl_figure_comm);\n}\n",
      "text/plain": [
       "<IPython.core.display.Javascript object>"
      ]
     },
     "metadata": {}
    },
    {
     "output_type": "display_data",
     "data": {
      "text/html": [
       "<img src=\"data:image/png;base64,iVBORw0KGgoAAAANSUhEUgAAAoAAAAHgCAYAAAA10dzkAAAAAXNSR0IArs4c6QAAIABJREFUeF7sXQd0VEUbvek9JJDQQRBB/KmCIkiv0qSLIF2UIs2KBWkqxYIoCtJUEOkg1ULvHUTpvUMgkIT0ZDflP3c2b3n79m2ymywYyMw5HjU7b97Mndl9933lfi7p6enpkE0iIBGQCEgEJAISAYmARCDPIOAiCWCe2Wu5UImAREAiIBGQCEgEJAICAUkA5UGQCEgEJAISAYmAREAikMcQkAQwj224XK5EQCIgEZAISAQkAhIBSQDlGZAISAQkAhIBiYBEQCKQxxCQBDCPbbhcrkRAIiARkAhIBCQCEgFJAOUZkAhIBCQCEgGJgERAIpDHEJAEMI9tuFyuREAiIBGQCEgEJAISAUkA5RmQCEgEJAISAYmAREAikMcQkAQwj224XK5EQCIgEZAISAQkAhIBSQDlGZAISAQkAhIBiYBEQCKQxxCQBDCPbbhcrkRAIiARkAhIBCQCEgFJAOUZkAhIBCQCEgGJgERAIpDHEJAEMI9tuFyuREAiIBGQCEgEJAISAUkA5RmQCEgEJAISAYmAREAikMcQkAQwj224XK5EQCIgEZAISAQkAhIBSQDlGZAISAQkAhIBiYBEQCKQxxCQBDCPbbhcrkRAIiARkAhIBCQCEgFJAOUZkAhIBCQCEgGJgERAIpDHEJAEMI9tuFyuREAiIBGQCEgEJAISAUkA5RmQCEgEJAISAYmAREAikMcQkAQwj224XK5EQCIgEZAISAQkAhIBSQDlGZAISAQkAhIBiYBEQCKQxxCQBDCPbbhcrkRAIiARkAhIBCQCEgFJAOUZkAhIBCQCEgGJgERAIpDHEJAEMI9tuFyuREAiIBGQCEgEJAISAUkA5RmQCEgEJAISAYmAREAikMcQkAQwj224XK5EQCIgEZAISAQkAhIBSQDlGZAISAQkAhIBiYBEQCKQxxCQBDCPbbhcrkRAIiARkAhIBCQCEgFJAOUZkAhIBCQCEgGJgERAIpDHEJAEMI9tuFyuREAiIBGQCEgEJAISAUkA5RmQCEgEJAISAYmAREAikMcQkAQwj224XK5EQCIgEZAISAQkAhIBSQDlGZAISAQkAhIBiYBEQCKQxxCQBDCPbbhcrkRAIiARkAhIBCQCEgFJAOUZkAhIBCQCEgGJgERAIpDHEJAEMI9tuFyuREAiIBGQCEgEJAISAUkA5RmQCEgEJAISAYmAREAikMcQkAQwj224XK5EQCIgEZAISAQkAhIBSQDlGZAISAQkAhIBiYBEQCKQxxCQBDCPbbhcrkRAIiARkAhIBCQCEgFJAOUZkAhIBCQCEgGJgERAIpDHEJAEMI9tuFyuREAiIBGQCEgEJAISAUkA5RmQCEgEJAISAYmAREAikMcQkAQwj224XK5EQCIgEZAISAQkAhIBSQDlGZAISAQkAhIBiYBEQCKQxxCQBDCPbbhcrkRAIiARkAhIBCQCEgFJAOUZkAhIBCQCEgGJgERAIpDHEJAEMI9tuFyuREAiIBGQCEgEJAISAUkA5RmQCEgEJAISAYmAREAikMcQkAQwj224XK5EQCIgEZAISAQkAhIBSQDlGZAISAQkAhIBiYBEQCKQxxCQBDCPbbhcrkRAIiARkAhIBJyNwIkTJ7B69WpcvHgRUVFRePfdd1GjRo1Mb8Nr5s6di2vXriE4OBht2rRBs2bNnD01OZ4NBCQBlEdDIiARkAhIBCQCEoEcIXD48GGcPn0apUuXxqRJk7IkgOHh4XjnnXfQuHFjNGnSRFw7e/ZsDBs2DDVr1szRXOTF9iEgCaB9OMleEgGJgERAIiARkAjYgUDnzp2zJIC//vorDh06hMmTJ5tHnDlzJi5fvoxx48bZcRfZJacISAKYUwTl9RIBiYBEQCIgEZAImBGwhwCOHj0apUqVQp8+fczX7d+/XxDCefPmwd3dXSJ6nxGQBPA+AyyHlwhIBCQCEgGJwMOIgNFoBP9RNw8PD/CfzJo9BJCu3vr166NDhw7moegGHjlyJGbMmCFiAmW7vwhIAnh/8ZWjSwQkAhIBiYBE4IEikBwfDy8/vxzfMyUlBUOGDEFERIR5rE6dOoEEzxkEsEGDBmjfvr15qFOnTmHUqFGgKzgoKCjH85cDZI6AJIBOOCHMeOIX5WFvoaGhuH379sO+jFwxf4mlc7dB4inxdC4CzhvNkbNJt+aDsmz91O01hJ08ne2FFnnqSbw6fzYSExORnp5uHsdZFkDpAs721jjtQkkAnQAlSZPWTO6EYR/oEC4uLihSpAjCwsIsvuwPdBKPyM0kls7dSImnxNO5CDhvNEfPJskTCeODaBOq1cXVw/9m+1Ylnq6CD//eka3r7XEB6yWBzJo1C5cuXZJJINlC3fGLJAF0HDOrKyQBdAKIj9AQjj4UHqGl35elSDydC6vE03l4OorlgySAE6vXw7UcEMDiT1fBB4e22w1WUlISbt68KfoPHz4cPXv2RMWKFeHv74+QkBAsWLAAkZGRGDx4sOijyMBQAoZSMGfOnAEJoJSBsRvyHHeUBDDHEEK4TaUF0AlAPiJDOPpQeESWfd+WIfF0LrQST+fh6SiWD5IAfuEEAjjcAQJ4/PhxjB071gpcJnoMGjQIU6dOFc/KMWPGmPsoQtBXr14VrvG2bdtKIWjnHc8sR5IEMEuIsu4gCWDWGOWlHo4+FPISNtlZq8QzO6jZvkbi6Tw8HcXyUSaAzkNVjvSgEJAE0AlISwLoBBAfoSEcfSg8Qku/L0uReDoXVomn8/B0FMsHSQC/eibnLuB3D9rvAnYeqnKkB4WAJIBOQFoSQCeA+AgN4ehD4RFa+n1ZisTTubBKPJ2Hp6NYPkgCOOmZeriegxjAYk9XwTuSADrvsOTCkSQBdMKmSALoBBAfoSEcfSg8Qku/L0uReDoXVomn8/B0FEtJAJ2HvRwp5whIAphzDGUSiBMwfJSGcPSh8Cit/X6sReLpXFQlns7D01EsHyQBnPxs/RxbAN86sM15YMmRch0CkgA6YUukBdAJID5CQzj6UHiEln5fliLxdC6sEk/n4ekolg+SAH7rBAI4TBJA5x2WXDjSI0MAmU6+evVqXLx4EazM8e6776JGjRqZQq6koF+7dk2koLdp0yZbKeiSAObCk/0fTsnRh8J/ONWH4tYST+duk8TTeXg6iqUkgM7DXo6UcwQeGQJ4+PBhsJB06dKlMWnSpCwJoCJCSQFKClHy2tmzZ2dLhFISwJwfxEdpBEcfCo/S2u/HWiSezkVV4uk8PB3F8kESwCk16uNGDpJAij5dBUP3Sxew805L7hvpkSGAamizW4aGBagvX77scBkaSQBz38H+L2fkyEPBy90N/l4ecHEBEpJTkGB0rKa0u5srgnw84ebqAlbrNKak4W5CsvjvR6U5guejsub7uQ6Jp/PQdRTLB0kAv3cCARwsCaDzDksuHCnPEkBnFqKWBDAXnmwAbi4u8HB3RWpaOoypaQ9skvY+FAJ9POHr4Q5XVxcxt7T0dBhTUhERn6w7V5K8AC8PkPQlp6QiwZCCEH9vuLm6mvuzaLshkzEeGAhOvJG9eDrxlo/0UBJP522vo1hKAug87OVIOUcgzxJA1htkiZoOHTqYUaQbeOTIkZgxY4aICdQ2lntTl3zjl9/Hx0dkAaekOGa5yfnWOXcErqVw4cKiliNJhCPNw80V5DCGlLRcY3nK5+MJL3fOywVcTmp6OiLjk5Dm2NIcgcHcV41loLcHPN1dQYqXkpaO6ESDIKR+Xu6CzLGvuqWmpeFuokFgqW7EONiXlj4T2eMekTByfXpjkETyPtlpJJr+nu5wI9E0moimIyNxRfl8PcE5K+u+m2AQ881Oy8nZzM79HvVrJJ7O22FHsXR3d0doaKjzJpDJSFNpAfznSLbvVbRqZQySFsBs4/cwXJinCWCDBg3Qvn178z6dOnUKo0aNAl3BQUFBVvu3ZMkSLFu2zPx3xht+/vnnD8M+3585pqYAhkQgXSErLoCHJ+Dhnb37kSAYk4BUIwTjcHEFPL0BN3fHxjMmm8bRNlc3wNvfsbEc7c01pBgAzkGPNpHwuXmY+thq/NzL1/LTxFgVznZMyssva9yUeXLOnJeHF0E37al67twH4qYhq7qz4FhJ8UB6quXHjoxhx/IedJebp85g3utDEHn5Klzd3FC5TQt0+moc3Dw8bE+FWBDLtIyXQ3GefQCeQ9kkAvcZgWk16iMsBwSwSNXKeEMSwPu8S//t8HmWAGbHBZyXLYC0pvl4uCMd6YhPThHWrFB/b+GOVDdasCLjk8XnjrZ8Ph7wpktURTQ43p24ZIesRwX8vODpbv2Q5Vi3Y5McsmZltQZvdzd4e7ohLS0d8YYUEY8nLF82yJJiuVO7bdX34OdxyUbEJd+zKNMa5+9tbS3kdeyvZwG8E5cEd1dXgZveXnDedEHT2qc0roHj0fKnnRP3PDbZmBUcYu35fb3Mbm3lAmXdgh8aU+0aS7nWUStLVpO8vO8gDsyZL3B7tnc3lKxRPdNL4m7fwawWHRFz46a5n5unJ8o2qY+XZ3+PuPDbWPPeSNw6eUaMWbpOTbT49GOEhuQDYzzV5zklLQ0RcQ/GEm1rUc7GMyu8H+XPHcXyQVoApz+XcwI4YJ9MAnmkz2+6o/6+hwCN7CaBzJo1C5cuXZJJIBpXXbCvF7w87j3ISKToFvTz9LB60PN4xCcbhavTkUa+VDDAxyKeTbk+RRW/l2hMQWxS5kQkNMAbHm7WBJBHnQ/guCQjEo0aC5Ujk83oW8DfGx6urvdi+Eh6XWDxwNcbVnHd6n1mIqmJZlc1Xci+NnBWkyuFBJLEGVJTBTE3UTsXQQLp/la7hEMDfARZ0zY9Qsk+xtRUQZ7VLT4iEgd+no87Z8+jdL3nUaVjWwQE+CHYj5ZE243zoWs5KkE/1lF7paNxVrze3dUF+Xy8zMkxCclGQdB//3AMjq/+E0l3o8VtvIPyoXKHNmj+6QibE97w6RfYM+Nnsm2LPv6FQtFnxQLM7/46Ii9cMn/m6u6G8s0aYdDi2VbnWSH4WZ3hbBxHuy/JDp72Dp4UHYPwM+eQr2gR5CtWxN7LHtp+jmL5IGMAJQF8aI/VA5v4I2MBTEpKEvFrbMOHD0fPnj1RsWJF+Pv7IyQkBAsWLEBkZCQGDx4s+igyMJSAoRTMmTNnQALI2MCaNWs6tAEPWxLItUP/4PDCZfDw9cWzvbqiQJnSwnJRpEgRhIWFmWMAmURB8sdECj0rEwmGqyoBQQEt0ZBifrgHeHsIyyGbITUNMYm05lnDS8JSwI8JDZYxcdqe9pAHxtbZsphxPBKh2CSDILGONh8PN0GGBXnQWCvtGYvzF1Y2HdxI3kjUiBNbmsGA0EBfeHlnQajS0kWMI922iYZUEV+oHV8hgUpsIcm21nrLe9oigEwsoVVRaWHHT2Jxr4GIvRWO9LQ0uHt5IfixEuj/+xIUKVxAd31qfEyWXUtSags/nj3vtHRcOHoMBZ54HJ6+Gve46sIbR45h77TZ6PHNOOQrXND8SRotb7cjMeHZxkiIiLS4lV9IAfRZtRD5S5XUncIvnXvh0q59Vp95BfijWo+XceDHX5GSbElmK7Vsgv4LZ4EWH22jBZT7/KBaqtGI8FNn4OXvj/ylH9P9rud0Ljw368dMwIm162BISICHtzcKli+Ll3+aCg8fn5wOn2uvz80EcMZz9XEzBy7gwlUro7+0AObas+eMiT0yBPD48eMYO3asFSZM9Bg0aBCmTp0qkjXGjBlj7qMIQV+9elUkfbRt2/aRF4Je9fZHOLNuMxLv3hU4+BbIj7rDBqDma70sCCAtcqH++iRBIQr8t5YY8kFAFzCzVPNnuGIVF5jJApcuLFzaRtoXGugj3JbqlpmLU5vkEHnpCtJSUhBSpjRCSHBU1jnt/WhVDNeZh20SAoT4+4jMYmbt2iJKWX0peV+Sz8AM65TSn2shKVCylQ8vXI7jv63CgPkzEFgwJNNheY2CKd26lJXRaySYtLpxb2xZAJW9Ve+r+jpl3BlN2+LWidOWt6FLtdcr6P7NZ8IFb8sNzov0xtTOmS8DhvgELOj9BiLPX4AhMUmQieo9XkbdYQOtlhh9+TIW9R2CFm8PRM1XOll9ThK46fvZWP7hp1afNfn4PTw/sK+wigrXuIvJchqTaMCfn03C7mmzBNFVN/9CBfFYrRo4vnKt1XiBhULxydGd8PazJKs8N7T+0c3/INqx1X9g07ivBI6MXQwoXBBdfv4B5Z+pZvGyl9O5HF60DOtGT4AhLt48lIubG55q0RSdZnyT0+Fz7fW5mQDOqtkgxwTw9b1bcy32cmI5R+CRIYA5hyL7IzwsFsDrh49gQffXkZjh/lJWzAfZG5vX4PH/PWV+KGRlRbNFgPjQDI9JFPkCWokS8eDnQzXBoKt3p5VFsbUjHCMqg2Syz51zF7C03zBh2WGMondAANp8MwHlaj1rdgNqx6IF6laMNRG1dU9mFft6umdKavTIk/I3/puWn+gMCyhjw2gdJTk2JBtw89pNeIWGiPFvHj+FX7v2gTEhEWMPb0X+EsV0p6XE1ZFwK8SRFlsfT9tJMwpZ9HF3Q5Cfl+56RCygKlKS8X8KYeG++ru7IvHmLRiTkrFn/hJsmjLLbDWmhW7Qtj9A17XJQmp6SbAVp6iXqUwSFsQ4QheALsXom+GY3fMN3MggnN75AtHu289RrmlDgYufpzv8vD1giImFISER/qEF4G4jOSMpNg6L3h6JvQvuJXO5erij5fjRqNnjZQRrrNDinIRH4Nv6rRF97YZ5H9y9vVC+RVOUqv0c/hrxmZUF0Dd/MD4+tAVBofktYwBJ1uMShTf5+Oo/sGvqbGExC3nicbww9iMElyye/R8izZURFy5hTvtuiL8TYfFJwfLlMPbEgWxl/Nua3Mxm7cS51baAIoUwdM/GzJNlnLbiBz+QJIAPHnN5R+chIAmgE7B8WAjgHx+OxcFfFlqt2MXdDR2nTkKTfq+aCSDdsYqrUw8iW3FsfKBHxCUK9yLJiJ4VKMFgBGVB9Jq/lzt8PD0y4tdMrtLMyAPdW1PrtcTdK1cthgsoXAgDNq1GieKFdBNCHLUA2nKZZnZ8BEFLTUVikhGxqWnaEDLcvXoNS14firib4YJAeQUGoM3X47H/p3k4sfpPMfRLn49G7V5d4B1gmb3M/sT62vVwbBg/CZf27Ie7lydajX4fz7RopOua53jqdStJPFprH4WkjWlpwgpGwqj22NNyyPg65Zrk+AQc+WMDfuxtCq0o+NSTGLBxlRkWPUtyZm58YQnWcU9HXL6K0VUbIMVgOjclnq2GPisXCIkdU9KJpRZiZtbHK/8cw/jaLcxz5Fl5Y+vvKFYkRPesMP7xzPFz+OPDMYg4fwmM8avYthXqvT0IacYUTG/a1ioGsFi1quizYr6wgpPssxFHJfZx19RZ2Pn9TCTHxJrnEViksHBF68XO8ZzvnjYbx1b+Lsj5Uy2aoe7QASARtdXWDh+Fv+cvsfrYJ38w3t60Bu6FQh2WfLJ1r6n1WiDi/EWrj/lyOXjHn/D083PCL23uGyI3E8AfnWAB7CstgLnv0DlxRpIAOgHMh4UAbhz3lXiIaJu7jzdemv4N6vd8xUwAaY2jZUXPxUviwWQMUwULy5g9hWDQ/VrAn0H41i7dmCSDyCTOqumRBxIfujBp9WI7s3ELlg94G8ZES2seH9KNP3oX9d/oK5IS1POghYtuWCYF2Nsyc5lmNsb146fw88D38OrqRRbd6E6c1qCV1UOTLrrAYkVx/dA/5v4vvP0GWn30Fjx9LOV1iMWx9VswtUMvc1+vgAC8t2UlipUvq0u+1e5iWtjyZ1i8XMBKIowhTEGMjSQbWkB5LtRZrbxx9M1bmFi/DeIio9D4w3dQ49XuFmulK5cWVMW9n2R0/B4kmnMHvIO/fzO5WxlfNmDTGhE3mtmLit7ehF+4hHHPkwC6wFuQ7nEoXaeWSELSi4vM6mWBWcAkW6YsYIixmFQSEOiPIB/LjGiS34QkAz6pUhcx18Osplelc3u0nTzB/HfG7vF7e3nPARiTksyJKLRaFq1SSZBgW2R3Ue+BOLNhi9U9GPv7xqqFCKpQ3mkEcNWbH+DfpSut7hVa7gkM3GLtIrf3e5fb++VmAvhTrQa4lYMYwEJVK+PVPdIFnNvPYE7mJwlgTtDLuDanBJBxa0kxsaBri3E696tFXbmGn1582colFFisCIbsXI8SpR4zE8B0oxEFg/3hoQpiV1eqIO1jFiwfmAohIDGki5OuTjZ+7qmRROHDlPFq9orEkDzwIaokh5D8qTOM/16wFGvfG6kLWY2+PdH8k4+EIDSJi4nkmLKUHU0AoWXS39uS/NgTBxh57QbG1WklHtTqJIOLu/ZiSd/BSI6Ns5i7i6srnmhUDxe270ZqhrWLAfUTzuyDf4H8VutMMRgxNKSssDQqrViVCvhw+1qrBAQSX1pfmTBCS5QiD0OLHgkyLV2ZqffQLUsSqG10Bc8b8j4SEg1oP+VzcA2ONPEK4WLiNnyp4F7ptaXvjxUxfGRZz73WEy+M+RC2Mr4zu398UjL+3bxLjFPimafN7klbY6lJsyPrYgiEnhyR0WDER0/VQuzNW1bDefr7Iah4MQSXKokKbVti3ajxiL99R/e2/L3oNH0yClf8H7z8/UBpGnU79OtirBs9HilJlgkqdMt+cuoQ7sbHO40A0s38U9uuiL52HWkpprPILOlO07/JUmbHEUxzW19JAHPbjsj5OIKAJICOoGWjb3YJIAnE5omTcXTFGpG84ObhiRqvdkOt/q86YVb6Q9AltO3r7xEfEQU3d3f45A9Ch+++xGM1nxVJIFcvXgITRa7sO4hC5R5H54mjEfpEaZHlmZSSKoLi1Y2EgFm+JBVxSaYqFwq5ExUhfLzg6eEq/F/87G5i5hUqoq/fwNlN2+GTLxDlmjWCh8bqpV1V1OWr+KlNFytSy4dj5x+/R6laNZyGJV3adDkqhDczN6Ny01vnLmJ83VZ45ZcZwm2ptGMr1+K3we9ZSYvwc1qBmGBx+/RZ0PXn7umJr28ct7IAsm9qSiq+atIeFw8cFkNXbN4YPaZ9gXyF7mXAKvdUFJ84b8a2MSPYXikW8UBn9RJvTyuLkyEpGdeu3YJ3SAGbWPMsaEk/LZAklYocDV8wmCChyLeoB4sJv43JLV7GrXMXEFSyBPquXgT/AsGmLPVMdBfVYyhuc2Yf61UlYYa3NjmHpJkWa3teGHguGNfJM5Kami5ejnQtiimpGF2toa7LlPMl4a/csgn8CgTj6B8bEaVjKVTWxbABfkf44li2SQO0+Gwkwk+fw6ph74vvREJUlImQZUjYMImmUocX8fq8WU6NAeR8+BK7/8dfcHHnXqEsUGdIPwSVcF5Mo9O+yE4cKDcTwDlOsAD2lhZAJ56W3DeUJIBO2JPsEsAd3/5gCgKPv5c55x0YiOaffoTKndo5YWb6Q9DqRAsUSV3p2s8Jy4HyQ/Ztq044vWGziG1SGjOFuy/8CYUrlLc5Jwoge3q4idg9WpGiE5LNcib2LmTDZ1/g6LLVoPCum5cn/AoUQMfpX6NE9aczHWL1OyNM8hNxJmsaH4glalRHt/kmd3eqwQg3Tw9h5aI1kPOjJTE7jZZIJjgwTlHbtBbBhOgYrB33NQ78tlYkRqjjoEh0f2zVWaxV3WgB6jB1EkrXromDvyzC1q+mCPf2lxcPIyDUmmDRNfp18864/Pe/aDPqPTTo3wu+QfnsWhrJDS229moi2nLJU7aG4sbaxrNAgkcrMA8GSRdjP5WEFVrItOSNOo20Enu6uZn1FUlyLx48jEXDx6JMgzqo+XpvFCyYHyRsjP2zxxJ7T2DbaBWLqZ63j6cbArz4fTBxJia/2EP+eC7ojlYTPlvz4vpm9R2GY6v/RKpGPqZ0jWp4/Zdp8A8pIGI6Y8PviISVFSPvuYVtba67tzcqtW+N89t2WohWi/4ZcZvpqWnC01Co7BPoumDWIxubZ9cXwAmdcjMBnFurIcJz4AIuWLUyeu2xDiFwAmxyiFyCgCSATtiI7BLAKbWa4O6Va1YzCH2yLAZuXmPXzPgAZd1VBuzTwmIwpopaso42/pAFentjzP+eRXDhQij4RGlcP3YSYafOiqFojevy8zTdYWmF8Sb501TwICmwtyLIlQN/Y3GfgUiMMgn0Ki2oZHEM3rkuU9c4H7Sn/tyAfT/OQ5rRiKe7dhJWtANzFmDf7LnCldr0zQGo2+cVIctBnJRMYoWMOIIXrTy0hOkRwMToGKRTjDkpEVt++Bnbf1qA5we8ijpD+lv1Z/UIZoIq0hkk4kWrVkLv5fOEG/XYqj+w5t2PYUxIQNU2zdFv3nSRgKBuJJnvFq8EatKNOrARwQ6K72r1/TLDgWeNZI5ZxsIlz0pnqWlg0oieS5+ESNRB1pwLCkrzeiX+UH1Pk0yKQZwbCo2zxRuMiDh1HpeOn0SxpyuhUOnHhOWPcjz2NpPGYiIMqfYGH9g7sqkfE1G8M8m+Vo9G9/vt6Dj8OfIznN24FWmpaUiIiBDn5pMjOxBa2lKPMC4iElM79jZbeTObmWeAP1ISE81uWFt9eb4qtmuF9t996dhCZW8LBCQBlAfiYUZAEkAn7F52CeDk6vV144CCHiuBobs3ZDkzPkS1Uit8gDIGzxHXHm/EHzLXmDgk3r6JAiWLwy9/EOLuRODqv8cx7aVXEVKuDPqvtw7y5jNY0dzTTpiWE5IDe9qygW+ZM1/V/Wmt6Dp3uoX71J7xGBu48dMvkRQTg5JVK2HIqnkI0Lgoswrut3UfPdzZV4g8p6UJq1TC3RhE3QjD5UvXhTVPr3GvTqz5S7jNmN1aqWMbPNuzqzmWa/kb7+D4qt/Nl77+63Q83baFRcYrte3i7kTi6tETKFOzOrwdzLa0BwPucQE/Vmlh9q9pnckpJuKnbZEXL+PWydMo8lQ5PFnlKZuVMEi8bWfPHFyRAAAgAElEQVSJm86NuFdsLP4aMxHH121GQtRdULT5zbULUaKibWu0HtbJCYn4dcj7uHr8NFp//gmKVqlozzESfWhp9HVzEZZYSvOEX72BwNKlAC9vM/F1JEno2skzcC1ikvbheaGI9PQmbZG/cEG8sexn+AVb1yHfv2QlfuozRMQtevr5ipARbWwfx6MVMIXJIna0fMWLYdi+TXb0lF1sIZCbCeC853NuAeyxW1oAH+XTLwmgE3Y3uwRweuM2QqFf21ibtPeK+VnOjJmVfjqiv0rNW704p8x+yArm8wdSDCI2UGkM8N80dTauX7om6ptqmynbV7+ChyPWpSWvDRFWPG1jVmuXOdNEjKIjbWr9log4d0Fc0mvm16jV7SWry4kT9QSVyhuOjM9kBVbcUItca/XuSPCYVZsdiyznwvhQSoUoPsu3/lyMJ+s9b3Oa9rhCtRenGI3YuWwNyjRuaJVEoPTVy7Ql8WS2sOIeJSHhHl7/5ygSo+6icusX0GfWZHj5WleBYBZwdIIBIQE8N5YJI7TUMU6U54r4pqekCAFovoxM7dQHt86cxzvrl6Fs7ecc2S5EXbuBUVXqi0zagEIF0Wf1QpFskVWjhEugpys8VAkWJG10D7u4ughBa1orSVb1Ej604yfcjcbCd0ai+ZfjLJJlKAsTtv8QXvtlKnzzBVpN698/NmL+mx8J+Zm6bw7EyqHv4/RfG636+YYUECSVVuOsWr7iRTFo25+4vP+g+M7zd8dVp3JJVuPk5c9zMwGc7wQC2E0SwEf6eEsC6ITtzS4BPL91B1YMfd+iNJV/wVB0/WU6ilSqkOXMSLwUjTF1ZxIbtThwlgNlWACLBPnpJiXcvngZd1NdhPVF22zptpGMMNvWlqSIdhzGLS0f8JYIJFc3kaG8a73DQrLf1mgExtmxvTZ3Gp7p9KLV3EliIhmrmGJZ4cEevNiH5I/WIToVSQjtkRChq96d1qTUdN1EBPW9WWZtVotOiLsVLv486uAmFH2qXKbT05LA+OgY4Sr1CQiwed22WfOw5L3R8C9SCFU6tEH9dwabyQn3N7+XG7x0knGSkw0Iu3MX1/4+gmOrfsfR31YjNdkUfhBQMAQjdv2JoKKFLe4rXO93Y3Fyx16UeLwkipQpZU5uEZVi6FJONAj9PC05vHnmPMY83QDPdGqDPj9OgZvGHa6+kYJDqjEFSXGxuH3hCijJs3HKTISdPCMsyoxrzSrJyFYmrxZMfueYZa52S/PlKTUlBe6eHiKRJ/Z2hJDtWT5ygpU2npsLEH3qNEpV/p9Vsg/HjoiIRgrJspvp5Szi4mXMbNoWxsR71j5W3njh04/wz4LlwgqbnpEZTnevtooJx2C4Qdyt20JsG66u8AkKRPspX6Dkc8/Y+xWw6Hdxx25s+PRLYall/GKNV3vg2T7dshRPz9bNcslFuZkALqjdELdzEAMYWrUyXtklLYC55Kjdl2lIAugEWLNLAHlrWkw2jZ8EaokFlSiGpiOHg9pZ9jTGoulq8aWl4XaM/VIrvJf4IctHsVbrGCmDwYg7NoSbeS3nwH/UDz8+yO/EJWYqK6J9YK8c9j7Ob94hMhf50PILLYAXv/hUZDc62mY2a4+bx0+Ky8o3qA26T7WuNXvcn/be16aGXFqaqIzCls/TDa6pKcLaQmKQ5uaOaIPtZBSSr4hTp7Fx/Ne4euQ4+sz8GhWbmapf2GqCRKWkCitcUmwsFr8zCqWefRqtPhhmM45yz4JlmPv6W2JIEqKKHV4UuJtaOvwMichXMNTqlmGnz2Fa5z5oNLAvWPrs4NJV+GfNOjPZ6D71CzzzUhuzW1rE90VEYWKDNmD2Ns1odft2Q91Xu8PD2wsx0bEIKFcO+WzIzcTeicCUtt1x7d/j+OzUXuQvVsQmuSBpunnlOjyRjsDQEHhllGRjNvGKUROx59elKPjkE0J4mTVybbVQf9bCtl1ZRblO6FMaU8VLQGJUlKiScnrrTiz94FM836MzKr7QSCSrHPtrE45t2o5+G1aZ5+7t7maK482whvLFRLEmm6346QCttdePn8af384AK41Q1F3rBqaEEEuvbZ/8A85u3CIsepSToUZfzI2bwjLo4euDoKJFQGukUiWk5NOV0WBAb/gEBqDI87WQZsea1ZixvviiPm9YvMwyLrX24H6oM7ifvV+jh66fJIAP3ZbJCasQkATQCcchJwQwJ7fXrbKQloYEo7VcS1b3ET9kwQFAmiUh4UOLbr4zfx8VWnOF/1deV+eNljC6ozmOMYXuQUOWFi69OYUdO4F/Fv+GK3sPCmsgkx7KNqqPJiPezbTqgXasC9t3CZkVlodjo8WoYrMG8MsfLB7EfLDSDUlpG2c0vUQYjkt3J62xXikGBAb4wsPrXuUGuiOj4xJhcLdOKKG8Dgm+0ozJBoTfuYtixQpaWcbU81esaOFh4Vg3YTKSo6MRdf0mhvw2F/7B+ayrqqSkYHLLLji3a595mIAihfHGlrUisSQhMgo+SfEo9r8nLWCiPM2RPzfi8eeqmyVnEmPjcPWfY/imVRezLmGzdwbhxdHvCetYRNgtTGneCREXr+hCThHsN7b+gSKFC4gyctpGwkI3MInj0LUL4OVj7V4WlDVDLDz6bgyCKBTta1mPN/LqdeEOJgmvPeg1NHrfRH71WgFW8tCZi17fyFt3ML3rayIhK/zsBUECg4oWwrDV8xFUpJCwYjPWMzkhCbEu7ubvh97LA8ne3bBbguSqtUE55o6f5mPpB2PBjF5tY1UTWsy1FUK4X6f+2ojrf/+LYk9XgfF2BFaPGc+izCJ7nERciZE1JCfDCFcLvc2sviNzO/XE5T37rboxznDong0Oa0Nmdb8H+Tm9LEx84ksFBezVoTW5mQAuqt0oxxbALrs2P0io5b0eMAKSADoB8P+KAHLqdEOKKguU2kA64pNSdOvsZrVM8UNWqBBS4qOFJY/jMr4pOSkJk5p1QuTla0hPTxOkoM2kcSj1vGMxWFndX/mcGbszmrXDnbOm+D2xRg93lHi2OnotnWvvMKLflf2HhHU1PiISfgXyo83E0ShdtaL4AU8wUPTY/oxQ1k9m6bbgkiWEjIa62dIHpIWRmdDUSPRNjBMkQNuibtxEoq+le5bZtnouUMZUMjmCQsncbxINW1qEJEFcnrmqbzp0XdR0DV47fhLft+slKnqwUfan55I5YM1YJj4s6zsIfWZ8jcDCBUWNXdbTDT9/SejUFdDUKaYszcK3RmDv/GUILl4Uw9YuRGiZUoIA0oK3bPhoHFi6WncfmQVdtUsHlKxQHo369bCIu+MFEVevY3Tleug3f4bQybPVKGh9JzZJVIDJjEie33MABZ8qhwEb9efD8UWpOVY/yUKgncRu5dgvsPGbGeZpMX71w12/o3CZ0lZTZWwoE7W4j4yxVITO1R1pCVSXuFM+u33xCkZWrK27fFrNq7zUXhD3Cm1a4PF6ta3OCM/M7slTseHLKcJF/+GOtchX2PJsCrezA1n8tkrBMd7yjW1/iN+Nh7HxBYDfR0VuSJEyUmSkcjMBXFy7Ee78eyTbsIdUqYyXJQHMNn4Pw4WSADphl/5LAuiE6YshlB+ym2FhQtKFP3pJScmYVLs5mNmpbvxRZ51dH51sxZzO599lq/D7B6ORooptEqQkfzC6L/o5Uy3CnN5b73paPSnFwsoczNakdmKZhnWEi5RuapIxWuvU5dFE/JmrOxKSkkRiAElYSnyCcK9pG61RSQGWWZ8klLQ4aBsfyhQxpqA270nib48YNcfJKkHkyj9HMb52S3HLwCKFMHDr72bX6MJeA3Ht0GHU7d0FhcqWwfENW8Vn3b6bIAihtp3atgtT2nQXsjSFy5Wx+Dj61m18/UIn3FIRfHUHkv30lFQMXjlPWBd9MohD9M1wEad46Le1eHfjb3iiln5SEN3fjOtkYoatyiWxt+9gcquuuHH8FIpXr2pVpk89H1t7oV0zCfG455sjOe6epif7fH7+EPIVthblVsIPbGWUZ3aWI65cw4inaul2IVElcST7J+kqWrUyus2fZUFgeWZSuA+NX8Qz7Vqh67fjdIlmbKIBsclGu75Wv7zUC5d237MiKxc9zBZA3wxhcK3ckDp0RBJAu46H7JRLEZAE0Akb8ygRwLCwMHN5qJN/rMeKIcOtZCWUOru1+vdxAnqWQ6wZPhKH5y/VHbfttxNRxckC2SRGd69eF7Fv/qEhVvfd/Pk32DtrjgUhZd/nB74mkiVsxf5pSReJpJ4V6fSOPQioVNnivrbq26qTe1iVg1UrHGm2LEocIyb8Dr5u/hKYaME4MlYuUVpyXBwW9X4Dd85dQMkqFdBx3AgUKV/WIltcPY9z+//GpWOn0LDXy3DTsZxt//FXLBj6ofkS4lmjczsx5olN23Fy03bxWflGdVHzlU6iXN6+Rb/h/N6D4u/1Xu+BThNGWSVLEOM7t+4gxddfZOWG+ivSNZZ6gUwGWT/5BzQZ1h/5SxaHi4+vqHCjZxHObH+JZ0JUNM7u3ItFb480W1DVWEw4s19Xm1FdXs7eRBNlXBLsb1p2Ef/r4uZqcgW7ugoRdm2yB7FtOWEMqrx0T1heIS2TW3RAQIAfek2fJGIw1Y3fC3trdvO6G0eOYWGP/hYVeVilpN6bA+9rZSNHzr+jfW1/D9MREZ8kEpZyMwFc6gQL4EvSAujosXmo+ksC6ITtelQJ4MG5C/HHR2N1ESL5azrqfSegZzkE65f+NWqcOZtU+ZTWxlfmzUSxpy3JUk4mwGoov78/CslxCULSg7IgL82aImRClPbd801FLdaWHwxD5RZNROm13b8sxr9/bRIC1YUCSTLsq33La+mUFUkgqamgW3nDzF/x3MC+5vuxEkVgRs1hrXVPbXlg/V6T/I599+YNDAmJIjtTj4gq8XV0i/oVDEXfNYusZFKMUVEoWrQgPLz0a/WKeyQmITrFJIuS39dbV6z56F+bhLAxW+jjpTBszXwRR0iywnnQOsjqJkws6b9gpvg3seBnc157EzfPXsCwtfNR7H/lzckdvO/mGXNQoVsXEWvHyjS0omoxpIt6z/xleK5LewuLrK2kJVv7y/hBkr4dP/5qcQSZdEGJmnL1aomsX5LYKi2bWMyDRJPufOp10hXMOfqlGsjeRE1fT1WcqHpwEtyoa2GY3KoL7ly8DCoG8Ht49eBhEZZAGSWR0atpJWs+K8TFlaaQlu/adcGZ9Zsx9vA25C9R1OIqo9GIiASSYvu/YSwfuX7s50iIjBSW8pr9+6DaK9byS1mNSPJ5ceceXNq9XyTE/a9VM5sSRVmNlZPPGYahF0KgtsTnZgK4vE7OXcAdd8oYwJycodx+rSSATtih3EYA6b4VJMIVQm6ErhzGoWXW9H7IbNfZzSfcSs4iYxQaVh40lLWY3qQNoi6pEgVcXVGsSkW8umax3S7PrLY1JuwWZrfsJLKv1Y1xb/033svQ/K5WUwxcMAPFKpY3S9GQRJzevgchtWoKIW579N94D5IGkgLWsKUsSIrBCLi5iVgwWoRYZYNxa3qkjg8dWqnUZdtIcviAsqciBskDY/dIjjx9faxwjLx6A6Ofrm+WFanxWk80H/uRBTZZiR2bpH9ShOWI1ihaz9xEbOq9RgtV/N1oYeWb2+9toelX+lnLUn+Mp9vw7QxUa9cKhco+bnE9EyNWff4drhw8jJIVnsTTbVvibthN7PplCZ7u2QWVO7YV/UN8POCpQ1Tv3rgpXKT5i1sSHpOAOgWoDSIPXohf04JIgXRNxRH2vXHuEibWamYhw9J0WD+0/PAtoX2ouGJ5Vtx8rC2RDBlQkpEULcpL23ci/so11O3TVVSssSB/aWlglRmenxMbt2Hr7F/R6MO3Ua6pKSuc1tm5HXtY1cTmZ2Ua1BXfVy0BnFCrMS7vPYAnnq+BPrO/MZUQdHVBUkwcbt+5C//HLCuSZPWdcsbn/P7/0rmXWE9yTCzcfbwRUDAUPZbMsUu30RlzUMZg/Gewr3V8JmNMWc2GTRJAZyIux3rQCEgC6ATEcxMB1EpKcHmsryqSETJ5nbf1Q/b7B2OExht/jDN+8cTbOB887b/93KHMXC3UzBxmSTWl7ioDq6MTDUKuYvXbH4mHAC1zxas/jdZffpKpXIej27hx3CTs/mG2le6hsDT+OgvFqlYSQ+7++ju0fm8wvDVB7HGRUYh39xIPAAaK84HO/1aSL/RIGYkHebiWFCnuQFsuJ1qMImITYdTZP9Y2Zsk03o/iyaqqa2aSl0bLI4mMioypYwKZnPH7+MnYOuNeks2TzZvg5R+/t4DVHmsnk1SYNc55kAAquGj3h1nNR35fj8drPoNgjVYg+zLOjYREGzcpEpNSUhCfkIwDi1fgyIo1whJWd2h/lHiqnFhz2D//4ska1XRFjRlLyBAGbVUY3pOY8EWJWdus96y1/oi9BUSW++27sZjTsQduHjspYkOrd3wRlL1RYhbV6yVpXfzROLwwfAhKln/CIl5UfD9T0xAea5IKYtMj2ur9IonmWeB3Wnmt4+fTG72I22fOWUBNyyBlYR6ve09AXPmur/j0c2z87EtRKpGWyydqPSP+fevCZQzYtCZLjURHv3P29Of3cu/Mn0WlE3Ur/szTeHXVQnuGcGqfAC8P+HplWJLTkXE+7v2W5mYC+FudxojIQRJIgSqV0WGnrBTj1AOVywaTBNAJG5KbCKCtmCUl69DWcm39kPHBsn/OfGwYO1HEGtXu3QW1e5rij07vPYTKPbpmC0HT27WltYtEh/MkCbzfbVn/N3Fi7V9Wt3Hz9ECnGd/iyWaNxGeeyYkIKWQdGyhiBxOShUWOJMff2wMerq4wpKYK65e/plawiRim6wbbK7F9epm/nIPa5WQLF2EN1CSjEM/U1DSkJCTCJ9A6C5Mk7OTmHVg77mtcOXwvW9DDxwetPh+Lyh3bWNwus3g4diQ5i0pIEmXibGlUqgeMjYiEp4+PbrUQWroCQq2Fx5XruTbT/Uwl45SyciIOzhbOKSk4vn6LKA2oFahWz4uEPCUhQZfMqckaidNfoyfg8MJl+GDrapSsql9eLjEmFj+83BfN3hyIii9Y6zjyxSwyPklYgTl/NengOvndVCcZCawzaibT4kor9tlN28BYzf0//YqEyLtC74/C7ZXat7YK1VC+61cuXMSPbV7G7TPnRQ1tNr4A1XvrDTzXt6f4f2JLjU9KofCecUnGbFXOsff7PK1+S/Hip20Myxiye0OOXjjtnYO2Hw3AtPLzvGmrBuVmAriybs4JYLsdkgBm99w8DNdJAuiEXcotBFC43WzEpKmDzvWWnNkP2aLeA3FmwxYM/m0uytapaY67onvLmA7EpDgQKJRxc5vWrrR03IzJuoyVrW2jdeTIb2vw97xF4un1TK9XRNF7bSzY0RVrsfa9kULmRN38C4Wi37oV5oQQliPjA1krx8GHAR/a6gcC8Q/x9xGVPpT7KW4+VhvhQ9zLw81q6iR4tAzqVRJhZzXpuHLgb+z49gckREThqZZNUaNvD3j6+tpMRmGsGZ2w7jpVM4wpqVg0YjxiL11GwwG94e3vh4PL1+DM3oPoufQXq+orxMKbcWo65d04T54xuqkV0pCVa1yQU2arauZGdzVPlF4CiRY8YsNmCzulP/ch/PxFTKjbGr1nfo0KzRrZjGUUlkCjUbjp9e6nWOsMCQmYWreFqOc95vBWq4xn5dqE6Bj80Lkvmr7ZX8SRaptCALkWU13te+dHr8KIcj1jCFdP/FaQvrjbd8R++RYIFuQtX7GiKPlcdSF/xA3heWTWuonUuaBIkSJgwhezlikoffL3dUL+p86Q/ijxjMklL86zZj4pKSnYvWgFNn8/G4UrPCXIoj0l9ez9mZ3WoBXunD1vTQALF8SQXf8NAcxs7pIA2ruzsl9uREASQCfsSk4JIB84yg9zTqdDAkhXoLZlVZc3sx+yGc3aw9fXG4OWzxXxa+rGYPGoRKOQ3XCkhQZ4w0MnQ5RYRNONaMyeQPPivoOEZAvrobJ5+vniiUb10Wn6ZIvp8QE/p0N3PF6tEmp0bi+sJ1tmzIFvsWIWNY/1xLY5kHADxlmSR0EWMxI41DejC56VWUj+aKnTI5O24vjoNia03L9d85fij1ETRJUPcV7c3RD6RBn0+2MJioYG61oXhTB0WrqQ9dE2Vq6g293HDWbNPcYpsj8TALSNCQZnV6xC9fatRNYoa9YakwxIjo9HckIiQh4vleHyNV2ZlUSNKfEiSSSzuKSlCkkZuqNJaG2RTO2chOSJpgSb3jlkAsyMbv1wfP1WkaDQfernqN6+tVX2q3KtuhqH8jeWlTOk0YpLauSCs/sOYXqbV4QLeNDyOajUvLHuV+DO5asYVakunmxQW5Ql9AvOZ9FPqbTDzG5TSIRl1rItCZ87N29j/LONheafugUULYynWjbDybXrREJGWir1OwNQpNJTaPft5wgsXAhBvr6Y0fVV3PjnqLCY5itWBG0nT0ABlWYhLX+05GrnQ/f8qMr1BEmmeDdDJgo9ZSkU7shvgbrv1q+mYOf3s8wWSeUzbSKL8nfKIZmqIZmiOeKS79Wnzu4cHLkuNxPAVU6wALaVFkBHjsND11cSQCdsWXYJIB/kq97+CDePnhDZoSHlnhA/wuosVEenp6dLRwsD3ZWKeKnemJn9kP01ejwKFyuElsOH6k6HhC3eYBmzk9W8M9NXUwdZZzWO+nNKUcx/5bV7BMnFBa1HvI2a3ToJTEmYWP1DsdpR4NfdFWYtO0OyAUlp6YhLtlwLLTLUlFPEeklc6HpUc17FWqJHtNTyLRyHcXtM9BBuzAzBZr3rtC8GlGqZ3WsQzmzfbV62q4eHSAboMHyQlZuQnRQLpDaxRMwpLgnB/t5WLwy0bsYbjMLdp6b1pkSD7sL6SGJN61HpZ6sJyxbJj56UiC0SqLjEieGxzTuw7buZKFimFC4fPioyf/XiAvXOAudKU5XWRartG3nthiAtJGtKe7ZzO/SaORnuNip9GFkRIylZEN34yChBpGhhU7DkZye37MC0Tn3E3N/6Y7EQv1Ya1xgXEYWZ3Qfg7I494s/dpkxAtfat4Zc/yCS3xLCHuHgku3nAmzWbdaR99F4QkxMTMalFF9AirG2sCcwkFLqotS3kiccxcPMa/Nq5Ny7uPyQqgSgtX/Gi6L9hFbwz9CptJTgJHcWWXXDjxGlxKesq91m5wJGvqs2+nPOvXfsi/PRZ8T3mOWN1kx6L5wh9SnVjDHE+Hy+LJB3+1sUkmkIzHkTLzQRwdb3GiMxBDGD+KpXRZrt0AT+Ic/Rf3UMSQCcgnx0CSFcl69WyaLu6FXi8lBBZZqJFdhsFgulWs/VWHHXlmoizCS37OIJKFBe3yeyHjJU0jsz5FW0+ftuilBmv4wP4bmKykLRwpDG7ktZKPYKQ3Rq9W7/6DtsnTzVPo9PEUajDjEpVrVdR4SA+WWR3BvtaW+P4OV18eknTil1Ga+vUc5WpsdDG8JFQcn+YcEDcHMkkDjt5BmOfsbQ08QE8fOMKeJDNapqe9Yh/Y2Y4EwlIxPWsjwpxVGcepxqMiDx4AMUrPiUqezCbN7hYYfjTzWhnoyWOYs9qAWlmQ++cuxCL3hwh3JTjTuyxkiWxNbwt6znJGpNeWFItPiIKSz74BIeWrrIYhhIjH+5bDx8Pa7kYdrx17iIWvfUxild6SiSldJ08zioukQRv2kt9cGHfIRQoWRxtxgwXMYZ8oft71Z9Y/9VUMFRCaczA/vToTitxaKPBiPN7D6B8vXvJGso1PD/M5vdwcxGEnBns84d+iON/bRIZvI0G9RXSQtRXZIxjZs3Tzw8N3h2CXVNnWWUMc19YFu/5DFmi/L5eIq5U25hJPa52C8SG3xEfkTgO2+c8uRDu6fXDR0SGMglr2cb1daWLbGWlZxXuYudRtatbbiaAawUBPGrXOvQ65a9SCa0lAcw2fg/DhZIAOmGXskMAL+zcg6WvDUVybEZ2bcY8qIXW+svPRPB2Tpso56ZiMny7XvzaEIQdOS5cniRGRapUQudZ3wq3mBIXpDxU1fenFl7h/IEI0LiA7SVrlDgRGZSq+qUhAd7w1HEDZ+WuVuZ1duNWbJo4WWQos8B98Weq4ujyNcLywfitT45sR35NqTJeS7kPGo7oPtI24kVZjsyspdprGCPIJBA9MkssaXFkxqatpmfJsOX248N3TLWGQtJFaeVbNkPPOVMRpLGGZHZ+6P6lXEt+G2XIlGs5DyU7O4iJLiyLlUVZtEzvG59gjiFV92Pc34qRE4T8S7fvP8dzXTvA09vb5lBafNREUEjmREWLusTpLkDgE0/g9rkLWP3WR0iKiRExcYyRe2nmFGFV0iPg1Gmk3uP8wSaty/r9eqHr5M9057Pxu1lY9sEnVp8FP1ZCWA4Nqr1itnDvmZOtrKVcPwkc3dLq5Bf+nW5nZibzRePm8ZP45eU+wjrWacJI1Oz2kjksgzqJx9Zvwc99h1kJQqsnV6FtK5EAlZ5q/dJWqcOLaP/dl6K7XklChgic3rYbU9p0Mw8ZXKqkqD/8oJutpCR7f5OcMV9JAJ2Bohzjv0JAEkAnIJ8dArhv9lysGz1B9+61Br6Kph8Pd8LMLIf4c8SnODR/iUV8DS2Nz/Z+BS+M+TBTAsiRaLkK9vMWGmlsClnKLP6P2b4kJrRG0mokrlF073R0ttTu0swAOL91B34bMhyJqvgnr8BAIRuTdDcaQUUK44Mda3Xr79LFTALkJ2KHLOOtaNGkyr+aqOrNg4Tj1onTwqVYte5z8NRJ7hDkLyUNkQlJuhZF9biMY6LcBC2TbLZcp3RljqxYR8RfKa32kAFo/MGbon4wCTUtelnFlVKqhWEBrJahZznUrpn7kppssKq+4eghZUasXkk8jiPIbfVGQrCaiRpMOKLrPvFulHhBYWwgE0NsVVURLtckIxKNpjhGbROWz7BbcPPyNCVHZCdIU+0AACAASURBVDS+KJEEKjWw6V6NuHQVX7d4WdSR5pmq3KoZ+sz6Fl5+PhbDch9WjJqIjVNmWt2P8jSs1MGXJ+E+DsonEqmoe6i3v39Nmoobx0+jzaj3hAQL13n74mUEVDBlFzPRZefUWVj36Zfixeb9rautLImUJ5rRbQDOqsIE1BOjLEyLcaOw6dMvEHMr3GLO7t5eaPHZSDz5QmPhIQguWRwFSxQ1SzUlx8bj8t//YEbXfuYXEGaM02LY8N3B8PU0vSAkG1mP3DGPgKPniP1z+gKZnXtqr8nNBPCP+jm3ALbcJl3AzjgnuXUMSQCdsDPZIYBU71/Ua4CoBqFunv5+aD/lC/Ej7Ow2pWYT3L16zWrYoMdKYNiejVkSQOVCEQuXoYmV2RzZjW4abfwZkyLCY0wJFPdEq12EO5lWKZIvilD/MeITRFy4JLIbq3XtJCoLKA/OWc07IuzocavbBxYtIh6ehvgEfLhttZXgLy+g1Axdm3yAaOdmj/vo9tnzWNJ3sLDC8ME+dOUveLxGNau5ZOZO1sPNVhKA0pdk49CK3/FTnyEWl5esUR29V8w340mLIsmCXhUDdiLOd+ISBUlSyA/3NLOkDVsWSVv7z3swzMFNleEbdT0MkVeuo0ytZ3QvS05IwKzuA3BsncmNWb5FU3T96XtMf6E94m6G4/meL8M/f7DZ5akdhHPkvjoaj0p3vLenG1xSU3Fk5e84vOovoVGoLqtGfbyx/2xDaGlLcWSu6dPnmiEhIzFHmRNj/F76Ygwer1FdxPkdW7cZTzasgyJPPqFrQaUrmaX4GFdHC2tI6ZKIj7oLNy9vtB//MSo1ritq+9K6fevMeRxYuhodPvtIN/Hn5K79mNGpN5IU7c6MSZGMFq1SCX3XLMbKgW/j+LqNFhV3Qso+Lj5nFQ5DfCI8fL1FLeGXpk+Gp7eXOOtr3h+Ns5u3I9WQLMJUyjaqj3ZffoICKs1Hk/yQ6Yw5lhrm2C+enpQUYwCjNNn5jo3qWO/cTAD/rN8YUTlwAQdXqYQWkgA6diAest6SADphw7JDAPmw+rndK7jxzxEIoV42V1cUKl8Or/+1PEduNltL+rZGQ0RfD7P6mAXb39y/2W4CaC9kzIplRRIrK1uGhp6tuEHqms1u1RkxN+7Nldafyi+1Rcvxo8XtWaKNJFHbGDD+5sGtiLxwCaGFQ1GwSEFNkLgp85QPCj74GS9pmp9JVy4yITlTwWwK1E6t18Li3v9rUh+vzZ1qqqSgarQy0ppob7Nl0eD1PC9MSviqSQdcOWwZ18OXhZd/uhf7yP4kgBSo1hJckWWdSLHmexaarPT9lPnbsryp10fSdGLzDhhc3PBY9SpICgsT8Wl3Ll3BkvdGi9JvTPLQJoxwDLowWV7t4LLVIiGK5ehoYbr+9z/4sU1Xs2j3N+Gn4O3nZwUr10ZXu1qaJ/zUGfy9YKn4PlXr1lnElKkbMRJubSblpKaKmsgHlqwSuomXDv2DfQtXwJhk2kPWKu43f4ZI4BAVVby9QYmX6Fu3sXrM58L9Kr7GHu74eO86FC5bxvw95rlhcoYeyea5O717H6a27Y6UpHtJKiSdpWtUw4CFsxAQYhlnGX7+EoKKFhI6iurGl4Qd85YgCW7YPW2W+L7zb/4FCuDJFk1EjB/jEAuGhmLph6NxdOXvwhVcokZ14Q7fO2OOhTQSSV7Vl9uj1cR7JSFJLKOv3RCxf0wY0cvoZxZ1fLIRF4+fERjQTZxVVri93xN1P4aWMPFNCXehhmhW1vvs3MfWNZIAOhNNOdaDRkASQCcgnh0CyNuy7NHG8V/h/JYd4gH/WK1n8cLoD8Wb/v1o817uI97uta1MgzrovuBHpxNAVlPQCiIrZIZWAsY16f1Y/zVyHPb/dK92qTLfgCKFMHDzWvHQsWUBzP94KQzecU/gmdYwEZ8HF0HsSH607kGSJeKfWaUUZQ7nt+/C0teHwhAXbwFj8+FD0XRYf3hnCC67uXvgZlSsRQxmVntKORStJp72GpK/VZ98iQpN6+PmmfP494+N6Dj9GxSvVsVqeJJbWgGV7GViTu2/uywNqHKR2kMAiQ9jqxjJSUJnq9GKF37uIgo8VkJkcLrQ7Xo7AgeWrUb5hnUQVLiQqFvLzFstIWB8GS1pFKh2Cc5vkcm54/NvsGXKdHHbF0e9h5bDh+jKpYRFmxIu6ErfNW0Wdk770SyTQp27mv16o87gfqKPr4e7iTxoSr2RvJAQphhTRH3eyKvXceT3DQJ3fmeZPdxj2hcW5Ivk/JeB7+LA4pWo+UondP1mnG6sox5usUkGRMclYnHfwbi4ax9SDMlwdXEV1TBI/qq2aW51GTElsdMKWtON/nXLLnjpp6lgQple0yMtJJ5TajWxKo3I6xkvOWy/fpKHkEny84K7zpkIO30OXzXrJKZAmZnO0ycjX8kS99UqmNV3zNmf52YC+JcTLIDNpQXQ2UcmV40nCaATtiO7BNAJt3ZoiFunzmJBt75CNJZVPWhh4Ft/z2W/ILhE8WwTQOqQUVCZ7lf1Q90URG5dS1OZtKKPp3UT0fpHy6i2sUpB94U/okilCji/bSdYzSNZFWDPDNKG779pfsA7BI6dnY+v/hO/DXpHN8j+2d5d0WbiWBHvV7BwYSG0q5dQY+tWJH+2snLNmBmNgoQwji4l2YDkpCTEu7hbk1pXl4w6wYCnqxvc3V3NUil0TYsKEsmmOEJ7CKBJsy8R3umpQGKicP9RHkXt4uVYJEK0jllrHZpIlbrR4kYpGVqkeI26paSkCmuswZiChT364caR42Z5H/b97PguQX7U540Elwk+QlInNQ2Jd+8iPipauMyv/ntMDM8zT8sVRYxf+3kK/DQ1d23tDcnW1SMn8GXjdph4/m+rZChex3sd+WO9qE9MUW17miIovmfuImz54hskRERaXPbuhuUi01fbaC1d/M4otBrxltgHnn3W8GV28MmtO9Dph8lCC5CN9m0fT9OLAK3ufAFSJ3xRyHpup56IvHhZd8qKVV3PgsexA11S4Zcv0OpaYj6+dktBhisKmSBv+ATnE3OISboXw8oLvT3cRFIWNUxZcI/W81iNDJE9eD7oPrmZAK6v3wRRR7KfBRxcuRKabdv4oCGV93uACEgC6ASwczsBpCVhzXsjcWHHHhFDRDkPCrgy4+/ZXq8Ii4yjP2TigRcRKaxhkZeuCELk5e+LluPH4HGVlEWQrye83d1tSo3QZcOEBHVb8+7HoryWtnHO1CnzzR8sspi/q9XUSgQ3qGRxDNr+pxWhcMI2iyFInmcyJu3WbYshvQID0HnWFJSuUytbWCqD0WrK5BTx4NYkqPBverF42qxpk+XPTbh/bSWDqKVp/DwzBKxVljBa8hLvxggZFca5uRYsDJ8Qy9JsrObikmI0J4bERUQKd5/WFW4Le86N1TnoFtaSQ14TG5eII+s34+7Z8yLurUDJYqjewZQd7x9SQDfBR5F/Ud+TFjxK55Bsqtvb65aiXJ2adh8NunuXj5yA7t+Ot+HKTRNJQVq3bGbr50vQlau38EPD1kIRoMV7Q1GldVNQdHrX3IVwcXdHx08/snKZK2LM/G4/Vq2KqG986dC/wmpIS2ePxT8LcWaS4WCGAmRUA6Hll0lQ3oH5EXbzpjgf1N27sH2XTRwYB/ja70tsfp545jRKP1PVYg+T4uKw7MPPhJ5j4yGvWxBiWlhjk43iJcRWDKpicb6dSfa83Rt3Hzs6+rvp4eGB0NDQ+zije0NLAvhAYH6obyIJoBO2L7cTwD8+GovDi35DqkoEl4Sl9edjUaFNSzPZyEwGRoGJ+lxbvvgWsbfCxT/MuFU3Zj72XbtYuI3ukRpP4YbVa3R/8U1f3Zio8lPbVxCnylJk5mb55k3Rcdok0ZXlq/4aNd6qYgATQNp99yWeatHUCTurP8SmCV/j0K+LzWunBE2JZ6qh24LZppJbqlJbjlgAeTeTFdBanzCzxSjJJnRzM+6SBDIrYWSOx4QJxQpI64uPKwShpnTJbyPG48TGrebb+oWGoM6QfuYascoH7ilGJFy7hjvnL+HUtl3o+NlHNrN89daQWXJJcmKSOLMklLQWCmwzrIh84VD+Wz2u3ni0lC55fwy2z7IMK3iqUV0Rj+jtQMgFXbWBJL52kvOsDiGtlpePncJX9Vrj/S0rUazS/8wl8GhNPfL7RoSUKoEiT5UzE23q7/02cjz2/LpUd3i1MLOeVh6tjq5evgi7EyGsg3u/+R5xdyJxeOXviI80VZlRGq1/XefNROH/2a70wTrh9bt1FG5/YhkfFYUTG7fjlwHvCM3D0Mcfs5qnkmxlqyQkL8iuxmhWmDvzc0e/6w+aAN7NgQUwSFoAnXlUcuVYkgA6YVtyMwHkg5PZv+qECmXJhSv+D/3W/Sb+154fslN/bcLa4SOt3FRaCGv07Ynmn3xk/jNdT5TZsK5GYaqnqxcHyKoef3wwBrG3bgvrxpPNGqPpqOFmy97GcV9h97TZurvX/JMRokbu/WyX9x0E53DrxCkxJyYrFK9eRZTa8vH3R6HgQBgNSSIbktYOewPTbcVNZkUAaU0h+SPxsyfYXkiiJJEAWlpfaeHcNul7HF60DGmMgVM1ksDX/1xuVZFB3cdWKUJH94LnlgTAVpUOR8dbN/kHrPh4vNVlHcd9jAaD+opayXTdiyJvmphA5SKSNUrn+Ht66Mr+KLGDjs6NlUAWvzsKPaZ+YVX/2JCYhPHPt0DZujVF7OHdG2FYN2kqrh87Zb5NmZrPoNVHbyEgNARX/j2GEk0awt3HV8g2Ma5U+70TF7q6ISY+wSSFJKrRmGI1l30wFgeXrTGN7eqKYlUqot5bg4QYs60Wff0Gvq/bXGQ4BxcrKvQX74bdFN3Hn9qrq8WpaPUVslG7XLkXK9Kwek9ubfb8bqrn/iAJ4Ib6TZBTAthUuoBz69FzyrwkAXQCjLmZADJe7LvazSysacqS1QkTyg/ZjRs3RCYiLW5qIsEHBLNfmV2bVSvXtCG6zPnBohtr4NItqbj6+HA3pKaKRBBHGgkOrWThZ85iRrvuSLgTYXE53V+9ls9DaNkyjgzrcN+I8xcxp2MPofGmNGZ5VmnfCq/99J3IwlWaPaX4lL4iMYEWQB0Lk61JRt64JWQ6/PMH2b0OZrtevRGO4FLW1pl9P/6CdWMmWpQJ8w0OQoVmDVHhxeZ4rGF9m4H8tCSyfqwu6bBzdsJqmp6ua+HTDmGPPA0lVn7o/CrO7z2oO4MG7wxGs/eHCcLp6+aCtKREITejbQppcUlPQwFfT1E/WfmOZKW7mNnS6Vpm4kyp6taJPBx3yXtjsHXmXKGFaEy4V1WEY9bq0RkdPxsB/4wsYSWZifGanJveixevY4wlw0G0NZejbtzEJ880RmJ0jHnKTLriSx0riNhq3zzXCDHXblh9/P62NcI9rG1KhnxmLwxcCzOJtfGCdh6jB9JNEsAHArO8yX1CQBJAJwD7XxNAb3c3BAgpBJNSBmPqFNcelze1fktEnLtgtdJyLzRGlwz5EP6QXd26EytHfAIjy3W5u6NyxzZoMHyYeJAYEhIwtW5zxN60FI/VDkox2eafjkC1Vzpb3Y8E0M/TVLidP+yO1utkxiazekmOuM6Y8Nv4vmMvXPvHFODv4ecrdMk6TZ/shF3NfIgVQ4fj6PLVFp3oknx/+xqUerqy1cX26AvyIlqg6LZTE0j1YKxQQQBJsIRo9uWrOLl5B+r17Z7phJlhy8QfHpK4OxFY/ekk3Dh/CT0Xz7G6TlhXf/jRLLtS77UeaPnBUGFhEs3VNaO29L06sgze90Yq4q6H4c6ly6jQpP59i8NUJiy0BpmVrEkuUS+IsYzndx/AlLa28SnXrBGajf5AlBGkxmPlNs3xvyYNUbBkUfgF5RMWaFpyaf2LuHpNxMyR3jPru3bPl+HuqR/eYO8hvBt2S8jPlKxSweoSkqAtP/wsJHS0jfGWnxzZIVzE6iaIU4bWpZ4L2MAaxpu2o0or6zCJFINBZDPvX7TCYkxm4L+x5XebCgU/tu4syrdpG2tFv7HsZwsZG1GOMS5JJKNQvNxUttJSkF0Zx96qQPZi7ex+uZkAbnSCBbCJtAA6+8jkqvEkAXTCdvyXBFBPDJUPRhIsuh7ZWDJt1TsfIeHOvQzDwCKFhaWM5arYLmzfjRWD3xWJHUpj3dAar3ZHow/eEjFYU2o2RswNk2tHr/FBGVquLPquXQJ3r+zXMtYbm+vM72uq1qBusVF3Mbl1N+G2e6bXK4K02uMCzem2/9SmC64d+sdimEHLfkaFFxrpJjQ4IgotXOYM3NcpuUYCyFrGHu5uOL1xK+a/OhhtR72HJkNN0iZ6jYSAAsN/fvGdIDMUWubztmq7VmgxfrRZN4+Z3PO7vY7bZ86ZM25Z33Y4K04UsgxcF+uJMQn98gUkn6+nmYjZoxeonWd2LGi8hm5ZPQJIKZkbx09hx8/zsXvuYnF+tY2u+3L1asEvpADO7txroZEZWKwIei+fZ66VrVw7u2Un3MjIKK76YnP0nfO9rqahveeLxPzcrn04s2MvWo94W/fsMrnmh5dfw/k9ByyGDSlVEu9tWmFVDYSdaF2/E5sk3MDMxOdLE787RoMB/6z+C7fPX0LL94daTZPz+WXAu9i3cLnFZ57+/ug69wc8VvNZ3aWd2bAFvw1+10Ieyd3bG0937YjW40eJaiKcC62o/F1SZIj4dS7gxxce/dCFB1nWzd49U/fLzQRwU4OmOXYBN966ITuwyGseEgQkAXTCRv2XBNCWdpz2hzP+2jW4JSaIMltn9v+Nsi2bC20upekRGn7GZI6hezcKd9yfIz7B4UXLLcRq3X18kK9oYUH4nmzeRJSFomizsxstBXqVLeLvRmNGt/5CE69o5Yp4cdI4+GgEmbOaS2JEBP6ZtwjXDh/B9ROnUbRqJbz45WdiHNJNT3c3QTTUcXxMhNn5/UxzPdXHn6uON5b+bK7Lqr2nSYMvDckpKSL7MasKCbakWdTEa0GPfji3ebsQKH77ryX3LHQ6C6ZY8eQWnXHz9Dm0/GCYsBjSbcgsU1pTKVi98u0R+HfpinvC5NTcG/kOWgwfai3hohLztkdGRpkSLUyubu5wVbnIeSavHjuBIuXKwjfIWk4ks/3TI46Mxbtx8jS+bNTeKvOXIs60SgUWLohW7w8Tos4kxUx+WP3JlxaJFWWbNkRXVShDWnwcXGOi4RPgjxSDERf2/y2yku2xAAqyygxcVkdxpSQPxNzO7diLH18dIqylow9u0iVzXP+1oyfxWU2TrIvSfPIFYtTBTSLTVttYjo0vCkoT4RcuLlgyZDj+XvSbyLx+b9NvCCxoSez5fRpZobYQ5VY3kmRWm7GlLbjvx3nYPPFr4T1QGsMxhu7dJGR+smq2XMGSAGaFnO3PNzuBADaSBDD7G/AQXCkJoBM26b8kgHouHi5JTRRE/J2nKUGAjQ8i1kulBIvSGN/HuDZto/TKoB1/CVJHiYnfPxgjNPhSU1LFg4+xQbX69ba67vLeA9j/86/C7fhMr65meZTswm0rW5DuzClte+DKP0eFa5TSF/3Wr7DbCujv4Yb0ONan9UdyfKIIsv+uXU/4hOTHW1vXmOqgChpoqn1MokTrRVJ0DGa17ISoS1fEZx3HjUDTNwfoLk9NUtQxWjrlasX11AL0ynhgawdUPxC5F4fmLRJdXhz5Lur06Yp8hQrqzsGQmIiZ3foLojNo+Rz4q2rh8gKS25EVnsfdq9ctrm//2Ud44a2BVmOSZPH8sOqGrTgz7UW0wrGqBl2Xbh6eIvEgPjISR/7YKDTtxhzeAloctc2eOD8tESRBi7h8BTt/WYI6vV6Gl78fvAMCzDWp+cLCeagbS6990aidkJxhy1/qMQzetU78t5BT8fGwEDxOpAZlOsTZUTdb81WHAZAA/kHB8x/vZSaXrFoJ721eCQ8d6zndxMyqjb19B1f/vVcCcdjvi1C+/vMW591WPe1Le/Zj/iuvidg/tubDh6DhgD4ICC1gkhfK+G2IuXkLxzduw5J3R5uroBSvXhWvrjadNW2j5Xhq3RaIyUj8UD5nzGLzz/TDQbRjmKSILPUj+TvFUBZ1OIvuBP7DP+ZmC6AkgP/hwXhIbi0JoBM26r8kgLYsY/xBZ6A1fzyFDpgmTkqtA0cI5r/SF+e3WWuB0UU8eNd6iwcMf/ATIu8ioFCoiBXUtj8//gxHV6wxy6R4BwaifMumaDNpXLbRpgWDRFarF8cSYyMr1TULM5v0+L5DaTv03Rh7FOjhavXAPbfnAFaMnog31yy0+kx5iDMe0csVIlj++tGTCDtzAQ1e7241P1tkICHZKCpyaBsfgrZkXLhnlG5RYiepv8hygkoiCl2Cnb8cgwpNG8LNw3JfaNn5pvUraP3RW6jSsonVfUlqv2vXA6c2bbP4jPIjb/+52Mq6GHsnEnEeXqIvLYB6blj12inbYjQYRbKKutHlGHn1hqi9y/9uOrS/VRauPQRQ72AJsm00wt3TvnAE9k+KjcOKUROxfdYvCC33BAZuWSuGtvkCEhEpNPsCCobouv7V81KT97ObtomQC2293o/3rUfxik9Z709KqhBbpzRM9M1wzOo1CKFPlEG7SZ+iQMEQMERCecGjRZcvK7cj7+LSoSPCxc0SeD+37QrWIFc3Eu6a3V9CozdehV/wvSQi6j9e3H8YM3oMQIEypfHSjG+F/iaJaz4fU/k8tuSUVBzfsQ/ze/RDsqb2MD+nLiY1Ce1pPPsUrBaFGdOBpJRUcd5zc8vNBHBLg6aIzoEMTL7KldBQWgBz8/HL8dwkAcwxhMB/SQAzlXrIsATaCpKPTkgWweJsjPua37Uv+PavNLpAm47+AFU7t7cbJUFK2nZFvCo7lz+Sbca8j4aU2/D0BMVvaT2yp/Sa+sYksl5uzCR2MdVtvXUbc/q9hVNbdlrM74WxH+K513plOWdbD3WW06J7r1o7k0aiuolC97R+agLX+XDnk4vJEOqWlTWIDzsmfNDakZqebrMqB8eh9dGQci/xgvc5s34z/l24FK2GDxHuQ2re+QbnE4RNnXHN6gvhEVEo4O+DAI3FiuOQXC754DOc2bwNDfr3AvUUd/28UGTOdhz/MZ7v8bJwl7KRJN2+dAUBZcog0ZAiXjC0gfx6On2ZETljUrJwOwYWCrXbepvlBmezA+VQpnbugydeaAakpyLsyAn0+n4CAjVWUw5PuZNpnfvizbULRUWOzNqtcxeE6HOxpytjbsceoJVc2+r0eQVdvv7UgrTq4ZYUFw+GX4jErwwZJ23mOK2G42q3AONG8xUtioKlS6BKi8Yg1ltnzEXYyTPi9hRqpgVbaxGNvROBtZN+QK0h/c1hHVqPg7DixsVjdIXaFvHDyroqtn8RHb7/0qGdYAysKcEn97fcTAC3Nsw5AWywRcYA5v5TmP0ZSgKYfezMV/6XBJCTIAnkWzmtANoECBIWoW2mybJTNM1IDNj4eeqdSCwY9A6o60VLWn3qfzVp4BBCe2fOwfqxEy2u6T1rsiiP5aUqu6WUFrPlBrV1UxZ/pzubZe1+7NoXkZevWXT1Dson4rYohptVo+uS8X3aRgsLZTnK1nlOdwi9BzLxjE8ymiwYGVm6rLjAB7RukkJqKhINqaDrK8PDLALk2VcvA9hWLBQflsGebhaWteT4jHq4nh7ioc6scEVKw2RJ9bJKpuH4kRFRQgZFcQ+T6NEqJ/aNmddprAPsJqytjFkTZDgtHZFxicjn6yXOIWWHhFSPnSXW1AA7Iu6c1d7m9PPTu/bjp75DEXM9TKx30PK5qNS8kdWwifEJ2L1kFWq/1CbT8m8kU3P7v4Nzuw+gUsc2uHboMMKO3HPlKgPTEtdh3IgsrZbaM6h3Jkn05g0ajv2LfkOPH75EldYvmOVtYm7fwcZvZ2D95OkYsPhHVG1tGV/I+dCNPrvXINy+eh2vrlksSrVxn7VEky8Ps3sPxuHlGfqBGYuhLBK9BH4FCqDBu0NRtoltLcGc7td/db0kgP8V8vK+zkBAEkAnoPhfE0AugQ92xo7pZcDyQa390eYD/3asKYtTIYD2VALJCq5/l6zA2uGjhOuNjYkGI3b/hWBVwgn/zgcW3dPaKiBZja98TgsgS7KFnzprlithMH+RyhVFrFJWmcCMZ0y6dhWlK5aHm8aNTUvNjl+WoMOY4Vm69dTzZeY1LZt0j7HcU9itcLAsG6Vr1PNh/BxJmS8JmiqrObOsVkU3TYsP95ykM7OmjQlj2ADnqJSK4/mgq41u7ezo9yUkG3A30WjONPVxdxOVX6xeOtKs6wFbEEC+rOjIgbC8G0uLZWVh02KQXdcxxzmzcx++fqGTGJKxbENX/4qytZ+z1MZMS0OcwYi0NGTIMFlLmSTGxIoEpZWjJ+L0VlOIBZMjqnRuh/2z55m/J8rcRx/aLJJ6nNWib4Xj3zXrUK19K6u4T1ovv2zaCV2mfoEK9WpZ/UYwcWhSs46IuR2Bl3+ehsoNnjeXKdTOL+xGOGZ26InoGzdEWER6imXWNet4t5wwGhVebOGspeWKcXIzAdzWsFmOXcD1t6zPFTjLSdwfBCQBdAKuuYEA2nIF8+GeYDCa6vHSipNBvqISki2yWh39IbMFmyE+HlPrt0JsRkB4mVrPgvIoevVhbZEae7eE8VPrRo3Dlf2HhIWqTL3aoloIq3Jk1jjHOe27I/bmTQxd+SsKP/mEsFiRmDGpZMf831CxS0cUCgkSFkJ7RJkFiUowIMGYYlFVhcFMdJGScInYJkDE8PH/6TbVNpI1xj+RGJr0Dk1WNiX5RNs/NMAbHjpyMdp+Wqx5bx9PN+FqY1ayh7urzReIrPbjzuWr+HXYCJRp0gDVunUWJJLz0pJJui35YqCONctqbH7OfWHsm1cW+yr6MtEkMQkUV2b2qa17ccz4/7N3FdBRXG30xl2AJBDcoTjF3d3d3d0Lxd2LfJl3ygAAIABJREFUU9y1uAfX4hR3JwRCAsRd/3PfZjcrs9lNsqXp3/3O6WmbvHnz5s1s5u73fffe7/7Cv1rdu5cl0w3dB+PuAVn/X4+Ny1C6dVNJWR7Ow3skJdlDbb8ljdoLCR71oK0evbl9X7xCTHiE+DV79cZeOAw3Ces0ffZJ2xj285lbaGoVxsXE4vHVW3AtXkxDe5L7/fLyDSxvLtNPpMVjxa7t0GT8CI2+WJEFDo1AWEgYVtVsggDPj5JLccmXGwMvntD4HbPYNgk9qySnJbc1JDV7k9pjk/t380c6gVw2AACsagSAqX1E0vTxRgBogNuTFgAgL0NKVFU50ydv3JayJUvuH7Kkto29TYeGjxNN4WQYjj69X0NHTvQO/UMq/6emzhHsS5b2SGIp3boJSjSph/DQCORp3ECUNuXhYGYCBwdNWRv17JJyiVZ9L4UGm9BPNhEyIF9fvYW7izNc1QR8eU5BzgmOgDXLumZmYBmZfZpKS1LZ+vS2VqIkritoN+av6uymcojwILbTLO/pmlesOToG1Kojw/f+mUso1KYl3BIAoDyjR6D0/s4DZMieBfYuGUQp2ZBB0Ob76o3QOiSphKCrWMM66LRingZgoezMn5t24uzydfipVlW0mjMJto4OYjkExB8fPcXcyg0Vz8fMJ1eRPmuit7XyuqWyjPxZoLePmD9T/jygVRtZ2GeWrcOdvYeFpFKpLu3w5vI10SsrHDkcHJClRDFU7dwKZdo009gaZW1FluXVs9Y8J/s/LdRINvKJJEvEUVEIjooTZAvxjAYFwDQuVjD3H3qcxYEJs1QylMyETrp1Ghnz5lasj/OSCU5hZzLST06ZjdhIaeIGfYVH/KVKMqJ9ob1VonMMn3/+XVC3KDTks2LIuZL7d9MIAA25+8a5UrsDRgCY2h0kgeLrV0QnlDwNMF2qpmDJUWSWTCB6ygLColQAjbbJk/uHTNciWWKlMwBfEEWrlBMafsovfRJBCHSUwZauOQ31e23OKA4Z3QTjmQQIeZz4ZTLaTB+roc9Gj1ZTsksl9lm+l/5ffYW0hbyqSQLHi/uPsb1dTzQYOQA1BvbUaLxPju4ZMycE/YRS6g386nv14d5DRDmmg50EkUE+Njl6ftqABXvdImCGDOmdNPoMpYCL+jpTU7bd1Gc4bu5MFDAmYJn17DocXTMobOXY17h//Exc2bhDnJqC6OOun4JTBlq/xePt3UdYUqelQiqF8jFT712U1NrT9jzGRMfglsd55C9WEGRmy4NZyUtrtwgXFuogxkbJ2iSUg/qEo8/sF/65zNoJuR1vH1xatxW5y5YSpJMXl6+hzdzJcMzoJloUKHrt5/kR+yfORruFM5AhmyZYldrXsKBgBMQpWRZGR2N17ab4/lpTDkq+Rq6PnsV5KpYFheLJAmb7AL8y7es/Ak+Pemj9mKbPmV18vuRB0CmVKZZ/CSIpKq1Hcv9u/mgAGJQKFrBjsaIwZgDT+hOYuvUZAWDq9k8cnZYAYEovJ7l/yJI6T2RIiAAkLMUGeH3Cjk69UXdIHxSuU11kLkL9A2Hm7o54M92Zq5ReT1LHrarRWLCe5UFCA0vAZtbWGHLtjIqLydJytVCoekU0nTxGlBNjY2OElt7uX6ai5ZplkqcRe+nmitjwYJUyKF/Cr2/+hd9qtRAl8V8uHBY2XnKZEr74aDcWqcb01XYtUoCNgIFlVgurRLkVZuc29xkBu2xZUW/aeK1bI7TubK2A+DiYsB9PMK5VWc3MRLF0SFRLECMFPCPCImBtmwii5SfUB9zRpkxdKkZ2vInYe6lSK39LDb/fW/dQ8fsdc+4QcpUtqXIN4YHB2NJvBO4fPQUKKf965Thcc+dQ9PZRLufM0jU4OX+5Yp+S25cX4uePOBu7BPCv2hdIhvmUktU1BKqVbwq9d2v07478VSqITOaZJWsE8FOOdFkzo+6IASLD+Oz8ZVxat03M2XD8CCH1o962EB4cjOjwSFHyFj2VQcGIsLJBvLlqaTjk6zccHTUBPs9eiLJ7hH+gQmJJ+fy0z2u/6XeVNV1ZugqXFq1QERKXD6BNY61xI4WzkDxIgGLfqXrfJ5+ToIgo0ZqQ1iO5fzd/JAD8s2ZdpBYAVj5v7AFM689gatZnBICp2b2EY40AULYR316/xcHBYxDs+1X8UU+fOwcig0Pw5dFTlV0m4KoyfACqDh9ogN1P/hRXlq3G5cW/i568TivmokC1SgIkMKsX75wOsUrAlAAw0OuTAIh8IYveqCs34OieUbgcSIV4KaRzBOI0X2BsrJ9euqYAkcwuVe/fHUXq1hDabllqVEO8qX6lUcHmlWBkcj0sBVJEI+S7v9j/ozN/w18HjiFTkULoe+qAzg17ecwDjw8cRebCBVGlR0dYO9rD2t5eAAH/z964unWPAIj1Rg+SJGYQhKoDx6ROSrYpBY7ZS3h+1SZ0XbUQ1na2CmBAYGxmaYvwsBCYREXC0sZaBXjyfF4Pn2J2pUSCQYUubdFl5QIVxxH5GgiI51RpjIpd26L+6MEa5VS/j58ESGMvIePXqx7Cp1cOVAhQGNwPhjoI9nz4BBkLFZTs8SSAPrd8PQ5NnadBANF5Y3QNMDFBlWH90G76rypMcq7X9+17LGvRFbnL/CxIKHVGD0O0lUyMW1vQF3lL664IU5J0kl2wKSoN7INav45QOTTcPwBr6rZA0Gdv1c+7pSVqTxyDcr26qPxcsIq1AcDwKIVEla7L/id/bwSA/+TuG8+d2h0wAsDU7qAxAyh2kFm/1TWbCgkZ5WAWKV7Ch9W1QD4MOK8qG2GAW6HXFCxPL/q5GjotnolijeuoZMtYFguBudAqZBwYPAaPDx9nc5hibvZwFWvTHM0WzZYBgfh4Ue6mk0qmwj8hU+GCcHe2F5k09SAoW1C7hcJtQv57p6y03Dunk70sH29vxeyJqqiy8rkINO7sO4qNPYcoflywfm203bBC5x49PXYSh4f/KoSHGSM8/hD2aQReDJI5np69hJylS2j0xumT5VNeAEH34anzcG7FesWPqQXYbNqvKFC9IjzvPRaZunwVS4uSqHx+ZeDy9d0HzK3aBGH+AWIOkj+m3L2ADNmyaL1WZuIIBLMWLaR5j775YWmzTvh4/zHyViqHAbvXKzQQ1QfL10EgwBIv590ycAyGe+yBjZZ+PKFh+fUbQr754eLqzQKckzmrLZgtZq8ie0hd8+QUGo+39xzC25t3VQ7JUaEsuu7ZLDQqmclliwDhHS0IA8IjRX8jg+BcX8b/phadZOLRSs+/g3tG9PHYD3tXF40lEzTy2SHBysTEFJmLF0GzJXNh5aDqliLWYQJBPpESqadCQXIloqTuzZPDJ3B78w4hYfRz57Yo3rqZoh1A5wdBjwFpGQBerVkv1RnASudlTjjG+P/cASMANMB9NWYAgVsbt+P09HmIU++FlFNf1fZZ2WXBALcgWVPwpb2mZhOMOLZTQ55GAJyoGPiFyXxUCWy3te0OClzT/o3i2Oly5kDXPZtEDxRLadva94D/h4/C+cQ2Qzpk/KmgIL6YxskYwcpBMsZEiuYqZVUsbG1RrndX1Pl1hGiIZyk2Kkbm4qLtJcgx6e3ItNWUHpGfj+zP6aVrCU1DO5f06Lx7k7DKY3BZ9pYWwnIuhpZbEVHi3wyWkH+v3kjY3BWsXgl9d6zRYHHHxsbhi+cnpEvvpMgCatPxU7858gwhQdD7O/exqm0vlTKjs3smdF+/BBnz5Rb9mDYODhrOJspzElDNr9MS72/eRdEGtdFxySw4Z86k80XP8ztKgBiCuNlVGiHoiy9azPgV9UbqzlRTlHx990F4deUG0mfPivFXT+jFduaeMft7ZMZCXNv6h+pWmZig9tC+qD2kj6yPMYHtzWeKe0hf59kVG8DC3lbIH3XcslrSmUd9/5MDWphBPjhsLL48fCwAJJ+jpotmw72IJnBWPg+fIWZG+WUpqaBEEsvACpvKBEkiudtNsj7YaoP3DxyFV+cuICpEpovJlhQ6BLVX8ndOzfyyz5GJ3mBarMHCQkhE/Yi4ZgAAWNEIAH/ErfrHzmEEgAbYeiMAhPAIlvvS6tpSUQIe1h9VRwzSNfRv+T0B4M623dF3+yoNdjJPSPD1LURW/mNwPLMgPk+eiTIqfVHlwG5PnyF47nFWoUXI8aYWFmgwbgQajBkkAJoyE5aCzCQCXF+9UQjt8iVZuEl9NJgyFhmUsiG65F94HhJAdMnUeL94heWte6Lu5LHIX6eGuB5iRhd7mYuEvFQbGR6BoOg4RCeAQPZuHhg4CtV7dULlbu0l74N/aCRi4+NgZ2Emsji8Tgs92L30siUJg5Z7n588V5mbz8bkO2dVmKb6PASvrt7EgekLMWDbKji6aWampOZg3yCBiqNb4guZ///84lVhi8egM0e736arZIml5qKLyawK9fHd0wtNJo9Go7HD9Fm2YgxB4JwqjUQGUR4EkmMvHtbq78xn5N2DJwgIjRRZZ21BsE9GuZyxm1zQwnm5L8yc65JYStZFJwzm+qwTnhsykg3B/WCPryhff/dTWRL1CDtuX4csJYqmZKkaxyR3L38oAKxVD8GpIIE4FCuKiueSnwE8deoUjhw5goCAAGTNmhXdu3fHTz9p2hvKN/PKlStivLe3N2xtbVGiRAl06dIFDg4yZr4x/r4dMAJAA+ytEQACzzzO4PCwcaDGnnLYpHeGhbUNwv39RU8VnTrcCuRDl90bYaanR6sBbpHGFLu79Uf3FXMF21I5mJEJjdbPg5Qv1KVlaiBIrUGf87nly4NBl08I4VyZTZpMYiQiOkaAJf6M5yLTMTAiWpTspFxJlLORUvvAPioHK5mgtJSIMnsNQ8wsEKvU6sW+K65LPdjfaJJACuCLmDZvVoiDvb2tBqmAGSj/sCjBApUHnWjS21prsH9JOiBhhGLOAZ++YHHD9ghUshyUH08/3c4r5qFI/VpayR7angXamvn5B6FQhVJ6l9F5DTyObGErOxtRJvxw9wE29hwKSsUwWE6eeveCxnOivg6ynxfUbA7fN+/1zhoqz8G1HJu1CCfmLlX8mMSj+mMGJ9lPyf5InyDZWqWCRAu5KDefV4IraoC6ZswkXrj8GbPcd7bswrs/ryNDntyoOKAXnNSE2/X5DL6++CfOzlwgMuFmVpYo060jyvXppvf90Occ+o5RdyTKWqyQYE0z4/xz53aoOU61f1HfedXHGQGg6o5cu3YNy5cvR+/evVGgQAGcPXsW586dw+LFi+HiovnF7Pnz55gyZQq6deuG0qVLw8/PD+vWrUOmTJkwZsyYlN4W43F67oARAOq5UUkNMwJAmQDvhkZt8eXpc0XPn7m1FXJXrYQ2a5bg+cmz+P7mvSjBZC1dMsUvBfal3d2xF28vX4VL/rwo36cbKN+iHn7vPuD6mk0I9vFFocb1UbhpA2FfJg/+/O1xD1Tr2UmlvBkdE4PvoZF69R/x5bmkTHUEeyf6J8vnd82TCwOvnBT2aMzUscTFl4Vyz5h8LKVfCBClXDj0kYUJ9f2KHFkzCrCiHuxLCzFhT2MiAkxvbQ5rLf1p8uPVyQHq4FLbupwpQ5SQEZRnMR9f+BNet/7Cx4dP8ejEGfGsqAfFuIce3g7nLO7JIpBwHoIn9hHmq1cLhSuWkXy2tPUmEuh5PX4qMm/nVm7Em2u3ZEvjDUlIRbn/lB+9Nq+Aa64cWi3u/Lw+Y3wBmXUgnTxGntwrNDCTE7cPncChSXOEJ3K4nz86LpuDqr0SWbNScyUFAOlLncGevYCqZVjeO3N7Z3h/+SL8ezc264CAj16Ii5aRluwzuqLN2mXIVrqk3suntd3uHoNUMm7s+6swoBeqDhug9zyGGvjkyAkcHjEets6OGHJwq2gJoOA3ey2/fvaBXd68BjlVWgaA1w2QAayQzAzg+PHjkStXLvTp00exvyNGjECZMmXQsWNHjT1n5u/MmTMCNMrDw8NDZARXrVplkHtknET7DhgBoAGeDiMAlG0iwdmlRSvx6uwF0a9UrFUzlO/bXadGnb63gCxD8bLy9JIxKE1MBPhrt2EFMiuVdJ4ePwWP8dMVfXYsW7kVzI9u+7epSLxwju+PnyBLnpyyPjZra2FNlxxtQpaZPlxPAA3yCzExQfku7VFv7lTxAmb5LakgOOE5tXkGfw1OLEdLzcPS3NX5S9By2lgVDUMBjmLjQLhFpwa5w4JtZBicMya/D0kOCikkziySNscGgl7qPvKa6OxAHHVhwVJcWSL9B93Mygojju9G3gqldT4K6kCO/08yx4yKDdD/9AFkyZhBq2OILoIKSRkXVm3C8blLJNdBR5By7Vpo/I6Z3IOT5uD0ktWK3zWf/isqdW0rCBsEqPRn5n0i81vKlYNafv6RMQKo7+nNtoIzaL94Jqr16ar1yxKvh/eC7Qr+nh+FV69b9qyINTERDFona0vYSmR6mYk2tbGHt+9XHBk9Efd27tW4JreC+dD/nP4krc2tOsPzxh2NeQS56fpZnb2AOm98MgeQCb+yagP027oSucuVUjlaJrekmr1O5vSK4WkZAN4UAPBxSi8NDsWKoFwyAGBMTAw6d+6MkSNHomzZsorzbtq0Ce/fv8e0adM01vLixQvx89GjR6NkyZIIDAwU2cIsWbKgb9++KV678UD9dsAIAPXbpyRHGQGgATZRjymO/jIJ93ZovqwyFiqAfmcOixn4kl1eqS4CvVTZyCw3150yFmW6d9LjTPoPYa/c1jbdEfr1G4rUq4GSzRogxC8A5Xp0RVBEhMIRQ9eMfJGzX1BZv43AgT2D9A3WFtRt296xF769fofBezciZ9mfFa4WyscoZ+wc42Ng6+SQ7EybfD7luZhlooCycoZRaq1hfv5YUbUBIhKYuhxDtm/VPl3hkiOb2Dv7JESqxb0lkCI55osP7JycEBcbgydnLuLw9IUo26sLnp04g4KVyqLWoJ4qfX269l759wHePkIiJlCtrO9EFwuPP+CWN5fGvlGoecrPNQQhSDkyFcyPcu1bICYyEte27RFAtenE0SjbsQXs06dXyM+QGR5tZoZwmIGZawoqf3nyTIg91xrcO8nlR0ZE4vf2fdB50Qw4Z8kkehXpihIPE8FkJxBXDxkQNkVEdDSWNmyPd9duaoyxz+gmWhis7DXZu1IL+r1aQyEDpR78gjbw0glJFnBy7ktKxn5/8xY5srtLEn1Sa0MpX89/AQCGh4eryAWxj5H/qAfLt/3798eMGTNE+VceBw4cwKVLl7B0aWJ7g/KxN27cwO+//y7MFPjsshRMEGmu5tGekmfAeEzSO2AEgAZ4QowA0ACbqMcUK6s1kHQp4Mtq8BUPwcr98vgZtnXoKUpo6pG1VEn0PLJLjzMlbwgzn44mcbBzchRSKfIX7LeQcDjbWkIGkrQHxwdHRAlPX7J7CQLjwH5B3b2IzHJQfkYeA/ZsQPFGdTVOxmwc7boIMlmmVdfp05UdU56Qc4VERIuMk6w0zAwm4B8akSQQfHf1Bo6MmiDAMmVlem1cBoeMrqLfTx/tQAIa34R+ty9PnuP+H/thYW0t/Ic/3LwDj/HTRJ+pa+6c6LFhKXKX/Tl5NzLBS/jemcvwun0XZVo3EezjT4+eCeAnJRkTHhQM72ev4PXoKTwWroD/x0+Kc7LlQGSqJcIlVw5U7tFBWLd9evkODWdOhHlMFO7s2IuzCcLP2UoUwdDDO+Dgkl7rdVDf78PdhyjTuqnGmOiYWNmXiiSeP79P3phRpraGDA2lXoZcVRVFZ+n+26s3Asw5ZZG5jfBnr85exPFfpyLE56vGGpyyZcHQa2f+9gwgP4Pn5izC6wtXxBryVK+M+pPGIJOLs2RmXZ3olewHJeGAtAwAbxkgA1j23CmMHTsW794l/o1p3bo12rZtq7FlcgA4c+ZM5M+fX/F7AsDLly9jyRLNzLqXl5cAjI0aNULx4sXh7++P7du3I0+ePBgw4Me3DqT0Ofi3HmcEgAa4c0YAaIBN1GOK1bWbwffZC42R9Bgdev2MIJVQjoVlYoIM9chboyo6bl+rx5mSN4R+pg7WiVIW8qOZ1WO2jKLNyj106mBL2a+ZzFyWgvkzXUZYfh88sbJyfRUJlYF7N6FYw9oaFyCa/aPp4AHJrJCy16w+V08QqO42wZ+xLMxz0c9VSsqD5VIC9J4r5wtQpRxS5d3EfTNBMJ0sEvaSZUxfn2/w/+IL52xZsbNzH7y/dlMAjaL1a6JKr85CwoYAUSqkejEFoImLAy37zOLjVDyEYwmmJBjOyrqELLdfXr8Nf4yaJE7pnD2r8PilkDglhLTFwH2bUaBqBdFfyPsQ7PsNu0ZMxP2jJ9Fl1QKUaFJfq6SM54MnsLa3g1uenBrTi3sRGyNZcpYPZsbl5MIVODp9oeJ4Arym08ahXPeO4plh1vXZidM4PW2eaPMgoYcWeq1WL8HBwaPh++IVokJUyV+cjI4m1UYNRrne3ZJ8pEiIEnJEMXGylgF9HkClMbwHG5u0g/ejJwoXEragUBpn/KUjKqLY4h4nfOEyhNNIWgeAIY9SXgK2L1oEBID6ZgBTUgJm7x8zf8z4yYPEkMmTJ2PNmjVIl44Wjcb4u3bACAANsLNGAGiATdRjCgq6np31G6LDZLpeIkxNhbxJ+40rFT9aW7+lhvuIqbk5OmxdgzzVKulxpuQNcbG3lmTwyj1NnWwtRWZPLonIF7McPBEkBobr59esvioKNrNcKCcrUAOv29pFAixIMYJ53ujYWEkAGB0RKcCTuaVMbJlzatNw0waelNdHgEYdQ/6jHvd3/IFKrZtISvCok0+4lLCwMJiamsHK2lIlmxPk+w1rOvWD5/3HiIuRSeqMOrVP6AfaODoIMMd9kNoLrklKt1AA77hYjRKXvhlSArgFtVrg3e17yEAm+MXjuL15J05OniUpiE6w3n39Ug1HFcrJTC5WVWQQC9WtgUH7Nkkyo0k+IfnHPr3mi5KsZpMkdCLl98XryQssbdpJsIFZth64e50ozzNzyD2MCI/EjFI1VLKbPNbezVWIb6trf/Kzlj5XDlQc2Bsl2mr2TMrPy89DBntrQZQS52IvbFw8viv1q+rzSXx39Sb29hmiAbKtHB3Q9/AOFCxdXEHC4vzCh1xJ5kmfc2gb818AgMnZH5JAcufOLVjA8kiKBLJw4ULxXHOMPF6+fImJEydi9erVSJ9ee/Y7OesyjpXeASMANMCTYQSABthEPabgS/jomIl4ff4KIoOCRMk3fe6c6Lh1jUqP0YN9h3BkxHhVD1NTE/zUsC7arJH1oQjygI8vLO3t9O5z0rbEpACg3NGApTj+Q4CRWocD+TrYc0VfYwIZlhunP7yMDNmzJrmTfMnyxasOiqQATlR4uPApJhBUHi9IBHoAC75onz94jjMz5uP7u/ewc3FBrXHDkbFgfrjYWkpmtaTWIVjD8YCpRAaOmn1LGsl0CinaXGtIH42Mly7wFhsTg4jgEGEFeGXzLtQd2ldk1VIaL/+8gUX12qD60L5oMX28cIQhy5ZuGrxPPM+7W3eFRV+HpbNRvGEdjVORCfx7m554fe0WmOGe8+KmcPhQDzmIVb9GZvZio6IV7i3arkV8DiKj4fPZF77PX6J41fKws7dVGc79Ob9iA/ZPmKnyc20uP/ZuLuh9Yr+wS0wqKABNmRr1ZzG5/XmXl6zCxQXS/WXVRg1BzVGDwSw9M+vMMLK1wlCRlgHg7Vr1kNoMYJlkkEC4p3IZGLKAWQaWy8AsWrRICGDv3LlTSL0MHjxY3IKLFy+KTF+PHj0UJeAtW7aIZ2L2bJnTkjH+vh0wAkAD7K0RABpgE5MxRYjvV2FWzz4kl7y5NY7c1LwjPt5WtcniIL5I+54+hLdXruLSwuWICg0D3TL4YmY2I3u50qgxZijsXJIn36HNl9dQfUZJbc0S6hB+9kbeimUxcO9GDceOpF784trj4wVgksr2KZc35fMIFwotIFL9XCwJUfPvzdVEkoFt+nRovGAmKrWoBysr7VZ2+j4OX16+wdSS1YVd3JQ754Tch3rECiZyvMhuSkWon7+wZrNxdBQvHuoR6vIyTgpUfnr8DJc27ECb+VMkm+W5BsH8jomF15NnyCEhSkzCyPLmXcXvCzWqhz6blktmmdWvhxm70O/++PLqDdLx85Ej6S8EIhumZLvmFB8Du3ROGtvk/fwVppWqqQoATU3Flw/u/c8tGokS9r3DHqKkR1KWnQ5Sj5uDjUZ5lifQpW2ovrgXp87i4JCxGhqklna2aL5sPmiB+HdFWgaAd2rVTzUALH3uZLK3Ti4EzX6+bNmyCY2/QoVkzjErV64E35dTp05VzEvZF0rB+Pr6ws7ODoULFxZsYmP2L9lbn+wDjAAw2VumeYARABpgEw04xaqaTfD1xSuNGSk3YmlHUepAFecO5YHs2+p9fC8IVORBSYlbG7fi8aHjos+wbI/OKNKisUrmgtkM2lqxtMuyJcuRPoGh4mWW3GCGjiVjCvgya8ieNG3yNP6eXtjWthvSZ3XHoD0bYSdRCpQ6P0Hcg6OnkbdiaTgkE/DK59OVWYuJisK4vGXATGKdYf1EL1tkaChu7DmMutMnCB9YbeVZfffs/V8PhIAyBaSdMrlJAll/bx9cWbcN9UYPgpWEViIzXGYGYhxyT84sXyd6EG3sVDNpUtfEZ4t7on7ffN+8w6JGHZCnRlXUnz5e6DayXKred6k+Z2R4OFa164vn5y6i/ujBqDdqoCiHSwXXSvAnd38hg94hJlLso3p8fvYC00urAilrJ0cUrFkZ7edPg71LemFDx/7F+x5nka9FM523kPefz7l60GbQJ1i7uLX6eK57da2mGizkDHlyCb9xruvvCiMA/Lt21jjvj9iB/ysA+E9Z0BgB4I94VPU/x9ExkyS1zfSawcQE5Xp1Qb1p40VvEr15gzw98fLSdRybs1j4w/KF8lPjemi18jeVKflyphsGS7xBX05UAAAgAElEQVQurm5CaFe9p40HxERE4vXFK4gICkKeapUVQtbm9Pe1pXCvzN9XGRyxdMy+JSmNQmZhPG/fRdGyJWCvlr1JCqTR+UNb9k+fvWJPIQGu6G9U8zzm8cxGBXh5w8LWWmSJ5Pp3ghmboI0oF8jW53zqY0L8/LF90Fi0nT8lSacOWu75vHqLT0+f4+fmDVVKxNw7rjMlAFCKtEJ7uU0DRmPArnU62d+8Hs4RHhQEUzNzWFpbISoiEiHfvmNd14EI9PkmAFa1Xp3hnC0LHF0ywEwCMCnvS0RoGH7JVVJktxl1Rw5A/VGDJDPDPDf1HOUlUbr4RL9/h3yVZILW8iCA91i4EqcXrUJsVJT4MT2xKw7shQb9u8M+g2r/IQFcUGQUwqOSLrXys8UvOcqgVpCVYmLhFyrz4tY3WBU4NHwcaAHHdgHX/HnQfOk8kdn/OyMtA8C7tVOfAfz5bPIzgH/nfhvnNuwO/N8AwH/SgsYIAA37UKZ2NmrjbWzaHgGU5Ehwc1B24dA1f8ZCBTHkwhFhzyYXZxbWZ16f8Vvd1vD7+Elkmnod34PMxYpoTJfUS8Hr7n3s7z8Sod+/g9kfe1cXlOzQGrXGDhMZMSkxaPkJqAcYEKb9xUggls7WEiZs/jczRZDPV7AcSTkUAjDlSAoY6srsyechM3Zt1wFoNy9pAKZrPmFBBxMVkW5t94hzEUBy/ynBEvz1GzJkzybZ66Z+XoJoAlYCbe4z+/5IfkmuYwfXxjWH+QcKYWf2CzKL+O2dJ+ZWawITczPMenodNsnoI2TPHoHfH6MnC1JHw1+GCg9gC1sbRTlaF6lFtq4ozCxfFz4v3yi2sNvaxajQqbXGlqoDQEdrC8QGBohsJPeXzfkk2njee4gz67YjR7nSIgtu7eSAyoP6okC1iuIzItUPKmeEfw8JT7LnlS45fG55P9hbyvtDEkhK+2QJ6BnaCEy6PvvJ/X1aB4ChqWAB2xUtAiMATO4T8e8a/38DAP9JCxojAEx7Dz0trv5cvgbvr90SBBHfZ88REagq1Ktt1XlrVsWwQ9sky1N3D57A2s79xKG5KldAlz82aU7DxvrX7+D15i2yly2lKCeTzLCicj3hZKIcNKgf/acHMufIkmRJlAxeKVcQAhpmK0ODQmT9dmGh+HDtFp6dvYQA7y/ou2MNitavJTTnGLoAmT6afJyHAHZw+jyo0KUtWs6ckKReXVJPCM/3/b0nMuTMrlfvnXjBK2Uc9V0vr5usawaBxtfPvvjy7AVK1qoCC7X+wIiQUEQEB8PawUGQNih9wiwhy6kEjgR8ZPp+fvoCBapWFGzbGzv348qGHYiOiECXVQuFNp+UPZ+2veDz8fD4GeStVE4jqyY/Rh8GtjIxplL3Dmg5c7wk4YZ7QF1Fyq5QG9La0lwlG0fbtK0DRuHN7fvofnAHnLOq+mZTviVdgs2htmui97WubB51Mi3MTcHMYVTC/Ul7f1GkV5SWAeC92vWRWgBY0pgB/Lc8iila5/8FAEyJ/lBKLGjY3Mx/5MEPv42NjWhq5Rr+zcFroQH3Fy1lS/VrY9nGwsxE6L7pcoFI6b5QO+3mxm14f/UmXPPnRaVBfVJkUk9x4BVV6iHo8xedS2HvX+dd61G8YmnJbJycdMCJqD837OY5lTkpyryzaz8hRE37LzbCU6i4+ugh8Lx5B7u69ddwjOAEYy4eQZ4ySXuvRkZFwy9c6fkDhM8wsycmiAetzN7e+gsbegwRgsjy7GfmQgUw5vwh2Dgk7eogMjDx8QgKCYOzvY2k7Ijyxfq+eY/JxaqIH+UpXxqNJ4wUZBQ50NS52UoDXly+Jtw70mfLIsgE2nT3pOaUArS6QC4JMN/ee2J+zeboveV35K1YBpYJmoHM7oUHhSDezAwmNrY4v3I9zsz+DQWrVkSb+VORPmtmBbBTBp887suL12JOMnA7LJmFYg1qy0glOuwA5dcVFRGhWIe2/aPAM0EbOcFS2oRf333ApCKVtTLDuTeChBIXL4gTdCqhM4kUy/rFlRuAixscJcg1bFRwdbBOMmstQKYOK8PkPCdpbWxy/27S3YJs2B8RRgD4I3b5332O/wsA+KMsaPbs2YN9+/Yp7jhNr+fNm/fvfgKSu3qWVKPCgVgC3gTJVhMzwNqWdZfkzqZ1fLCvL/xevRTN5Wzy/mv/UVxctx399m9HrrKq3p5JnfT7B0+cWbgMT0+dg7/XJxkwSgj28jE7yBKWmYWlMItvOmsSyrZvDUQESxJFqDk3u1IDGeipXB5jrpxWzMeX6rTCZUVWSTkIKgce3i1Kl6uadRCZJfXotHIBqnSXyZlIBXvLdo2ciPd3HqBc5/ZoNGUcTHkf4lS/eESGheHEvGU4tTBRF5FAhJ6yOsPcErC0wfIGLVFnSG/hzWuuhalLAOUxbxmOz1kiSqhZixUWpfFOy+chf2XVHjJd52Xm6+PDJ3DOlBF2GdKJfYoKixDZNnMrS12Hq+w/X8jBX78LT2RdUi4su55fvh4HJ89Btb7dUL1/d2RUE6fm5HzkA798wceHz5CnfCkNzT7lBTIremjqPJxdJhMcZwZx6r0LcFaTRNEGUKW0CZXn55rPrViPk/NXYPzV43DJmV1jf7xfvMK0n2siS9GfMPzYrhSTfDjxpyfP8erWA1QfpMWXNSYKiOJnSlq+maJDJjYOwrfbGD92B+7XbpDqDGCJsx4/dtHGs/3QHfi/AoB/twWNMQMIwXR1pOuFkg4cX2Zkqvol0Z+WnKea2UW7mAgVcVsCG5ZfTy5Zg/5nZb6/uoLWYwcGjQYbxBnMcBD0OWVxR7YypVBr3AjRJM4sSERQiLAlk/cOsR/KRq0kRm02OjTc3nMIFJlts3qJsJySB6VptrbpBvreqgelKFqtWix8iinbohx0TGi7fjnK1q8hCCDqriE87/G5S4QWG8PCxgYl2jZH9xVzJbMvn5+9xPTStRSn6LZuMSp01OwBUwEuCSQTP8+PuDJ3MUq1bATXXDlg7WhP6wTYu2YQmSkCq1D/QIQEBGBmmTpoM2+yyHKJ0mhomABdzOBJBe+hWL+1taLUK89GifujZFlGUMgeP2sH+2QRNFi2nFutKRqOG4rijespQKA2wOX7+h2OzFgo+tkc3FxRpH4tSb09rk9ft5S3N/8SWUB5zH5+Q4OkIjJwsXQXSWSocu2ULkmKkMJjzq/ciH2/TkfzaWNRY0BPlf3ml4sjM37D+ZUb4OyeCeOuHNMAn7o+N8q/v7plN47PX44h185oPYzYjiVkS9oYqtnO+bx5jzgXTVZxctaQlsem5QzggzqpB4DFzxgBYFp+/lK7tv8LAJiSErAhLWj+Sz2ASYkev//gjRPjp+Pzg0fiuaT1Wp1Jv8A8ofdM34fViQKxVpqabf6fvEWT/SA1j1KpefmCpUG9sk+uDAWaokLfHqgzaYzO5TjbWsHK3FQkN6gVd23bHpz6baUAkaW7dUC1kTIxU3l43X2AnZ37IiIwUGPuXFUqoMvuTcJSy2PCDNHwT/1B9v8RRPZYv1T0YAmRZh5tYiL6zMIDgoS22t5xMp9beeSuWBZjTu+T7BkM9PHF2NyJWVKWZQf8sQF26Z1V1sU9YvmeJcWgCLqRAOYhQbC3t1WwRsMCg0SplKCGrhP26dLhw8MnqDV1PO6t34xGvwwWWS55aANavJY/t+6BlXsmFKxaCbZWFACWHcUeMCkWMe/3x/uPUbRhbb3lYnjMpKJVBFu1Wv/uqNytvXj+CIakMoJcF0GLHPjrKh3r+j2v58GxU9jYcyhYemfGbuCejZIgjGAtPDhUlHFJRqH1W6VuHXRmLgO8fTC7ckMhudJp2RwUqlNdaBwy+3j34HHs+3WG4n6MPLkXeSuV1dlbKfVh8Pv4GfNrNhNtHsPvXEzyHtDuzj4uBi45s4kvA2QzkzG/tssA1J87DZkKF9T5eeMXsXu79uPjnXvIXLwISnVupyLwrnOCf2BAWu4BNALAf+CB+Jed8v8CAHLP/0kLmv8SAGTPj4VEPxMZlvNqNhd/vOVBoJS1dEl0378tWR8LbSCTPW7LmnVGw0Wz4VYgX5JzMuu3tl5LRfZPebBrgXxCH0yfIEgxMzER5IGjoybi5bmLAlwwE+ZetLBwFpEDXJYuSfII9PqsMjWZnI3nz0DRFo3Fz4N9fMWLjj2O9Yb3g1s2d4VVlRSQYrn1/Z37WFi7pWLeaQ8uIaOECDYHkMAwJmcJFcDYff0SFKlbA/YZ0gvxXmbrAsm2tLZRzClYxDaWWjNgZBWf+G0l8jasj8wliiK9tbnQp9MnRMYrgZFNj+Cg8CjBxs2Q0MMoNYf/5y9YXL+tKGOmz55IQEgKhFEXcG5V2T4rx7Bju5C/SvlkZRP1uS71McHf/HDv8AkUqVdTaA7SH9jGyUE4qqgHwefOYb/izfU7+Pr2A8wszDD13iXRY5hUsO9wa7+RgnTCYJaUAtgE6HL5F/nxtumchUA4s7nszeTYpPoRKZpN4pDXw6fY88tUfP/wEdTTG3Q56UzQ7U07hN1d0Qa18FPNKvB+9go3du5DVFg4Kg3ui1q/Jnq9Sl1b8BcfbG7VBUGfvEULgKmFORwzZULXfVsE+cT7yTOcmjwbHMcMeKVBvVG0RZOU3CKDHpOWAeDDOg0QlgoWsG3RIihmzAAa9HlJa5P93wDAf9KC5r8EAFkaZXZOPWMT7BeA8fnLqIAOPuzsf+u0awPci8iU4PUJYRFlYaYh5cDszoyydVC2TzdUHT4wyakig0NEBpBgSz0ylyiG3sf36LMUxRi+4M7NWaTiNsCXVNHmjdFsyVzFuEeHjuLkpFkI9wsQP2OPYZaSxdBx+zrFi5cvuO9v3yNfkfywocyHHv1RdIZY0bKbAII5S5XA4EPbYK+W0ZMvgqXTTX1G4M2NOyAbWk4GyVWmJMp3biPkS/7cvAskHLT6fZFwQGFw36nNpgt8MFNIMMd1E8QlNwhggiKiRbnbwVp7j9/Hh08xq0I9ZC5aCH22rRJMXWooslRv56zqViEkTbw+Y3nzLqBrhXLYZkiPxvOnIWs2d2TMk1NYCLJMrcvtQ5/r4nn5xYQZxKiwMDw8cRZl2jZTYd0mBVipT7iocQdUGTZAZIKtzU2RLXd2kCygLUguWt9tEB55nFUZQmeceMQjIiBQEDuYSyY7mQLotg72IgPceeUCZC9eWBBEGMpro3C3+KJRp5ViXhtnZ9SfOUEn2Hp08CiOjJyg0AmUT0C7uNoTRqNCvx5Jbufu7gPw8swFjTFk2tefMQHb2vVQ+TJHEepqowajXC89elv1uZEpHJOWAeAjAwDAokYAmMIn499x2P8NAOR2/1MWNP8lAMiqHTN0FKSVuV7IMjtH5q/AqRkLJJ/6povnJGkKr34Q53UyjVNhrUaGhOLW3sPYMfRXNJgxAWW6d9L5CdveoSfeXrmuQuYgIGs0bxqKNGukcTwzYxRofnvpKlzy50Wxlk1EtoGhzV2E7Mhht2QvrlNTZuP5iTPC+SI+JhY2GdKh/vQJyFezqgLMMvN3efFKkdEauHtdshr0ee1XNmzHT7Wqov+udVp77cJDQvHxw2eY2dmJrIzXnXuiny4yMEjhj+yWNxdaz52MTAXzCTYznUaYAXSw1gT32jY6Ob7C6nNQ0oa6ho5W9BpWJQjwmWKf4YpW3eCUMwcq9O2OErVq4NLWnTgyeiJyligiPHTJaiYIZ4n+6tY/4LFgOZjBYoaLvXQEZQQwtSaMwuf7j3B56WrYOzuifKc2aDJxpN7M3CQBcUwsFjVoK0q4JEwwW0lGsXpoA4FRkVH4Ghqp8mWHfbYOFqaSWUPO+93TC5OLVZXZ29lYw8LSEvaZMqLDltWCRMNeVJKayDhX7zelLE2r2RNFlk54+cbEyv4dG4snZy7i0IwFiEyQS2IGv/qYoag8WAsBROkio8PDsbJKAwR5qzLt7TO6ov/ZIyrOOlL7uax8LZlup1o4ZnEX2f7X5y9r/I7i2OxN/FGaf1LrNgJAnX+GjQPS8A78XwHAf2qf/0sAUL7HthZmsLIwB0u/oVExuLNzD05OmJmQeUi8E3QMYPaLWbDkRFxEOMLfvkW6zJlEL9yNHftwcsEK2Lm5ivIt55UHy718Cah7+IaTtNG1H/w/fBSZSYK/Qk3qo+6UcRoZTP5+S+uu+P76LSJDQoTlG03tO+/cIEpgLO36vfugcQkOGd0w9OY53NqwDRcXrUB0ggMDB/LlTNs4ZkAYn+4/ws4ufYVETJm2zdFjw1K9s1ChfgH4vW1PvLl+W5Txpj28DCctLgcsV39Vs9JaW78lvjx6KtbhmjsnRp7cg3RZ3BXXI7JykVFwsLJMUtZDfQN4HIPZNGWNOl29cnxuvLy/wcXGXJSl1cPn9TssrNcaAy95wM7JAW7pnBEYHIx3dx9hQ7MOItOUvWRRUS78+OCJODxdjmxov3458pUqCgv21UVGwS8gGPEWllhRqS4CP8nIN44ZXTHh+ik4ZZSW49C1duW1Uq5mdM7iMntBABNvnEbWoj9pXI+2OWXSO3GIjo0XZXFqDjrbWMDRSdO+jXsd+MUXq9v1hpN7RhSoURnmDg5wLpAfrvnyqJzz3u79OPHrNI2MXHI+gxybIXdOjL5xJiHrD0QKW8IoeVJZZTq2fxwcPEY43PB62RvKL1t5a8ikgpKKZRXrIODDR40hTlmziHaLb68Sha3lg+wzumHAuSOij/afirQMAB/XbZjqEnCR0yf+qa01nvcH7IARABpgk/+LAFB921iaW1WrCfzfeyb+ytRUOGX0OvaH3k38yvO+u3INR0ZNBNmRTPOw7NNo7jSRUWP4PH+Jg4NGy1i3JhCMXvbkEQgox7fXbxHk7SMa0ZU9fpXHnJ+3GNd+3yAkZ5TDvVgR9PHYh339h+PpUU1bpEyFf0Lf0wexsmoDTcKJ0ArMgqE3ZFqBzMi8OntR/HeOn4tjyMGtQuZGPdTBAgGw16OnmFNZlrUk2G06bRwqd22nEF8WmdiYGMSZmAo2Nhv3lWNjsw4iE8jot2stSjaVSdkoR/B3P3gsWIl6I/oLNwiSE3R59YZ894e5tSWs7eyS9Uli9jDgiy8CPnoht4SsD9muh6cvgHMWd5Rr3xK2jg4CVPC6/hg1UXj7qsfPbVug14YlKgCWwPnk0jW4umknwlgOT4jm08ah7oj+klnAwC8+Ivumy1eZ64kIC8eZjbtxbs5vIsPaYuZ41B7aV0NDkdI0NumcVEq76vc5xC8AS5p0RL2RA1CmlWZ/G7O4azv3F8LOlH8RzOuQUMSbmCAwhpn4xB25snQVLsxfmqx7IjW469rFKNe+heJ65MQhfsEg65fWhzGx8YiIkdm+8b59uvdQZJr5pU9eata1kJNTZuOvrbtVACszkMXbthBfvD5cv6UxBbODQ6+d+Vu9fnWtOy0DwCcGAICFjQBQ1yPwr/69EQAa4PYZAaBsEwmyjo6agK/8tm4CZCv9s+i9srLXLkBM787zcxeLLF2GPDlRc+wIkXGTh8jw3L6L+Lh4ZC/7s8jMMdhv9Xv1RqJpXDnS5cyOgReP6/3ikR+7qkZjmY+oWjDLMOjSCbAEvbllJ0HwkNtNMfvXdsMK8aJbVqG2hsMHp3J0zyQYlIx1DVrD++FjxRnGXjwisljKsh8ERuFRMaI/jv11zEy+vnIDm/oMF0DX1MJCgMqo4BCky5IJdYf1F2U/z7sP8fjsJeRrUEeyPP7kiAeOjpmIqJBQTL5zDpl/yq9xrQGfv2BGuTpCg69AzSqoObg3ClQpr+hRlAKDvD/6vuSlPmqRYeGCLCEVgT5fRWZR3aotNCAQk0tUR+jXb4rD2Oc36e4FpJMA1L5v3mFKyeqIV3OZ6LVlpfAGVt5/KgosadwBsZGRGH5st2SZXUjXMBvn44vXz9/i6u8b8NxDJpNCy71fzh+Ca+4cihIus3bbBv0Ct3x50HrWeAHgtQHrK5t24vK6rRh6ZIdGe4Dv2/ciA1y2XQsNMktEVIyKDJP3o6fY3qGHIjOZkj9zzJSO//OEIJgoB59RZi7ZqkE5KLmA+HctXtX6nJsZ3d09BuLL42dg5p4Zfoq/d9i6Bl+ePMMfPQaqyCtZ2NmK7Loucok+507NmLQMAJ8aAAAWMgLA1Dweaf5YIwA0wC0yAsCUbeLHv+5hT68hKi9yZvE6bFsjSRphq5iVaI6Px43te3Fs3FSNEhcZty1XLESBeok6ePqsbnWtpvB9/lJjKEHeoD9PwtLWFuH+AbixbjM+3LgjzOYrD+kHNt4ztrbrjvd/3tA43r14EfQ5IRMPv7RoBZiZiUvIlrCU2+X3BchTobTIXhKfBIQnZu9EL5i1pciqRAYF48Xl63j/8g3S58yOA4PHIEZJFkZ+4vx1a6L9pt811kHQcnzsFNFo32/7KuSrpCnWTCHniUUqK7KgDpkyYsDZw8iR3V30fEqFvtp42u4BWaJkp0r1cWlzA2Ep9Mqug/CYsUD0/DEzTLmhCk3rStr3EdhOLVVTZMsovSMPvrwbTxwly3BZWIjy66XNO3Ft0y5BpOi2dhFKtWwsBMLlwUze8blL8ebGbfh/8cXgyx7Y2ra76DGUBwkmFJYuUr8mvn/wwskFy0GyR/2xQ9F43HAh2aItmOmdWb4e6o4cgJoDegr9RYJsfhHYN24GGo4bBrc8OTUOj5HbusXH4/Li33F/936EfqPftHbvaF2fi8J1q6Pv9jVaQbA6iI2MjhU+vqkJyjbxCyS/BCqXtZk5PztroSgvs7+xeLsWggimK0OdmrXoc6wRAOqzS8YxaXUHjADQAHfGCABTtonrGrSC90NZ/5ZyZCtdEj0O71L5ma2luSAoyBmzYUHB2NpnBB4cT3TikB9Qb9qvKNe7W7IWdXXlOlz6bYXGC5MM2e4Htuuci2Xmra27IkQpK8VsHcGYvAeKvYUbGrcTDGA23TPYv9RqyRyUa9FARqphdjM6FmHRMUhnK7N5kwczLWFR0Xjz8JnoV1QuaYoxJiaoOKCXoudQfhznpZ4hS4RfPT8h2NMTJWpWEuQBeZBZStHfPWOmKH5GIkXHbWtRuk4VodUnFcmxbNO2ibRQs9DiOCJ1DMcHRceJfjTlMqo2+SABbAtXQlx8nBC11jdIJmm7YCqKNqwjSqB0Y9kzZipeXLoKa2cnVBrYW9gTqgN7bfOPOLEbBapVSvL0j09fwIoWMmYry98jju+CY0Y3Ue5lOZskDimrPYrUfw2Nwo11W3Dpt+UgCz65wWx1sI+PyLYz3AvmwwiPPXB0c1GZSqvWY1wcfILCk3vaZI1PTn9msiZO4eA0DQDrNUJ4KmRgbIoWQaFTx1O4M8bD/g07YASABrhLRgCYsk1cUraGRgmXMzlly4JhCX1z/H/q8LlIeI5SEHdKiWqiPCsPlgK77tkMt4KaJc6kVsn+OZagPj94LICVhZ0dHDO5ibmYCdMVzNCwD1CddckyVv9zRxQZLr6Yr6/dJDJxJK3UHT8KRcqXVAF6MmY1RBlYPeSZno1N24PC08rd+A6Z3ND7xD4waykPZUcTyvCxfOcXGiEAnYONJXgKascxo0rdN3l5m8dzfQS/P5UopFXuhWVJ9qMpS6pw/WRCm5qa6fQFZnn0+LwlaDN3it4gkBm9V8/fIsvPxVW2h/1ojuamsFTSJiSwpeTN3l+m6rqFKr9nabjplF9E9ovPxs3dB3Fy8WqRfbVN54TKQ/ojZ8Wy4hjeU5b3/T58SBJgdl+/FOU7JGo5qi8o+Os3LG/RDZ73HopfdV45HxU6tVYpsQvSTTxgqpSRZRY2NDQCwXHQSlYi05fPivL9VT6/pb0duu7ZIkhTzBzKY8y5g6B8kLJ2oC4AyNYFc1MTQRD7u3zCk3Uz/8bBaRkAPicAfJzYcpLcbbApUgQFjQAwudv2rxpvBIAGuF1GAJiyTaQtmgppJGEadeFZatNJyZNQIHlr/9G4tfuAOJIWY7mrVUK7jYk+uMldGYWeKTgbERQsAAmFrJssnJFkHyPPIViX46chNjJK5ZRkHrdeuxR5qkpnfmihZSuhvZfUS9Y3KFwQY1gG9nn6HPHxMkeRpgtnqbCtCYjS29J2TRVIkiUcGB4JZxurhIxqPIJ9v+LApDm4mSAuzGxi1lIl0PPwLtCZhRlY9XIbdQR9Xr5BtmKFNbb59bVb+PbBCz83b6BSQlUeKHTzPM6JkmbmwgVhnqBNpz4ZAQ6D/w7+9h07hvyKTGVKoWL/nhrntaJxi5+fKLOy1H7/+Cns/WWaVuAj9Xzkr1IBfbavUunBiwgOEU4meZo20nCnuLtjDy4uXIbQb34iI8lyMuVPQr74ivKteDZtbZC/RhV0WzFPJaMmSBVRUfD/+BkHJs3G/SOJRKMZj/8UAs7qwQxoVGi40PWjTWCQ7zfEZ8wkvgssKVND40sIjydhoubY4Tg9bZ5G5phkC+pB/tSoLja36ATPW38pTsmexl6bVyBXuVKCfc4vENExccImUaoEzN5fgj9mncXY2Dj4haa8DJ3cz++PHm8EgD96x43nM+QOGAGgAXbTCABTtolXlq3G1eVrBaFDHsxE1BgzDOV6Jwq8EvxJCQbz5Xnn+Fkcn7EAJiamqDSgByqwQd7MDBHRMYJMoX/BT5bJWV2nGQKV9MiYOSHJg0AoqTg9da7oD5SKBrMmadUt1Fa2lAstq8/HrIqvksQLM48EGfQTVo/0dlawpk6eWsTGxYl9US/rsr+NosTMsDllzYwOm1cpsokEgTYWifZtLEf/ueewKCU7KWUc5af6+s4Tk4pUQv6qFdF/9zrYOjkqViHYvNEx2DN2mrCDaz1ropD60BbMEp5bsR5c370jHgKcs2eSmVX2/7E37K9tfyAmIgImdDPJkQ1RwaFCBFud1a3Pkzr67AHkraCp5UdnkjAbexXg4+/phY1N2qlkzXgOB/dMKN21PZ4dOwUTczNkLlEETw97IIEuML4AACAASURBVEfJomi/aCasHexEqfXTo2fYOXw8WKaWBwEZrQN7/j4fGbJn1Vgy3Tk29R6OHKWKg17GlceOUPTLra3XQhAp1IPOLVWG9sON9Vvh8+S5IJHw2bbLkB6t1iyBSwLxilI529p1R9AXH9FjyjG2GdKh+/7tcMmdU/F5ymBvDQtTev8mkkD4bFpTwF1J2JzPcWhktNCZ/H+MtAwAXzRgBlCzxUbf+2BTpDAKeBhLwPru179xnBEAGuCu/VcBIL1HP917AHMrK+HdmVxBVgKBM9Pn4emxUwLEMHNStGUT1Bw3QuUlwowCXzjK/XC8bQQyBEPfXr+D55/XUL1rW4UDA188lAz5FhyuNwi8vmaTkPOIi1aVgqF0TOfdm5L0M3117iIODBqt0XulywmF4JYZTo1sSmQkIvwD4ZQpsZxLN5CHF64hZ+0aej21GeysYWVhpjFWbsmm7kAiAPWBYzg8ZR6CfL/C2tERtSf/giJNGyrmYDmebhPyVjo3BxvJ8jBtyebQr/brdwECSahgTxuBZ2xsPPzDIvD89AVkzpQBzLhpC64pOiIC2waNxV/7jwpAR49dRzdXuJcrhQDPT4LwwHEFa1RGlV6dxbNEYegvL98Iuz3lFgH5eaiFWHtoHzhndhf+ubf3HlaAxSl3L8C9QF6NJdE+zz+aV58Y52b/BvaPqgftAVutWowCdWuKX9GVhn2i8nBwcxGld5ao5UFpoJqDewkmceZKFWEZHwsHe5mgtXI8OHYaq9r1Ej+qP3OiYMPK4/21m9g3YCTClMq4LOVnyJsbPo+fCY1LBlm2RVs1Q/3p4xXHBnh9gt87TyGVRL1KsqzlJWNmNFut/A05KsjK3gy5DAw1DCNjYuHmaCPZK6r+pUWvh/dfMigtA8CXDVMPAPOfMALAf8mjmKJlGgFgirZN9aD/IgB8ctRDgLfI4FDRj8Sm+DZrl+ll+q6+5dQQDPn2DfaurjC3krYGc7CygK2VuQCBcvcRZhVu/nEQzL6NPX8QbkryMTwHx4VERCM4Ur/sw8EhY/DogKZHMLMgrX7/DYUa19f6tPBFub5xW/g8eQZTM3OU79gShevWRFhIKPI0qq+Ve8Bkiau9KogiQLv5xyGcmLUILWeNR6Z8eYQzxtEZC/Hl7XvhfpCUnysXKUCznaz8qw4uCZwJ/qQYlAT11AN8euYitg0cAztXF/Tx2A9Hd+k+SN4XWgMql5mFTEp8PMICgnD/iAd2DBmHpotmo2TbFgI8JlgCi710MokTQs+6gkDpy4tXMDEzh7N7RtFbGB0VhT837sSV9dsw5PB2UUqWe+4SLD+5cBU7Bo7W8Mct0awBOiyaqQDXnPvz0xf4rW5rUY4dcmgbCteprrEkKSBzYsJ03Nm8U2Msn5kWKxYI8Pzq3GV8u3sXlbu3F19yaGm4a/gEcU72GGYtWgilWzdF6TbNFLqOzLCy3G1lYy2O4fVGhoTB79NnLKrXWgBrutBQ8ojWdsrx+eFjnJv1m7BBJLGjcPNGODNtHiICZWLV8mAWtc/J/cItZU/vIfjy+KmwOmSfoRTD3CVvbgy4eFwr81bbl4GUAEB+nrwfPxVZUveihXQ+77qen7/r90YA+HftrHHeH7EDRgBogF3+rwFAlonWN2qjIt/CbaSl2OA/T/5twqwkRdgmlCH5hzc+LhYbO/WD95PnGHfpqEq2TH5baTn2NVg/aYq/tv8h7NwISJXDzjWDKIEp6xNKPTYsZV9bsRa1enZE+qzuoicxLjZOsE/9wqNFU7xUEIw5WlvCwlwGblky+61iPZWMkeKlndFNvPSlSr7Kc0u9jOXAOTAsEk5qDGP1dUWEhODw1AW4sHoTqgzrL8ry2kJbjyDHkwxycPJcFO3aSZQS7/9xQAhSZylZHOW6tkNGF2e9nUe4l8rkB84fHhwiGNXMmqkDWuoIMgvJkrY8CJynP7wCl5yqYuG0cjs8Y4EgexRv0Rjt501RyWwymxwUEYnwKFk/ojwItnZ07C0kgpRDuFScPyru07ujx4WcDK3r5MFy8s1dB1C2XXPRW2dtb6cBcuR9oASlBKmHpszDtW17RLm8ev/uQhKGfZME9AFhst5TuSaf8lq0gVTW3+lj7XnrDh7sOaiR+Va/37ps3aQyzryG8OhYBIQlfqb4JYOZ05cURY+PE2QeWibKRdopqbN/0CiRveW3BStHBzRZOBO5KpU3wF9rw06RlgHgq0apzwDmO27MABr2iUlbsxkBoAHux38NAJ6bsxhXV6zR2DmKs7ZZuxR5q+u2fkrptrNcapeQCeQcdKK4e/AYijaorWJtJp+fpSkK1OoTBH5r6jZXcfQws7JE7soVhCCtPmFnZgIHWyuNlzldL0ItrEVPlTxYqqT0zLPjp0TWJXvZUsKmjuW57e3pY3xN45S0xhp6PWn/Uxn5w0rDZk4OLoMiosUeci/Vy+rKJ6S37YyydVC6e0c0mj1ZEEHYN8g9fXn9Ns7OWCB63/JWKoeuK+bBQou+HYWYz2zYhdubd8he6kKxxgTtFs9E9T6JvZ767G9yxnBPdwweh6tbEvs3sxQpKASe1cWlOW9ocAi+fAsUhBpmUJ1sKMMjIzPQt5j/SMXR0RNFG0NkcLDs2sxMUaB+beFK4//BE1nc0gtLQ/VIjvwNr4WAcUvfEei1Yy1KN6uvAnhlpfJIYX8Xy8y3CZ8zGfmH3tMXF61U0UDkzwkkW61eAo/x0xH46bPOrSUbnl/w5P7Y6gdwr+RZZzkJhMD5e0i4SgacuokEncqtFi758qDf6YPiC9PKag001AHIcB9w/pjo+UxLkbYBYGNEPEl5D6B14cLId/xYWtpu41oMvANGAGiADf2vAcCjYybh3s69GjtHcEMR5sISNmMG2GZRtnSVkIMhC/Lbe0/kLF1CBfQwG+IfFikAi75Bt42Tk2cJOyv2XhVqVA/VRg3W2+3CJiIU6ZT69uTnJYM1LDAIpvYOimzIjk59wJ4tuiAkoCK45MuNfqcOwvfVG+zs1BuhXxMlOdiTV3XkIJTvk7TGIRvxqSEoVeJldjEwXHY+gpwwLy+458wKK1tbjS1iD928Gs3Qk1IwpYsJMMQ56Zbh/ewlFtRsDgo51xneHy2mj9NapqPbxzBXTVkeHtd8+jgN2zR975WucWQpb+o1DPcOJfqZklTxy4XDktniQL8AhJomijQTPqWzs0oQl5b1PrKl4NPrd9jdfQC+v/0gSCxuhX5C4EcvFXatpb0tSrZvjerDB8LFwUZR2tW15qR+TzHpqSWrY0XAWw0nEOXjCBY/P3sFk8xZxP2iV/baei3Fv5WDjjKDrpwULjbB3j5JL83UFPlqVEWHrauTHMc9I0OY2exooWep+tnzefoC29r30GAiE4w2nDtNZHiPjJqgwaYnkabe1F9V+h1Ts5eGOtYIAA21k8Z5/okdMAJAA+z6fw0Avr9+C3t6Dhaq/MrBElG/M4cFs/DvCGagWG6UAjanl6xGnvKl4ZIru5AdoWVcRLwJQvTs/zPUek18vCUJBAogGBcnXopvHjzFljZdEfYt0Z+WY0zMzdF4/nSUbNcSXnfvw2PCDCEczWxhzkrl0W7DCkWfm7Y1OzC7Z625T8wS+fgF4cz8ZXhxSuZPHPjZG2NO70P2EkU1pru15xBuHjqJfltXwtJclUxCCZ4zS9YIa7JuaxcnCXDYCzgyi6ZUDH2QJ908owHGtEngSLmOJCUMTLHwScWqqIBo9tPRqi3Hz8VUrpciy2+evYZL4Z8UPyeL2krNDzkmJhYrW3bFs3OXdT4y7JukjWDWjOmTBGw6J0oYQNC9rudQTLrmodMBI+CLD14+eomsZX4WR1N3ks8SSSD8YmOfIT1arlqMjIUKYFOzDviY4BOtvBZmvymnY25tI9ofGs+jraOdINWwV5agrXib5knqZLJEzuyovasLirduJsq+h4ePk7zknzu3Ew47lGGSCjrvkCCWliItA8DXjVOfAcx7zJgBTEvPm6HXYgSABtjR/xoA5Et3T6/BeH/1ZiKrMJ0zyvbsgmojBxlgR6WnoDUae9fU2auxsbE4Pmcpzi5bgyxFC6Fcj04o0LiB3uxfQy74r9XrUWdwb9HTpS1C/AOwb8Yi3FizSXIIm/uH374oNP4oMKwsZcKX8qBLHsIPWFskJS2zrEV3vLxwWWXObMULY+DeTQKIsUdO6NJ9+oK3L94iW/nSyOhoK1kq/vT0hejRylK4YJJb+Pb2Pcyv3lRyDEv3JGTYODsKxin19l5fvy3Y3O4/5RdajBY2VggPDMarqzcF09fRVeZMQVDM9aqzZOW9jtSfu7F1N26u3SyYxOwxoyvL0yMeGLBrLZwyZVTMfXnDdsRY2aBCvx5i7m8vXyNvwdywlZDXIQDyfPAYR2f8hpdXrmu9dpaSh188iux5cmgANiHoDGiU6UXPaGyMyDgrf9FhD+DppWtgkyM7anVsqRMABvl8xZEFK1Bz4i9CDodzUZOS/XUkWpWsWxs+dP2Ijxe9pts79BLSL7TKMzU3g2Nmd7Tf+DvCAgLAnr2zM+YLL14CSP6/3MmGJKFa40ehRNsWKvvAefcPHIV3V66J/khWB+xdMqDSkL64tHC58PtVB5vsA8xVuQI2Ne+gAto5zjYdmfgbkalIIkA35Oc2pXOlZQD4pkmTVJeA8xzVJMWldK+Mx6W9HTACQAPck/8aAOSW8Q/8qzMXcHfnXljY2qJ83+7IIpFFMsD2KqZgeYlSE1JyMI9v3ReCuFlLFtcQ6jXkGnTNdXPDVmTK5IKfalYR+nhS0jhkgU4uXg3REeHC1UE9aMHW68Re/LVmkygnv7h8De/v3FcMS5c9G4ZcPyPugefNO/h4+65wPslbs6oARNoAYGR4BKaVrgW/954qp8yYLzf6bF8Dl5xZYWZuATJoT6/egiqjhoguMqk95wQfHzwRYsTpkwCjLP+uaN5FgDepIMjrtXk5nN0pZByP7+8/Ym2X/ggPDhMEgRylS8DMxFR47xIcuuXNhTrD+iFjvjzIWqyQir6g8vwkRnwNVu094+8JpheVrCJs8DosmYWsRX8SrNwj0xbgy5v3aLNkNrLmzSnYuY4ZXZN0J+E+7R03PVE8W+0C2bc2+cEVIeWiHkILMS5esKflX2i45rMr1uHlhT/RaPwIZC6YX7B/aUH38soNhMIM+WpVE20Q7MVMygf32ztP7Px1BvzefUCI7zdxerJ+W61aJDT/3N3d4e3tLfacQZB4Y+0WwQTOVqakKLWy3446k79Xb4hAL+09gubW1hh85aRgJcvj5enzODDkF0QlyM7If+6YNbPIPn5+9FSlJ5Hajf3PybKKx8dNxZPDJxQVBgJXXnfLlb/p+vj98N+nZQD4tmnqAWDuI0YA+MMfqh94QiMANMBm/xcBoAG2LUVTyHXz5Afz9RUQGomIZPT5JffEBEH6Ckozi7Wv33B4P3iE/rvWIWcpVbsynvvDvYeYU7mR1mWky5oZE2+dEb1xzCQSaHg9eoblzbvIsl7mZhj7/C9sbdtNEFZIrKAUiGPmjOi6dytcMmcEHUaU7dl4sq8fPmJSoYoq56WG49S754Wdm3IQLPpFxirIIupzRYaF4cDE2ag5sCcy5s2t9VoIyn/JVVLy9wRZk++c0xA7pr0cmdsEBT7PXmBb2x4I81MtlVfr2w3tFrJnTFPnkCcjsKFMkFQLwLa23dB73WJkyJHIBA755ocvL18LSRaycvWNr28/YHKxKgogJT+OLQgF6tVE900rBNlGff8I9khOYmmdAtv8f6714KgJsLOyRJOJI0XZVIAzvwB8fPBYZLdt0qcXftAkqCj0luP5fBJMyvQCuecHp8wDfYWDmdVTCufsWUUGOVvOHCoAUNv1Pth7CMfGTtboyVMfT9bzkKunFYLe1BF8fV6zTG7t5ITWa5fg7vY98Prrvsggs7xMmSCnLO5iWt47Zg5vbtyO+JhYIaidr04NnVlPfe+ZIccZAaAhd9M414/eASMANMCOGwGgATZRjynYj5XOVhXYkOgRFh2DoARigx7T6D3EwswUzjxfwps2KoZyG5E6wSBfCoHPX+HY1NnotX4JnNwzKl7O9C9e3b63SkZPfUEkKeQuK+vdkkdURCQ85i2Fx/zlQmaHzNw7m3cIuzP+P4PZLVrhdd65QQBAikDL2ZgUbr6y6yAODB0rSCf5qpQXNmMsyzUaNwyWtjYq5xNyIkIvEAqShjxbJCy+CBA9vYRmYPbiRVQkTpQnYnZtfIFyGgCJY6r07IS2C6dpZNkiQkLx7PZ9mDs5487W3bizZWciUSZh8so9O6HD4plJ9tYRKPkFhQlmqbK+5Ldbt1CsrqaYdmxMTLJ79XjM3GpN8PF+gueqiYmYo2Lf7mg6ZQzCfXyRLksmlWuUl6h9gsI1nsX7u/ehUvMGSfZFqvc9RkdF4/aeQ2Am1//jJ1zcsB3W6dLh+alzGpJGzNY1WzQLdQb00QsAXvptOS6RQawrTE2FqLRclJq+2swCqgfL4p12rkfmYkV0zaj37/mM8m8Dv6RFRsfq/HzqPbEeA9MyAHzXrCkiU8ECtipcGLkOH9FjF4xD/q07YASABrhzRgBogE3UYwptpc0YOoJIvEz1mFLrECnGMV+8BIHfQ5OWlVF+KbCnysHGEv6vXsPrwRMcn7NEMJa1BbNi0x5cFmLH6iGXZXHJn1eAvbiICPTcuByuuWV+sbQF2zNuOnoe3yuyL7c2bEXm/HkQ9PU7LNOnQ61xI7G9fXf0WLNISObYOjshIjQU1mpCwvLzxkRFCxKAclC6xNQiUT5GDmZMYKLhOczjmLmcXbkhWNYmYzguwRuXv2s1e6Io50rFrhETcHn9dhUPX+7NTzWriuHMoo69eERyn/j7iOBQnFi8Cte37gY1SEhQouadW4F8cDYHbCV6NJMilGi7X+KZCA/HmcWrcWz2YjGMTiUjT+2DfXpnxWHqcxNER0TFIiBcVXMy+qsvsubOnmxmdFR0DK4fOS1Er3NVLo87W3fh4oJlkssu1qY5yrRsCudCBUCXkKSCbHhm89R1DqWOsXJyRHxsnMgC5q5aAS/PXERkkEwaRx7pcmYX5eLkugZpW6OdJQlPFuKLDgEg95Vf0vg5/RGRlgHgewLApymXgbEqVBg5jQDwRzxG/9g5jADQAFtvBIAG2EQ9pnB1sEmQ5FAdLCzhgvS3fNPjVHC0ljlcSLlofAuJEP1b2kLqpbCv/3DBhlSxwZCYgCCHQsXKFnDyYZ+evMC8Gk0x9MZZbG7VBUP2bBRZH+Wg5p7nJ19cnLUQ1ft2hXPmTKB12NWtu5G/Tk10Xjob9g6qBBUp4MNGfylXFpa4pUgXoVHRsDI1hYWS9zCFmNd3HYhXf96Ac45scM6aWcjeyFM0BatXQt8dawQQVQ7hSVy/Dbyfv1L8+OfmDdFm/lSRseQesixOC7dSrRoLWziuSX6vyFAm2PS8/whX1m8X43iNJDb0PXUA2bK5S1vkSQhN6/OscAxdO5Y16ywygSNP7UX+yrpFi/nF5avac/ti30FU69Eh2c4XsbFx8FHyiPa6+wC7uvbTAG7cJzNLC8RGRYMC5z93aIPqY4YmeZk7OvfBh+u3hddycoKZaXp7RwQECrtIugVRzJnaiK4F86HKkH5CPD6lQVkifilU7wlOifNIStdgBIAp3TnjcWlhB4wA0AB3wQgADbCJekxBbTtqjKnH3/EHnxIg1kpgRn5Osjf9dGQYpF4K7NPb0roLAj5+En7BdIigcK9CA1DposZfO4nsxVVlUwhqXt99BPt8+QQx4+rCZWj663BYq4E5ki4enb6A/BXLwtFN1kNGVi815NZ2G4RJN07DXE3ShWNouWXCWlqCe0eQzzekz55FkqWq7sbBY759/IQ1Hfqi1sAeoo+OWc4j0xcKuzMGS38U/pV70covd+KNU4JFLAeVBGpkvE4qWhnBCeQFuwzpMOnmaUEUUQ46fKzp1A9NJo2Ce0HuiwnowWtpYy2kgBgRwcF4duEq1nbsi8aTRqNa367CNUTdCo+9lVyDLou9pB5Tgmb239mmd9KaVVU+nl9c1L9MnBw7SYhq0+EjOaH+GeA+7ujYC543/0JMpGqWUXle3heKnGf9WbNXVfHMx8aCLjn3du/H99dvER2mWbrWtlaCvnK9ugpbupenz4G9lsyKM9g32H7jSmROIXmMX9Iod6QezAL6hyZP/zM5e608Ni0DwA/Nm6U6A5jj0OGUbo3xuH/BDhgBoAFukhEAGmAT9ZhC6hs/X6KBYVEGJ4HQKYP2bFIZQCl2qT4vBWbP6O7h/fApMpcoAu9HT3FlySrhvyoPS1tb1J08BvUH9hQghSxR9uNFJ5AGOM5j0kxkypJJ9O5JRVhQEGwdVR0TCCDPrdyIWoN6wVwC2BIwiB4/WncFBuGPMVPQcuYEjRIrwaTcb1f53M8u/omljTpovYtkikeHhWn8fspf5wV4U4+rW3YLL2IGQVvbBdM0+vPYf0cQzf5FEiBiBREoXmMcs4XPzv+JYg1qCR07eSiXr2kryN495d/x3hPw899JMW7V165vKVmwnkMiEJVgEcjn2yYiTAHcOa+871L5/OrzR4aG4vruA/i5VTPYOsoILNExcfALDsXNDdvxYN8h4e0b6P1F0uO3UJMGaL1aVr5OKigwbm1mCu+nz/HHsPHwvPtA1yHi97Ry45ceqex3pqKF0PfkAb3mUR/kaGMpCDZS+08B+Ag1EeoUnUTHQWkZAHq2TD0AzH7ACAD/jucmrcxpBIAGuBP/ZQDIjA6BDHuJXPPlMcBuJj0FX5IEZuZmfDkDwRFRiheoIU/OXBgdHOiWIX/5EgxQxFkX4UTflwJf5GdnLsCTIycQGy0jIPzUqC7qTv1VnJMvXMp9RMXEKq6R5IuVVesjU56c6LdrndDLUw6CRXoSS+kQkoDC0rI6mJECLCzDbu0/Gm3mTYaVva3IEH5990F46DpndleZg/uyrssAFccN5TWxFEirr68vXyv04/h7ZkGn/nVelKnVg+XfaaVqih93WjEPVXp0lHzR6wvMwoOCYSOh6RcRHSP22NxMxqBVDjkolmdqqc1HsKnPOaVK5VLPJ1sJ/EIjEB0bJ0TO2XagHqH+/ogIDhPZXgJp6vXxWWG2kpnLhx5nkb9KBWQqkFeRseXaw4JD8ez+E7gXLQzPW38J9xL1njyeK0vJYuh1bE+SH58MwhHFTNHnSWmaw1Pn4/L6ban62DlkdMPwOxdT1BPIe8Z1SclCGbolRNtF6vtZlx9vYWEBV1fXVO2ZvgcbAaC+O/XfHWcEgAa49/9VAPjnirW4vWmHcAawsLIUPVYdtq1RyFekZGtZEn18xAOvzl5Ehtw5UaZHp1TNl5I1yI9hRdTB2hJmcbFgtik8Nh5R0AQK6udI7kuBoC7goxdCv/mB2nG8bm0R4PUJGxq3Q+jXbxhDR4uSRRUZOZI24tgLFx+v0osnn0uK5SqVYeJ4/txjwYr/sXcV0FFkW7DiriSEYIu7u7u7u7vb4u7u7u4s7u7u7k6AQBLinvBPvUkPIz0xBn7YnfsPZ8+f6X79+nVPuvreW1XYN2660Pmj7Au9ksfePiPruUzXkNXte6tP28hIuMJkq1IBzWZPQPi3b+Ac6d1MEWUCmAkPLsiOJ0nldFq/GDkrl5MFb/G9tgLIkdEsIxnD+VBWR1OmRXNsupAcm7ccxZrX1ypF65oHnUgsbayV/Ym6MoNkrpJYpIvkRDA+t04LmJlboM7ogQrSz/fvorS9c8REZC9fGu2Wz9aSr6H14JrO/eHx6BkaLJ6J7Z16a3nscu7s06PDDEWY5YIvIo5W9JZWtAhI4fPho7CmY79lYsM+lTv6Xj0VL1AtdwxmASkQTxAoZXT5ghbyG7J/nE9Cf+u/EwC+b8gM4KPEXhpY5MiBNDsNGcBEL+AfsKMBAOrhIv0XAeCbS9ewvXNv0eCtGqkK5EXH/dsStarMXK2p10JYn7FkBWNj2CV3QaPl85CmoLyWXKIOFM+dAr96YWvbbvDz+CQyLWSyluzRCYXbt4p1BPFQcEuOL1++go3+ccW11RtxaclKweBklol6aM3WLZUFvgTIC0tVFXMys7RErRH9kbdmFcGr8HjyHCnLlkEyG0uYm6oLBQugY2aq5aIS29yY8RuVq5RyE7csGTHgyA44uGlnMN7fe4RJxauqDccXgm7HdiNtWne1DFt4SCienLmIHSMm4e8Tu+Dg5KDuehEcgrc37+LrqzfIV7c6bDRIInGtZ0K+j2+5lmOyv3Jz32HCucTMykr41urKBrIXcFGjdoqsboXSoLZj4Wb1YWFpqTU9tjFQEoZghqxWzTEJtKaWqY2Bx3ciecYfLwf0On5y6jxIDqo+qJfsaf8zbAJOzF8u7NpK9OyMY2MmqzGrpZ1S5suDTgfls4DO1hawlOm9ZVaVkkZPz15KyJIrt2VmOF/TBsL68GeCWXraRJKXFRweKZjAvyuSOgAMf5x4AGie3QAAf9d99P86jgEA6mHl/4sAcGOLjnh19qLW6lG8tuPBHUpR14Qs76lpc3Bx0Uq1MiH3Z/mwx5mDCRlKL9uurNkEH+/cUxuLTfMtNiwXZTO5YDaCsi8sK/LBLpX4dJGGhcwG2Zo+39SGi+2BfGbWQlxdsVbRVxUTbKhvt3MDnNPTdgxwtrYUZXL+LxqUHIkUBBrNcllsC+Xv5Y2xBSog2FshwszyJzOAzqlTau127+hprGzdXdnPyGwbbcLqjhuKEi0aaGXYqF3nExIhHtZOoryoyKyy75GZSpIgWFqWy8zFBtqkjKboN0tg715cNw3nE+jlLZjIsWUMCbZf8AVp0BgEfPUCM3gECpOeXJFdO845MprEhVBYhASpAeyQgABc3rBDZGHz1KysdVy/z1+wf8JMNJwySitLyjLt0madBQtbXD87W0HgkGzcVM+X8iwUcpYLXaXpmIqnmQAAIABJREFUAC8fzK/bUqmByBcSsr2d06QUWd0P9x/hA/URdbwEmVhYYODdC7Cws4tr6ZPs9wYAmGQvjWFi8VgBAwCMxyLFtcl/EQCurNEYH+/e11oa+q222bFOWJMlNJZWrIMvT55p7UYNty5Hd//WUjBLsqtqNxOlVs3IUrWiYC9qBjMRyWRkKdjDR7anXOgSzCV46rh/q06ZDLIyr63aAOryMWNYbcJIuGmsuUkMiYT9ZYzk7GmU6XXTdZ1YmjwwewkuLlqhBIHN5kxCidaNlSxb7itkePyC8OjISZyaMhu+7z6IjCmDHsN5alTSOgR7FdmoHxbj4ELgR+INe+A0vZ41d+a+pEJrbpeQbF5C701pe5JpNBm6LA9TbJos6mBfP8F8psg2GclkPhMILW/VDaU7t0bNIX112teFhEdiTsV6qMsyb8Z0QqrlwprNQlewWItGMJEh79DjeHnr7qg3dihSZs+iZHITRNOqb2qZWvE61eQ5sqLbcflyn6772vudB6aUq42I4FCY21ihUMvGaDx2sFoG8+7hE1japKO8/JGRkbCnqzC0v5aXcLwmnQQ2SsoA8EOjevjZDGDqf/YkgVU2TOFXrYABAOphZf+LAPDSklU4NW2umrAvl9IhdSr0vnQsUXIaK6o3xKd72sKlBIA9zhwSpIHfFZ/uP8TG5h1lBXBTF8yPDvu2aE3F0dpClKI0Q07uQ9pmdZ3m+HDzttY+zDS22rJKNPDrK/ggd7KxVEig4Hus7FZVcoLPy1cIePVa7GeaLBkyFS0AawtzIUfD7fxDwkR20dzECF4vXuPcqo04u3St6Mmip22Nwb1FaVs1KFvy+vkbmNnbgcxnhq4eOM3z577MHDLLKvWl6eplTMzakU0sV94l2GKWSwuQRkYhLCREZC4p92Pn6iK8hKXg5w+OnMKSph1Rom0ztJg3WVbmhec1LFtRBHz8rNzXzjUZRlw6IkuU4UbMLu6ZMg+F2rfCX1nSwzgqEmxdeHb2ErYNHC0kdeITJHF1Pb5HADK5sDI3UbDiBc/aSKw/ySvfPnwC+1JdMmVAhnSUDVLvExS9pHOWYN+oKTqnwZdGuoPo816PzznrY5ukDAA9Gv88AEy1wwAA9XGfJNUxDABQD1fmvwgASVxgv57X85dKnTE+RKpPHAnKSiQmjo+fhsvL1mjtap3MCQPvXU7MkIneh712C0pV1WqaJ5CpOHIginVqK8bmOoT6+ytY0PY2sgLDBIA+QWGC6akZV1asw8lJM5UZM+l7h1Qp0evCEdBTVt/Bcisf0yy9apaEFeVIhbQO5UksTU3gEGOHx4cdz4WZKv9QRYaP4WrLcvOPfjiSgshMXdWuF2ycHTH84mE1v18yipkVm1u3FUxMTZC+TEnUnj4erg62suunev6cnxdZs5HRgiVNwE0/XZ5PXOxcZuq4P8vT3FZXxtDPyxum9vbCo1fKMoYGBop+Pgoax4dFrXnNaIlHVnNoQCAmPb6s5X/M7QkAj67ciP1/j1RmzLKULobu21fLkmA4/9c37mBNlwFIV6IoKgzogeTurgjy/IL3t+9j96gpsbrOaM6xUNsWqDF5tM7bjWtsZmoseu04VyoA8P7nvc8XAOp0yl0DguPBGQrKMpClg2WtVkkQUf60SMoA8FOT+j+dAXTfvvtPuySG+SZgBQwAMAGLpWvT/yIAFA+ssHDc3b4Ljw8dg517CkGQYCYgsbG6Xgt8uH5La3eb5DSaP6LMFCV2/ITud2f7bpyYMB3BMf15BGOuWTKh/Z7Ngjl6YPBovL5wWfjxmliYo9WyOchZpphWaTI2qzoJSFMiRRKFJuCtNGKQaJD/laHICFqITJoULFf7hUQIEMgHfnJ7K1mZDe+gMAECdDFEfT97Ykb5evB+9wEZihYU5BFVWzn2p90/cgovr1wX/81UsSzqTx8Pe3NjmMUCelXXkuCP/WlxAT+eG8GS/1cv+IVFw9HFEcEeH+GUIrmaLqC0BsGBQfCNBMxNjEVJ+tO9B3DLmE5LckcaNz7H9/f8ikcnziJN3pyih5D/CH6lYJbQ95s/wswssK5RG7y9cl2AwGRpU4Pe0JrOMDyfj4+fYVqZWsJ6LWvZkmg+dxLsVKzdCDrnVG+CLy/fqN9GbBKVIUokz54V3U7oKAObGAt3HMowhYaEYVPPwXh5/rJYVws7W3TcshIZcsq3fdBucFi2Ygj1D8T3yEjZWzo+UjQJ/S1wbszIMmvLcvyvCAMA/BWrahjzd62AAQDqYaX/qwBQD0unNsSSCrXx9ekP+y/pS5alOh/+RzAZf3d8fvgEFxctR+CXr8hRqxryN2skHib7BgzH/T0HEBUWrpwSNc3G3DoNawc7JQhkxuzhucvYPXwijIyMUbBVEwHsVO3UKK9ye+s/eHTgiCjBlezZBSlyZvtlp0q2KYGbVKzjf1VJDZxzYFgErM1M1TJ7qhPi95TbcLQ2h7WGXzC3I6ChDdztvYfRYe1CFGlcV+t8hGwHj/XVCyeXrEXaCuUQ+vo1clUtD5Y+hTOHCjhl719weITIPlqYmoAldwKS+AaJJ14h4QL7UJTaAVGypVVqAzJjK8WXS5eRT6aPMSE9h8JpROjoKcA2/39EWLhwLQn0/gaPB4+wpuvfsHSwR4ivH8KDQhAVHgbnDOnRb/8mOLm5qgFdgrtjc5ehQo/2MLOwEOulWWbnce4eOo4ljTsoz8XMxgYRISGyxAySMfI1rQ8y/K2TOaNs/x5IW7QQIv384OJkB2uVFgwef3a1JoKpzUhfvDAGHdsp6wf9+totTCsfc/1lwKeRqQnKD+yLUr27xPdSxrndq3MXcXjkRJGl5H2UukA+1Js3VbC39RlJGgA2rY+In2ABm2XPAfdthgygPu+XpDaWAQDq4YoYAKAeFhHA/sGjcHvTDq3BnP5Kg14XjiZKLFY/M1MfhYCNUiz+n370aklbUEut2+4NcLCxRkhYGHYOHYsr67b98FEVje8uaLlxJdxyZP0V09Ma0//jZ7y+eEU81PNXKw9bS21NN82d4gI3EgC0tTAVWomaWbBAH1+s6tAbPh6fMeT0HlirOHDInTTJFZ+fvsThafPw8vINZChWEC7p0qJ4q8bCK9guuSuCwiOF8Dcjvv2CqsfS7MW0jAyHrY2VAGFSREZF4VtwuFq53jLIH86p3GUBbHyyfwS5DE3msN+Xr9g+aCw+Pnis5nuseiAjE2PUnjEJ5do1FeVxlrE/P36Gcys3ou6YQbBN5hzrPfT56QuMLVBebGPrngJ5GtTGpcUrdZAyRIOfMtiHWrRTW5Rv1RBumdJrHYdl/sWN2is/H3HtBFLnyKK8F3gPsW9yYtEqallIAjLqMoo1MTVBsgzp0fHANpjbqHtUJ/bH4f3ytfDKViVwEXxnKF0cLTetTOywsvslZQD4uWkDRDxJvAyMWbYcSLEtcS4tel1kw2C/bAUMAFAPS2sAgHpYREBkglbXaSb8cqUSFRvEq00ahVx1aujnIHoYJcjLG8sq1xNZQc1wyZIJPc8chLu7O67tP4QtlHjR0ErkPlaODqg9azKyVasoHDLOzlkE33ceyFCmOIp37SC+Vw32otlamomyJHsJCcBIwIgrjo6Zggf7DiLoi5d4wI67cwZOMs4bcY2j+j2BFC3M2D8oxLJjZG+kbcSDPyoaX3wDQa036hISvMQnqC13d/9RrO3SX2ye7K80yFymOIq0aALHPLnEZyQdpE3lBlsn9TWKa3w5z2iRDY0pxZLAINRjYgb6ju+i3y06PBwWKiBROg6BHTN5zMDFFrrANMHc03OXMb9OS1ltPmlME3MzIZbM7PC5uYtwZsYCDDq5GxmLFYrrlPHm5l0lE5gZdL50vDh1Tud+dGXhuH6eX/Hy0jVY2NpizM2TsmLdns9fYky+csqxMpYrjc471sDO0kyAwDfX72BFq2745vFR7XiWTg5IkTO76AnMWrUSinVuowR/+iDz7O4zGPd37tM6R5LJOh/SbyXBAADjvAUNGyThFTAAQD1cHAMA1MMixgwR5O0j/HHZA0VXjHIDeyNl3tz6O8BPjvTt3Qd8fvAIR0ZNRMDnL1qj5apXEw0XzxYAcGPfwbgwf6nOI1Kzr8qYodg/cCQIKhnMjjimTY0O+7YKFw0Gy5wEUfyvlHGKjVgiHZC+w/906SdIKgxLO1uMuXUKTim1s1nxWRbJaSEkPEqUkAWb2AgK4V1iUbaWxZAZKPEitZnpyhLqOibBx6wqDVFrxABkLVNClDcJDAO8vLF/+iI82HcIHdcuRJ7q2vIyusYUbiAkL0RHwzckXPQvSkEQ62KrWyJHF4Dj55Rq4XnL+SPHZ00pin1g0iwcm7NUXPtCjeqgZJum4OcnFizHs3MK8lPx7h1ReeQgnJ4xT/w+CMrc45BaYhZ2fbe/ce/gD30/97y58UlGvonHaDF/CvLWrCxYzCSr+Hl+waJG7TH62nE12R/pvN7deYDJJauLMnr7lfOQtkAemNlYC4KOb0gYVtVqhg+37mgtA0vVeZrUQ5m+3UGyE4OalvsGjoDHrbvCdpBZ/7pzp8Ipber4LKPaNnyJ/HBT+7h8qWqxaSVS5dPf35OkDAA9m/18BtBtqyEDmOAb8A/awQAA9XCxDABQD4uYxIdgtuafbv3w4fptBH/zhamFOegRqyqqa88H4Z7NcEydSgDAgzPn4+DwcWpSOQQKxVs3Qf561RHk44tzqzfjuYygdsE2zVBzylixKs42FrCU0YCT0xdk3x5dG5id2tZvBK6uV5erGX/vHJJn1C7nqS6/LsDD3jjf4HBRftXUExSANDAUETJZyYTqD3Iu17fvQe4albU8jZ+eu4Q51ZsKR4z+h7erZaZiA2qqpVpRCg4IRVQMQrW1MFNmrWIDkLrKveHsqYORWik5Ibezx4MnmFC0MnrtXo9MJYooz5n3x4W1mwWblySZFuuXwefNOxwdNhb1xgySzQDSUzrAywuRYRE4Nncpzq1YrzYV53R/CVu/II3sdYF6NdF68XRYOdirbU//aBJWTDXuP651oLePcHRJVzCv0D2UQsoAX957FLv7DEKor+IFRDP4gtd09WKkzJsLq2o3hced+2q9iY5pUqHrib0iC5mQOD19Hi4sWKaVVbV3T4HuZw4keLzYjp2UAeCX5j8PAJNvMQDAhNx7f9q2BgCohytmAIB6WMQkPsT5eUtxfv4S4YerDCMjWDk5CBkMaycnIRHCMl3xru2Rv1J5vH35ErPyllK6Y5CNOOjkLqTImlkJFqjjtqX/CNzare504polI7qfVnymC0BJFmLSfCRgJkmXkGm7dcBIXN/+g9lZuHFdtF48Q7h6aIbIaEVTH5BZR3XPY6l/jllIWoPJOWFIfYGq4ypEhMkk1iZr6Cr3UUaGVmrC81YjSD5gTxu3yV6pLLpvWwXzWBiezCZRoFkzgsIi4Bei6CekfAllTOKK2MqTYUFBsEhkD9unx8+EZl+Xzcu1RKLp9DGlTC0U6dwOfxUugLTpU8HKzk7cPxSkZg+dFJHh4Xh+6Rr2jpmGt7fuyZaVmQVrsnIBDg4ZAy8SOGJA8MATu5CpeGGtJZDzj1bdiC9GvGE07wcSdrz8g7Cz/wg83HdQZEqlvj/V/d3z5BRWcHQWCvHxVTu+sZmZyHoW7dQmrkuj/J4El/1DRuPRnkOiX1IKMpULt2spRKf1GQYAqM/VNIz1u1fAAAD1sOIGAKiHRUziQywuWwNeL15pzZJZDLqevL9+S3j5Mti3WHPUEORoWh+0k/O4fVd8XqlvV9QbM1hkD1XD6817jM5TWu2BlSp/XtEYz3C1s1Japanup9rTRkkU9rNpumNQhmVU7tKIVpHfyFmtIrpuWip61/gAYwmX4CYgJALBEZGir0+UnOkaQqbud4iSXnhktGDfUjpGzq1DFVRJ8+R2rnYsX6sDSn4fERmFqNBQrSwfPYjDg0OQSoYJ7fvxM8YXqSyysC0XTEXpDi1l7xxR8o2OFmsqV56lAwn7GMX14tpZmsVq78btCIIZcufi8fCJcAFhJozEDZIzqBsYV7CH8OSiVaLMXbxlY63NeR7bhoxDYGAIKnVsIbJtqkHRap4nhaupb8ggaNzQczAeHDmpNR5fUPpdP41UadJgQsHS+HhbYXU49PwBpCugPjY/5/pJ48Z1LprfH5q1GIenzhX2c7qCzPnKo4dgV6+BssSUPI3rod7cqfE+9NoGLUX5l9JMUrCHsua08b/EbSQpA8CvLRv+NAnEddPOeK+9YcM/bwUMAFAP1+xPAoB8uNtbWQgyAYNlPcpqJPQPmR6WTa9DEJiw+ZyAg4CGEiUUMk5osMRG0oZb9qxqQI2sX5/Xb5XDuWXJiHJd2sLa2RGXN+7Ak1Pn1Q5Fe7bupw7g8vK1ODd3sSgVDzm7H+kL5dOaErOA2waPQfmu7WCf3BXhoaH49s0fzjlziG3lAArPkcb3PE+GLlZssJ8/FjVsj5eXr6kdl9c7f8PaqDN+GFzSpPxBfIhp55Ns5LgTgQ9LvwRNzKW52lupaQcKoBCtcIbgmku2bsz6sV+QJVZz0x9C0dKYlFp5d/UGUqVNqSg9EoR6eQviQKU+XVGqfXMtdjHBzZCMBcW5dFq3SPTM6QqRsSOpQ8adgtnKgBgxa56TvVE0rOxsYvf4jaKrMrTAOPUw90+ejaMzFwkgx5Jlg4nDRT+dqjQL+xjJirV2cBD3Fv//15dvMLNKQ0x+clWIZmuJTEdH4+2Lt1jXsgv67tsIR3dtKSQ5z2TKs4zOU0YAe9Vgb12fyydEi8KG3gNxceFy8XWFnh1Rf/wwmGlkU0P8A2FpZxMvrUXV44SFhGJuzaZ4fVVb11N1O/uU7sIFhNqHwTF9sNL3lFuqPmk08jdrGK+fMSWbNjZrr9TtlHaiRme1ccNRsHWzeI2TkI0S+nfTzMwMrq7ybisJOW58tiUAjHyaeBawadYcMADA+Kz0n7uNAQDq4dr9SQCQ2SSW5aQHDYEEe8kofcGHwqdPn7QeGnpYol86hORWoZqZIWghEYFZq/gEGb1b23WHn8cnoWFHe7IyA3qiQPNGYve9/YfhbowqfvkeHVB9UG/YJ3cR3wX6fBPZlrWdVcpLRkawd3dDgZZNcHvrTtjY2WLA0R2wdXbSmg5BGo9ppyLpwVIsJU8I8hg/tPsUZlxhbLQP/lGOZlmWvX+awXW4e/4aDo6ciI93WBZUBwTj719Aco1Sq1wvnWq2UbIFk9ab2/P7r4GhsDA1Fvp8CoKIkehFFKzlr14wow6eqakAQVd37kfW+nXx9flLbG7VGfYuzmDJj2LRfp880WvPRvyVT8H6VQ3fj54Ynq2oyEzlqFQWnTcskXXJiO2ac65egSEisymFz+s3CHnxAmnz5RZkGVvq6sVk1LiNdD14LuzJlM4vKipKeO7OrNRA6YjD7SnO3GXjMqTJkwPMQLFf9NK6rTg+f7nw9U2ZIwsenTwvCBpp8uQUrQFyNnNc2xsHj2P/8AkYeHwX7N3iBx4oPE1g+eXFa7WlcEiTCn2vnETKlCnx8sFDLCxbAyE+3wRQ7X94m8i6WtnbifuRY+wYNkF4E5M4xLYBuXuD2/JaS5lC/n+PR08xuXi1WH96vN55G9dD7RkTsKlVZ7y5eFUphs4dTS0t0W7XRtEjGJ94sPcgdvX4W3bTvE0aoO6cyfEZJkHbGABggpbLsHESWwEDANTDBflTAKCVmQkcrLQ14CRGqatbij8SALLESHChGXIkCV2Xe0X1RsLxQTVYym21ZTVS5MouPIHpVBLuH4ARFw9pCQizIX5Rw3Z4fV3d19fM2hpF2jZD/eH9ZMEfj8fsmaaHKj/XlC0h9CP5gtdLk2tBezcCE83ypLQGy6vWh+fDJ3DNmE6UV1lKTVcoH3rv2SDrcKG5Tnzwh9GtIigchNSa9m/8ntk/Zg41CSJi38AgEOieXLQSZ5euQ2RkJDKWLYlmqxcJTcXS7ZqjTOfWsHF0EILZLKPKkS4470klqglAVaxVY1Ts0RHJ/kod7zKlotQdjsAYYK16nts69ID/Ow94vXmLFFkyofG0MXBOmxp2KVMIAMiXpZCIKMEktjE3FWsdGhGFB8dO49DwcQgPCESof4BarxsBm4O7G8wtLVGgfk1RJr64dit8VTQkqXXYdtls2VuTx7y8+xC2dOqL0ddPCPKLarD8qyoqLn1HMsi8Oi3x7Nwlte3Zp5qhbElU6t0VLvnzwPv1WyyrXFf0tnKc3NUqIF/tavB6+x7nVm4QbOToiEgUalxHuI3kqFRGsISlnj+KWb+5cVsAzcwliwqA+OTcJdw/eQEEZFphBCH5wn8p8+VGoyVzRDaUpfDNrbrg9aUrpJUrd2PJus2OdfFyGPJ89BQbmAH09lE/Z0sLVGUGsFVTPfy1Vx8iKQNA71bMAD5O9DmbZs2OZBsNJeBEL+AfsKMBAOrhIv0pAJC2WbS2knu4UxrDySX5HwkAdZEkArx9cGzlJuRtXF/05ekK71dvsLZ+S6UUi+p2OepUFw8pAchCw/Dl9h3kr1xGtr/r3KqN2NxnmNZheu3egFxVfuilSRuIPrUYmzK5vjICja/+IaravLHerQQlNiyDx+j5ErSwzEoQcXrCNFTu0R6WtraI/h4N3w+fcGrxarRcOBUW1tbx+hVI5cTgsEhYW5hqATQCWZ5PbO4cLOHOrNxQOEhQl6776QO4v2krqvXpHC8SBXsaFzfugB47Vgt7NPb3MRsogaC4hJl5DsycEsiphqOVOaICFOAtMiwMV7ftFmSK8j07odGUUQKgc2yCb4I+iUDCloFj46aKTKZ/TPYYMb2CHL9ku+aoP2EYrOzthfUb58qS/z9Dx+H6DoVW3V8F8qL3nvVaos5SZtXjiw8WlakhRJYJFAkqCcDI5jUyNRPMWTkijPfbDxiTv5xaZlI6Z0t7OyTLlAFtd6zHlyfP8E+3/vDz+KgGXgm+eM4Bnj/kjmySOaHZrAlIX6Sg+O7u/iPYNWqK2jFsXF1Qe8Z47Ok7VFixqQavU9HObQVRiv1/UnBdFpSoAr8PHlr3YpbK5dFs7RK1z3mP0auZ2XC2GUiMbpaS2Y+r2vNKuaWux/eKrKy+IykDQJ/WPw8AnTcYAKC+75mkNJ4BAOrhavwpAFAXUUABFELx52YA5UkSH+4/FtkiG9dkwk0hc8UyslebTeObW3fRelhx47TFCqPdzg3K/QQJQrBgtZmlR+csxe6Rk7SOQe0996yZdd5puuRL5ISL47pdOStmAwn6ImMyKSxXOpkbQ1PMmF6yti7OsHdVlLKVwFRHVkkVuOoCWnL9aJpzPrt8vWA+2yR3QevNq5HMxkKUSuMKgoTD0xcgT83KomyamOBaf/YLVgPVzJzyuqqeE7OVe8dPR7W/e2rpJvL38i0oFF/evMOa+i0R8MlTdioESsXbNJEF2N8+fMTofGVBL2jG4FN78FfBvGovFuGhYfAKVbQAUBdzb7+hgjBTtnMbuKZPCxMnZzhkziTuR2HtR/q2SjDTu67b37i5c7/s/IzNTFG6TzeUHdBLAD+SlZ6fOo8vj58gX+3qKNa0HqLDFPNj5pXuI5SV4RoSHDLbGRmq+F41KLfS8/wRrKzRSIicawblXXpfOq6WuRTi6lXqI1AFbEr7uWTJiB4xjHh+xp5SGwtFBpZz4b0eGBohnGK4ngTkL89eED2l9DeuNW2cmO+viKQMAL+1afTTGUCn9f/8imUzjJlEVsAAAPVwIf4UACga+NkDGEMA4alLpTtmiqQeQDMTI9hZmIPETfbQsRctHqYTeljJxA3B0jaJLaqZJ/qrbuozFLf3HBKDUnC218Wjsn6pfGgsKlMNtExTDRNzc1QZM0TIR6iGXMaRYG1dz8G4vkHB3FWNkVeOInXu2AGOJgiUHmokK/xskBzDh6YmQCDICY36DgdHO2XpmKVaEjGYWWPpUg7oxaa3xwyZqUw5XvUc7h48jiVNOsApXVrUmTMF6dOlQoosGeM8TZYlJ5esgdHXj8PRPUWc28ttoCmdw95KZk7lztPnw0dRHrew0c6QkvG8ql1PPNp3WHYeJHSMvHJM1kGDO4QFBWN5q654eOyM2N/S3hbNZk5AplJFRQmcmU7L9OkRGhwistfsr2NW64MQSo5G6oL5xL3M9xC2deiSsdkxZBxOLtRtf5Y8W2Z0O6kOEHmv8J/mSw7nfO/Qcazq0AfWTo5apVaeB319C7VuhuoTR2FxuZrwev5Sa33oyNHtxD61rDxLwMwA+n/8pLV9sozpUaBFY2SvWUU4w5DwJCdT9DUgVCFK/hvDAAB/42IbDqX3FTAAQD0s6Z8CAHmq7NFysDZXgkACPD+SCYyMBAD08/4CWwtzJZiStOE0m+b1sGx6HYIg0NbSHKHfvoHg79DUuWr6dzS6b7ZuCf4qKm+fdX3dFpyZMU/0+ol1MjdH8qyZhbAz2YiqwQybyAISURvRPuw7/EPD4fnGQwjaBnxWZITYND/gyA6kzJE1XiLBBCfi8fUdCAwNx90jJwXzmFlI91xxZ8h0LShJGcz+agYflr5BYaJ8xgd+VFgY9oyciEtrtoAlwmkvruskJugChl8CQmARpGCOEjhpbkcQsbnvcDw4fkY0/6fIlQOBjx+hUMPasd4PCnZwd3i+eoPh5w6I8m9iQuqJZMaPLzpsiZArv3NsEjwoJ2KmIdvD7wgApxavgq9PtTNc/D5zqWLosX2VlrCyNGcygJc274ynZy7CwtYGjWaMR7ayxYUDx8fX7/Hg6Ck8PXpSHJ8kkmJd2qFoR3U9PMWLzw/pH821JoljVrXG8HymDcKkebjlzIaux/Yol5K3NF9whASQTLCEv77PMLy9flvWCtHSwR6DHlwR2b21DVvh3ZUbWqPYp3JH74vHtF7Gjo+fhhsbtiEiWCGnJIJZTU4q+jtYWm65ZCbyV6ugzZb+/l2U5SXSVGLujcQDUModAAAgAElEQVTsk6QBYNtGiPqJHkCTrNnhtM6QAUzMffGn7GMAgHq4Un8SANR1uuIPWYoUiAzy1ZL4IMDhA49yMUk9dnTti8cHjmpNkw+m5uuXIU2h/DpP4eO9B7iwYLnoBcxZpzoKNG+sBf5UdybjlU8nggop7/Dp/kPBJg7w/Iqum5cjX+2qag8rXWLC7J+j1h77y5iJ3NC0Hfw9vyAiKFhkSlLkzoHm65bKZjDjuiYsDzrqIP98DVBnw97YsBXn5iwW2Z3WS2agWPOGWg9byp7wPFQlQ6KjonF6+Tq8vHYbLWaPh4WVlfhetSQcERYGzxevsX/GIhTv0QlOaVILAsDevkPRbe18WSIHj0PiBEEjs0QlunZA1pKFYSHjjBLXOghmeFCYeAEyYqbSzEyW1ao6jpwOnuSFvLphG7y5dFX2sMnSpsbg03t1AlWf9x4YmauUKPlSg889W2YlsSIsOARnl63DLpV2At6/NaeORc4YT2ziIgHUZPQVOSHhqXzwONZ26qs2P2Z2c1YpB2tHR7y4dA0FO7RCkfatlNvoIhNJG3A9Xjx4ihUN28iWvp0zpEOv80fE5u+u3cT2jr3UZFnMrKxQoFVTVB07VGvdmNk8M3MBbm3eIfptw4OD1Zx2uEP1oX1RZ+TfBgAY183Osn3bxoh6lngSiEmW7HBctyMeRzJs8qeugAEA6uHK/WsAoFtyRAUHyDbxJ4RRq4clTfQQfOhsbd8Dob5+amPQX7fXhaNqIEMSC06s0K2uSS4oUVmAuPlfn8oCNrk+OcqLEIwx1tRrIRrZVYMZSfZqlerdJVFro+kSQsAZHC4P6tm4//rCZZDhWbRaWTi4uQmhYcnJITQwSEiF8DwIgAlUTy9di6MzF2Ls7dOCQasakRER8Hr9Ds+v30HGmtVwf/d+nJ25QPRrsWSYs3YNNBzZH7ZODrLnxowunTaosUcWa5DPN5FhopA1s4yi4d/YWAmg6IgRFhQCc2YgTUyUbQ4sp9uZGsPaOmFkADJh+YLETJxYt4gocKwjoyfh2uqNsgLGPJG+B7YgS+liWoQh3nd0NJlYtIpgMtcfN1RLf4/fjy9cCSEqJAqy0Xue2CtknNjXyeyfXCaWpfKdwycq2x84F+f06ZAqZ1Y0nzkOJHJQcoZklDd3HsAyXTolISM24W4JWD66ehsfb93F+xu38fjUeSHrw2BPIdsl6G8tzevxoWM4NXUOwgODhARQzro1UHHYAFnmMjPnG5q2F6QTegPLhX2K5Bhz46QWc52gnNnn31wBTrB+6u/UATQAwET9qfxP7WQAgHq43P8aAJjCDVFBfrJZhdDwSPio6M7pYdl+2RBsAr+/+wCCvnqBIrA2yZKh4dLZSFNQkf1jduHAkNF4c+kavkdHwdbVFbVmTYR7zux6mdPcQuWQvXxJtFs+R/YBHRYSgve378MlXVrxwAr09sanNx+QrlxpBAcGYVGpamrMS2lSrlkzo/sp+Yb++EycjfNkTopjhkUIYefY4vCICbi+dhOylS+FQo3rChFrkalS1ceLisK5FRuw7e9R4jtqyVHMWjMenz6Psxt3iszqrp4DlaV2bkegNuLKMSRPn1a+51DGzo0EB3rwGpuYgpZ3b2/fQ/IM6YS8yoFJcxDg44ue5w4J0KEadpGhsHNJFp/lUm5zftVGPDh2RoDepxevCNu/bDWr4drq9ToJINyZ4LTt8jnIW6uKFggkeD6zbB3cMqVHzsraDHFm8JY07Yhn5y6LebAk//fRHXDLmgnmFhaCjSxpEWqezIHJc3Bg0g9ZGQKzyiMHo3b/rloSPdSwXNdtIMqNGASKRDN0ySrxOwJxY3MLoZEYFRGOQC8frO3SH29u3RNAnJZrvD8oNVNj0hilmDqzxgTQsbG05V585C5UuR4dhESP5EYjCb9rMrsTdJETuXFSLgH7tfv5DKDDWkMGMJG3xh+xmwEA6uEy/WsAoLs7Qv28tRiRkk7gt0+e2DtgOL4+eS76clLkzI46syfHKrGih+VN1BCUtHh+4izofZqlSgU1CQiKzr4+f1lNKoKSJJ0ObhfSJD8ba+u1QK9tK3WK9n77+BnDMhcW/WFdtyxHyuxZYEOZGmNjhIdHYlz+cvB9915rGq5ZMgnZFNXwff8Bno+fiYc3exb1GUsr1hESIVLQrcI5TUqtQ3i+eIUxecsiZc5s6HdwixarmDsQyKzuMkAwsj1uKazxpCjXtS1qjxoYLz1CXedH72DqML69dRdWjo6oMKy/0H1jrx+BL2v0ASGhMA8Jli3LaooZS8dhlmxu7ebwuK9eSiOw/P49Gt/jcJtxy5wBfx/bqRQNV53/uzsP8Pr6LcHq1Qz/L18xq0ojeD5X2A9S8DpfnWpqQFKOjBPg5YNpZWvD68075ZB02+h34TBSuDrLstfJEl7dsS9Yvq00chByVSkvNCU1wZoQ9Q4J0ZLrCfLzx7hCFdVIVBR5zlS+NJqtWRyvWzIsMBC0Wwz4/ENyRteO1i7OGHTvEiwFuP+OULZg/F7uh3JqSRkA+rdv8tMlYPs12+N1/Qwb/ZkrYACAerhu/yYASCcQaqKZ0bpLsIQh7MaCQkJBQOD9Ut1ZgCxCamzJidHqYWn1PgSB4apaTbUb2I2MRJN91XHaOn7se6JUDA3t2UOoSQrRnGT4x49InTmd6DHTDBILyIB9cOQUms2egJLtWqiRDPhQv7X3MFa07Kq2K7M4JXt0RvnBip4uzonabSwVs2TLzAvZki03Lhciu3EFS2wHhozBhxu3BZCxd3cXgOnFmXPiXAU7PDBITRpn8tOrcE6tDQC/vHwtbMf4MBx39yySZ0yvdvjQgABs7DkET85fAck43i9/eCqzFDnuzllZYBnXOWh+/+LKTWwfMQllB/RE+pLFhCMJ+x+lTBFfZNjfqZmhZG/h+dWb8PHJCzSePhamMZIwBH8X123FnjHx96LVnFNsbOCHJ85iS9/hwgXEQeXFg0DrzY07mF6+rnI4XeCbZXkJ+wR89cKljTtwY/ch+JFN+13hS11vwQykzZ1deDjL9QzePXBMZBsZ1smcBWjLVSQfrO3U76Ng/wBY29tpXRaW3EnQuXvwmNp3tm7J0eXITqUEC9UHBLvYCIKswX5XKXgPLy5fE4GeX+O87JKbSZwb/oYNDADwNyyy4RC/bAUMAFAPS/tvA4AisyAIeApfXcbD/Yexb8BwLWN3PtAbLZuDjGVL6WElf/0Qby5fw7b23REWEKR1sHSliqHNtrVqn3+8c18ArVB/fwG6WIpjj1OOWrptrsgQlpPl4Lo+PnUO8+somu4n3L8AVw0bNn4eHhaO0XnLCpBKUWIe0yVzRrTZvk6AT/aA3d+5FwfHTEGw9zflfAnCKZXRaOncWBeS81hVszE+3n8kRIRjC44p9f71PbAZ2cuXVtucYOXKpn+wvpvCgitvrarovHGJyFSJ+ycqCp+fvcSEwpVgYmGBtIXz49V5RVmTkb5IAfTatS7W7J8cEUNuzl7vPuDakTPIXa+m0DykvqAm4CGbODwoROgfskRLKRz68c6q2ghWzk7oe+k4rK0sEBkSKogObzV6MRNzh/bavR7ZK5RWy96xdHr9n33CWYOlZf5jbyVfMjyfv8SKNj3gmv4v0cMYFBCEfrvX6ZSU4ZxCAwOxf8JsnF21AbWmjUfmCmXE2tuolLvl5IvYv/f+3kMhR8M+zuBvvvirRFFhiVeyWV04pnQXp8zPqatZpGk9rSVg9nR1hz5aeoMS8YosZ3t7W/yVNaOSXcxeyvCoKCFULgXdaj4/iJ20YGpliSIdWqHS8IGJuRR63ycpA8CAjj+fAbRbZcgA6v2mSUIDGgCgHi7GvxEAai7LycmzcXGRwjheMyqPGozi3TroYSV//RBB3j5YXrmeVo+dsakJSvftIbJHUrBvaWHpqsLhQTUoKtv58D86y8WUXGH2STMIPqaXrydcMBgTH14UfYCaQQcQD89veLjvkHCYyFimBNKXLiHADEEN9dnCg4IFQeDEguU4tXCVcgiK8Pa9fjrWXitmDbe07SYrfK05F5Y62aPH9bF1SYY+u9cLIEKAx4e4n+cXjC9YQUlWGH7xkAAPqkESBzNM7NOrMnoojo2fKvowGckzpcegE7uEvZhccM0IPNhfaJfcRfSe6QKEt/YewuoOfWFmbYXaIwagQrd2smNSG4/j0vf26bnLeHziLMztbFHu714o2qmtcp+NLToqwKoGSE6RNROazZkEMn05l+s79grwRHBunzIFfN95CC/dlNkyoWTbZvgeGSXOkxp2ZOEym8tSdfrC+WFl9yOjxrLvokbtYWZujrYr5sLawV60WoQFBiPQxwdp4/DEZSbzzPL18Hj1HpVGDdI6d7LWzYIDYZPMWbmO3Ig9e9yXPstzazXHdxMTZK9RBefnLxXEG15rCkGnyZsTffdvgW0ydVedYL8AjMxdUu1lhOMym0gASjA95OQuLftEvjzQg1zqReW9vqV1V5Tp0BwFG9QSBKqvr99h95ip8HrzXvz/TOVKoea0cfG2/vvVf1GSNADs1BTRP8ECNs6SHXYrtXVNf/WaGsb/fStgAIB6WOv/AgB8fuIMdvYciPBAdXYe3/KbrlmsU19PD8ur9yGYyWRGMyJYwbplkCXc5cgu8HykeHrsFHb2GCAeYGphZCSAIlm5ciEeCo62gmAi9VGRtPDo1DksbdpJ7MLMDjNDOWXcSUIjItUyI9IxyOQ1N1X3PGbP16KGbUXJkGGXIjn6Xjsd6wPy5oatuDhvKcp2aQOHlG64sWMfHp88J8q+cpG/eSMB8FlO5D+ptMrtyeT1uP9IABdrRwcB5uQ0+u4dPoElTTuJ7NSR0RPV1n7661uyxBGSO+bWbIb3dx+KfkqWy20c7UHDuRKtm6plDQlQZldrjC8v3wiR4mHnDsBFhlRC4ghJDxQIJyuWbhtG5uYo3bsrstesqnb6LJNv79xbuFkEefkISRKn1Ckx+OQeOKVWZMYYUVHR+Oblg1ATM0E64X4Olmawd7KHaQwJhdfp2o69CPsO/FWiGFK5OcPRXbvf9Pa+w0hXIK84jmpQf4/+x2TBytm+SdvypcWPrGlrW9lreXLyDNhaWqBUuxay2Wf2au6dvgB1Zk4E/bGZhVaNdqvmoXCTesrMKsvqUZFR8P/kCfbxnVq0SpTNFTe5keghyVGpLLpuWib0DjUjJDwS32LIZSG+foj66IF0+XIJDU0pIiKj8Oz+U1i7JoOFrfx5yZ7sb/jQAAB/wyIbDvHLVsAAAPWwtP8FAMgy4PJqDeH5+KkyI0IQkzJPLnTYvzXWjJMellivQ/Bcrixfi9tbd4rMh3vuHKg6dphWRu/ezr3Cz1Suw7xw+5bC7UAuFJqKbgj28wFCQ+H/+Quub98jbMyYMWKwMb/PpWNI4WwvMnrsU2O5XegBBoeBsjCqcIwuJ3IOCBzr9r4jWNa8sxg3VYG86Lg/9rf2wHfv4ObmIrI79JSlzt6bm3exoF5rNS9YjmdqaSn05/I2VpT+zE0pgk0nhh+2Y8zkPDt3SUiP9Nm3SZZl++LydSxt2RUZypTEvR0/hIc55rjbZ+Am4wRCssy4AuWFODKDJVqCBGbkCjasjWoDe8Lc2hre795jx6Cx+ERyEoD+h7Yic+niSlkY1WtEh42946ajzuhBsLSxBpsdLBwdlJ7JcteTIIjZqRMTZ6Jq3y4o1qy+1mYEgUKGJMaKjyQKzfKzn+dXTC1TE2ZW1oLR6+CmzZam+wit+aiPqBoEdjuGjBW3YuV+3YQVnK7gXLyCQkHLOs2gsPiKGg0x8tIRUWLWDMrPvP3gKQhFz0+dw6Hh40S2mfcJwX+TVQtBYotCWPy7YJWrnmewnx9OLliFg1MU/tkMZjpFmV/Gj5tsdPYY83e4uUVHdFm3CE4p1V1e+KIREBohmOtJLZI0AOzcFNHPnyR6yYwzZ4PdCkMGMNEL+AfsaACAerhI/wUAyGViZoMSK+yjY7Dvr/KoQaC4678x+OBfXrWBVhaEzOLmG5YjdYG8sqet+lBgKXBzq87CwoukCgbLYuwjzN2gtui1ZL8ggRUfpOzvE3W/798REhGpFN+mQG8yG0tZFufzC1cxu0ZToeXWassquGTKEOvlkOsFY//Z5r7DcG3rbrV9k2VKj67H9ioBCedgYaaeheQOgT6+mFu3JXpuXanVq8bs597xM2Dk4IjbW/7RIhKNuHxE1tuXYGRU7tKiD5LhkDqlKDOSiaorqHE36soxrXIjt2f2b02HPmg+d7IWQ5tZpq+B6ple3uenp80VQsbMrFYaNRg5C+aBlYyOYGRklJBJov+yPa33LNUBHI/PF491XQfg5q6DGHfnDJzTpNI6DfZL6rLFIxnlyMxFosTee+8GnXI2BEweHzyxc+BIvLt2S7DdyYSvMXGUYMOztSBfqSKyGcDQoGDsmbEYYQEByF2/NpJnz4Ivj5+J8jZJRqrMYF0OMxS5JimI5BAG9xlzi/qQ6nZ/zB56BSqA6oO9h/B41x50Wb9E1j3l5dWbOL5io2ghoG1eUokkDQC7NPt5ALg8JpubgAU/evQo9u3bB19fX6ROnRrt2rVD9uy6JbYiIiLwzz//4Pz582KfZMmSoX79+qhQoUICjmrYNDErYACAiVk1jX3+KwBQD0v1xw1xZtZCXF+zUalbZ2Fvh0zlSqPB4lk6s56aDwU++J+fPCsEkNkXRbaxs0bvH0V9mVWRGKtcKGbW6L4i2VvJehBHROLsms3w+vQFhdo0h5WTY6xrrHB6UM/gSTs8OXtREFRYxrR1dYF7npyoMWWM6BmTQq4Mze+kh7mZsbFw2pCyQiyx+nh8gqeXL6hjuKRCbXx9qsjUSVGpbxfUGztE9MdJQeD86PhZLGqk6ONjH2K5gb1xddUG+H34qPMc2VM56NRuOLhpW8WR7MBSeekO6t7OApzFAG7fYAVoeXr0FPYPHKHmYkHgPuzKMbi4a4/t+8kTKzr2Rb3505EqjbsA9ZoyKjwGtwv1DxBglJk0S42SJs87MjRUq9QpZGGq/rB1K9+9HWqPHCjAkuZxCEbn1W6B5+cuqa0TyURdju8RDizJHe2AiHCYqLQUkKF+bdturOsyQLyAMOOXtWpF1JoxQfZe16UX6PfZU/S6MtsqRfKM6dBjxxpxL9Em0MjMDAEh4ZC0+w4NH48Xx04JVxTN0jjndWLeMuweNUXcmx0PbIN77pxJ4m9JUgaAgV2b/zQAtF22JUHrfOnSJSxYsACdOnVC1qxZceLECZw8eRJz5syBi4t8n+/06dPh5+eHpk2bIkWKFPD39xc2jNzfEL92BQwAUA/rawCAeljEJDzEx7v3cXXlBvFgLtCqiShjxiZom9CHAk9dDtzx84ioKNDknqHwfmVpUVF+ZbmYhBFmUTSDJcOQb99EtpFyNBKbmxnGZLYEgNper69u3MHbl++QpXJ5nbI+dhbMbmkL+kbGlECZJT4xbgpylisptO/uHzsDt4L5ka16ZTHFy0tX48zM+aJ3kEFQMubmKfHQl9ZUeCt//oIxLP/6B8DWzRW5qlZClcmj8fH+Q/zTtZ8gsDCzRckbkgMIqCJDQoR3Lt1INMubBFZHZi5Emjy5kKdGJdm7jevJMiP/LSlfS/T+aUaOGpXRec0CWKn0s9HfmESQjT0Hwz1PLgw8s094DMcWfMAF+fjAxllByFANvjBIbiv8nL2Qd/YdwYaeg4S0ixQkxYy4dEQNMPGlwfPlG4zLV1b28GmKFECHPVuE7WOIvw/MTSj3pGg/eHnxChbUa6PMuIrr4+ggZGHSFimoNZ4zZXZkPKZZxh6Tr6zyGks7ksGbt3Z11J09CZFG6vcf2zEODx+PTusWIkflcjC3/OHWwozilNI1hXOJ+B04OQq/4aQQCf2t/04nkP8HABw+fDjSp0+Pzp0VLSmM/v37o3DhwmjRooXWJbtz5w7mzp2LhQsXwjaJ9XcmhfvrV8/BAAD1sMIGAKiHRfwXDZHQhwJP3c1e3tdVAlbKh6ixkQAXBIFsoNd0PyB4ODp2Cp4cPo4K3dujaNP6AmSZ2ViL7dlL5WpnBWYCVYNluG9BoQiPQ9iY0NNFeNAq+hYZBGwETwFhEVhar5WiRUCFOcuyY9tdm5AyT05RBt3VaxDeXr4msqoNp4xE+W7ttQA1fYMHpy8Alo/7Xj2JLPnzgRqV4ljUZbx1VzCJJV1Gz4dPEOjlhWTp0+HV0RMo266ZUnyZpUha0U0pUwv5aldDi3mThQSMXEjrPadQOQR8+qy1yV8F86JI0/rCvcPcylKwfUmi2Tdhpjg3Gxdn9DtzAKnSpoyTqUqQrtnrJx3Q++17vLv7QICzM8vX4dOzV0hXoqggL/FFRAqWkVsvniGyiTz+q+u3cXTucny4rS62LW3PPsqBdy8iVerUYj15F1Cf7+Wlq9jQorNseb3B9HGgWDcvd2i4wgaPOFTuZYJgmMLSlJfJVKKoALK3j57C62u3hI8xnWAI/qlbSeAuBa/lkoq1BeOe90Se6pXE+nm/88DGXoPh+eylcltKE416/0jr2vD82SOqOfav/NOS0N/6bwWA3Vog+sVP9ABmygbbpZsREkKLvR9vHjwH/tOMyMhItGrVCgMGDECRIkWUX69ZswZv3rzBuHHjtPZZuXKluA8zZMiAc+fOwdLSEgULFkSzZs1grlIR+JXX8L88tgEA6uHqGwDgzy0igQT7yvhHJiwiSo388HMj/3/2TuhDgbPUVVpNqAXfySmzcW3VBhRv2Qj1xg9VSInEBLNDfHjTOYG9fKpaj8FhkfALDhUAgFm1WDOcAJzYC0ix8BgQyEOw9LiuS39c36beR8jvmP0Z9uyWMrNIQe7PD5+gRJ0qsLDUlszhXFe06oaXN+6g//UzcHd3VwLAuK4qmbt+b96iSv/uSJY6FchAvrJ1FyLDIhAeFISBx3ciXaF8siSRyKgofAkIBf2cv7394cbC0iOJDGny5oKdi7PQ3fP79EXIpnxTKUlnKFYYDedNhmtyF1n3D825y7l5cBuyfodk/JF1y1y5HJquWoSTk2fh0cGjoh83zM9fi7lNBw727X2+91DnMjn+lQZ5alRF4W7tlTqBr85dEoxnqU9V2pnC2KXat4BFDCtXML+jouAVqOjLZAbR3tocxt8hsrV3Dx1H1tLFRH8jiSMMtgfwxeP0kjWCfEXCB8EdfYErjRiovIfon72n/1DRI8r7isxiOQKWkYkxRr1TB4DX127G5aWrRN8h7QFz1KoKylP9aoH6hP7WfysA7N7y5wHgkk0YMmQIXr/+YQDQqFEjNGnSROv+8vHxQbdu3TBhwgS18u2uXbtw9uxZzJs3T2ufSZMm4dGjR8idOzc4Lsu/q1atQs6cOdGjR4+4fuqG739yBf5VAPD/1XxqAICJvwtp06VwBzASwI8PGMpChEfGLlCc+CP+uj193rzDu2s34ODujuKN6sHzyxed0iqas1D05v1gjnIdmJXz1sHm1HUW84pWED1yLKtSO08z+DBmqGbv/ILDcW7paqTPmUVo2zHzFBQRjRx1a+pcrOT2VjCVKSO/uXkHU8vUlt2P+m10G+G5Pdh9AHxo9921RpbMEB0VjRWtu8HE0Qk1p4yJFwAkFjUODxcZ0Bvb94jsoWqkKVwAdu5uCPT8gt7/rIGdDCv11bWbWNSkI7LXqob7lG2JkT2qMqA7ag8foGYpyLFfXrmBGRXri2xW793rkTpvTtg6OwnmMsEHM3zU0ZMLXeCP2769cx9TStZQ7kaw1HCxwt+X1y703TsYR0Xi4+NnwvfX6/Vb5bYpcufE5/u6AaC0oWOa1Gi/d7MgD0WFh2NhqWogMJeCYtkjrx6HYwr1nsfwkFCcWb0ZmevWFL2K4cHBWFmzCbxfvEKjKaNQvnt7rewnGd3ji1TW8oAu1rkdyg3qo7Y80rpoWhFKG9Gusf/Ns8p9Hh86hv0DRyHUz0/5GbUgi7RvjYrDB/y6H3wMwSUhLyd/IgCMbwZQAoATJ05ElixZlOtOAMjsHku9msFtHz9+jBUrVsDaWpGVv3r1KmbPno0NGzYYsoC/9O4F/jUA8P/ZfGoAgIm7S3X1o2mWPRM3+q/fiw8qWqn5eXwSzMoPt+4g6Ks3zG1thINC843L4ZBK2zpN18xYVrWzNBelNZZiA0MjlL178TkblsBmFyiDoK9emPDgoqxUiBzoIPMzIjhYKcbM7Juvx2c8u/8EaUsU1To0M4cEgHJ9hJ+fvsDYAuVlp+uWIxu6Ht+Df7oPwIuTZ0U2ru7Ywag2sJdsCXhuvbZosnqR0ISL6yFrZW4Ce0tzkdVkholOG5v6DMODIyeVc3HLkVXYFjLk7j1qCdJPmGQRShwVad8ST46cFOP1379JCEdrBoHN2PzlUO3vnqjcr6sakYXrSGBFu7uEBLOLK9v0xIOjp8Ru7MNrvm6potwt08NJYsmSxh2E0DYFuwme42uOm7dpA9SdPVkch2X53b0HI8jbG1ERkSjQsDbar5gjhKk1486BYzg8dyna/rMBFxetwOkZ8xAdEQldjG5K4Myq3EDoNKqGZOsmlRhVM8p0H5lfrKJaVpKyRD3OHISjCoOaTP3PD7RLwvzt9bl6Ujabzd/Ku2s3hfVc6kL5EvQ7VZ1/Us4ABvVkBvBpQm49tW2NM2WFzaJN8d4/MSVg9v49ffpUEEek+PDhgygjM2PI370hft0K/GsA4P+z+dQAABN3g+qSy2A/GbOAkkNA4kb/tXsFfvXCxuYd4P/RU5F5EMbJ6sckIYCOIb8r2Bs3JWM+AVgGntiFTMULax1aDgDqykS9u/MQpunSKcdgf9WVFWvx5uJV9Ny2Eo4yOnb0+51brbHsKactVhg1Jo/G+sZtEeztI7YhuBt946TIPEoP/8iICDy9chMOOXKITFJcD1lmxMhI1QSklJEhGA2Lkd8p1LaFOL4UBNzffbwR4Yu5tkwAACAASURBVOePj0+eYf+EWeqZtJzZ0fnITvi8fQ8XKzPZjCpB44LGHdB9y3K4pE2tdd48FzlPaF33BEHjzpGTcWbJamELJ7KIlhZChiZf04ao2a8rbGy1+xdjy7zGdv+RXd1i00qkLVxAbMb+vGcnTgvB95zVKyFN2pRa68o5npy/AkfmLEG73Zuw7+8ReH/tptif4ua5qmi/APBaTChSWWhOqoaNqwtS5MiGL88UzHDXLJlQb+5U4R/Mn5S1hSmifP3w9eVreLx6hyy1qmmV7heWqgrqG2oGM5sEgKq9htyGL2ybWnYSmWBmaulwk6lSWdSeMTHBeqZx3Zuac/qdGcCgXq1+HgAu3JigP198DrOfjyxgKWIjgZAlvHbtWrAXkP1/jOvXr2PmzJmGDGCCVj5xG/8rAGBi3jwS03xKvSL+k4I/fisrKxAAcg5/cvBcSMH//PlzvMuWP3u+BIBybEkyEinHQQDIh7uNuSnMTI0RHhmFoLDIJNEjuLZBK7y9cj3WJeBDrOux3eJh9juCziU7uvVDFMkReXOh58616gzR79/VZGakOekCgHzQU0vYNyQc3z55YnXdFvD94CEcMQrUrynIFLYqEjEsL3t88sLkrIVkM1BkJJOE4KXBriVJhRm03DUqCUu5IzMW4tnFK8hQqoQQHmYvWWz3Jl035GRXCL4ovn1o6jyR4el0cLuaNy7P//yCZTg1RVFa1Qxm3oY8uoZPdx/A3hTIUKyQFvh4d/chzNKlFwBUriQe6PMN36Oiheh2XOvN74PCIuDl44c9vQfB1AjCp5hZVSkmProEl7/SaM31m8dHDMuina2Nz33H/sZsNSqj4aJZWqVbWg+aGRup9dL5fvosyvxBvv5otnoRbm/bhQe794tDpSuYDz13rVUr67Mvj9nMpc1+MEOleRGc8YVFNZJlyoCep/fD1cFWZDylFwO2RPiF8MVQvT1kQ7P2YA+jZlC3sNf5I1qfr6jRCPT4Vg1hHzh9gtDmTEgk9O8mnWFcXX/P34P/BwCUKnFkAbMMLMnAsKTL8968eTNYKu7VS+GiFBoaKljCmTNnFn2F7AFctmyZ0A1kP6Ehfu0K/CsA4O9qPt2+fbsQrJSCdPdp06b92iv0bx49Ooou9jJnaARY2QH8PjxYHUyw0cvCFpDpP/tdSxUaEIAx2QrB76O6R7Dm8e1TuGHo1VNwTqv9wP4Vcz0ydRb2DPvBtKNnbb1xQ4Xgr6mFJdxyZAfCySBVT1Xq8tZVnePxhavgkiYlyFw9uWil0NPLULQgGk8bg/SUCDE2AcwsxXU5OW8xdg4aKUqCshFjERbXGtA5otfhnUhfpJDuTcOCWfOV/V5iDIf4+uO7pQ3skmvr9z07dwGzy/7otVMDIun/wqQXdxEdEiBALzXzJLBMlitLr/dPnEeFru2AaPlzjYYRggJD4Xn/ntAmdEzlDjMNlw+1yVvaIjLQH8He3kLwmBkqikMvatAWZNiOpaBy1kxa5+v19j1G5igR15Lq/t7ICFkrlEG/4/vUs2Dfo+Hz4jkU+uRGYj6beg3B84tXQU3MdIULCI/ju/sOI8hLIdNCq7g6oweK0jdLra+v38aH+49QrEVDkY0L+OKFLQNG4vPzV4jmS7WG1SIt44ZeOgr3jNpOJYKKbGmnsJmLiY+PnmBepTrwU2FtM6vXcvl85K+vDuj8Pb9gUv5SattK4/BFZPqn58Jd5t8Qwb1bI/rlT5SAM2aF9YINCV4KqRf/27dvSJMmDdq2bYscOXKIcRYtWiQSJmPHjlWO6+HhgdWrV4tSsJ2dHYoXL25gASd41RO3w78KAP7q5lNDBlD+JmNW6MCQMaIJnCUrar5VHDZAq/QitzezgJZmJqLMJB7Y1IALkZiqFlretxyDDhmSYG/ibvuf24vyJYsr1BL9Q7GFS+aMol8pNkbtz81Efe+3125iW7vuCrs0laC/cePl85ChdAlYmRjBJDRYZGgEK9jLW/Rl0V2CsiZywevCxn+JCRro7YNzKzdi3/gZgkDQ6+JRrYcmS+R7BwzDi5PntIeMJwDkjsW7tkfuBnXgaG8Hi9Ta0iop7K3itb7sK9V0+uD4W9p1x7Njil471eB9XH3SaFTp3haWZtokDs8XrzGtfB0MvngEbmlSyoo+M2PlExSGKFqZffZEpIcHclQoJbvGQhcwIkpgcxtzEzVtQErN3Dt4HCH+ASJLauPoCGMVGR+C0ZMLV4FOIYw0eXMKIoaphQUurN6E9w+eIE2hAuKFxev5S9GXKBc8Z2ZoCYCyVC6HyiMHCxILezXXN26DIE8vMPsnQgJglAcxMhIe2gR80VGRMDY2EcQQGycHBPn4otbwASjdoQUs7X44eAR6f8PBectxetZC2blMeXEDTjJeycwye3NNNWzuvF68wvGJM0QpmGLTFYb2l9UuJEFqZc3G4P0pF7kb1kGDBTPi/bNMyhnA4D5tfh4Azl8f77UwbPjnrcC/AgAmpgSsz+bT/3IPIAV52YTt+/6H6r+JhTkylistykPxCZZ56Cn6Hd8RHB6lJD7EVxsvPsfQ9zZLK9URFllywZKafYrkaLR8PlLmzaXvQ+scj0Btbf2W8Lh9T4gkM0gKSJErp3BP4MOK5Uxna3O4Z88ME1Mz0ZN1e+9hQXDIVKKwrGyGXImY2a8ppWoi2sgIfS4fl+2zWlKhlpasiDR5OqIoJDq+i/+GfPPTAiaU+7C0d1BsQ49dGxvUmDwGmSuWEcNQhoauJvEB2AQOmuxy9oKtqtVEy+qPY6fKnwcd9m+Dm7210MnTDEq/DMtaFJMeXxb9i5rB43n6q7OQyfKWA5PMwPr6+CHUzEKUks00hKE5NsuoXCeJUSyRJiIiInF79wGs7dRPZNuqD+0r9B8J8BkklIRFfUfQd8UL1uJyNcWLWlxBOZl0xYsIa0EG7fAIsKgvSQkaOZKJW67saLxsnkJ30soKZ2cvxKuzF9Bv70Ytdw+O6f35CyZQ7NvPX206zCyOu38Bji4/HGikDbiuwnNZ2+Y4rlMS34s1KFtDy46QWUey5gks28fhpa16oKTcA2gAgPG6Jf7TG/0rACCv4P+z+fS/DADPzV2Mc3MWCQcG1WDfG0FHQliwmr9EXVIjqu4Y8fn12lqYwsrcTICIiKho+IWEJ4hdK3cMathtbdsNgV+/inNnDxEb2tOXLAaXTOlRvX8vBIaFCl9Y9oYR3AaFRiJYV1k0PieiYxuCva/PXsLCzga2rq44PXM+nh0/JbJJmSqUQYUh/ZR+zTbfI2FrS/eMH1ktZpYiwyOEvl18gw9S9qdt6D0Ugb5+KD+4LzKVVwAzzyfPsKmFosleLsztbNF42Vw4p08nQAtlPRaXrS7ka5JnSi9AzqcnzwXg4fea9xWZxMLhxJjkj/hlAAmyvoVEqBGLXp2/jO0deyI8KFhrmvbuKdBo+TzkL1tMSzRbgJd3HzAie3Ho6snz9/LGxd1HkKtuDZjEsGiZ6bYzNdYqAQf7BeD589dC9Dlb3uwwl8k4Mlsr6epJk+Vnh2YtwYGxisyfvZsrhl88rAW2IiMi8fr5Gzw6dhonJs1AhIY8jq5rzjVuu3OD0lt6Ve0m8Lh1T+ctwmxw78sn1MStSbShxqUcY5w9vVPL1sGn+w9FiZ1B9nWKXNnR8+guoTUpud5I4I19wcyq/ky8v3kba+u3Uh6zzqiBKN6qsch8sm/UwtkJ34LC4tVrnKQBYL+2P58BnLvuZ5basG8SX4F/DQD8fzaf/pcB4ObWXfDilHaZjxmAJqsWIGNZ+ZJXfH4XDjH+uKoZHoXjRLggg8QnHK2YdTGBcYx9GvcR5UBmEeIzQCzbsNR6a9N2kU3IWL40slevLLxKxUPBzQ1RwX5qDz4+sDlvOmboKx4dOILjE/hQDxYPTwKXZmsWCVAlF7os51hmlNOrk5PnUB2XHrVLm3fBp6cvQJ0/t2xZsK5xm1jL48kyZkCPMwfUiQWv3iCZgzWs7O1gbGSM8NAQrO08AM80m/uNjVF+YG+U7ttdTCOFg7UssUXz3IN8/eAPZpl/BIWHRTnwi3wp38rJAc3mTUXh+jXV7h+6lFzeuANXNu9En70btPx8eYQHx05jSfPOov+TTFkrRwd4PnoK60gSdHIKgW7eD+yH2z5kHJ6cviBKqc1mjUfBBrVkRarlrufhmQuxd4yiD7lo8wZou2y2rAMJ3US2/T1aC1DHdh/yXm60bC6yVaskQNrKGo1j3Z8AqlD7lijYsgmcVIgqul7k6EzzxdsXJybOxMuzF8RUaLNYaeRAAcZIEKNOqNTtFxn1HT7BoYnO/qme69b2PUTpn2SmVgunwdqRmWZF8J4PjYgSGeO4IikDwBACwFfyVYq4zovfG2fIAisDAIzPUv2x2/zfAOCVK1eEXYzmW+3PrOT/q/n0vwwAz85agHPzlirfpqXrZ5PcBR33bQXFZn8mWDajSLKkssI/zMzgxSd0yYPwD3xAaDgC4wki43Ms1W3EQ8HZQZacQO/er/4/Dz55PO9Xb0TJV2q+l+ZAvb0ux3ZrlUa5hq46BJzlMkwcLywiUvRhxlZmpVcrewQdU7qJhzMzg8fmLMGNf/ZpLR1t4XqcOwyHlAp9LzpJEKCTxauZJSIofXbhKh4ePYXLG7eLfjJG4fYtUbhdSzzcdxC1+3UTvWaqPsLcRu2lISoKR+cuQ96ObbXmQ/eLj7fvoUiTurBNlgw3d+7D+7s/RJStnRwx/PpJOLq5IDosDMG+/nh76x4+PXmGyn27aoFmZhqZHZxdrYnSIUTS2tvV82883HsI2SuVRZGm9RDg6YXTS9eA66f83SRzwqATu+GcNjXMLS2E1RzP28zSQoBj1aDN2ppO/XB3v4LpmrdmFXRcu1BI66gG53RwylzxLyHBDGCbf9bDNXNGHJ80A5cXK8rBDJZLG04eiWTp0oJ6ffvGz8TTsxfFdzauyVCqdzcU7dha/H87sv3NTdX+1rOUSw9rzV4+zfnxnmUJni9+7KXUV7AHcE29Fui6bpFwhdGM+P5OkzQAHNDu5wHg7LX6WnLDOElwBf5vALBp06ZwdnZG5cqVUbFiRTg4/HgDS4LrFOuU/ssAkISI5dUaiPKdFCx5kXDQfP1SvVxKAjmW+/hHWaP3O9bx2SPmZG2plr2RdgiNiExwKYkZv/u79ws3gxy1qgnNMrkQDwVHW+C7tpuJaGIPDEVkQk5Ex1keGDxaZCA1g9mmhkvmIH3p4lrATVePGeelBcCiv4PWaHEBQJZpNS232Ft4fP5yHJ42Xzk9khJy1auJOjHCw0JixESRnY3NFYMgiJmydd3+xpubd0VZ++XZiyjcsDYaThklgJJqSP1ykoYgy9vBfv4ItbQW2V/VMDP6DhtEC29gZkADvLzx8PgZ0VMnRf7mjVB31kSEfPXChpadRQ/cyKtHYWWnDsi4Pcvpk0vVECBYCvY7Drx3CeubtMObi1fi/E0QwJVo0xRZy5SAx4PHwgu4z95NSJ07uzK7R8D++clzTCxWVXgjM7i+4+6c0epJ9Pvsickla4L/1XHDgnMMjmHxchuRTU6ZAiW6d0Tu+rVxbfUGnJmhuJbu2bOg7/7NaqXmAC8fbB0wUvgAM2zdXNHtxD5Yx7itEABaWyjaMITMU0i41rWIc2FiNiAphcxuaiPyGic2OI4zBcRVJHqksfh7YJUgrp+pAQAmdvUN+yWFFfi/AUD6/x05ckSIPjILWKxYMVStWlXNQiYpLFB85vBfBoBcH1qgHRg8SvyX1zJzxXKoMmaIsvcpPmv4K7bR1X9EsEFPXPqTxjdYoto3YDgCv3qLbCcfmFmrVkSt6eO1M20EgE72stIg8c0sxGdeW9p0xfOTPyyxVPehhh2zVzWmjBFgXArJco6gmg8vyXLOJyhU9FyJz/mQJiEnLBLW5qayJIj4zI+ZrTH5yoEsVQKKEt3ao/yQ/uKhzXHtrczjVb6VjuX9zgMru/6N9Hmzo2jT+nDNkE7N61jaTheYZP8nH+qqIVcSJ3hd0boHHse0NhTt1AZVxw0Xu93Zvhvw80WNQQodM82ICA3DwoZt8fSMIhvGYCm1340zYLn+xIQZiAyLu7RoYmGBKJXtrBzshe5i+iIFBBs7wPsbdgwZh8cn1K8/v++4ZoG49mQKM2O5c9gE3Nx1INZLxqyq98s38HrxUrDIeY9T8sfI1AS2Li6oMmYodvceJMhFffZuRI5KZbXG83z+CmPyKT7nC0HtWRORr0mD+Nwq8domMjQMu/sOxocbdxAdHQUzCwuU/bs38jauF6/95TbiPUhwqpnhlrtX5PZP0gDw7/Y/nwGctSbRa2vYMemvwP8NAEpLQ62gY8eO4dSpU/D19UW6dOlQvXp1lCxZElRN/xPivw4Ak/I1YgnZQqOESRDmpfJ2TyHa62s24d7OfSDzlD1MzPpIWS1+v7BkVTWfVJ4zpS+arFyAdBp2aYoewOSICvZX7wFkb1F4pMh+6CMIRg4NH4dIDR011bFJxumwfyscU6dSfmxCcW1LM5gZGyOMJUYVcW0CRILA8KgoUc7V1TMYn/n7f/HCnOpN4PXuAwq0bIqqY4cqdyMxgJnFhEREWDg8X70VeoSWtjZi19gyh5pja5YdTb5Hw8HcBJY22rpvd/YdwdLmnQXQb797EygqLIWF0Xc421nLMqYpZD2pRHV4vXmndngyW82srREdEY5Q/0Chf6dASkZajFoes/yQfnh2/DQ+3LyDEJ9vYlNm3ijube/qIsq8FJl+fv4KlrfsqibeToBNRjcz8S8uXhMAPLZgWb72zEkiO/v89Dns6vE3wvwD1Hah9RpJPre27MDoayeQIktGrSHp9jEqd2kBcKn3V3fuVDGmFPRVNjYx1fJTju89sKNLHzw9ekrJcOd+Vk6OaLZ2sZC5SUywNdjFlraGqoLT2oxxXWMnaQA4sD2+v058D6BR+iywmmkAgIm5r/6Uff7vAFBaKOpgXb58GQcPHsSrV69ga2srSsMEg05OTkl6PQ0AMElfHjhamcPczEThExtNl5EwZQmWAGJD03Z4f+M2osIUwIyMXsrYNFmhKHnR8WNrux4IC1B/KPK77LWqCukL1ZAeCl5fPGFvZQYCLoIplp39E5B1jGtVqed2YMAwFG9aX5T93ty4jYNT5v3QaosZoHC7FkLTLq54c+kazs9fIkrcmSqURckeneCSzAHW1GlUeRlT6AKGIPibn8g0SfqAmuNTKmZunVbIXKkcyg3qowaYEgMA2QcWHhwCSxkrtLjOjd8rynqhogTJB3/oq1f4K18u2f5GljLX9xqC8oP6okiHVmrDc1+yjzVL5lwXCiTPripvhcdBKK9CT1+WzVkepY2gx90HiIhhItNHOkvl8miwcKY4piogG3XtuJYfMXsvd42eguvb94rMnST/E5/1kLZxTv8Xup/aLwDjlrbd8PzEGa3dLR0c0GLjckE2ypAlPdxlACD9l5c07YiXV24IElLPc4dgbmMDz8dPsbffUOGTTcDrnC4tnDOkw8e790Gx9LIDeyNlntjlklh2p4QN9RQ1gxnuVltXJ+SU1X+v7Fu0MIWFqam4R0jSiqs3URrAAAATvex62ZHGDBUqVBDtZJrB5NLJkyfxP/auAjqKbAtWiCfEE0IguLsvsLi7u7s7LL6427K4u7v7Lu7u7haSQIh7yD/1hhl6ZnoyMySQ8Df3H87/P9P9+vV7nXTNvbeqGjdunCDX+n8cJMkAQC8vL5DEcfLkSURERCBnzpx48uSJKCn27dsXRYvG4QaQyDuTDAATeQPicfmXFy5ja6feWlpkNi4uaLd9jejzo2k8X4yaWRFeNnfdGmi8aLYsAOQzrWTRxmOKWqcyo5nS0lyYoRBcSolULLvOqtYEn169UZ1HMNtqw7I4p3Bp+Rqcmr0Q4V9FpJn9dMmSES3XLYNVeDDcMmUUMjF8yfs8f4m5dVvBziM1Rl/5B+YymTzeN8tobPSXC2tzUzhYW8r2Z+qaKF/OytK15jEEVATZUoFkzWOiomOEGDQBnIutlShty5FbwkNCMa9uK6QqVABl+nbHhSUrBdOdMidlB/YSYIXz1yxhB/kHYMrvNfD59TdNTLl74boNvX4KdtaK3sXHF69i/9hpAhyR3JKjWkUV4OY6Hh41EV43b6PP9tVwSK3tZkJplPtXbmFdsw4qj2Vda0jvX/YPWlhbi95Bpwzp0WzFfNHvx1CyYzXPZ18pPYPTFswnMupONhZqz50yE0vdwY8vXuPlszfIXL60AKVLqtQDGde6wsbFSXxByVOnhs5juKYr6zZTgEiNSJUrB7r/sychf8UMHitJA8DBHeOfAZzx/cDa4EWMx4HkEkyaNAlZs2r3YzORNHz4cGzZsiUeV/j/PjVRASD/aFy7dk0Avzt37oisX+XKlVG1alWB6AMCArBo0SLQKmbevHlJdieSAWCS3Rq9Ezs2YTouLJb/I1d9wkj81rGNyKrMK10NARK2Jgdmn13zVQu1HAeMfSnonaTkAErjkDFLIKQrbu4/gsXNFGbszOpUGT0Ev3VQz2JJz2Vv1fwy1bRe0uxdK9O/J25v2wU7J0ekzZsTXg+e4OW1m+L0vPVro/HCmXC00S6z83MCNmq2EQjKheK8FCoXGDkw9k2GJgX8Q6mrSOAhf++6LO1YXaCU9KcQBetUTl5IOr9A34+id7Hhwlk4PGqS6G1V6tSxPMv+1vyN6omMsqW5oowdEcVrAHSkODlzHp4cP42okBDZ++6wch6KNamrAlAis0mdwjdvYW1jAxPEwu+tF57de4Tc9WqLMUJ9fOHp6Q4rDYYvP6OeHnsbF5SpLpwwNIOSTCV7dIKjpwesHRxwas4iBL55J9i7vB+yxluuXSyelednzmN7t/5aX4gc03uiz7mjqiwuAbDd171QuMR92xPumVKv7+z8pTg5Y46WTqjmHCkb0/vsEdmyOo8Vv4OlqqqRzZRjFG3bQvS6JkYY+7vOtqaf5QUcPrRTvAGg1bRvzO/EWF9914wLAJJnQHC4YcMGfcP8Zz9PNAC4e/duHDt2DB8/fkSGDBlEqbd06dJafX/cxHHjxiVpFJ8MAH/d35+razfhyOjJWob07NdqtHCWKMcxmCnc3WeIkFxhTyAlMvLUq4Xq4xXkAGlovhRYqr21Yw/u7joAasuV6tVFb8lLbkXjEtWVHk/v2LGFyouXKe3oOh/YFmffFTXe1rfoJEq/mkFHDJIgDo2apOpF4zH2aT3QYddGOKT1gAUdOWyYzdN2zKCMDGAiJDyCwyO12M9kd7MXkPfGrKYcCCRASmFjDy9vbyEqzD5FQ4JZQQKpKGsbfDG3UJ2iiwmtPIC+tRsGjxUOKsz+QUOM2sEzLfqcPxonA1UX45fElSHHd8NOg3kaEx0j2gGlrFb2EV46dByFWihKyiw7a9471yYgLAJhUTF4f/sutnTqLQS4Ywm6TUzEvpfu3VWlm8hs98Mj/6r1HRLoZ69aASW7dkDawgVwaOR4PDz0j3jWCQptXZ3RaPFspCtSSGvZdfWIEgR+CAjFrn5DcXu7/uwce1W7HtkJ/reuuLZ+C45PmY0w/2/PKWWm2OOa0s3VkEciwY9JBoAJvqR6B3z16hVevlSw7BcuXIhGjRrB3V1d9zQyMhJnz55FUFAQ/vrrL71j/lcPSDQA2KJFCxQpUgQ1a9ZUGUXLbYKfn5+o4zdporuvJrE3778CAFn6YU8beaLMdgRHRCIsUt0BJLH3wtjrUwpiYYXaCHznpXaqU8b06HXqoGBwKoPHPjhwVJS1yACWit3qAoCUJFnTqA0+3HsAZtoY9FstN6CXVm+ZvrnTLs/JVl3yRO6cD0+eY2HzLqL3ji9/S4kHK1/Ml5avxZXVGxETGQH2dhGQHhs/TVYQOWfNqqIX8s3V6zg5Y54ABR75cqPCkP6qsmFccjtSkgYzgoFhkQKsaAb7NJnZlAOAzNqZ2tjBy9tHZN1oEWiI/Ruv4efljXDrbx60/BnLv8rMneY8KPJ87+R5uBYpjKsLl6FE8/qiXBoeFIy9E2aC5BCCf4o7u2TOqHPLyPjdM2C4lutGmU6t0WruFH1bLT5nf9+OERNQvH9vQTgiWHZOqWBq8x/XMzJaQVhQRlRYuLBrC/zgLTLTLNkqn2HuxZxiFRCo9PPVmAWvQR/dFuuWCoBIEoqNsyNy1aqmcpLhKfw7QOYs/wbwf8tlZHmt81v34vC0OcJ6TilVo+vGWRbvfeaQ2nXkjn1x7iJOz14orOnYS8ne0sQCf5xfkgaAwzrHPwM4dblBz+rPPGjbtm1g75++sLCwQI8ePfD7799UEPSd81/7PNEAIEHTz0qF/+hN/S8AQGZ5nGwsNZwtYhEYHonQSMNcOX70Pnzv+B/uP8Ku3n+oMmDUMCOxQxfA03cd6UvhxuYdODhyvBZTl44dvQx44Umvpei9irtvTpoRkpvnmTmLcG7hCkQGB6s+ZhmQTfve9x+qZYb489YbVwhrLn0h5/Ygx9ClDh+9XKUhJGHiKO1GhEfA0skNXh8+iJ5Klo5ZgtQsO8qBQjnbQMWzrG4zxvlQbzA8IgoBUV9gTXZwTDSsJeCZGoFrugzAq9v30H7XRgS8fSfAoJweJLOP27v3x4uzF1XlVFMLc7RZvRC/1almcO/jqWVr8eL+EyHDogzeOzOmEdFfdJbX5faLa/d30fKyRArp8byf7sf3yYJsPn8E/Mpsry4WNu9/ba8h8H70VIA/imdr2vopr0mAmrNGZTRebJxQtb5n8md8nqQB4PDOiH355LuXwSRjNlhNSXoAkOQO/uOzRwtYgrz06dOr3aeZmRlSp04NgsDk0L0CiQYA/5825b8AAHWxNuVe6L/q3pJhSL26+GYUpC+F9S074dlJhc2VWpiYCIstsj3NNISM41o/uZIb/xCS2cqMDLX7qHEoCwC+fMHckpVl+6iYTTG1ssTHJ89E+ZClJEKR1QAAIABJREFUQ2b58jWsY9B2WpmZwoHEAIm+oK5s3qfgMLVScFwlWQo4EwQFB4Sg9B99vgJACzAbKnX/4P3LsXKleo8s3Z+YPgcPDh5FyRYNUb5rO5VeHrOMdJiJ/NqvKFdu5UK8vnkHi1p2F1InlDWh+DJdTVqsWyL73LAsy6wxRYvZN0g2q7uDDZw906itq1z/IgkV63oMxpv7j9D9X4XAMr+sHP5zgujXJKAs0qa5KNFL15pZWsoDed25L35OXc7KI/8Qz9nqRm3w+uKVOPeUwL8dHUA0hM7p2uJMrUiNHkw5EBji9xkRIaGwpFxPbKwQ4l7ZqR9CAoPglD4dPty9L9aQ4C9twfxoMH/md8vDGPSAyhxEEM3nlX/DvtdjJBkAfu/qJ8x5bBHLnDkzrKysEmbA/9goiQYAWbvXFfx2aWNjI5g9tIsjmk/K8V8AgLp6faip5xOontFJynuV0HPjC4QvEulLRPpS2NlnMO7s0LZE4zz48ktfvCjabjXcbonXEi/hrz33ZL5S1oY9dvqkKwg+llZrADtnJwT5+IK6bcpwyZpZlLxDPvkJJjBL4Ma6LHAtbCxMxUuVzGBmLDVDKsWi/EwXAGTGiFk3n2cvcXDqHFSeOApulBCxlcnefWUBK/XcyHSl2wpdV5Qv9y0de+HpyTMquR9K22QqWQytVi+Cs4uDQq4Hsbh74hwy580py7j1e/se44pVQURgoNqteRYthI57Nul9vJZUqQ9ERaLrhqVI6eIkABrdQ0I++yNd/jzC8o1B4orXg8eYXKomPPLnRad9mwUZZXXD1qLHTxmUjSEIrPLnYPEjthmQdUubQGWkMDdD+t8Uz5n/m7fCkSTIy1ur71V5PL8ItN6wAhlKqCsvkPXMPk3N4D5FRkTA0lphQRfk+1H0DtLvWBpcO5/AUNin8QD7YsnsZQaVDOOfGey15DPEkjqDv0OsYuj64hTX3JIyAIwY0SXeGUDLyXGrB/zMfYvrWqGhoXj8+LHo+StUqJAglCaH/hVINADYq1cvcNP4j4DPzs5ObB7/cBP8MfhZmjRpMGbMGDg6Ouq/m0Q64r8AAHVlAA1VzE+krflhl+Wrg/14Cp9iE5GBU75EpC8FaqDxhRv6yU92Lsy2tNmyCu65cqg+D/L2ET1Orlky6XRTEUCHL3x9XlWSq1LPD4EBMLMwB+3RfJ4+x6JmnUHx4oylS6DtFsOBqL6FVTqOaGblyA4lKJOGPlYujw344INrR0/it2YN5EEI7cVCIwSg4rWVrFz6DBN0er14jaU1myLE96PatekD2//AZpWwND8kGKMLhpzkitejpxhXWEEMkgbJC10ObReldF1BhvDqRq0R+lHxLLhmygBTM1PQQYNgtNbw/ihcvyZMUpjg8ZmL2DFyEsIDg5C1Ujm0XLsEO3oMxL29B7WGp4RLr9OHRQbt+satOPznJC23ET5nBICpcmZHVFgYTk3+CxdWb9BZlqU2YIfdGwVAUwbBH319NTO79CTeNWoyUmXNLK77JToGVQd0V9OO5BjsadwyeAxMHZ1Qtn8Ptf5afc+T8vN3N+/g1rZdsLQl8G32XV7jcuLwCn3QcFFWNyaSNAD8s2v8AeDEpcYsR6Icy37APXv2gMQPxpQpU0RWcPz48cifPz/q1/9+p5hEuaGfeNFEA4DU6Jk5cyZat24tbOAIAgn+KAZN2vbAgQPFt2AeU7hwYVHnT6rxXwCALP/QKozAQxn8oxn4lYGYVPfmR82LvVAEF9KXIfvvCEIiYr7Aw8MDSh3AG5t24PCoCWCDvlaYmKDhgpnIW6+WeNlv7dxHlGEpe8EXeqneXUGZi/iG6HuztoCpxDuVZcdHp89jWdteaLlxOdLky6N1mc+v3uDImMkio0SB7FI9uyBPXd16bdIBSBSg44jyieHzQss5KWYVxIavz5W0pCtXPv707gPMnZ2E/Ijm55HhEXh8/S6cc+cUU3AhW5glvhQpRNmYn8+r3wZPz6p78Q44uAU5ymk3iQd4+wpwltLlm8AsgeT6PsNxYfVGrXUSZdMd6+CWTdshQ3nw2+u3sLFNV5XWoqF7aufhjp4nDmB1w1bwvv9I6zRbN1cB1iiwTOLJLdrVaYaJCRotmIU89WqKtTsz7W8cn7MozinkrlNdrS/P++59ZMuTDSmd1L+Mf3z5BqMLlFWJUNcbOwQ1BveRHXvTgD9xds0mhVf4GuO8wvcMHIHHR4+renUJTisOG4hCLRoZupSCac1qhuYXEw7ALw2UCjImkjYA7IbYV/HoAcyQDZYTlxizHD/9WErIrVq1SkjHMfM3depUFQDcv38/Ll++LIBgcsivQKIBwLFjx6J48eJC/kUzDh48KIDghAkTwE3ct28flixJug/ifwEAco8IApXityyVBYVFITz612YBf88fBgIaN3trmMnInlCT7VNIhBoA5DUurViHYxOm4YuQRfkWdINotWkFPPLmFkK+ZDmKmtTX0Gd1xRcaAREb80UpKyIaoRrXEIBIB/P187sPWNaxL1pv0bZ8Cnj3HqvqtVRjjVrZ26Hy8IEo2q6lyHrqC64VBZd5rFyJWi6zrItYEBkVDb/QSLBkrPkC//TqLaZUqCt63Uq0aCTrM+z78jVG5SmlmjJ9cwcd2QYzmUZx//cfsH3ERFQf1FP0sTF7ZZk+PY7/vRgnZ87V2kfq5FHHLq6yObOK80tTb1Gdca5vDfmMtN60Eqf/XigYvpqhyAAqGLRX1mzE0bFTRYlV8znjGCT0ELS8/vc01nXtE6eNIElQfc4fEwB6R48BeHDwGPJXr4SmM8fB2t4O/MLD/8yt1wpvrt9RXc4zf27027cRdpLsIT8M8PbB9PL18ImlXzdXtN+xTs1iL651oCUeva/JwJcGM649Tx2ApYElv7iklKjF+DEoGQAq19fkFwCAAwYMEGoiTCQxgUR1EWUGkBrDixcvxrJlv0YZW9/fgR/xeaIBwDZt2mDIkCHIly+f1n1RFHr69OlYt24d7t69i8mTJ2PjRu1v3T9iQb5nzP8KAPyetfl/PEeXFRjvlazTj8EKAPj+/Xvc2LQNV9ZsEr1ZLO1K3URIOPEsXEBkb9i4v6RqA7X+LuXaZSlfGq02aLPxCK5c7QhEv/mY8o9gaFSMkFuRhq4SfqC3Lxa27Iq2O9ZrbdUu9i/uVJAPGCxZdl2/CI5pUoNOKYR/n0PCRRmaGUYhDGwCREV/EZZ3+gAi50/2sFw2Ru65CQsKxsewKNjaWMMsNFj0yzGLGeofgOVtewqmKXsXx906LeszzGOprUdygpmlBZzSeMBKwvKVXpNZrT/zfMsMZixVQpRQWT5dVb+VyNKy3MlgJopCxLlqVtX7uNO/+Z+JM/Q6dmiCHDpdsD9zbeO2CJaUsZmVLdisIWpMHCVO4fwWV6qHz68kXsQmJkKyhnZv7DslAHRzccGYXEXVegU1J8+1pPjz0xNnwP5JJahk+bVKv66wd0+FGweOwMHNDc7p0uDO4X/x5uZdMUzXTcuQq3wpARQZJIVc3LgD24aOU1zGBKg3eyoKNDGsPLfvj5FgJl0zSIRpvGQOclStqHftlQfoIlIFh0cJGzhjIilnACNHdY93BtBignFZWmPWLiGObdWqFYYNGyZwhCYATBaC1r/CiQYAu3btKjz8mjdvrjXLTZs24cSJE1i6dCmuX7+OBQsWYMWKpKtIngwA9T9o/29HyLFEmSkJiYxGUHiUAIBLWnXCvT0HQf1A8c5LkQJm1lawsrcXpckMJYsJ4GBhYwPfJ8+EXqBcr2DqvLmFSK5m0L9UAbrUnTFYqvwYHAapAYedpbnC01eDmOH74hVmVm+Gfpf+1Rp/caW68HmoMJMncBh7/QRSZVHXviP5hc3znIe0PYA/pw1cXCAwLgAolwWMCA3FiRUbkb9NCyyuWAdOqd3glC4NijSoA2dPD3g9fIJ/FqxA/8PbYSVDVuB9SMfVlWlkT9uhGfNwZOYCce8UBS/euY0of1NTkZm8W1t3CrFkCntHR0Uh/JMfTK2shHUciT1xhc+jJzi/aIXwmNZ0l9ECOJaWyFWzisob+O31mzj050TRy0hf4QKN6godx0fHTsD/zTtkLV9GaAbuGTgcry9dU5RlY2NF+Z6+u223rxX/zefzya3b2DtoJF6ev6TVnsD9Jru4yqghwirx4eF/xNQoZN1373rYp3KDJW3lYhQVAGY+Sdh5ev4KlrbsiiwVyqDtusUIefkKbCM4vmAFnp67pHZ7jhnSoefx/Qax4A/9OQFXVmk7OvC+miybK+7b0CA5ydGGz6tCUFyZnf4YFGY0GzhJA8AxBIBPDV0WreNMMmSFxbikDQC7dOmCdu3aCRMJTQBIW1nawNFNLDnkVyDRAODatWtx6NAh1K1bFyVLloSDg4Owfjt//rwo+VIgmllCNnjevn07SdfxkwHgf+/XS1MXkWCCJU4CL9qOWccCEwuXRrC3r9riEAAyW1OouXrfki6rK2YJKeZcYUg/rUVmM7uVuTZDXikLw167Z3ce4vAEZpw+ofPKeUJ+hCQQRqCPr2jKD4uIktVg29Cqs0rCpkDtqui4Yq5C1kMSQn5GhwRLXF7AyiHkMpMsLXI9lPOUXu/phSuwyJRFyJnYOdqh06p5Aowog2VGU3tHRe9hHHZ5up5Y3suVrXuwqnNfxEqbFU1TwM7NFXVmTkLWCgqwEejljRsrVqNyz04CxNAu7tGZi8KZg5IvuoLnsaT68dkLRT+bZimdbGpnJ9EDmqNaZVQdPUQnYeLTsxfY0LqLyApGh4WL8zyLFRbA9NaWXVpjZypdUmQypT2qkaGhmPd7VS2CTJpC+dFp72bs7DUI9/YeErcz/MwBZCicX+e9ETxv6j8Stw8fR/ud60C9SwqtB8mIT1NCp9qEkSjSqqnePyCCQNOwtdYXJIe0adD77GGdZCldAyudZ9jGER4dLVon9Dc0aI+WDAD1bt0PPWDOnDl4+/ataBej5h9LwOwDpC7g6NGjkS5dOnTv3v2HzuFXHjzRAGB0dLTI7BHwaUapUqXQs2dPIf9C8KeUhEmqC50MABN2Z6jXdn3DVtzaultonTETQTeC73mhJ+zM1EdzsrGApbnCl1cAwNhY+AWHIyYW8L12E0sat1FJjkjPzFWrKposnas1NYpG/zNppspyjeDPJVMGdNq/Vc3NQ3mivZU5bHXYpymPYYaGmRn/dx+wsd9w5K5SHvlrVsanl29xfMlqhIeGoc3mVbLjv791V5AWmJWs2KsTmk4fK7ucBIFy3sRcE2ZDdclrsJ+UItDSc5U+stFBQUjp7KR1PQKsFB5p4H3vIYpULAlrO0WJURq6MnuGPAtkG0+voOhTkwtKmLDXjyXkiwuWokq3drBz/UYUYa/grYPHkKaCwopPM7gfzF4S0MQVLlkyofPBbXp725ZUrgcyzaXB7J3IzMn0aLJnrv+VE0jr6SlISmwfCPH6gC3dB+DFpWvqUzIBakwZA4/cubC2WXtYWFlh9OVjogUgrnh28SpmVGqAWtPGo0jrpri+aTv2Dx4lO58c1Suj2Yr5hmwNLixdjQuLVyDko59gGBPsNpg3HRlKFDPo/B9xUFIGgFFje8Q7A2g+Nmlnzz58+IDhw4fD2tpaSMYxqVS+fHlhFUeb2WnTpsHVNXFsAn/E85bQYyYaAFTeCNE7a/XBwcFCuyd37tzw9PRM6Pv8oeMlA8CEW17hINC0Pd5dv6XqsbJImVIwT+vMmJBwF4rnSLpcOZRZr2hvX8yuVEfIuai/nVOgdO8uqDh0gOwM3t+6I6yu2C9IH+ISXdoLcEaNOjpgmJkqyr28Dvv8yHY1tIfO7/U7TChRFWmLFkLeejXhkiUz0hTIGyewph3YsQnT4ZzWA93WLUJKCdjhPJitY6JNFzjXJRRO0CdH5hBM6rAIxH72g4uGWHJoQADW9x6GWnNnCE9gegjLXdcYACg9lnp813cfEOLLuoL9b42XzUGWcqUR/vQpMhctoHUoCSQ+weEqX1teg2CMgPDZqbPY1rUfIoMVbQG6giCu3MBeKg9fueMoXL6sRmNZCz9d46oAYNq0iAj6LIhMzIYFf/oM3+cvMadOS2F7pwznzBnR+8xh8cXkzvY9GHnuoH4AeOEqZtdugWarFiBL2VICoJLgpNXeYGKC33t0QuFWTQXBxffxU6QrVlhkvHWJsfP36fmZ84LwwrGNEVGP56+87OlJGgCO64nY1/EoAafPCvMxuvV6f8R6fs+YxBBr1qwRfAGWgdlekydPHrRv3/6XwxLfc//xOSdRACD1evr06QPW74sWjbtfJj4397POTQaACbfSdM3Y3n0AIoKC1AYla7DT/i1w9EybcBeLx0i6yq/sv/MLiYCbe2qML/g7mEWTBl/A1IuLy/ReblpyjesEgZSdYT+T0h82riwpfYn3jp+B6/uPoefJA0bdPckFqVwcYGlmpnKCEOXfL7Hi/+u6Lo/xDWI/onqBjRI6lNKRO496iuu7DkCjcUNh5+YCCxtrkKxy58i/2DZ8IobcOgd3ZzudwFf5EjDkBiNCw+D77AVYujyxcCWu7dwve1qNoX1Rqm0zwRg2T5kS4SnMkNIkRujRaQYzrgEx1IYEDowYhxdnLgi9PTt3N2QqWwrn5hmmaJC2cAF02rdF522wlLy8pnEAMFOZkkLv0cPZAbHRkWrrTys83v/KDt8kXJwyZUCfs0fEHHg9st9d0nronBPdSzb2G4Hruw5i+NMbqizo8lpN8P7mN6YwB6A7CntgDwwbq9Yqwax/nro1UX3MUKT29BBffuJTpjXkOfjeY5IB4PeuXMKfFxUVJbSEmUhKtoAzbH0TBQByah06dMCgQYOQN29ew2aahI9KBoAJtzl8GVxbt1l2wPpzp8XZW5Vws9A/ki5ZFaXWHQHgs3v3sZ29Xk+eIzb2i3A8qDtzEvhiVwaldRRlXIWEi5ysDsGSo7W2BzCBzufQSFBcmYlBMoL1ZQMvbNiOfxavjhNYaN49M1iPjvyLaxu2omDNyijZohHoQEGgRnFgyrzEFQTFn0MjECkR2aVYM9dQ01aMpcuAoFDMrtIAFTq2QpHGdWBqZg6/N++wumt/BPh8RP8zh5DGw03lRyu9tih9mij0//QF78v3cxCWNWwjsk/hAYGCWKEkTijPr/PnIFTs3Umt3Mx7IsLTJNXwnMiwMHyM+IKNbbrh+ZlzapIxZAxzjqL3T09o6vBJDycj99aOPTgyejKiQg1z4lF++bBzTwUPR4VFm2Z8evUGI3N/Yz//1rkNqo0ZrgJyzBaKfRNrbKJOAvH9iCfnLmFZ6x6wTeWKgdfPqIbn/e7oORC+j58pfhccHFB75gQcHDZO4UGtEYUb1EKLvyeryut81sNCQvE5IhopzLTdSPSt5Y/6PEkDwPG94p8BHK0gQiXH/+cKJBoA/Ouvv4RZc8uWLX/5lU0GgAmzhXwxslT06sJlrQEJOJoum4fMZbVFexPm6saNogBlFlpAgyVP3+Bw9Sb7kBDBHGXPkjQIngj+lOxZvuQoIv05RCEvogy6L5BlKxcBoRGCecwQPXXmpjrBT3hwKLYPHw/PsqWQvYphshkESdu69BVlN2XZ0srBAQWbNUDVMcOEjIucHqLmXDUdYwgAKUxtpsFKZvl0Wae+qDvyD2Qqkh8W1t88Pmldt7hVd7TbuR7ujray3r8U22bG0JAQZJkvsQiLisbJVZtwYOgYQeSQBsu2E++dg0t67bYUXaVmgtV3Pv5Y07iNdnmWpXzPtAj29RXSQLpCziFGeSzB3+qGbeD94KHWGNTDiwoPV4kyK89hG0Hd2VORqVRxWDvY6wSAbBMYkauE4jQTE1D30dbFGS3WLgHdQZTB55/9g5u6DYC5mRmcPD1w98hxvLurAHPURex7QcEcZvAZ57MeExKKc6s34uzKDcKKjiVdTQDLNZ9w5wxcM6ZXWx4ef3zxathmzYqMJX8zZIt/+DFJGgBO7A3EowQMloD/NKw/84cvtI4LkCSqK7g3tra2whUke/bsiTXFJH3dRAOAL168wKxZs0TDJps3nZwUvpjS+FX8/JIBYMI843QxoGyKUl9NOqpTxgzodfqgXn9avpiszc2E/VdIRLQgZvyIeHTkOFKnckL6gnlh6+Qoek94JZZ/qYsnZVnKXT+uHji6ZURKNFw0ZStUQOCrswbBlTKszU1VoJLXUP5O0VXH5+kLXNh3DCU6tzV4Sd5cvYFN7bqr3CtsnBxRvls7UEQ5VYH8cHRxFEQYfaHwAA4T81F4GZsglhIliBUiyywxs/eM/Xd+H7wx+tIxWNkqLCGl8eLOA1imS68FdpUsbMqjyFm4xdUXyDL1vSPHsX/SbGHDRj1BlmwZvzVviDYLpqs8eqVzkSs1f4n5guMLV+Dtize4sXErIoK0e/0yliqObBXL4db23YiN+YKslcrC6/Z9fHr2HDyf7N9KIwYhTx15x5Vr67cIdxYpgCQ7O3OJYigzqDdu7tiLu7v2IfSTov+UEi3slaP9HzOj6X8rgoEHNoOJW82/uc8uX8esKo20AKRr1szocfKA1vGHRk/C1VXr1RjTvFaJrh1QcWh/cX1NxjwzpHwWSRShJqNmpMqaCYOO7oCD+zd2t/KY1zfvYF7jjuJvAeWTEjuSAWDi7kCzZs0MmgC5BUOHDoWV1bcvlAad+H9+UKIBQEM2jho+v0IkA8D47xIV/qk7x8Z2zbBydECXg9tBZ4K4gsQAZqNYmlJKoWiWHuM/Uwg7KtpSsayVsUhBFGtWH3xp0WfV0s0NYVExegFgXD1wIRFRCJARcha+w1+/JBG0RH11HdF1T9QJJMuWfXqB/oEIhwlSmFvA/+07HBw+TjBRSTbI16C2IBvIuVgcHj0Zl1esFZfgPdLhwdHDXbAw6flK0CtXBtWcU2hgEKZXaYQeGxbDPWtmtY+DP/phVZf+uHf0hPh5hsIFMPDodlhKsn/KE+i0Qn1Bho25GXiPzFTx50HhkTDz94OrzHOijxjC/jcCUK4VySBruw9CpT6dkb1MSdg42MsucWhgMEwQqxI75kEfX73B1LK1kal8GdH7F+zto3ZuCjNTsdblBvbWGpPPE+0AHdOllWUQK09Y06QdXp3/pqlXfUgflOvcBpZ2tjC3tEKsqSke33mIm1t24da23bK/U+45s2HEuUMwt2AWW+FlzWzomt5DcWWtdguGcCPZvAqp8yis9hiUoFlDYWofidSRiYn4Peh2dJfqHuT6V5nNOzxrAfZNmKW1Duz7HHn+sCzZ5OGJs5jXsB3qzZ6MvPVrJ8Svc7zGSPIA8M2z77+/dFmSfAbQx8cHkyZNQoUKFYQWIOXk/P39ce7cOaElTK4BmcJ0A+ExJIYkx7cVSDQAuHXrVr2yHk2aNPkl9ioZAMZ/m7zu3sf65h1le6PSFMgnJDHiCl2iyLpYqPGZ8ZIq9VSerBTG7b9/Ixw83AVBQPkiNUvpAK8P3gKIygVLtfY2llryKbqkU5gbZymYun8cMTxKIThtbLDkRuZowNt3qlOpTUgXiwZzp2sNd3beEpyYPkdkxP44thNZfzdecoOl/XtHT2L3uGnov2+TIHZoxqXNO7Gqk0LrkJ62Y68dh4WVpdphHOfc+m34d+FKlBvQGzmqVxKfE+Ry/01ggqiISMRGRcqCNuVeGCInFESpETNT2Dg6yC4xM5qPbj1A+OvXyFetogA7wZ/8hAjy88vX4Zg+HdIWzAeyqJndVAZLo10O7RD9oN8b27v1x/39h8XpOcuXRpd1C2Gr0V5AX9tnj55hRe1mWvp+yutSz7DjlpVghpkAml9cpNqP0vmlMDdDs1WLkO2rBiI/29qlLx4ePKp1G0Iq58xhkXUkgcM1paWaB7XyhDe372NSyWqg3BG/UESHf7Nho0dztjIKj3hlBPt9xtJW3fD49AXUnDIWRdtqmwh875p+73lJGgBO7gPEFwCOmPe9S/NTzqPmX7Zs2dCokbYf9I4dO/Do0SOMGDFC6AkTEFJ6Ljm+rUCiAcD/p01IBoDx30024C+qWEc2W1GkTXPUmiqvQae8si6rM76oPwUr7MoSKuaUqKRycBh0dDuylSquNrTINplZwMsvQBYAKnr/zGQJG4pSqcJBg4Dn0/OXog+LjfsJEcenzca5+ctUJU7lmBy/y5GdWvIbwqKuSn2R5Zny+DKc4mCASucn9PxCQhATHYN39x5iQYO2SFcwH3puXSELqu4ePYH5DdqCGbI0BfNjwJHtsLYwVyOJsD9tSrnaCPL5KABU1bHDUbpNE9hSS1ACFFjuJsHB1Ey7NM2yLV/a+kAgS7EpZMgtvC9+qfgcFimAp3l0lHDEUAb1A6eWqyPmmKt6ZWSvUh7nFq0EM4zuuXOi+viRsPdwj9dWet25hw0tO4v+uf4HNiNn+W/+xsqB+Rzdv34Xq4R4soYU0deDKKLc7/Jx8f+UPt9RISHwuvcQ24eNx8trt9Tm6ZYjm8jsMWvsde8BVtZqKvr4NEMw9vdthmM6T6S0NENK7qPMWj67cBUzKjcQjPiW65bixIw5eHfjNsIDA0WfYs8tK+CaKb0Ah5GhYTixcAWOzVkqfIRZEaAHcmJHUgaA0VP6xhsAmg3X1itN7DWXXr9t27YYPHiwTkvZGTNmgKYT1BMmWEzKlrKJsa5JAgBSFoY6gEzfmpqaJsY6xOuayQAwXsunOnnfkFG4u3O/WsaEL8uO+7bqfWnqZuV+A1QJM0uIUrXSIk0nKDJJAS//YC0AqMuMXlmy9v/K6r27ez/+nTJbrAVBkXOG9Gi6Yr4WkcTYe1rbtB1ealhycQySBJqvWYwMX23M2OBPUglZxfTa3TLwTzSeNFI4iWgGs4OaosfMhi1o3AGRERH4/Oa9ACvmVlYYd+uU1hiR4eHYOWoKbh38R+jrVRk1WOi8ETwQBLKM+u7uA2weOAofX7xSXd49V3aMunRMloXMcqa2IJ7ZAAAgAElEQVQmw5gnErwRHGqSTwxdxxiCv9AIocNISRRNAgxB+4X125CuQB6FZzIzcyYphFwP+zoJqOkF/Pb6LZExLtahFQq1bKIXkGrO78rqjTg3fyn67FyNdPnzaE1ffJHwD8HsklXUsr3SAwnQ+l78R2QApdZoPIayO4tbdMFziTg0gV+Fof3xW4fWWFiuJgLevZddNgKz3meOwMLaEq62VrJrzXI7y/4E/tkqlRMELz4jS6s1ROB7L9W4rpkzCKeXN7fuCrs6aydH8Auhsr/Q0H37UcclA8AftbKGjduxY0fUr19fOIppxp49e8B/K1euxK1bt/D3339j1apVhg38HzkqUQEghRvp+/vsmaJPYfLkyYKxs3z5coHoixdXz6wk1T1JBoAJszMEEmfmLsHt7bsRExUNx/RpUWvKWLABXV9YmqWAk422rIi0Z0zfGIZ+/uDQMeFswJ6tyQ8vwjmdjDahDgDIzJ+DtXppk9clAAwMjxTEFYJLimFrCud6Fi2Ejns2GTpNcRzZx2ScpnR1FSW5o+On4eLS1VoSICnd3dB0+TxcXLKKKAkdlsxSc7gQpJqAIKR0sFPLtrGh/+6RE8hW6jch7cE9pMXcgkbt8f7+I4XeoYmJqhfu97bNUH/cUJV9G4FaFDOdGsxn6U3OL1Mdfs9fat13llLFMfDwVtlMamR4hFYJmQP4vHyDi7sOIkveHHDPloXYDCldXNSyeDyO5Ub2A0pdPsTP/QMQCDOwH5NkFqn/sXKCJLVI2cv8Odfv7fuPWFytAT6/fK26F7LbCzRpgBoT/zRqX3kwAZFJcCA8s2SQZaMfXrIWZ+cuhv/b91r7TbkbWrDVmDQKcr7WHJ/gb3rF+mrzMrWwgHvuHCIDGBulYJ9Lg58Xa99SMMRJxiKwlMu2Pr9yA9PL14WdR2p0PrBVZLj/nTwL5xatoLq42pjWzo7IWLK48DP+rWNrpMmfdKTDkjQAnNoPeBuPHkDPLDAbNsfo5/JnnkCfX7qJ0Q+YlrJk/YaEhIifMfNHVzFawdFelj+bMmXKz5xekr9WogFAgj82b9Krr0CBAti7d6/YHAJA9geSJUzWzq8QyQAwaeySnaU5bL72grHgS3DxKURRTk3oYA/WqVnz0XDCMOSvXlmNCCGs0cyt4PXps1YGkGVDB2vtlyIBIIkf1Nbb2fsP3N2lLUjM0hcBoD4yjBJQnpw+B7e27xGMTmZvaKf3e4+OWFGrKQIl3qx8aWcoWQwfHz8TP++7bwNyVyyrtWTMnkV/+SLAD198nPObOw8wt3YLRIaEIvNvhRAZGo5X12+p7tsjXx645ciK+/uPqHq8PHJmQ/WhfZGrWiVEm5kjPEpdekXzwstrNgEdUjRDZAAvH5OVoblNO7bcOUTJWhBWqC/o5Y1V3QfB/4MPfB48Vg3Xau4UFG5YW7C5GQSP17bvxZPzl1FnxABRbmapk+SQ8zsOoGjHNkhhAgGc5HQX2Ydobqku28O1unvyHBbVby3IM9KgPl/3f/aI7JZmsPeTvB9lB8OT46dwdu4SQRbxLFoQFYf0R8aMaWFqmkLVT0qw+e/iNdg/dqrYF2mw347XyVS0EOovmi2sFt3t5e+DziCj8il8jw0NMpzbbFktng8hlSTT58q92D95Ng5OVYALjwJ5RUl3Zb0WeHv1htalSAJrtX4Z0hbS7UFs6PwS+rgkDQCn9Y8/ABz6d0IvWYKOFxoaKkq77PVjsIIoWkAA5MiRA8OGDRNWsiSF0C6ucOHCCXr9X32wRAOAo0aNgp2dHYYMGSI2jHqASgB46dIlrF69GkT3v0IkA8Cks0t8WVqYmgrQJ5VH+VEz5AvaWbCPTcQLWHldK3tneH34oAUAOT+yIjWBA1/aPkFhQpt3daPWeH3xqvaL0MFe9Ep5Fimo93Yur1yHE9PmICL4m62Xha0Nfu/ZBblqVsG+waMQ+M5LNOBnr1wOIX6fcX/vITHu2BsnkTp7Fq1rcI7egWEi68XSJwEhZXZenr+Es/OX4vWlq2rSJMzqNFu9EOkL5MXLU2dwd88hPDp9XvRw1Zw61uBMzrOTZ7C771CEfPITc0qbLxdyVSyL1AXzoXC9mrDS8BMO9PmImVUaCnuzij07IkvJYnh7+x6OzV2KWJjA1tUZH+4+ULu/nBVKo3K/bshUqgS833phQZUGolxLTcGmM8YhX/WKYm+Y4Xxw8hwOzV6E5tPGIGe539V6DUM++8PaLqUA3Jpx6/BxLG7SAXkql4N79ix4cvYSKGtiaWeHFmsXC3kWZfC5IngyN0sB/m8CwMu7D2Jbn2EIDwhQHSdIJQe3wcXdTRCExHPk5YMFFetqM5DNzVGweUOU6tEZeUoWF17ABKZyLF1e4O2d+5hYopreZ015gGAKb1qJ1HlziR9x3nJlcvotTyldC/5fv4RQZ7Dt9rUiM31jk7auW0r3VOh6eIfR7jkGTzweByYDwHgsXgKdymf4xo0bePDggXACIa6g7EvBggWNbq1IoCn9MsMkGgBs06YNBgwYIBA5G7NbtGihAoDcyIkTJ2LDhg2/xEL+vwJAZnr4jy96qS7dL7EpP3mSBIB0xCDo5Ms6Lh1AKzNTOEhKYyL7FxqpcgHhi5DlMM0Ge3uP1Oh15pDoj9MXC8rWEDIdmsHsYZ/zx7R+vqhibfg+UviGDju9HxmLaHvc6mNUs4fr/KKVeHPlmpACKdO3OzJlywAzsjwpNfLlC1jcCw6LEtZehvJy+JJdXqMx3t+9hx6bliPjb4Vg7+Yq9ANTWFggIjpaWNQRXBNcrGjXC8/Oa4uJ895S582Nwq2a4Nj4aaLNoGyXNijRopFY61tHjqNEv15iDXb3H4aHh/5Bkfo10WTaaDXiCvvXjv69GIdnLkCL2RORp2oF8aJh6Xvf+Flos3C6YIVLg/d+as1W5Pq9qPjM2t4OtIx7e/s+VnUbhA67N4CkDAb1/ayjI+DskUqtJ5rM5Nk1m+H9PYlzhokJindui2pjh6su9/TkGWzr3EeUiDUjW5UKaLlmsdrzyaw0+z35BUYZLIFv7Dcc13caZhloQcHdcqVQbkAvvL12A04Z06NglXKwtlCQnRR+yEDQp0/YOXISLm74BvR4bsOFM+GaNQtWN2ilJitD9nHWCmXRfJV+T1pmurmn1FH8WZGkAeB0ZgCff/9SeGaG2ZCkmwEkd2DChAmgWkj+/EkvO/z9C//zzkw0AMiafe/evVGsWDEtAHjx4kWh27NixYqftxLxuNL/IwB0+aqpp3hxx4rSH9m0CV9MjcfCJ9FTDXkp8FXL5nsGrdyk60riB+U7qNMnbMkAUYYs3acbSnbvaNBdzy1RGf5v3modywb9/ldOav2cem5KB5Z8NSqj3ZK/kNLlm3MJBXsjUpghOMJw6RnK1pDxrNkDpiS8cCz2POoLln83temGYk3qosGE4bDUEACW9nnu6DkI9/bIgxYrB3u0WLcEnoUKYHvPgajdvxvSFcir6tdjJSI8+osoxXOODw8dQ65CeZAml7aLgO+LVxiVt7SYurmtDaJDmb1V7GKzWRNQvHkDFWgUfY5fvgiBc1sNceuoiAj4vngt+lzJVH989Sb2DBiJfrvWwjGNNlv42q4DWNa6u9qSMePW9cgu1c98nzwTLiShHxUZU2lkLF0CxTu0QakWjfHJ3181Z/am2lqYiwxnwDsvHJw+F+fXyFsySscjeOP1C7dqits79+LDnXuCdcxnqMOKOVpyPFy30fnKqGXGTUxTwMbZWZSj7Tzc4X33oXBkMU9pg+yVK6D2tPEw0yipS+fALDdF5MkgZt8mM7x1Zk1Cmnza5Bh9z5qxnxvyuy4d09zcHG5u2gLXxl7XkOOjZwyIPwAcPNuQSyXaMcQRrCLmyfPj9zrRbvIHXjjRACCRO2vz9APWzACSrRMREZHcAxiPjeeXecovWJqbIjomFkERkaBPra6Q/iHji5vSGtIXN19u7NUiAzI54l4BY18KcqNFhobi0vK1eHjwGKydHEQ2LYMR9ler6rfEmyvXtYb2yJ9H6NBpBsu3mzv2Ujl+lGzdBDWG9IW5tSW+RMXg0blLyFizulFbr4tcoByE5UqKOsf1XPLYM38vEhIhI84dRPqC+bTmIC2f39m1XxB0pNp7PMHU0gKtN61ChuKKMivBt4OVGcw0SrWac7IM/CxrA/f53XsMz/6VpJbia0+kxEYuf80qqNy3K6zsU8IuS2aEx7DUaiNLGpGKVLN8Tbu+JtPGwM5VWy+RLiVTytRSW4NslcujxZrFaj9bWbe5YBrL+f2Sse2QxgO1p48XWTtpvL95B+tbdVY9B/o2nCzmGhNH4cycRTj99yLQpo6uJENP7UWanNrAmaLfc+u1FqVvfUGCTO7a1VF31qQ4D13dqI141qU2fkrfY0FC+oFh7O96MgBM2M0gjyBv3ryoV69ewg78Hxkt0QAgdXm4eUWLFkW5cuWELVynTp3w5s0b/PPPPxgzZgxy5vymOp+U9yOpZQDZoO6akn1mEiuwLwr5ishodYadcl2lf8jcmP2T0e1iFtAn0DDj+aS8Xz96bsa+FH7EfMjS3NS6q1o5jb13TZfNRbpi8o3Qd3btE364UuIAX+amlpZosuRvowAo70lXb5n0foPDIxGoR9D6zs59AtQNOb5byKtohtJmjt9vWMpdWac5Pjx4iNivZAsCiTz1aqLO9AmqU0nEoTetZhCMUbKFosiM6FcvkV7mmm/vPMDEElXFMcwsZvy9OB4e/kcLcGX4/Tf03LMRKa3MRYlVn/4gx3tz+54gpGiyy5mhPPb3YuwePVU1bWv23W1cDpJtpEFdTZKJnp8+r2XrpjxOrqWA2bRF5Wsh0EvbkUfuOWXZuseJfSJj7fv4qdCsHHp8t+hxlHOWYV8m9R5f3bgt5I1iIuPOKAvi097NcJLxYuZ8qJO5umErhPh+Up+eiQl+79EJlUf+8SN+vVRjGvu7/lMB4KxB8c8ADtJ2avmhC2rk4K9fvwa1/ho3bixUQ5Kt3oxbwEQDgJzm6dOnsWbNGqEBqAxmBantU6aMcewz4247YY9OagBQ18uN/Wn0Y5WLZACYcM+EsS+FhLuy+kjsAfx36mwhoUKyQMVhA5AqR7Y4L8cyJQkXb67dED61lI4pO6AXCjZtYPQ02VemmUnWHIRl4EAN2zvNY2IiIrG4Ym0UaVATdUYO0urx0pT6Yfbv/KIVInvKzB916/I1qqsGvhytLUR/miYgYzXCT/JFKeDFK6RJ4woHiRA3e/1WduwL2pK5Z8uMzKWKo+KoYVjdpK3ouyT4MrexgX3qVOi0eyMyZEoryxbWtaCf33nh1NI1qNK/u4qZzHl9fPkaU8vWQehnf9Wp7JvreUq+5O334hVW1muJ0E8a4Ojr2Sy5NlwwS7jASIPOL5dXrUdEYJDePSfIK9q+JZ6dPCvuvd6YIag6sIesCDcH470tbt9btDPsHfQngiSaf7ouVmfmRBRq0Vj242enzmJrJ/Y7av9dy1qpHFquXaL3HuJzgLG/6z8XAP4BvItHD2DazDAbNDM+y/PDz6UQdDR7P79m3y0tLbV+p4kxkkN+BRIVAHJKbOQkhTsgIECwd0jd/tVQfFIDgG52VjCXEdSWlso0HwfpHzIHK74cTbV+kWg/5heHXlvyL5liBXS9FARTOIUJoqK/JPleShII6MiQ0s01Tl/auPacfY6KXlLe9zdLL+U5wqUlJEIhzhxHCOeOwGAsbdoOLf+aAI9c2WDr6KAglcQCfiHGOb242FqK3w9dQtFkY0vj4OBRKFq3GtwyZ4C/lzd2j5kKn6cv0GvHatEfaOPk+NWeLwYPz19BmnQecEydCrTY4wfmX3s9NW9Rlz8x3URG5ioJlpGr/dFL9NHRXm736CkI0sh0kcX9x+3zstZyzMixt1NTT1I5D55bf8404QUtjSBvH1xbtwWPjv6LoA8+Os9XnkPGM78oMHMsyvQFtHX6VN7cIQpBbPpRLyhTXW8GkNp/jRf/LcSi5YIONUurN9JiPFP6p9KIQSjR9cd6vyYDwMT9q09rN31Z9Z49eybuJJPw1RMdACbhtTF4akkNAOq0RYv5Am8DMoB8a4kSsokCsLCJnfIm7Nf6EZp6Bi/0L3Kg5kuBpT+CDq6lkPQAEBIehZBI/QSIH3HLbBGwsTAXDG96xoZERsH30RPxAvfIlxvUBUzIYL+djYUpLMxMVWVQgj+WWfVl/zQBNcGJtbUlHF1dhOQJxzCGmCS06awVeyENAhRmyNkmodmTKOeP22X9YhSsU00t08XfE/5HKvGjC+QJq7+oKHG+1EWFwtpnV23C1sFjxPSo2ZelfGk8OHgUzITKBR1cslcur/URCR0U0ZYKT0sPorxKj3/3qvQHqc+3u98wvDx/EZHBoTC3tYZrlsx4feWaqpwe13NBINhv/ybkKFNC6zCCdZ/gMJXG874//pSVfNE80TFDOvQ+fUhWVkd57J6BI3B/3yFEhX4D7i6ZMwprQwsNwlBCPteaz6Yu32/pNX9qBvAvZgC1lQAMXoO0mWA2MGlnAA2+l+QDZVcgUQEgf2HoAkIAxUygZrA38FeIpAYA5V5y+kgcct9kOQ49QvmNXZ9Y76+wTz9rjpprKQfICV6e3nuMnQNGCusrM0tLlOjSHoVaype6EmruzMZRt5DgnvPki5nMzDn12ggrLvbLVRo+EPka1EmoS6rGIRAmEOR1wyKjDfZnNjbLEtfEnWwsRelXM0SJNSAEhybNwqPD/wg2bJqC+VB9wp94ee4i9v7xJ6K+iioTsE16cEHeFo8+0BI5FV5HDgTyeppZUfoFX92xD2u6DBDC1SzbN17yt9BL/KtwWa0sF8emo0e77WuRrmgh2dumRuOuPoNFJk8adqncUKZfD1G+Vcbpvxfi7LylKsFuxfhmcM6YQZR3uSbSYIm7+czx8MyfB7FfYnB1x358sbREla5tYGVrqzpU+EJHx6hVD5bVbAyvW3e150wBaQd7mJqbwcbFGU2XzoVLlkxxPosc/8qq9bi+YavIKKb7rYjo/RM2fD84jH02fyoAnD04/gBwwIwfvILJwyfmCiQaAHz//j2mT58uxEh1xZYtWxJzbQy+dlIDgJw45Teo78WXLrMSIrsREqEzW2LsHzKDF+c/eKB0LRWEHFqGaZdA7x47ifn126hWiH68JXt0Qtl+PcTPlKW4YN+PyFuvpiBh6Ct36FtuOTBKsHF6+TrhtcuwdXVBh90b4Zwpg77hfsrnCfls6uqPZdZv/YCRuLxms5r+onPmjMhTp4YQKY6KCBeKzPTwJQB0SJ3KoPsnQKFCjDLryEwhs+yaADAsIFD47z46dV6MS7IO94Hx8vxlrGvWXguEUW+v99kjcT4XBPYER1537gtg6ZI5E2oM6o1oayvwmjc37xAEjifHT8uCTCEWXqWC+IJAIEiGOh0XRp4/hFQScBYZGoZ3j57CIUsm2Ke0ASWs+beHKgR+oeFqhOSDw8fh6lptW0PKwDRdPl+U1Q1xvDFoA37gQcY+mz8VAM4ZGn8A2G/aD1y9hBuaZJB379790omkhFsNw0dKNABIGZgPHz6AgtDp06cHfzE042fpJRm+XPJHJkUAyJmyyEU2L19u+kq3xv4hi++a/T+fL11LkXHT4Rn79PxlzKzSSG0p7NN6oM+5o6Kpfv+Q0SD445uTWRECAgriSkuGxqwjn4dUOmy/vB49wbjCFVXDFW3XAjUnK8qQiR3f82xSA/HI2KkC2FhYW6NEtw7I36iu6EdkX6ImIA8PC8eInCUQ+lGdMMG15j+lHiPXgtZkE+6eg52Tg9rSCKDHzJ5G/y2zvRT6piQTj4kJD4eDo73WstK3eXm7Xri577DICFcdNwxF27RQHXdz2y4cGTMZUaHhQjPPwSM1WP51zpjeqC1iSd7FzhbhoSF4e/MOtgwegzc39MiypEiBVDmyouvhncJb+Nm+A6g1pK+WPl+Atw8WNO2EbFUqony/7jr/9gR98BbMYaklIfv98jWsi9rTxhl1P4l5sLHPZjIATNjdolwcE0m0ltUVv0oiKWFXxrDREg0AUsCxW7du+P333w2baRI+KqkCQGOWzNg/ZMaMnZSOJUOTWQ+HtB6yMhUJMVfNtZSTQ4kKj8C2oeNE5k0a1C2j3++aJm0R8Pa92mcU3a371yShjfa9ocv39e3dB5hY/BsbNGeNKmi6fN73XiZBzzP22RTgok5zUVpXBrOrJbp2QLmBvWBtbiqcL5RdgBw/NDAYR2bMxbE5S7WybHI3k7FYIXTftAz2qVzFc/Ql5gtiY1kiNVHzhY6OjEIUTNT0M01jomFvZgJrB3UQ+Pn9B0wsXkV4Ebvnzol229Zo9WNS5oaZPNr6uWXPanRGWOlCIwXAdE9Z0Ki9Xm0+XrPuX5PF8xf1+hUy5M+ttTTMAi5t3Q1PL1xF7ZkTkbuWbis5ZhMPjBgH/1dvRcm3QLOGKNWri9H3lKAPm5GDGfts/lwAOAx4H48ewDSZYNbvm+SQkUvzUw7fuHEjLly4ABI9xo4dK3SF6fl77NgxMCvYvz+9sjP+lLn8ihdJNABI8NejRw/h1/erRzIATPo7GBkSgu09BsL73gPxsqZdVMWh/ZG3vjoDMiHuRPOloAQcypcuS4AfnjzD5BLVEK3R+2qfxgMN5k3Hlo691TxflfPKXLYUWm/6foccZxtLkYmSlpIjgkOwf+ocOHq4I1eF0ogKD8f5jTsQY26JMn27GWQ9p5yfaDlgJiwhFvLrGMa+ZPcNGYUbG7ZpzYAuKL3PHBGMVQbZ8vQ0Vq4FCRj3/zmNxc07GzR7OzcXVOjREaXat4Cdi5MaUYGlVoo6v7h1F+4ltEkR0W/fwC2Dp/ANZlAg+fiiVbh/5qKQPMlTp7pO4gOzmv9MnIHPb97B3j0VKo4YaLCvsi5x7ifnLmFWVf39p8Xat0KlkYPw4sAhlG3fAmTbSoNgclbVRvB59lL0UHY+oL0PBi3uL3KQsc/mTwWAcwkAX37/SqbJCLO+SRsA0k62Vq1aqFixopqdLG96zpw5Agx27dr1+9fg//zMRAOAmzdvxsePH4Ud3K8eyQAw6e8gmZzPz1xQcwuwcXFCqw3aIrrxvRu5lwJLjxQepjg3CRAvb93H+hYdESIpOVI7rnDLxijQtCHWN+8geq40g32AbPqn48LDI//C//U7ZC73Ozzyamdj5O6D/ASXryVpzpPg78G/p+GRI6uaeG9YYBAubtyO02u3otO+LXqzpcwsiayaiVA+EVI3FFROCCBo7Et2SZX68L4v8cv9uhC0CGu3Y72wXTONioKri71WKZgaf7OqNYH342fiLJZ/NckP0nW1sLHGuFun4ZQmtdZyP790DX4R0bLgjGM+O3wMbh6pEB0VhQBvX7jny4PnV24iNCAAuWpWAwGrZry/fReb2nZHCFsDvgbJEo0WzESmMvqrKWwBIOjVDMrajC5QNs5Hn5qKNSb+KTyj7+7ejxFnDqi5pPDLzJNzlzGntqJs7ZotC3qeNMxLOL6/c4l1vrHPZjIATNidat26NUaOHIlcuXKhWbNmGDdunMpA4vr161i0aJGwlU0O+RVINAB47tw5EAR6enqiSJEiQgNQM6js/StEMgBMvF3ii5QghuUpOecBzowga0nV+gj29tWaaPaqFQ0ymjfmDg19Kbw4dxFHx05BqJ+/yKSwR63coN4UEsTCsjWEy4FmWKRMKTIr/q/fCBBAvT66QXgWyo9mqxbqBWrK8QhImZEkOSjCxxtpM6QV5AZpsCQ5vVJ9VBkzHDmrVxYfsWwa4vcZZIy+On9ZMDVrjBmKPCUKq9mc6WKd03PW2lzBwqUItCHsckPXUzn3LR174dGRf7XWjvZgLdYuEb2VVXp1QEkdjOvNf4zBtd0HBPuVhIcPdx+ofXGQDuyQ2h3Dzx4Q2VPN8Pf2RailTZyPDolatF4U5egvXxD00U/oDN4+cgLFO7URgsnSWFWvBd5cvSF+xCw2vW8p3u2eOwe6Hduj9zHV5c7y+uZdTC5V49v5Asmrw3fH9OnQ4/g+LK3WQJBBUmXNhDYLZ8Ilg6eYx6NT57Cp/0iRQWawpFvvr8l65/QrH2Dss/lTAeC84fHPAPaZkqS3R1pJZKavRYsWqFChgpjz5cuXMX/+fKxduzZJ30NiTi7RACDRur74VZo3kwGgvp38MZ9fXrkeF5euAvus2ENUsFlD4VqhyZT1efgYa5u2Eyb1mkELrS6Htb1x4zNjY18KctfyfvgYWzr0hP+bd9p+rjIvZzMrK1QZNRgs0RkbzraWsPoKyqTnhgcFY1HzzrD19ETDmRPgYGMJk9gvCPb9hCdnL2Ft90HiZd9711rkrar4oysNCjz7BoepcATJF9QeZJmYQSkUAkB/GScQOjtcWr4O9w8cFvZi9caMgGPenKK8rC+43+uadVDLrjJ7RRD77uYd+L96g/I9OqDxpD+1SAwsz1NYmtJHDFqj7Rv0J95euyncJsIDg9QygtzrCffOwTVDOrVpcZ6hkdEIiMPlhOvAMrQmIYVi07SZI1m4w64NIBOZGoC8h3m/V4GZqSk6rpwrZGh4HZ9nL7B16Hh0kvF41lyrlJZmQiFAykAO9vuM9b2G4ubeQ6rDHTzTwjVbZvg+fCz2j2zj+nOmwtEzLRaWq4mPT+NwmEiRQhzXkRZ4Bnjx8h7eXL0OE/Y+5swKa3d3lRYjxagvLF4lvujka1gHRdu20Nozfc/Dj/zc2N/1nwoAF4yMPwDsFbcP849cW0PGpp1soUKFULNmTVHypawc+wHp8c3Mn4WFBUg4TQ75FUg0AHj//n29e5I7t2FlLb0D/eADkgHgD15gmeFv79yLw39OFLZbyqCGHTMmpXur93yQXTm/dDU1UgDPYXmPTee0SEvIMPaloOvaBH9LqjVAhOQe45pn6ry50fXITqNvRZdlW6C3L/6q2Qwlu3VA5fJrgnkAACAASURBVM6t1IAKy30Pjp8R5AHh/lAwn9Z1hdNHsMKlw8IsBajBpwl2eAwFxqXiy9HhEVhRtxl8Hj1RCRBTFuS3zu1Qtr9CIkdf0CLsyJgpws6MMiZZK5QR+nD0Oo4ODwc9jkdf+UethMkxWbomaNUMwd6NisLaJu3gdfueKMEzLFOmRN2JI1C+07f14bEs6S7v1A+exYqgRJe2IIFHM5gNtbdi2VxdlJqM400DR+HMivXIVKYk/F6+BntYeRzZwYOP7oBbJnXmr/fTF4hxNUyWhr7E9taWwj6L4O7J9dvY2G0gQv38RAbZMZ2n6EPlfyvL31Lm+fGps3F+8UohZC0NygexbJ3x9xIo1auzQTp8YZ/9sf+PkWg5czzsXJ1hZZcSwX7+gLU1tg0bj5tbd6ks6ShQTqHy9rs2GJzp1vecxPdzY3/XkwFgfFdc/fzz588LNZGGDRvCx8cHo0aNgr+/wirR1tYWw4cPR7ZscdtfJuyMfq3REg0AKpcpNDQUjx8/RlBQkEDyKVMqmqJ/pUgGgD9/txZXqgtmejSD2mF9zh/T+vmlFWtx+q8FCPMPUHxmYiLkM9ikTomVhAzNlwLLrY4C/FAXDYjUkfXSnEPAOy+sqN0EwT7f+r3immfqvLnQ9cguo29FLhNFEgN72Ja2641RN07CLqV2KdP//QdMKVMblft2QaXenbVeyswAKm3VCDKZeZIL6lOGRX1zRbmyZiOOjpuq5Xxh7+GOHicOgIxeQ4NgkpIpBDCnZs3Dqb8WqE51z54FHZYryC/88pDC2lr0LQqZPkkwa8m9i4z+gqiICFxZvRF3du0Dy/FtFkxH6iwZRe8jYVxoYBCubtuLfRNmIOTTZ6QwM4Vz5kzotG+zAIvS0AUACcy2DBqF08vWidYAAk9llGzbFC3/mqTthxwegaDoL4iIjttWT/Hom8AjdWp4ffigllEV14mN1esEQ/C7vmVn8ftHAMd1sE/jjrZb1wjrQGNiU7vuaDZpBDzz5lI7LTIsHBsHjMTFdVvVfq5gIk9B7tq62cXGXD++xyZtAPgn4BUPEohHRpj1mhjfJfqh5zORlDlzZpV9bHh4uJCE4b5kyJBBgMJfJZH0QxdKx+CJCgC3b9+OPXv2qMQbp0yZIjZz/PjxyJ8/P+rXr58Ya2L0NZMBoNFLFu8TWAr7/OqN1jjs8xpw7ZTs+M/PXsCZOYsR/tkfGUuXEILLtNpK6JC+FAgKNMt8UmeEwPcfsGfgcHx6+gJIYQLPwgVQZ8ZEFchZVLG2aLpXC7kSsKWlYIOW6NxO7+0QeNgSFJlQ1zhWlCmZCbK3MEVkUDBioqPg9fAJdo2dgRpTxiB3sQKgdpxmsHQ4v35b+L54iRFnD8E5fVpVNosZveDwSJXdHcvMHEMr2/VFYb8mBS7rW3bC81PntK5H1wv3XNlh6+aKYh1aIWv5MkZJhry+fA2b2/dQyxrzIpQEarx0LtJqZDGFhZ/KNUWxVlL7OmY0yahWlrQ5FjN/MyrWx8eXr1XzJwgs27+naE+QRlwl4EklqyH402ctAkrjKaNQua88q5HglWVnfWEsaOF4IT4+CPfxhbmDA+zTeYpLsJz+9up1uGbNgsxlfzdan5LZxTUNW6PX5mWyotq6mMl569dCwwWz9N3mT/nc2LX8qRnAhQSAr75/HTwywKxn0gaAbCVjGThr1qxa9/n8+XORAfxVWsm+f6O+/8xEA4BHjhzBqlWrULVqVZH5mzp1KpQAcP/+/aKBk0DwV4hkAPjzd2llvRZ4+7UZXnp1aqP1OLH/509IckXpS8GOYMuSYEu9zMfSp9fHACyoUFvLq5Wlri8xihc5Mx6mFpaiDMbMCwEr2ZXUuKNINHvDrB0dkDpfbrRavyxOz1SOxywc+8CkPWCci19IhCCE0LkkPDgYMVExYlzlOXa8Bw3/XL+37zG+aCVEhIYhf4NaaLP0b1iapRB+r8ERkSpQ52htAauvrjSaGyPNEio/M8Qnln2BOWpUMYpkQOC9tnFb0c+nzKpxrSmw3WbLKq09knVNiY0VjjpRMTHCL5tC65pxbu0WrOvxh9qPPfLnQReZHj1bCzOwJCvkc0gC8f2E/ZNn4/qeQyLbSEAujdxVyqPzmgWw0chai3J7SAS4nvpCDrRwa5npZLleWY6nfJHI2sZEK7QO2bMZEAQ/6iu6uYOs9fgE73dD0/bovmEx7N3dtIZ6ee0WppbVkGkyMUGpXl1RaXjCtm18730kA8DvXbmEOS8uAMjK4pgxY7Bpk7bjTMJc/dcfJdEAIPV7yP4ljZt/WMjeUQLAa9euYfHixb8MfTsZAP78X4T3N+9gU/seGnIYTqj31xRkq1z+509IBwBkloieyprBZ/7S3iNY37G3VqlT81i+fCv9OVjoAmarVB5pC+UHS5v39x2G38tXyFqxLDyLFDQoG6aLBfr8yg0s79AHBZo2ED2Uyp4vlj4toqNgY2kOS9tvL3yKaZ9dsxlH5yyBR/68aLRwlqxeIHEvrylnhSfX/8d7J8N0dcPWaiQOuQ0lA7ndjnVwy5bF4P0miD6/aAXu7T0oOM3UgSzZvYOWnp2u7BwvFBEVg8DwSJ0OLy+u3MC08nXV5sQ9arluqfgZJXPoRxwTG4uQiCiRfbVm9jUkFJe37haagJzX1k694H3/kdo4BBxDT+5FugJ5VHNmZjJSw2s3rgXRBC20x+MzaiKxbguNjBJ9gtx/zaBn8bPL15Eydx6D11154I1N23FhyUrx/Fo7OopsMzOA7lkzq40VFREptCmPTJ+r9nOSSroc2g5m+pNCJGkAuGhU/DOAPZIegYJtY/zH6NWrFwYPHqwl9hwZGYkDBw5AKQWTFJ6VpDiHRAOArVq1wrBhw5AvXz4tAMi6PtO6GzZsSIprpjWnZACYONvkde8B/p0wAwFeH2Dr4izIHOl/K6KaDLNRdlYWIrvClyRf2uzj+tEhfSnYWpiKOWhmAKO/fMHmoRNwduFyg6aTs2YVNF0WP2cOQ6zgaMdVoEl9YQPHkq2jjYUKvDFrFhMdIzTy/p2/HHeOnkDNKWNwYckqBLM8aGUlLNcKNf9mb0fNOYX1mjaQIGghAUQuHhw6hqNjpiCA2aY4mL/ccxJ/ODpBlYWZqcjOhUZE69Ug5JQIciy+ZvHCo2MQ+JW1y/nq8nDmvElucZPR1GPv5PGFK7F92LfqBbO2zVcvQrqiheBia6lgQn/V4iMI5jVZWtaMl+cvYV3zjloSNMwKd9u6CtnLKGSyqCsZHKFd+n118QqOTZgu9CQtbGxQum83ZK9cHkfHTsXrS1dBIFdtSF+UadtUDaBrehfL7Q8lgkKtU+r90kHAfWf3ATw7cQbhQUF4e+W6kG1SBm31spQshtZzJ8PezVWAWmpQxppb4NXzN9jWpQ/YJsE5sU+z1tSxyGyA3qFBv1QJcFBSBoAxS8bEGwCadkt6tnzbtm0D28cMiQYNGqB58+aGHPqfPCbRAGCXLl1AO7jSpUtrAcCTJ0+Kuj1FHH+FSAaASW+XNMELZ8iXrX8oS5PaL9uEvAPpS4GyyG4apUJKjYRHReP0+u04MHS0kLjQF47p0qLvRW1tO33naX6uKwNIRu+cOi3F4XYeqdHz5H6k83DTKnHSwm7nqMk4sXAlLOxSwtTU9BuxhqxYezvRW1mye0cxluiBlAFKfKGHREarAJfcfQS8e49l1RvJCmLzeIKFmlPGokjLxgKspUhhoiilkrH7JRafQtTZxZrXoCsGCTpKcM7zBLgLiRCHyrlmfImOwcXte/H26UtU7dsF9ilt1MrpokwaHCIIHIdnzENESCiqT/wTxdq1FFk2R2tLMU9pyJXB+XnIJz9cXbtR9K1++UqSodwPM57td62P06GFWoHMIIZ89JOALXtBRBGAinV6ACMvHEa6/NqZPK6F5pcW6Zzp+BFkbhUnG5cSOqvqt4Tfi9eCea0rPIsVRtFWTeDk4oQ0uXPAyiM1omK/rRHnSwkeyuHENSdjfxcS4vikDQDHAh/i0QOYOgNMu41NiGVK0DFY2n306JH4PWeSqHr16nB1VScfsdcyffr0yQQQPSufaACQmj1v374VGj3U6mEJmH2A3LTRo0cjXbp06N69e4I+OD9qsGQA+KNW9vvHJfHC3FS79BoZE4OPQfoB1/df+SvL0sMDXl5e4o8UQQnLbMz8kGDK8lpIRLTo6VtStQE+PlG4TsQVuepUR5PFf+s7TO/nCuFhZvW+vWD5Mp9bvzXe3XkgzmdptcveTcieP6ds6fbF1ZuYVq6OYIsq5VCkF6aGXJ/zR1XggAxgG5IlJA4UzIByH5iZ1QxmGu/vPwJmsB4d/kdnKZhAtdepA3B3cxbZP81gqZYgkCCPc2A2ktcLCo8SBBg5MKaQrokA58fMoJOtpdg/vugJ5t4/eIxZVRoJCz/Ky3RctwhF61bXAiYEWH5v3mFZhz5otXmVWCtnWyvZdgBpDybvgWu6s/cfoleREkY81ymDJ5wzZUS2iuWQs3olvb2eqxq0wpvL17TWhH2cFG1Wxphrx+GRU1smQx8AfHv3IVJ4qmsfal6MTO5Ly9fq9VZ2yZIJvU5/0yDU+xAnoQOSAWDibgazgZUqVYKzs3PiTuQXvXqiAUBq95ChQ6++3377DYcOHUL58uXx8uVLYRE3bdo0LVSfVNc4GQAmvZ3RlenSlW1JyDsw5qXA8tzh0ZPx7vpNIU3DbIcmqGIPYJMV85Emfx7YuRum9RbX/YjmfitzhH7yg++zl9g2eCxe3bitOsXeIzV6nz6ItKldZAHggxNnsaBJB5iamSFCg6TAQVK6p0KPf/eqMawJPAUZBhDgisxjqfaf8uKU6VndoJUQwGbWJ4WZGWJjvyBWQm5gf6J9Wnomz0D6YoVFj6EcGYN7TQCoWcrldaNjYmApI37NeXwOCVeVZAn+OHff+w/xz+yFuLX3MFjmVUbN4f1Re3h/nZmwN3cfwNRTodnHflA5oEpQ6h8SjvCv7Qn7Bo/CrW271XT2WP6sPPIPIYQsDT4r/m/fgxp8JMYoY36Z6vCTcZLRfC5azpmM0h1bqYFzHsO1I0jW0m2MjhYex96fAlRsYF3P2sLytQz6ckN9Rgpe/4phzO867+9nsoBjljID+I2NbvT6pk4P065JLwNo9H0kn6BzBRINAHJGzACuWbNG6PawdMIMQZ48edC+fXthEferRDIATHo7pcv0nv1hvj85A2jM6oQHBmN1w1YI+/hRlDiZnRPuF9SZM0kB1yyZ0GrjClATL77x+fVbrG7QEkEffFRDmVtbC8eF2tPHC+DEnjpphAYEglZpVqnd8friVbBPTTMc0qZRZADNtLNy+ua8p/8w3Nq+R6vvzyGNBzwK5IVbjmzIWr60gvTyNaMYFwAks1kOdDHrxpe3VMKFcyM4pBMIz5PGogq14ftYQ44HQMs5U1C2c2udtxUZEYmPYQodP2aAKYejixBDJvbnDz6YU6yCmvafcnDqGWarXAFVRg2BU3pPQWahGw5BINc63W+F0WDONJExXFG7Kd5JQL1qghoSQhTYHnJiN1JlzihALJ81AlLOhWtjb20uzJ2jw8Lg9+49Pr3zRsosWcDePX1B+0Xve9qezNLzmG1uunyeWu+uvnHlPqczCfsdKQ1Fj++KQ9X7gb9nTEPOSdIAcNm4+APALmMMWYbkY37RFUhUAKhcs6ioKCEETRFoloN/tUgGgElvx9hv5aDBYuTLPSAswiD/2fjckbEvBem1+NIVZUdaifn5ITI0DEE+n2BpZyuydbtGT0F0LNDzxP4E6Yf6cO8hDg4fi8AP3jA1ox9xHYWdXgqFZZuLraK3jpm7WJC1SsKBAtC8u35LMLGZSVQGM1XUIiw/uO93LeG8UlW1ZHE4EOdTtFkDVB/1B6xcXNX6OO2tzAVLWQrmlFZsdCCRawUgACSulmYOeQ6BnxwxZUmVelqMXM4re9mS6LZxGWyd5AERs2W3L91QERd0iT9zrIioaEwpXQsf7sbtksQMbZl+PfDvlFlqmoYEfnnr1US9v6fi+enz2NFrEML8vtkfsj+TRB0SdqThnjsn+p/YA2tLC5H5I6FErjTP7PS/U/8S8yODl77VmUqV0LnPV9dswrGJ0xEVqu6sQg9jG2dnIcBO+8LMZUt917OiPInAnNZ/0vuycXZCrenjkKtGVXGYaANg64OpiQD5geFRBknm6JuYsb/rPzUDmAwA9W3ff/7zJAEAf/VdSAaASXMHFaVOC1CpjfkcChPLsS11zZ7kDPajSUtrhtypoS8FBahSDxJGzM20teWUR9EndnGLLqg4aqjIgv2MUPr3sn9S2rLHNsLgV69wb+8hXN91EP9j7zrAo6jW6J9sdje9kAYIKqggRUWfgB0rIooFEREUFEHFjj577/XZEKwgICJSFEFRUEFRUYrYC1hAOoQkkLo1ed+5m0lmZ2d25u7MliT3+vGp7J1bzp3knv3L+T0uFx0xYigdM+7yiMkpSvaVbQgOXAdhGP/hLELljoy8XJbMgzA2ZOJKRAWWNawT2IPIgcjAioW4O4g1KxvGABFAXCCILavQ4qujvTVu1exhWNoQ04Yybcp2/YK3GBFMsQdXOoGr+OePl9LUK8bTyXfcRP+5OFD/vBiyOCr6gaWbttB9h5/IJFL0GixwLqmqjawzyCGsryCDf3z8GS178llyV1RRSloq9R19MZOXgYt5x0+/UmVJoMIMiGFGfh6d8+zj1P6wnqpTV2zfSW+cM4xQnUZqyG4+6bbxlJ6bzb5AHNDvOIIOp9QQB/n+jXfQP1+uYIk8zuxMViN4xFuvGyoTp4eB9PmMYaPZHMomxRaC5CP7Wm55xflDz1Gq+Wx0LmU/oz/r0nMxJYCTHzJvAbz8nkihEc81AwQEAbTgkAQBtADEBBoCcWgIwt/1+3oWf5ael0dnP/Oo5uXIcymA9OVmNEmPsPivGg+zPIHASBa3cHCs/+pb2rJ5Bx18xmlxQy2QTNJkdZMqirhU5Ex4Fgk33srJbwbFv13w+L3U76pLQwgWMqlB8qSGxBYmZuyvY4LGaGpuV5D6OuCd6mR9pKzhkspaTekYkJnZY6+n9UuWBic1oKxaz+504NH/obPvvInVsrXZU6i6fA+V/ruFXjh7BNXs2UssMebrxcxVq+Wy3vrrH/RQH2NnCouolMkrxzetTR5d++XHjSLeWthPHjiEtv74S9DHWe2K6col81XJGXPNz5kfMhwSYRCqgCxfuHM7HXcUq9Ihz9YFadz+86+s4grqVVudyav2pQELRbzs9Ss/o6LcLNUvAeFkiIy+s4lNAB8m2mkiBrB4X7JdfrdRKES/ZohAiyKAqC6yYMECVgwaMYSIJezWLbjGpNoZ/fHHH3T//fezzOOnnnqK+xgFAeSGLKEfYPFTP/wcFIcG4dmxH89jtU4RRoWAfpALNFiSUIZLIh3hLgVo4iG7VH4JwhqBuMQUqqM2GWmsfmy4hjJjpW6/JQkhkRyELSmJCrKg7RdsqcQ+UPs3jGyf5nQgZSBHfo+XZl5yBYtf8zaIvd7//efUtkuo2DNIJ8geZH3gltaaF5JAyAImv59VTwFJS5MlTEgkENnBkntba6H/fPkNc5m79laQzemgdof0oF4XDqb3rruVrbfowE5MVqVkwybaJIvByywqoMs/mE2Ij0T1j6y0gD6l1EAYZ99yH618+11jR6JSDpA9mJREt6//jun+aTVg+/bIK0PkdUDm+t10DStbp2wvnTyIStb9qbs2VAc564kHWBxprNqrpw9WdZsDaxDA4ux01SQhv7+OdlYGu6d51ywIIC9ion8iIdBiCOCKFStowoQJNGbMGOratSt9+umn9Nlnn9Gzzz4bNpsYiuK33XYbtW3blhFHQQAD0iWtte38fR2LJ5LHtTEskpPpuGvGMrFpJEdI7kYJJxARyYKkdSkgDikgihxMnIA3iMecm++m8+/5r2pdVPl5lG3bQa70pozPWJ8VSsmpiVtjHyDCPG72tTPn0NcTXyNfrYsRqj6XXUxHXXEprV+yjN697hbyVFWRFgGU9i0JF++qrGGuYa2GOsA1O3fSDQtnUlZBfkg3HosQXMGwwuEPEhCmnn8J1ewu1ZxbkqxxZGSwPiix5i9D/ySWxPHpi6/R5y9PDTwvJ3eMIyaFFcNWTnrWUw/SEcOHaq7l90VLaN5V44OymaXOh5x/Np33wpMhz04bMpL+/WaVoVctJdXJrIAHDzjVUH+znbCfhf+9h1XKkRoEzfuMvoROueMmVotbLQ7UCkWAhCaAU2ABDK2Xbhjv4o5kG81vAYyXIcbwvkTHRgRaDAG88847qVOnTgSBaamh3Fzv3r1p+PCAwK1ae+655xj5Qwby6tWrBQFs0K5rrT8j6z/9nOZecQP53KFxWHC5jnhjomoJMJAQVBpBkoTWpQBLFCyHSiFgYF1dXUv3H3o8nXPPzfSfwWc1WqiUemwokVXlraPaKItZhzt/kBdmUVO0AAFEnGVonJzaeL+8/yEtuvPBoFg2xKOddMsN1Gf0xTRv3E20/tNldO59t1K/K0eFuICVY+pd6HAVIpv1zq8WUa5KFjUqapTXNJ27ZKlVxj6q7WXK2cNoy9ofVYlast1O3Qb2Z+Xy5A31rEt+X8f0BeUtozCf8jt3Ik91NXUdcCqVb9hEP7+3UFdPTxrjqLGXUv/7b9c8woqt2wnrRdyevIE0nfXkQ3TIeYr6u0SM/MEFXlu+J+iZg44/mi586gHKaJNLfq+PVs95nxY88CSTALpwykRWZzkWbfXUmfTNy5PJ5/GybOYegwbQqXffwgg6NChR8UX+cwfVCSS76Fl89dae0ATwjUfME8DL7tKDIOjzeBpiuBYqOjMEWgQB9Pl8rKbwTTfdxDQFpfbGG28wXcEHHlAvZ7Ns2TJasmQJPfzwwzRv3jxBAGXixfH8+UDA+DevTKVtP/5E7Q87lI66YhQr9RaLVrljJ712xpCQTMkUp5NOf+AOOnb0CEbi1OKYUNcV+nZalwKSJgpY9YlgCyBcmdv+3UrPnHAmszz2HTaYTkTMm9NJrqoqyt+3AznS0siZk82sa2YvLbM4apVJC7iya8Na4eRzv3zK2bTrj/Uhy2nTaT+69qvFjPB8/848+nH2fBo14XEqOmB/cqSlMgu1Gv74+50V2lZAaT4kbXTtdwzTMZQa5FrKaj1UR0lMJBuxmDDESUkl8uxnNfwQNzpv3HgqWf83I25IIELVjZQ0J+13VB86+3+PUIozmDS/Mfhi2rxyTchweft1pOtWfNL499/PnEsLb78XsQa6R2fPyKAhrzxLB510gmZf7Onj2+6jtfMWNLrZ4f4t7taVLv/gnZC6yBiIxVdWV+LCYKXp/lj+DX01dSZdNeMVyi4ubJwLVVC+fWsOzbrpHtrv6D40au503TWjA7K10cyUasT7Atc8MtERlyhv+NKCuFVmXG0onweXv9kmCGAwgvE0xJg9y9b4fIsggGVlZaxqCKqKwP0rtXfffZe++OILQtURZUOVBlQcATls3749zZ49W5cAQq4Gf6SGH34IWSMGECS0OTfsBZZQCHTH0wVctnETTb9gFFVsbyhXlZxMOe2KaeTsaQRiEIv2/vg76NeFHzdejrg1UH7rio/fJWd6akhGIdaE8m4gf6gnGw5LSJak2VMarREsY7WunnaU7KEJxw+gCtS+VbQjRw6jQU88YJhYWYkR3L1YL5ofVs5aD1sv4tggaQJ3tqQdhwuVx/37/FGn0p5NoS6q7PZtafyaL4J+ztoWF1PZ7hKy25KY+1SLAELCRYrFVOKw9u05tOT+J4jq62jM1InU4dDulGxLJk+tixY88gz9+dUqOv+lZ6jXCX0b4zulMXC+ZTXuEH1A5RwofwbyBxmS6t2llJqdTchiVmsvHHOaquRNVtsitn9J53DVGzPoo7sf1ncDJyfTPof1pMsXvtP4rNq8wK64uJg+/N8LtGb62yzhpkv/k+n4669SjR0EaULYg/yLC760IG7TriLbVbZlG93Xqx/ldOxA13z+YdjXEVZWVMmRCtPAhY+fI7PZuVqTYp5wYQK8Pzu8vzdTUlKosLCJMPPOx9PfP+0x8xbAUXdQbS3ieptiK5DJjD/KFm9DDA82om8AgRZFAGHJ69KlS+PZggAuX76c4OaVN5j/77rrLjrppJOof/+ATpQRAog+8iLUcDmjYolo1iHw7KmDaN1nTZe/NHLXk06g8Us/sG6iMCPhl92Xr0yh5a9MYa7gbqedTGc/eBel5TRovbmqieoUhD8pmSg1MxC/Fa7hF6nPE/iDlmwjcqSx5xY+8BgtfXYi1e6taByhzX4d6bZvl1JOW/PCz9zguWuI/EorSVJgn7Biop6sv2EfNkfg7zja431Poo0q5cradT+Y7vs1TLxZbYU2GUrL1jwDnOvC+x6lb6bOYCTN7/NRamYG7dnaFPfa/bST6Lr505nuYUhLTiFKDcTwWdEe6NGbtv+2LmSoNvt2oEf/bdIC3LNtO9170OHkaUiKkR5AzOQJV4ymX5d8xkJYDh88iM646xZmLZa38i1bqXTjJmrbrQtl5ofGPuruxeMi8ulL00jj7N2xk5486Vza57BD6OoF72gPj58FV2XoWeJnKDVL/2dJd+Gtu4N/2uNEu0zEABZ1JNuo21mM/IYNGxrBHDJkCA0dGhpjGitDTOs+VWt33yIIIO83j+rqarrsssuCyh8FAsnr2d/dfffd1LNnqB6WsABa+/KpjfZcn5Np75atIR/ldGhPN65aFv0FGJwBFjCpwgSSB2D9kr4j81oF5FP+/O5CWvHyZEZQirt1of733k7Yeywb9Ov++fwrOrzfUZSZnxcyNWoZ722obmFmXaj1O+eK66l6d5OQNCxng55+hNW7lZoST1hxUOlFTfgZAr96DdgueegJWjN1ZkjXg044mq6fP4PsCnctOkJ2prymghLrOwAAIABJREFUgfDqTWLg829fm0ZLn3yOvLIYQOj3HT7sfDrz8aYSXOWbNhPc1x5FrCC0/cYumktFXUNr+WJ67HP22Otoxy+/s/92ZKTTQaeeSIOefJDatWtn2Nqfl+6gVJWyeVqueNRAfuK08+nit16nggM7ayIBnU5Y/5TWXBZPW+uhGpOSQgaOwHQX3p/1mFoAp4MAbol8j0UdyDbydsMWQIkARtsQE/mGxJNKBFoEAcSmEHvQuXNnlgUsNa0kEFgAUYZO3hALiJJ0iCMsKiqi1FR1t43aKyRkYKz7wYJbbM+/od9ac/frSNfL4qKsm9H6kXjjgqxfQeQjwq335rDRlOT30bVzplBWYUHIYDzZsnor2fzd9/TpQ08xdymqS5x02w2NVTPkBBCEBWEbIAdaJdV41rXorgdVCSAI2NObf6K0zGBLH1zAe8JUkZHqK6NmCmodS67ycPvHXj6+52H646NPmY4esmc7HHk4DX7x6aAYtpWvT6PF9z2mOtQJ46+mE/+rXnXlvetvpV/fXxQkXg2ZllPuGE/n3n1bI556Z6SV9Y2Yz+rScsoubLIqolTg0klTKO+QntTpuKPDDo0QAlTrUWsVtW6WpJHojfdnPaZC0BYRQKNnECtDjNH1iH76CLQYAihlHyELGG5gSQbmmWeeYTEXM2fOJHxDufbaa1VRMeIC1oJTEED9F81oDwgBI+bJ726ytMDV1fvSEdT/3tuMDhPXfryXQlwXq5j8uzdn0eL7H2MZt/eu+YzaqFgfpWSXWK1biWebdCelOkLrDIOQIAYQuox6bct3PzAtPCRvyFtmUSHdvGIxFRXnN8r14AsjYtLkotPyZ0BkspyOoCxTnrW4KiqpbOO/AY1AlWSnn+bOZzInIOfyBr3I0+69nfpefknIdpEQ8Xyfk1ksrbKhnvJDf3xnmADCI4sKNfKyeYgBLN2+i14dOpoGP3Q75e/bkbwuFy2dOJm+njaLjr1mLJ1y581hj0Ermcjn91NptdvQOeqdc7Q/5/1ZjykBnPGkeQvgxbdyQRhPQwzXQkVnhkCLIYDYjKQ/VF5ezkSdR40aRd27d2cbnThxIkvWgOCzWhMEMIm5hSQrS7x+PqCvNu/qm2jzmu+ZywtuK5Q8O3/SM6rZifFaZ7h5eS+FWOwB1RhQyaHO76PDhpxLyDRVa1POvoi2fPc9++ii5x6hoy46n5wyaxgjNpUulhBiRYOoNAqxheNsSjyRkOBQEcsG8SurdukmamDdsL69e81/6e9lywkEDA1VNECmIIQMcgI3P0JCIA8DsWmtplXZQykrEyleyCqe2O9MqlSQucziIhq3dKFq1Q+Qxef7nkJVO3eFTItkqkf/+ZnrZx3u9tw0RyMJrPH4aM17H9KcceOpXgWbw4YOpnOefVR3yywpymFneKNBEPuHDxbTt3M/oCEvP0t2RTyj7oAx7sD7sx5TAvjWU+YJ4IhbuBCNpyGGa6Gic8sjgPE6U2EBtB55yLGU/rOR8jvvT6jC0Zwaz6WAi5XFn0Zxg6unvkXLn5tE1SUBoeKMgnw68tLh1G/8NSGzvjnsMtrw5TeBXw5JSTTg1uvoqOHnk93pJGdeHpVX1dBnT75Afy37kmwOOx058iI6fPgF3OW9WPYnNBEbsi2QuYvarFJtX/nClHhCzgM6hPIYQPSHDuC6X9bTp488TSXr/6L0/DzmHt3/6CZpKPm4wH3DlysIYtQpqanUd8xIVtaNp2ENEBpWintjDK/PTyVVLp7hNPsiXnL+jbczmROUPEF96oGPP0AHnawt9/Lq6eex+D9l63H2QLru/VmGCSDKuKEEXnb79tTjnDMaM4Xhtn+l/7lUtbMkaApnViZd8Orz1PmEYw3tveSXX8m3axezcH7+yjT6Z+V3BFmaLqeeyLQEE7nx/KxjHy2dAGKP8TLEJPJ7kqhra1EWwHiBLAhgvJBPzHnDXQqSDIWSAKEWMESILTKsNQLDLunTzg3RNQQJvOz9t6nN/vsGgQhi9+7VN5OroikTGR2KunWlMR/OodfPHEIl6/5qFCW2Z6RT97MG0HnPPkqZqQ5ypiSz5OBKt0dT002LNGkRJjU8mSyJLbmRBMIyuW3zdnrhlHOocnuTwHFaXh6d8fBd1PPcUHFjq96eouxQbUeMraxVbHY+WMc3f/cDw77jkYfrWsS3/fAzvTP6GqpssAKCVMHNPHr+W9Tl8F66BJDVPx5zHW1a9R0TgEZ8ZEZBG7rwjUmNRHnZUy8QvmC4GlzpiDHct88RNHzGa4a/FKCKyqZvV4fAgy9+V3/+IYFQJmpLbAL4NFGJiSSQwg5kG/HfRIVerMsCBAQBtABEQQAtADHOQ/jcHqrzeUkq1WVmOWqXApIEAuXTAiOjjzKLFSQQMWxWtrUzZtOHd9yvWkWi383XUr+bQmNiP3n4SUI2ck1pOTnS0yijsIBd6BtXrKSP7nqQfK5gSZCiLgfS3SuXkN0Ood3ABuGOrUJlFE9oIH9Wql1Vy0/Lhat1yabbA5nYcEdjrhmXXk3rF38WAl/e/vsyYWk17UArsIY1EmuRV5rgcUdbsQatMSq27aCvJ71Gu9b9Sfv17c2snOl5uYbCPRAysOjOB8hbE1wvN/+ATnT1F4sa8dy0ei19+8oU8lTXsrrI3QcNYNU4jDYtQfCMokIa88E7jLQmaktoAjjzf+YJ4PDwcZyJei5iXcYQEATQGE5hewkCaAGIcRoClg3UnN31+3rmioVl7JznHqe23ZsExXmXprwUYO3Ly3AGuQnVJDRYVqXbSzUev6orlHcd6P/9rHn0wa33suoNynbSbTcy8V+1VlWymzavXkvp+W1o395HMGHhuVfeSL998HFI9yGP30unXDOGkiR/bkMPrdJsqKQiSejIB4P7F25gZbyd0Ut2Ur+BrC4vGiMgSUksAxaxcrAkwW0arZblRCxboNJEQMzYbaqqRbTWiXGN4olSdVvWBOJB5Q0/I5e+9xYLz9BqEHRH+bisdsUsqzscIfzoroeYFVHZcvftQNd9vSSsqHU0cTIytlEspbFi6gIWBNDIEbbqPoIAWnD8ggBaAGKchnh94BDa9tOvQWK0SHoYM20iHXTCMWRPdTJr1p4at2aFCeXSlZcCyoo57foWEUltH0QIQfZWlKpClutLJ58VEqcFqx405FB1w2hb9uRz9OWEVwMC0LJ297eLqcMhobFzILSlKpU5Uu02ylXUZsVwWqXkjF6ykwddSBWbt9Blk1+gdgcfxAggBJBn3/EwjZz3JiXLSr8Z3XNL7GcUzzfOHc6+BKgRwMvmz1StzIN3eP4Nt9E/y79mMacIEcgqKqQRb72umXiE0o+Tz7qQyjdvaXy38MUDpRcPOW9QQh+BUSzjQgBnPUNUEqqpahjQwn3INuwmw91Fx+aHgCCAFpyZIIAWgBiHIbb/8hvNuOhyqi0rD5r9v5/Mo059jgiqFQttt90G69wqLwUkCdg5XGIBMmQ8o1UPul/mf0BLHnySae0hyBAWnONvGEe9Lx2u92jQ53j+1dMHExJ05G38x3Oo6/FHhYwFC2BJFcpIhU6DGD7o+UluWYn0Qj9Pj1BrLfrPpV9Qlx5dqF3XA4O6VJSUUpXduK4nFygWdoYA98/vfUA/zJrH6kAffdVlIZqIVkxnlLQgDOCD2+8LEqrG/AUHHUDjln2g6lL/ae77tOiuB8hTVRO01LY9u9EVi9/TXD5I4Ncvvkobvv6WsoqLCOEJ7Q87xIrtRnUMo1jGhQC+86x5Anjh+KjiJwaPLwKCAFqAvyCAFoAYhyH++OgTmnvV+CChXFiOxn80m7KLggWQYdmARa7KrV9pQnkp5KY7WSF6ZdOqpCD1s0pGBOPBErhu8WdU5/VR1zNOVdWbM3IESCx4/+Y7WVJAUlIyFRzUmYa/PoHaty8McXG7vH6W2KLWECkI/TxUmAA/rHZ5WR1l1b5JSdSuuIjKSnczt6papjCec6QkU47dFlLFI1Cn2c1Vp9gIFlb2wbvw1ogxtHnVWvLWBmLuUnOyWVWQ0yzWvzRKWrCmeePG08YVq6imtIyRUnx5GDbtJSruph4iASvs1rU/hkADfcUxsDi3a14Z/XpnbBRLQQD1kBSfxwMBQQAtQF0QQAtAjMMQe7ZspSlnXUiId5Naz9NPpiveeoUcaaEWI6OETHkpQOsuvyFrVZoH4sJuXx3ZbUmMOKklKBidLw7QNWSF2huTZlJTbEyaBTFwIHReXx1zm5uVt0FYYRvo/tlsjPiBlNR6/azShrKBZINsq7VKl8cSl3q0sIbLdM6VN5K7QZNQmgfEaezH85hVzKrGS1p2/r6O/lq6nLLbtaVuA/uziiVa7bUzzqftCKlQNIQcXL5wFuV27GDVNhJiHF4sYxoD+M5zRLtNuIAL9iHbhTcmBM5iEdFBQBBAC3AVBNACEOM0xLyrb2YaZ5LVJW+fdnTbFwspV2GpAPlg9UlVslqVS1e7FEACQZBSbEkhMilqQsJaCRFxgsnwtFbrGqrFTwIbkEtYGOUtUCIOmnwNqdYNH4Jso4ZvODFnwxuMUseFt9xD38+cEzp6UhINnvg09TznTMtm5iUtPBOvnPwm/fbeArrwqQcot11b8vu8tGLaO7RmwccsESdamdg8a7SyLy+WMSWAs58n2r0t8u0WtCfb0Bsif148mfAICAJowREJAmgMRFhvVr0+nda8OYuJvma3b0dnPHIPFR/cxdgAFvcCTUh32Khy0xb6dvos+uLVaeStddHoNybQYWf2J2dGOpsR64ZQMWIAjVi0eC8FZ4qNctMDwsZ4FvF/ICsgOa25sRJkWeoae1p1f/MznGRPsTVK7ODseOV15HV9QTb31noMVRcxc1af/28CLX/upZAEG0dmBg19bQJ1PuEYNnxKchKrnwuSy1znLGucr2Yu7/vJtS+/n7LqfZRV0KbxMVdVNe0pr6C6rGyuoZpDZ14sY0oA575gngAOUa8z3RzORqxRHwFBAPUx0u0hCKAuRKzDJw8/Rag166mqbnwAri1ISmiVJjM2Mn8vXKCwLuHf+CXOLG5bttETJwyiyt276dTrr6BjRw5jmY7eeqIKl8ewSDPvpYDVw2gFFyZIIFycIC2tvYWtsuH3U0mlumYiJFlSHci6TiK3N5BNbYS4A2+tur5q2cxWnk/VrhKWYIN/y1vefvvSNV9+xGRUqnbspP07dSCH09HYBdbNarePKg3EpkoPRfJ+Gt2rVrwrSwgy+AXK6FyJ0I8XS0EAE+HUxBoafxfUS9oTApOIERAEUB86WNYmHj9AtTh9z/MG0eAXn9IfxMIeWtIslVXV9O27H1FR14OoUJFNanR63kvB6LitsR8sgHDtyhtPQg4vZlp1fa2u6qG2rj+XLqeP7nyA3NU17EtJeps8Gvr6BFaLGRU9zrrtejrinDNCHkWG+q6KYLHmcPuO5vtZkBWI11Q2VkO6ysWs2y2p8WIZUwI470XzFsDzQ4XiW9L5tfa9CAugBW+AIID6IKKu79TzRgSkSBStuPvBdOUn8/UHsbBHcVYa2RTEAsNriRfzTA3LVdviItq+cxdzHydKw1ogzrtuyVIWjN9r6HkJXWYLuAXi+ppEtJHRC8IDi5zVyMIKC8KpWtc3jMXRyvOFFAySLpBxW3BgZ0YEX+l/Hu389XcKp7fIQ654SQvP/oQFMDxasSWAE4lKTcQA5rcn2/mh9cJ53gfRN7EREATQgvMRBFAfRE9NDU06YaCqBbDbmf3pgldf0B/Ewh5a9VvNEkBcgKiHa0u2kb/Oz2Rj4KKTN8RxZac6GAEFoYF7OdouX1TEmDF8DO34+TdW5zfZnkIZBQV04ZQXqf2hPS1E1vqh4KYvbpNLtTU1rL4uXOTRaloWQLfXT6XV1pbpM7IHlHCbfsEoJsOC7PQjzh0Y8hivezWaBBBnBY1HOYnGO17j9almbhvBIJH78GIpCGAin2brW5sggBacuSCAxkBEXdEfZ89vzLjFU5mFBTRy7nRm7WAWOLeHavfsYTp10azckJvmaCjd1ZQxijhA6NHxxFPJd44xUxvi+KS/l6qISBmoIH+QhJFfkHCP7YlSliqyjxEPt2XtjzRj9HUszlHegPu4BM/O5L1kjb2N6r0ynahTjLq+TW5nnE9ZtTvqJF1tRRu/WUWzLr2aPFVVVNzlALrpo9mU07ZJEiYSchVtPFNsyYSfBanWNZJUlPqZsHJ+9uj/aO+WbZTbcR865c6bqShOyWBm3hdeLGNKAN+bRFS6PfLt5bcj23lXR/68eDLhERAE0IIjEgTQGIj1dXX0+f9epJ/fXcDEl1HuCVnAHf9zOMH1tfjeR2jdkmXsM5vDQUeNHUl9x4wyNriBXkyjrsFvCNoHyRDIsuCXONyjEBnWEi42MDxpWRXlGavIUnXaQ0WhYQFEkLyVjZGZVDtJFBcYr5gxh9665tbGaZg+2wfvUG6HfaycunGskj//pr+XfUmZxYV08OmnhtWQ01oA7yVrdiNIBMlwBHDzUz1V1HjIE6ekHE91NU08YWBj9ZX9ex9OFz3zMGUVFZAzK4v8DqchcXI5JrHGU3kem9d8T7PHXEfVMv1NvIdDJ09gvwuaU+PFMqYEcP5L5gngueOa03GItXIiIAggJ2Bq3QUBNA/iJw8+QaunzyJfQxUEjIhKCGc98SD1Om8gpSQnMwuM3FUKQuNzu8melhZWXwzZtSBDkkixy+OjClegogcscrBYYFwzAeoYG+5D9fixJnKn5WKElWknRyC/HuJwxSGeTbLCSP3r/HX0yogr6MeFi9lfSRUastoWkbemJoClzPqlN4/W5yDU711/K/3zxdeBKhKpDVUkpmpXkUgUAhjpnqP13IqXJtPXL77GLONo+HJU1K0LjZ4/k/03b+MlLbzj6/Vn9bd//CWkW/teh9KYD2frPZ5Qn/NiKQhgQh1fq1+MIIAWvAKCAJoDEWThhb6n0N6twe7JjDa5dMtn86nwwE6MWIGg+fx+2rWnihbd+SD9/flXzHKILMn+991BB51yQshCAhp7Ad20RhJUV8/00yJ19WrtVi1jFX3hApM0/RAf5UgJzZI0G3uoXBOkULLS1MnBjvV/0/2Hn8geKe5xMPUeNZy+evE18rvdLDbwsCHnUr//XmdKtPfXhR/Rwv/eHST5g/lQR3bAw3ezuq+uvZXU/azTqc/oS8iuUnlF2pPWJYv35pf3PqA102YyC+4RI4bSYRecawmBNfdGW//0ptVrGWa15Xup57ln0hHDL4jImoqV8ZIWq3fzfJ+TQ37WMUdOh/Z0w8qlVk8X1fF4sYwpAXz/FfMWwHOujCp+YvD4IiAIoAX4CwJoDkS/x0MvHHUqVe7cFTTQ1bOnUM8zTgmKx8JF//2iT2nyxVcRnpMaapRe/PYUKu4eXKM0VoQL61CSTawVpBUZmlL9Wi1CihgpI3WGjSKdlWqnrFR1Ali+dTvd1+tEyigqoKPGjqLPn3qB1QqWGsSHjxk3hk64MXL3z9TBF9OmlWtClmtPh4XRxmLa0EA4i7p2odELZlGKTN9O/qDWJYs6zihRBjcpGqyXnY47ioZNfckoTEH9YMXF+SBMwOqqIRgX4yOZxOrsZd7N8pIWrfGR7ISxEOLAo+7y4vEDqOyfjSHDtum8P1375ce824lrf14sY0oAF4AA7ogcn/y2ZDtbEMDIAUz8JwUBtOCMBAE0D+LEE86g0r83BA306LqV1KZD+5DBd/3zL917yHEhf9+l/8k07I1JQX+vZZWz2uUqTQp3cnYqhIgdVO1yMxFiifxJfZQuadT8RT8rGyyecDfjglK2bX9tpPU//EIHnng8vX7mBbTjl99D+kAm5vpvP414SW+cO5w2r14b+rw8ELPhU5vTQac/cAcdeclFqvOpXbK7/lhP04deytzL8paWl0vDZ7xG+/Q6hGvtiPtDmECglB2xMyurcTNZIDMNJCkn3RlUmQSVRZRl7MzMwfssL2lRjo+wCcTPwqguiagj093oF5hvX51KqHwiF4R3ZmbSibdcFzbmd+/W7bT951+ZpbBtj26mLNS8mGn158VSEECrkBfjWIGAIIAWoCgIoHkQ1y1eSgtvubvxQscv1sf+XB1SkxczlWz4l+7pGUoA4c68ckmwniA05FJjlHQhoWD0UlDhQuaBlI2A8nJp9pSgi9LvbxDkbciGmXBsfyrfuClkXsQE3rj684jdqT/NW0Af3n4/iysMahqb7tzvWLp45mTDBPCbl6fQJw89qdr/+BvG0Um3Gq9hivjS/MwmrUFpULNueVBvJAYp40Lx5QMJPzxWMytfDKPvp9acanGsPJnSsIzD6vzj3PlU5/UxK3CvC87TDDtA8tj8G26jDV99SzVl5eTMzqLcDu3Z+wLCH8/Gi2VMCeDC14jKTFgA27Ql26Cx8YRXzB1lBAQBtABgQQAtAJGISZUse+I5qiopoYIDD6DLJz9PmVkZQYPj8lj5zns09fLQC/7wERfQoCcfCuqvJrvirqmluXc+TD8t+pTS8/Oo/323035H9bZmEwkQYyXfSGqKjcUCgnd5vHVU6fKQXyZOPe38S+jfb1eH7D3/wM50zReLIsYEl/Y7Y66jzau+o9ryPZRst1Nabg5L2nFXVDaO2+HQ7nTKdWOp7cFdKLtLF1XXq9ol+8v7H9KCm+4knyu4XrLNbqczHr2Hjhg+1PDac9IclOG0h/QHqSmvdkecAYyawog/VVpho1nJxMimeUmLfEwIc6OKTrIsplb6XB7ramQdqAcOQoeKJzg3rbbqjbfos0eeDpKPQl/UR0bYRzwbL5YxJYAfvG6eAJ41Jp7wirmjjIAggBYA3JoIIC4AuMvAIfALP5oCxnDHIYYPlw3+G3VPEVO38H8v0fLnXmKCxlLLKCqkMx+7jw7od1xIQgHcoTlMeDmJyjZtpVk33Em/f/ZF07MF+TRi5mRq2+NgC96G+AfZ82wCLrWZl1wZJMmR1iaPznriAeo2sD/PUKp9t/34M/3x8WeU3b4tHXLeWTR9yCjmxkM77cYrqf+N4yirMJ/9P87XrSLFo3bJgvhN7HcG05GTN8xz9ReLyJGebnjtWtUroLEHWaBI4wHh6ge5VHPDe31+KqkyLywNYp/hSCG7zUYev59q3D7dGENe0iIH0tFQmUWukyh9jlAGMzJKWgf2ymnn0M7f1oV8nNW2mK79anHYBCLDL0GEHXmxjCkB/HAyUdnOCHcGnaxisp15eeTPiycTHgFBAC04otZCALMhnmxPacyohYUEJNDq+DXlkcCSAuIJciBdxr8uWEQrJk1mJLAGFiabLZARnJFBx14zhnpfdnHIyUJfcMIx/VUzEEEcR8x83dTbgMsYRBNZvikpNqp2eQjxXonedvy2jj598Anau207c6nBfdrp2KOisuyqkt00+/Jryb23gv67eE6QqHGABCL2zsU0GaWmdcnu/GM9zbtqfEAepT4gG3TexKep/SE9uNbuSEmmNumhVi2836ixG2nSBr60FGerx2GadS9jg/hiA2sc/i3F4gE/edKRGhC8pEU5hpoLGOS9PEpi5pNOPJN2//l3yFagLXn154soNTuL67yt7MyLpSCAVqIvxjKLgCCAZhFETFpJCXm91gbxW7AsriH0fpGpuVIxASvyXukKcityTWyy86sDBrPyZvKWlpdHI956ldofFpwIUF1aRq+cdi5VKbKN8WxBlwPo6mUfmlpNYSaEpQOZkWhMXNofqFsrWjACdZWV1H6foqAMb6lHtcdLe2uaiHO4dxMYl/+7meBybtNpv4gTA2AFhLsc1maMiSSQilqP6bJzIIB62pBG3w38DMKqCH9+jdtLOWkQFQ+VFNKzxOn9rOutBzjlpAcqfTDiWVfPvphFw/qHtSy+71FaOWUGvh0ELa2oW1e66tP39ZYb1c95sYwpAVw0hajchAUwr5hsA0dHFT8xeHwREATQAvxbAwFEhiQsgMqGyxIXZbUnuN6tBbDqDlH6z0aaet4Iqt5dGtL34DNOo6GvTwj6+7AWwBOPoxFvRW4BxKWIpAulawwu67Jql6arHKXa0lj5uIBL3RevzABdtK3tELC6OVUJYJXL0yjUjVl5L9lIVwr3Js4C5A9nYUYYXFoDXMCB8w3Woaxye6hKUSM63Lrx84fQC4lM4otXEiWpxuLpWRetwBP7wXrwbxBOI5VS8OUIFnKJZKMGttzSq7V/d2UVIau8bOMm8rlcLDEpq7iILpw6idr17B7pcVvyHC+WMSWAH001TwDPuNQSnMQgiYmAIIAWnEtrIICIMwIBVMYz4bLcW+M2bSmJ5Bi2fv8TvTViLLn2NmnYSePs2/dIuvTdGSHDLn/+JfrmpcmES0VqKEOFjEKlhiDPmiD9kqmhuwcRaBAKZUtz2CgbF2KDJQWXeq3Xzwh1a2ha2aRwYcrJF+8lm2jY5aU7CYQXFBA2LI/XT3s4zhjvR2FWcP1o7BFfvtTiC2NBAHkxRggHMvKVNbBh6XX5/LrDoUb4L/M/YOLvEBPvfelwljwS78b7bgoCGO8TE/PLERAE0IL3oTUQQK1SZ2bjpMzAj0vhxeNOp4ptwQXPoSuHzF5UuFA2XJprps6kVW/MYBmpEJA+/YE7qeOR5mqQpiLjMw0WrWDdPRbTVu0KsZCEw7O02rz+nBlcY/Vsk54cMKtn5KhSxe3Ke8nGav0884DEYb++ujpu+ZdwySRKEogvZKzKTRhdyXjgiVhFNXd1NGpg85yL2b68WMaUAH48zbwFcIB1tdjNYi2etx4BQQAtwLQ1EEDAhGoGcGkF3FmIkyJW4syI+0cPZlSiSE6xEQRhedr3b8+jzx77X6N+YIrTyeqkXvruW5qVJXjG5+mrFJ3G5YwLDhYtZQNhhGVIzYIDQd3WYgUELrAOMZkaWeJH0LfUpCRq164dbd++nVm9rGioRTtv3Hiq2L6TlVQ78eZrw4oQRzInvgtY4dFH4hXnMSrXAAAgAElEQVTCC9TkZEAoJQsyizlVyaJWrp2XtESyd+UzWjWwsX4k2jTXxotlTAng4ulE5cHVlbhwzisi2+kjuR4RnZsXAoIAWnBerYUASlChugGuYSPxO3rwbv/1d3r/htuYHhhimlAOasjLzzLLnNEGiYivJ71GyDDtcfZAVstWq6yY0TEj6YeLGBc1Yp1SbDaq9XgZQVbjLCDTeRlNFSLk88lj4ECMEF8IhuT2+iwhFJHsLZ7P8F6yemsF+Zs86EKq98tcj0lJ1GvY+XT20w/rPa77Ocg9XPuS5jVKpfG4fEMIm46gNPCBmDXIlJG4RWSpF+TlUumePaw0XSxaLEsyxmI/0hy876YggLE8HTGXHgKCAOohZODz1kYADUBiqAusftD4qtgWrFaPWLwrlsyPOKPT0ORR7GT0UlCPgYOMRy27yOXZllgu3Htw7anFE0ZxO3Ef2iieRhc64ZjTWOawskFK6Pa/vqcUh3oNZSPjq8W64dxcHpDAYNFqI+NJfZj1vSHzFn8Ha18kJeXyM5zsywmkY5iuZj2xLHVluUKetRnpy77wKJKkMH+gBnbsE8iMrNlIH953M6YEcMmbRHtMWABzi8jW/xIjMIg+zRQBQQAtODhBACMD8asXX6XPn3qe6hRB4NBzu2j6K6bj8iJblfmnjF4KSAyA/Ahz4TUQvCqXl2VUh4sRjKfsjnl0+EcwiqfRkR/pdAj5PSqyTUlJNPajudSOU0dQPi8IllOl9CCscyUmNAUxB94RKY4OljteZzgyiTNTA/WO5c3l9VFZdeTk1Cju0PPMkllG8UVGqh+MJeWlOVk4ADaKL0CQlTFi0TQ6fzT68b6bMSWAn8wwTwBPC9VTjQaOYsz4ICAIoAW4CwIYGYjv33gH/TjnvdCHk5Lo/EnPUI+zz4hs4Dg/xXMpSJc6/g0tNSlmLHwZMT4JkTjDYXp6HjyNTPZEt95B5eikZyAvcvOPX1F6mzZGhlHtg2xdVOVQNiRLrV22gr547iXyVNfQYUPPo8OGnEPJKSkRz8X7YLi17YxzHB5cxIFY0CZyimxm1EzmJbq8uJjpz/tuCgJoBm3xrNUICAJoAaKCAEYG4i/vL6KF/72bvDU1QQNAlmX0glmUt2+HyAaO81O8l4LacrUC/9EXCSKS5STOW43J9FbgKV/oilenssonyuDMnA770A0rPzO1J626wlVle+jew/pRTVkZGz8lLZX26XUojZw9lenaGW2IL0x32JkLGO8ATylGLQIY70SMgNs8UNFE3pjGqMtD1QnsIuZ9N2NKAD99i2hPidFXK7RfbiHZTh0R+fPiyYRHQBBAC45IEMDIQIQw8+tnDqWdv69rDMi3p6dRl9NOpvMn/S+yQRPgKd5LQW3JuAuRVaysIsEqryh08qzaMq5fiBaDZECQutrljVuFF/merMBTidH7N91JP819n+rrA4LK2fu0o3GfLiBHZoYpOKX61UgEkprf76f59z9JnzwzKWhszDV4wlPUpf/JhuaEexnWRUlqCO8CyJHRLwPQqsxw2kNia+FOLq2OX7WacBnxyqowhoCKYSfedzOmBHDpTPME8ORQKa0YwiumijICggBaALAggJGD6KmpoS+ff5nWL1lKyfYUOmL4UDpy5DAuq0jks0fnSd5LQWsV0H/LaojZwpjhLvx0ewqLD0MfBNXzBvWD/BUwwpnUGCOGscqrAzI/iFeE5QlWM8Qo8liezKJsFZ7Kdfg8Htr1+3rK7djelNtXOS5IIMiWPSWZufR//2oVvXbuCPKrlIvsed5ZNPjFp3UhUkuiwENMhxNuUgN+UpxxPsoV4oyTsbZ6VsYN5C+esXZ45+ACVn7ZwdqQOOOKUaay7iGodOB9N2NLAGcR7TVhAcwpJNvJwyKBRTzTTBAQBNCCgxIE0AIQW9AQvJdCuK2DTKQ7AjFlqBKivKgZccPlaUtmxE2qY4ugfh6SpmUdwhhen59S7SkRW57MHq2VeJpdSyTPb1r1Hb096irVuMOjx11Op919i+6wSBZidYAVDSQOJB3xo0Ybvijk52RTeUUlK+OWCA2amFiXlKCC9xhWaMQAJnLjfTcFAUzk02x9axME0IIzFwTQAhCjNER9XR39tWw5/fbBYspu15aOHHURqyMazcZ7KZhZCyyEyO5UigSDuG3bVU4/zZ1Pm9d8T+17HUK9LhxMjvR01enCJQggLVMZnwXLU0ll9OVDsNhY4mnmLLSexTs4qd9AQu1qecssKqTLP5hNOfu0050WZRhxziEEsMGCx0P2ExXPTGcKC0GASx7l4VAVxoBhUxe7aHbgxTKmBHDZO+YtgCddGE34xNhxRkAQQAsOoDURQE91NZVv2sLIVFpujgXoRW8IxBi+OWw07fj5N3JXVTEx5czCAjrn2UfpgBOPj9rEvJeCmYVoETevz0dPnXo+bf3pF/K7PWRzOCi7XTGNnDNdlXBoCfVCqw3uQmWDhWZPjYdqvdG3IMUSTzNngbhNWLBguVI26A6+M/pqqtpdSvVwqWdk0IAH76KupxuL/9Nyk0ZSSq254GnmLGL1LC+WMSWAn88m2rs7cihyCsh24tDInxdPJjwCggBacEStgQDiwv/kwSfot4Ufk8/jJpvdQfsf04fOefaxmEpZ8BzXdzPeocX3PUY+V3CAe+6+Hei6r5dELc6Q91Lg2ZOyrxZxqywto3t6HEuuyqqgRzoffwxdPGtKyJSslnGDJqH0YcANV8eqTCgtjHA9ospJLOKzYolnJGcBNzyqujANO0qiegrU41XLXt391z/kdbmo+OAu3D83EAaHJVBSSgHPRJ1p3vi9RMczkjOI1zO8WAoCGK+TEvOqISAIoAXvRWsggKumvElLn3iOPFXVjYjZnA76z8XDaMCDd1qAovVDTDnnItqy5vuQgdPb5NEls6dScbeu1k8aRZclLn6UGENCBoL+QTJga1Ijbn9/u4aePnVwyP6y27ejG1cvU9034gADLjhUeiZmyQLJUwvQj6V0CO8lG8mhAlu4HnmTZzAX4tdAoOUkGaQM2PHE5hldN4imFCNn9Bl5v1jgGcm6rH4GOIE0++vrWaxjNNzJvFjGlAAun2PeAnjCBVYfixgvgRAQBNCCw4gnAUQN3c+feoH+XbmaxXchqLz7madz70rvF9mkk86k3ev/Dhk3p0N7umHlUu75YvHAm8Muow1ffhMyVUZhPl323kxq02m/qCxDD8tIJpWydJHBKRENuGdrGjIkIRwNAgPrE8jHE8efSVt/+pX7vECEcHFiDMmyJFme4OLEJQryiSoNPHFnkewZzyDkwFtTSwceegjt2LGDER9l89bW0m8LF9PebdvooFNPpHY9uxueDvttk+5kSTSBaixEe2vdhutc45nC7DRmJVU2kD+UWUu0Fo33M9H2CFKOmsdwneOdAQlEsozV7ywvlrElgPOIKky4gLMLyHbC+Yl2tGI9FiIgCKAFYMaLALoqKun1gUOobMO/jbtwZmdR39GX0Im3XM+1M71fZBOO6U/l/24KGTOrbTHduObzhKzb++ey5fTe1TcTcJK3ooO70FWfLeDCh6ezHpY8Y0l9M5wpzPqndMVKMiAgItCIw//DcvfxvY/QmulvU50sRi/JZqNDBw+ic557PJIlMMsjGCBkYbQak/IFUTRpbgHxe/ea/9L2n39jWn3p2dl0yj230kGn9Auaesdv6+idS8dRVclu8ns8lNYmj/btfQQNfX2CIRe/WgUKHq1FxPwhDlMpYYJFev1+liiTaC0a72ci7ZGFM6Q5QmJXUVkEkjlWNl4sBQG0En0xllkEBAE0iyARxYsAfvHMRPry+UkhtXSRoHH1Fx+yQHOjTe8X2VsXj6W/l30ZMlzbnt3oisUq5dyMThzlfkseeJx+mf8hVZeWMQsprH/D33yV2uy/r6mZYVlAXdMUWxL5/YGKBZLFTA/LSCZGpQRcbMoGKyAkX5SkzOf20NujrqSdv6+nmtIygtu74IBONGLm62RPSwsZZ9uPP9PWtT9RQZcDWWynkmjqrZnVck13EgSQpbrGSBKJ1OIC6+3GFasaBcIxf0ZBAY2aN50KDuzMlgPLzksnnUW7/wy2TENM/IxH7qVeQ88Lu2xYU6GLp0beIK6MiitGWlFWGtu3vGFt0Es0OoaReZR9KnfuIvwO2Lr2B5aUdeKtNxiyfkbj/Yxk/dF6Jj8jtbFmsnwOEHtYZNWSdCJdCy+WMSWAX8ICWBrp1oiy88l2vLAARg5g4j8pCKAFZxQvAvjGucNp8+q1ITtIzc2hETNeo30OP9Tw7vR+kZVt3ETTLxhJFdt2NI4JGYsLXn+BOv7ncMPzxKNj1a4SghZben4b2q/vkYYsQ+HWqUYccLlI2nt6WEaCgZYMiJ61qmT9X1Sy7i/KP6ATFXcPjXn0udw0Y8QYKln3J9WW76HU7CzK2ac9i5EEaTTatCxp0HFTSYoNO2zF9p3Mso1zU7ae5w2iwS8+xf4a2ehTzh5G1SWhbq59jjiMLl/4Tth5YNGE+1cty9nl9bHzNNLgIs+BG7mhlBlzOdbV0+4q/r0bmQ999m7dTlMHj6C9W7Y1PoL3+6wnH6KDB5wSdphovJ9G1x2LfoIABlD2f/2eeQJ4bPgvUbE4TzFH9BAQBNACbONFAOdffxv9NO/9kB2AmI35cA5lt29reHdGLoXKHTtp+fMv0dbvf6KCAw+gE2++NmpxdIYXHoeOWheMx+dnZdqMYGlk2bCqQfsNVSBAKEBY5NYqEA3MWWqQqKjNiczulVPeDHIVo99Bp5xIF01/2cgyWWUJNUsaq1fr8lKl22toHKkTrJFvDR9DtXv2hjzX4T+9WJ1oPQIo76c1OfBFuT1l/B4SQWC5q+EQScYY0GQECUTsHyyIZt3g4UCbd83N9Ov8D0O6IK71mi8/DmvBter95DrUGHZmVVMynI2i0tLUrc4FLAhgDN+65jmVIIAWnFu8CGDp3xto6vmXBFlAEOcFF94ls97g2llLvxS4wNDprObywyPSBWMFllJNWRAKyR0LEghSJcmAeHx1LNPUTLjdi8edHhRDKm0dmoE3rDYW26l14WIsZF8iYYSnoTzgpBMGUsX2Jmsznk9OsdHxN4yjfjddy4YDFi+ffBaVKJKT4AIe+Oh9dNgF5+pOC9KW4bA3Vjlh2bX+eiqpsjZWTHchnB0mnTiQdv/5T8hTmcVFNG7pwrAanVa8n5zLjXn3nDQHC5nAFyZW8q6+nsqq3EzWyMrGi2VMXcAr5pu3AB6j/zNkJZ5irNgiIAigBXjHiwBi6X8uXU6L732EPNU1zLXZ7tAezEXGE/+HcXh/kVkAW8yHwGWfZg/InCArcG9taIyaw5ZMGaisQcRiuNRkPGA1Cmi+BTcrCSCC2NNVKj8gpm43ar9ahN6EY0+n8o1NSUTSsCy5Z/UyQ+5yrUQIZkmr8VBNBGLRn//vRVr5+rSg8mltOu1PYxbNYW5qqe38fR3NkpJA3B7mtt6373/ogldfMLR2jAMCm8lqLoOw+hvldSyCOGQYkExY0WHh7PifXpSak8091etnXkDbfvg55DnEAl63YgkT/tZqreFnHXvHlydJBiZaepW8WMaWAC4gqjQRA5iVT7ZjzuZ+N8UDzQcBQQAtOKt4EkAsnwWc7y4lR0a6ZqkvvW3y/iLTGy/RPodFABp3Uq1RrE8ZPxfQwQu48dBAYHBxwMomb8jIzXLCatREAlG4Hm4//LECSy2SybJ+K6wjgB/cei+tfXsukcIyst8xfWnUnGmGj5Hhi1quDZhYUcv1j48+oRWTJpO7upp6nHYS9b5qNKXl5YasyVvrot8XLaG9W7fRQSf3IyQmJWpD3OLMS66gmt2l5HW7KS07m3pfNoKOu+5KriX/8dGntODmO8m1t6LxOZC+nucM1M3ytuL95FpsC+7Mi2VMCeA3IIBlkaOf1YZsRwsCGDmAif+kIIAWnFG8CaAFW7CEtFixjmiMoRXrhblq3F7aU+shW1ISFajIecDtimoLymxWkMVUWBMbJE9Qu1TK+OS9FNT2rFXhw+o4JndlFU0dfDGVb9rMRL5T0lJZreSRs6cZqlErX3u6PYXSnQFM3F4/VboCQtVmmxV4ml2DFc8zl/WpZ1PJH38GDQdSO2zqS9TxSL5kqhUvTaZVb8xgpf6S7Sm0b58j6dznHgtr/cPELQVPK87E7Bi8WAoCaBZx8byVCAgCaAGaggBaAGIUhwgkKaQ1WvbkU8Gi9veq72nrjz9Tv7EjVTNCq1weqnCFJjLATpicnESw/smJDu+loLZ1WNNy0pChGrBGooFAwEW5p5Yvpk4P2jq/n9Z/sow2fbuGinscTD3OHkgpTm0Xot54Vn9uBZ5WrymS8ZCRPW3ISCbLo2xdB5xCF06eyD0stA+REZxRkE/OrExDz7cUPA1tNsqdeLGMKQFc+YF5C2Dfs6KMoBg+nggIAmgB+oIAWgBiFIcAhSrKBgEMjduTpq2tqCRHWhrZ7ClBKwHpgsafWl1XrSXzXgpa4yADGO5mqcIHkj7kCRWZzhTmssb+YKFEBQteyZUowm7Z0FbhadmCIhwIcX9vjRhLrr2h2c28LvcIl8Aeayl4msHAqmd5sYwpAVz1oXkC2OdMq6AS4yQgAoIAWnAoggBaAGKUh4COXrosRk1tOljCkm3BYsuwEPJq2fFeCmprgeEP4s+BeMRAOatKl4dqG0q/of4vAtzlFkK4h7FWK9yuUT4OruGtwJNrwih1hrVuwnGnU8XW7UEzwO2OrGU94WqrltVS8LQKDzPj8GIpCKAZtMWzViMgCKAFiAoCaAGIMRgC1rR0SH4kEUsGkeRV5FNXl5VTfV092ZwOsqenM3crLG88jfdSUBtbLQYQ8YilDeLCauXHkLQCkshjrVSbG7V1K3fsImQC29NSebYelb5W4BmVhUUw6C8LFtHiex5hSVtoeMfaHdKdRs6eStkZqSxRCc3KGErlMlsSnhEcgaWP8GIZWwK4iKiqPPL9ZuaRrc/AyJ8XTyY8AoIAWnBEggBqg4j4O1jfYMkCgUFigJRQAYvbysnT6cfZ86m+ro66nn4KHX/9VVEnHSy+DhUgJEG9huX7fT56797H6K8Vq6n3pSPInptLm1etoeLuB7O12ex2Q28L76WgHBRYgQCquawhSwNMtQhsJLp70vywMi65/zGWUev3etl+u505gPrfdxt3aThDQBnsZBZPg9PErBtqd3/72jSqKimhnuecRQefcSrlZ6Wz8mXSO4mzYJI/VdbXEm5peMbs4FQm4sUypgRw9UfmCWDvM+IJr5g7yggIAmgBwIIAqoMIrbw2GSiR1RR7B5dqeUPt2lmXXU3/LF9BPlfgkktOSaG2PbvT5QtnGdZwi+T4tGIC927fSQ8ffTolOxyEcnp7Nm0hZMlCWDi7bVsaOXcay5DVazyXAjiopE0IyRnoE0KLEJUM1AhgQAi6KTFEvpaAmzggRRNJ+2rCK/TVC68QhJilBmkhiC8fe81YAmFfPXUm/fjOu1RfX0c9zjmTjr7iUt2s00jWIn+GB0+zc8Xjea1KKqjzXF7jUdWiNLPOlo6nGWx4n+XFUhBAXoRF/2giIAigBegKAqgOopaUicfvp9+/+0U1I9KRmcmErLucdpIFJ6M9BMqq5SLLNomYtau6bA8tePgZ2rruL8pqW0S/vr+IWSXlrfMJx9LFb0/WXZfRSyFQQ9bRaPWBCxfu22q3lwqzQ0uUhSN/WBRiAM3Un51wbH8q37gpZH8oL3btV4vp7ZFX0Yavv20k7BAeT0lNpYKDOtN/Lh5Khw8bEhXibhRP3YNJ0A74AgDCr9bwLkCw3MrW0vG0Eiu9sXixjCkBXLPYvAXwyNP1IBCfN2MEBAG04PAEAVQHUatkmt9fRx+9Mp0+uOUe1Qfhfj3jEfXPLDiuoCFQBQINNXWl5Amt8mhZ7VAdQ788mpFLQcsKCQtpaZWrsTqFZAUEOURTuq3xd5K7EILVPhNpwM/3OZmJKStbTof2dOGUSTRj2GVUU6YeU2RPS6MDTjqehr72gtVH1OKzVmHxRcKPPKEHIEZSk9gI+EbeTyPjiD78GdUxJYBrl5gngEf0F8fcghEQBNCCwxUEUB1EJCrYFVm16AlL1cqPltHsMdcyF6u8Ie6s//23sxi8eLVYEEDUKUUmrxqhk3QH4UIPVBxJolqvj+zJyarl4awSh5486ELauvbHENg7/KcXdR80gJbc/3jYI0nPb0Oj5k6nwi4HWnp0rYGwFGamkT0lWKYoWlndrQFPS1/AMIPxYikIYKxORsxjBIEWRQAXL15MCxYsoD179lCHDh3o0ksvpW7d1MtCrVy5kpYsWUIbN24kn8/H+l9wwQXUq1cvI7gF9REEUB0yNTFjxDVVomRarYdeOnkQ7f7z76CHc/ZpT+OWLeSuZcx9aGEe+Oieh+m76W9Tnc8f1AsWrhEzXtOdysilYIQAKicCWQwkhzRlMMNiuLfGQ6hEYrZt++kXmjVqHFXtKmkcKrOokC6a/jJVbNtB7157C3ll8YFq8w14+G7qc9nFZpcS9LwRPC2dMA6DIRQBXwhSbMmBWtV19UzzEf+2urUGPK3GTGs8XixjSwA/IareEzkUGblkO+K0yJ8XTyY8Ai2GAK5YsYImTJhAY8aMoa5du9Knn35Kn332GT377LNUUFAQchBTp06lvLw86tGjB2VkZNCyZcto4cKF9Oijj1KnTp24Dk4QQG24IL2S4bBDyo7gY63x+BqTFCp37qJ5425qjDvLKCygwROfpoIDO3Phb3VnyKBMH3oplf69gdVadWRmUE77djRy7nTKyG+jO52RS0HPBazlygUJzEy1E2IYUYFEnlUtXxjGRyURhz1gVfL765mkjR6hKP1nIy178jkq/WsD5R/UmU665QbK77w/1fl8NLHfQNUYQWleSJqcP+l/lsdvGsFT91CaUYeGH5Worbi14Rk1ICMQ1Y4pAfz+U/ME8PBTowmfGDvOCLQYAnjnnXcy4jZ27NhGSMePH0+9e/em4cOHG4L5pptuomOOOYaGDBliqL/USRBAfbhg4dAyZrirqqjeX0epOdn6A8WoB+LqNq36jras+Z6KunWhA/odFyISbdYqIE8CwaUMax6SQCLN4pWvJz8zlWUTyzOGzboU92zeQnOvHE97t21n5cyUSTJ5++9L13yxiGVzW9nMEBZk2IIIBwS1iVlKpZrNVq6xOY1lBs/mtM9YrJUXy5gSwB+WmieAvU6OBYxijjgh0CIIIFy4F198MYHA9enTpxHKN954g7l4H3jgAV144Zq85ppr6JxzzqEBAwao9vd6vYQ/UsMPf1paGoEAYg3NuWEvbdu2pR07drCkAtEiR4AHSyYDk2JjRE2SgYl85sCTID1NVUSaRmNl7Wo9VNNQTSTSeWrL99DO39fTorsepNpyJIUkUWZxIQ199QXK269jpMNqPseDp3wQcD4Q4RSZDBESK6CluKfG2sxayzcdxQEjxTOKS2q2Q/NimZKSQoWFhTHZr18QwJjg3JwnaREEsKysjK666ip66KGHmPtXau+++y598cUX9Pzzz+ueEWIH58+fz1zGOTk5qv1nz55Nc+fObfwMFscnnnhCd2zRQSAQUwR8XiJPk5Zf0Nw2O5Ez3bLllG/dRraUFMo2oI9o2aRGB/LUEvnUiF4SUWomUZja0EanEP0EAomKQN2PsACG1p02vN6MHEo+TFgADePVDDu2KAL48MMPU5cuXYII4PLly+m5554LezRfffUVvfLKK3TLLbfQoYceqtlXWACb4RsehyXzWAWQ5YuEEDSPv44qXB4ya4CFuzNfRUhakhWR6gnHAZqIpuTBUz5Bm3Qnq66hbJLAMvBujS1SPFsjVnp75sUylhbAup8+N08ADz1RDwLxeTNGoEUQQDMuYCSPTJo0ibmPjzjiiIiOUsQARgRbi33IaFwQqqQ4UoLLfyH5o6Sy1jQ20Rzb9OI4BzCKp3JYkGskzMjjINEHsZYllS6ms9caW6R4tkas9PbMi2UsYwDjRQDjpcahd1bi81AEWgQBxLaQBNK5c2eWBSw1vSQQWP5eeukluuGGG4JiB3lfFEEAeRFr2f2NXAra5b/qaW+tm6yw0mWl2lmZOTRmXax1aybiJPKJGMFTbf2Ir4S+HqRVpAbSh1hLiGZLrXbPXqreXUp5+3aIelm7RMA5UjwTYe2JtgZeLGNLAJcT1ZhwAafnUPKhJ3BBHk81Dq6Fis4MgRZDAKUXD1nAcANLMjDPPPMMC7qdOXMmIVbw2muvZRsH+Zs4cSLTCuzbt2/j6+BwOCg9nS9GShBA8dMkR8DIpQCNROi+Ka1TGCca5b+a8wkZwVNrf3CH56Q5GhNB5DJEPpeb3r3mZtr6w09M89HmdLDaxn3HjEpouJDdDdc2pH0gEM5rxzSDZ0IDE4fF8WIZUwL4CwhgReSopGdTck8+AhhPNY7IN9p6n2wxBBBHKJmey8vLqWPHjjRq1Cjq3r07O12QPRC1+++/n/0//v3bb7+FnHy/fv1YNjBPEwSQB62W39fIpYAqH2qZutEq/wXUoSHYHN2eRvCM5K2ae9WN9MdHnzKNQ6ml5mbT4BefpgNP4rv4Ipk/kmeYa99mY9VhcJb4U1bl4ioBGC08I9lPc3+GF8vmSABra2uDlCGwB/xRNjOhWNJYRtQ4mvs7k0jrb1EEMF7ACgIYL+QTc16jlwKqeoAIyq2AZrX61BBJd6RQphOxcKgbTEwGZW8tnwwKU9FreD7WqBvFk2ddEPt+8bgBVLljZ8hjHXsfQZfNn8kzXEz64hyz0xwh5QO9fsQ0Go8bjQaeMQEgASfhxTKmBPDXr8xbAHscR7fddhtt2LChEX3o5A4dOjTkNGKlxpGAr0GzXZIggBYcnSCAFoDYgoYweimAVMENLNWAZdU6UP7LwuQEZ0rA1SwJIQNmWI3gCjUiiCyVKNt/1MwAACAASURBVANRRUMlEaxRq1JJNI7RKJ48c6MKzWsDzg8qeyc9X9j1QBq39AOe4WLSF18YkDSkbLxJLdHAMyYAJOAkvFjGlAD+9rV5Atj9WDJqAZQIYLTVOBLwNWi2SxIE0IKjEwTQAhBb0BC8l0I0t65FGnx1dbSrQt9qVAgrpYJ0MCtlFdxC0Vx509jRwBNVTCYcezrt2bQ5ZBOHXzSEBj39cGw2xzGLIIAcYMWoK++72RwJoFEozbiArVDjMLpO0U/2u7VelH0w/T4IAmgawhY1AO+lEG7zsODBfYtW7fGyDFaeVpiVxtzMalYjEMBwHA7P5WeksngzeWMVRVweVrYuFs1KPOXr/XXhR/TRXQ9STSmqmbDCrpTbYR8avXAWZRaG1g+PxV7DzZFut1F2mjPkPDw+P+2uchleXrTwNLyAFtSRF8vYEsAVRLWVkaOdlkXJ3Y/hej6eahxcCxWdA7/yBAE0/ya0dgJoS0piemsouYXLqMrjjZl1iPf0/F4v/fvNavK6XLT/MX3ImZnZOARirCCbAhcp6vEitiqSxnspaM2B7NU0R0pjzFddXaCMWblMwkRvfXnpTjaGssnjxkD04CL2+OqCkkQgUI3nVTOVPV7aG6NyalbhqYbV9p9/pc+feoEqtu+k/Y7qTcffOI4y8tvowRq3z3EejhScVzLhfcC7WlrtYq55oy2aeBpdg7KfPBwC/+1DOEStm2tfkc5t5jleLGNKAH//xjwB7HY0FzzxVOPgWqjoLAigVe9AayaAgWxWxJgFrEywDuEygkUi1hmnuDgQI4U1qFV52LL2B5o37iaqLd/LMj/TcnOo383X0hEjhhLca9CLQ6YsGuKqKl1eFivH2/QuBRjUctKaYv+8vjqm/Se/w0HIsCYJV2kNwLas2hVCTjGm3WZj2MO9KzVWFURRDxd7A3kDRpKFD89LGnlSgojWGkA8cDnzWiN5cZT66+EZ6bjN9TloSMIyjDhMfCHgbYmIZ6wSonix0uvPi2VMCeAfK80TwIObJNL0sJA+j5cah9H1iX5NCAgLoAVvQ2smgFpxSbUeH5elyuwxQFcPGZJJlET1+KeeqAzJCg1WPL/Hw7I+927dFjRVRkE+3fTVImrXoV1IdiWI0k4DcXLKtetdCnDL4hKXLGsgrMoKILBGInlDrVW6PIycSg37xv4xnkTAQRIlQgkil5XqILsticAN4b6FBRDEEERC3kACkeQhkTusIRXVShrcwBgfz/K4HM2erR6eZsdvbc8nGp7xkESy6sx5sWwNBNAqbMU40UdAEEALMG7NBLA4Oy3ESgVIeaUpzByDlqUK5G9XgzzGX8u+pDljryfIfyjbvT98Tu0POiDk70EAy6vdqtbEcOsNdymAcOWlOyi5wWIqjSPVp5UsOnC/5qrEe4GAwUInWSYD/YLHQx+MU1bdVO1CuV7wORBRpYUR/ZQxZSCj+APjKIhhlcvLLT5s5nx5L1kzc7XEZxGigZ8RWIbxpSDR8EyUUINIzp4Xy5gSwPWrzFsAu/SJBBbxTDNBQBBACw5KEMDQJAOv38/qrcaiZaei5qsjZKoAqXKT21dHvy9awty/ctFf6YGbl75PB/UNrQMNAliqIbILRzFi6+Byxl5r3E0VGcJdCplOaLmpW/ZQqq1KllhRBEuhIoEDl3iJLHkjXGZouCQPuLoLs0JdzIwA+v20W+PsEOeZ4QzEFIKERhonyfNe8F6yPGO39L4Iz2BakwjPoACBr3B5qV27drR9+/Yggd94YaFZFhFfdmqsKYsYrb3xvpsxJYB/riaqrYp862mZlHxQ78ifF08mPAKCAFpwRK2ZACJRIWAdasoUBfHCJRNJ/Fwkx4E1ZDRkysqfhyUMBBCXHuq9vnTyIKrauStoitScHBo9bxr16Ht4iDVMK7sS5AnEC25RqboG4uJAFqHhB2tLcVER7di5KyQOEgH8COQPje0LkFUkYkgNF2MesnAboIVbG33kpAskDrF/yia5grEe6P2pETW1DGE8BxeznIhKYyMbGeRPWjsIMmoWG9ETjORcpWd4L1kzc7WkZ2EZxpeU4J/NwPnmFBQlDAEE5qzCCUINGn6PqIVFJOLZ8L6bggAm4im23jUJAmjB2bdmAgj4pMxE/HejlYGz0oTWMYBMgWCiIa5QTYAYtVFRVk0pVwKCAhewpFe3cvJ0+vL5l6mmtIyNl5qTTQeefAKdN+EpNgfi5HABIYYwkGyBxIzQ7EqtzFoX6rLWIxElkKWJ+SGVgoxieVMGvOvF1QEDlhkpyxLB/+PvccEHqnwES7XI58M6sBclCZQSeLBnPA8SCwujWnyflsUwnJXUgh8tNgTvJWvVvM19nHDhGfasvIQigMA6y2lvzFjHl6+9Lk/CqglE+uUktgRwDZHLhAUwFRbAI5v7j4FYfxgEBAG04PVo7QQQEIIgSHFGVgkEw10Ky57c4qRGqDC/MlkBxASxatWKLN7df/1Dq6bMIE91DR1+0fm0b98jg8gTSBFIHwhgVqqdEJ8UIJ/+RiKn5ppFHzwHGqa0uCgzZtEHiRtSAgbi9WBFMyrkAYunE0kfEuNOCszJyCvWoEIG3V4/kwtRNlgX0x125moGgdXK7AVBxrxqY2PtSpJrwY9V4xCCAEaGphYBRGxsSgISwMh2Gd+neN/NmBLAv9aaJ4AHhobGxBdxMbuVCAgCaAGaggBaAKJiiHAWJ1io1HTPYHkDmQEJqnZ7TZUrU1rpQO68PpAoN2kRQC3ypeVKhosXBBOGvdoG66EekrD24Y/c2gnLncvnYxnQkvVROY7ZGsPIMs5Jd4ZkSsdCFJr3ktXDsLV8rhUfitCM9Nz8hLMANsdz4X03BQFsjqfcctcsCKAFZysIoAUgKobIaCh8r2ZxgmZeNKtQgES1SVdzKQc0+OB2hUVMildihrh6OI4DllBlU0uIgTUN5A/WTTwLgqmMAVRDVYt8SlnX4cgpI7H+QGazUWujtAbsqkgl4ztQh7Y2SMPQ6reB95K1ev7mOp7SxS/FhcISXNw2cZJAmiu+WDfvuxlTAvg3LIDVkcObmkHJBwgLYOQAJv6TggBacEaCAFoAomIILZcjszjVekJcu1auABY2uGjVGsgnSBTiACWyJxErkDm1sms1bi/tkcVEahFMuWyN1n60CJ70LIhzFmRhNGICmUi2r07VHayHIdbNpGkaxq6jeqqo8ZArAjFivbnkn/Nesjxjt/S+OCtU6bEnJ5Pb52v4uUlKqCzg5nwGvO9mTAngPz+YJ4CdezXn4xFr10FAEEALXhFBAC0AUTEEOAbIjlq2bLQtTloafMhuRixgqgOZsAFLn2RVKamqZeRPnuGrVRVFK4nEiO6glltPHuMHEojYSSlLWXk6mAcyL8gQjqRJsYtwbUc2At+svJcs3+itr7fA07oz58VSEEDrsBcjmUdAEEDzGJIggBaAqDIEKlDkpAcSD0C3YGmD9Q/SI9FuapY2WP5ATKGFJ29SzCGkbxDXB03CdKeTKmtdVOUOzWREwoqU2SwfR04AMU9jkoi3iWghWSNfVnoPz2tl4qLMG5JF1AigWlZwtDGNdHzeSzbSedSek2rUItMcLyFiT1EpRS0b3cp5ozlWPPGM5r7iMTYvljElgBt+InKbcAE7Myi506HxgFXMGSMEBAG0AGhBAC0AUWMIXMASiYGVKxYWJywF1RNyM5yM0GFOvz+gnwZdPsn6pySBsEyCGOhdCiATauNIblyprF1AkiZAfEE6JI1AVtrNGcjcBSlFtrOaNQ9Z1JC2UcZRmk0Iid5pq4+sh2c014NyeTgvOYYMv6omeaFozh+NseOJZzT2E88xebGMJQGs3wgCWBM5PM50StpfEMDIAUz8JwUBtOCMBAG0AEQLh5AubKtdlOHKp2H5UravkUsB1UuQTAIXNwgeI3nVAcuSWoUOpmkoqwBiBC6Q5wJF3WFkDEOyJZqyLUbWxtPHCJ7y8UCQEavIyHsSkcdbR4jd5P3yoFWhIpxYNs++4tWXF894rbM5zMuLZUwJ4L+/mCeA+/VsDscg1hghAoIARgic/DFBAC0A0YIhcGFDEBruU/xiDlzU1lYkQcUCuGbVspMlC57RSwFEBW5ukD/o74GgaFntJCuglk6fFnzAAtZCWFEhNwNroVRv2ALIDQ8BMorMZ1R7QIPg9J4aj6rQtnJQo3jiOcyDCifyEnqRJr7gbGAFVkuogZQKrLLNsfHg2Rz3F8s182IpCGAsT0fMpYeAIIB6CBn4XBBAAyDFoIta3F4klSpQ7izDYWcrBvHaKyulBoJRnJOuSgp4CaAaJBCfhttW2UBiQJigF9gcm6YrFZVadDbEc8ni7LJV3N6RvAcIAyhQqZfMYlFrPFTTTM+CB8/m+K7Fcs28WMaUAG761bwFcN8esYRTzBVjBAQBtABwQQAtANHkEFrl4DAsRKFB4ow0uGaZxp8s0YNlzcrEp2Gly3Q6QsSYJdcq76UgX5eW2zEWentG8Imkj1riikSukdSjVzOaB0+tBBt5XWiePSgrzDSXGrXh9siDJw9WrbEvL5YxJYCbfyNy10Z+LM40SurYPfLnxZMJj4AggBYckSCAFoBocgi4ZZk2X4M8i3w41BCGyLKRBrFjZZYvnlOOAZ1AyMUgPxkS0EhQkUim/FKQavbCOqhn6ZLWJ48PxN8h87TKFV3tQyPYSH1AthG/yLKfPT7Vqizy8YATzkbNbW6EnPNcsiDvOBul21ZJ4nn2C6tiIGs7icV5VjSDGrWCAPKccOR9ed5NzCIIYORYiyetR0AQQAswFQTQAhBNDqFVqYJV2Kh2G4p7Q0wedPaU2oNYmlo1D4ncgaDJyR27FNq2JXdlOUtEwD+gfyA7iOHLSXWwGDU8Ve3yqboS8RxIB8aFhUyt9J1JyCJ6XK3msp40j5ZVM+BKdVONjqwPzyUrJb7IBbkxDwi60S8BEQHTjB7iwbMZbSsuS+XFMrYE8HcijwkLoAMWwG5xwVVMGhsEBAG0AGdBAC0A0YIh0hw2yk51Nsq0RHLxG7UA6lpY8rKp3u8NsnoxEldfTzZoyjU0iEvDioZklURv2iXy9DOU1ZJnpPJ1evvmvWRhBM5OczL5FjRYbyvdiY+vHg5Wfc6Lp1XztsRxeLGMKQHcus48Adyna0s8NrGnBgQEAbTgVRAE0AIQLRoCVjxWBSMpiWo9yHit4xrZSAyg3oBwQ7fNyWBkT9ngNlW6QsPp8sF9ir0gczfeVkCt+DpIy8C6ppddzNzmDVnAIH+QZgEn1mu8l6zeeK39c4GndW8AL5aCAFqHvRjJPAKCAJrHUFQCsQDDRBoiXBawkXUihrAoOx2F4ox0Z8SutCogIi01VlauQYIEBBAxbKiAAndrvBpkXECulQ1WzDKZULXV6+O9ZK2ev6WNJ/C07kR5sYwpAdy23rwFsH0X68ASIyUcAoIAWnAkwgJoAYhhhgAZQhwZrEbRKMEFgpWb7mC1fEHBvL462gPhYGP8LWTl7FLIDbUA1tfVUZKijBwehlVwV2UN+WXGSjVJG1jaympcjRVBoot66OhasXyS/I3R9cA1KyVqAGIkuIQr78d7yRpdR2vtJ/C07uR5sYwpAdz+J5HHFflmHamU1O6gyJ8XTyY8AoIAWnBEggBaAKLKEBAxRj1bJGXAtQsrGEgg6tha2ZRki0l9sHJfkf3yZJdCYT75XTWN8Yh+v5/2bt9Bue3aUrItuD4v5oNAsxSnBiIKQWu1knMuj49Z2+LVMhwplJlqD7ixWQUTYu5fnIuRFtgb4jTlcZCBMnuIhVRrvJeskXW05j4CT+tOnxfL2BLAv4i8kf0OYwjZQQAPtA4sMVLCISAIoAVHIgigBSCqDAHpECa1ArLR0JDYUS0jS3ozw9oE0gGC4lEhKRgfZcOU8jEgmyA2Uv1dvXnkn0uXQsnOHcxlCsvZ2vmL6Pu5C+jyNyaQIy01ZDi5zAzWC+KrJmnj8vosJ8A8e0NfHAdkd0BceWMssS+ptrN83nBWRN5Llnc/ra2/wNO6E+fFUhBA67AXI5lHQBBA8xiKGEALMFQbQisj10j2KCgjqk8gHg9ECu5TlB8rrXIFReYh6SNTpfIG1oNSX3oixUYtVt++No1WT55O96xcQuk52UGPgUhBW67a3WQBU3UBc0jaROlITA+LMm1yiRZpQJxNiUatY95L1vQiW/gAAk/rDpgXy9gSwL8tsAAeYB1YYqSEQ0AQQAuORFgALQBRZYji7DRVTT4jMWe5aQ4mViy3HoJowdK2R5ZIERCQRlWPJpckloLEjLJql2HXppoFcPv27cxKhuauqqIpgy6ku79aRM4MJIg0NfSBW1ueRQvLpZQEgj3AIglrW7Trz0J7EEkwaNAshGs6wlBI1ZdCWACj87PCMyovaeEZu7X15cUypgRwxz/mCWDbzq3tSFvVfgUBtOC4BQG0AESVIdTIAsgSrHJ6pd3ULGiYQo08QvwZVimJLGIOuIthLYykaV0K7t27ad/99iGbPUCw5E2tWglcrWn2FEJNWpfPHxEZ5Vk/XO4gxJLrGTjA2ooyeFY1tfhGWGdFDKBVCOuPw0ta9EdsvT14sRQEsPW+K4m4c0EALTgVQQAtAFFlCCRBSLFwyNQFUfDX19PuqlrdDF0eAgh3MbJSQX7QEGdXYUKYWetSgGUtO9URcUk0NZTT7LZGaRbUIobVLivVTqn2FMK+sBeITOtZ8bSqoCDmEuQU8jN6Yxh9C5RZwKiQEs7VznvJGl1Ha+0n8LTu5HmxjCkB3LnBvAWwuJN1YImREg4BQQAtOBJBAC0AUWMIkBi4ckHO4CI1GpOnlkACixYIUrRLgmldClruT+YCrnKR22AmrQSV0mIHgox/QJbl1kwjVjwQybyM0OQUzIX1Ma3CaldcxKh5L9novY0tY2SBp3XnyItl7AmgCcUAu5OSBAG07mVJwJEEAbTgUAQBtABEjSFQOQLWuQChqWdWQMTLwRIYrqEcWH5mGnOfSkkgRq2HZnejdSnA1exosDLK58CeYNXk0ThUk1ORyJo87hF/ZySjGVY5SM+oZR5La/X4/EHuYJyIhK1V1kE17HkvWbPn19KfF3had8K8WAoCaB32YiTzCAgCaB5DkQVsAYZqQ2i5JY1kAUvjgUDaU5KZuDPi6GLRtC4FWNlyVCRnjCS1KNedCXdymtPwduDChYs4XNPK0JWeQaburopAcXm4mRGfyOQAkeTi9evGZRperKIj7yUb6Tyt5TmBp3UnzYtlTAngro1EXpMWwKL9rQNLjJRwCAgCaMGRxNoCCF05e4qN/BradtiSZJ0xWj+W9xdZI8Gy2xgRgJUJMiZ6ljkeuGH5y1QpPWYmQ5dn/kj7hsMSIsgOWyDRgrlWG6RdjAopS2tiZDLdydy98qZWaxgWRlQ2gfs7XMNYcCs7UpoSYuT9JQKITGHI58gzpzEHYvkkMetIsVN7LtJ3UxoLCCEm0pYcyGzmsbRauY9EGcssnomyj0RYBy+WMSWAJRYQwEJBABPhPYvWGgQBtADZWBJAEAi4/1BJgSVFQNuu2sUqMkgNEigOCCiz+C1iF7NWlYXGSxLVK9q1I7l0iR40cGlKOnsgHkgY2FPjCZIz0Rsj3OcgI4j/UzbsG3F8ctkUM/NY/azepQB3KwSoQURqvT7dhBZVUkREhdlpDH89AshrYYR1EdqIcnIpj5/U1PLz19GuyoCF0Mqmh2e4uVhNZRDl5CS2Hyan4/UHSQFZudbmMJYZPJvD/mK5Rl4sBQGM5emIufQQEARQDyEDn8eKAMIahjJcyosZREgqj5bToH8n7wOLGfTjwhEm3l9kzAqUFkwSABUv2QgHb7gqHSAaWmGA2Dtwsicnk9vnY5bJaMSowUUNkq20KPFiaeAVU+0CSzASNxDviAY8sE9pXVJdY5BlkHOeJlkCWfZ1fSCOEF80MIxWhjX67GxwEfPMpdfXDJ7xFNQG0YeBFtVk+NDXQ8Tc52bwNDdzy3uaF8vYEsB/zbuAC/dreYcmdtSIgCCAFrwMsSKAhVnQqwuuI4vlwxW8s8HyolU9QxnAr9w27y8yrYQGRhSqXJa52VDNA1YcidBKrmateDYpOULKhJUyWJFkkYKycMnJTOOP1+Uqx4vJ02SCeDXVwwXBlkrN8WKp9wqC3wVqISPHN7ThMyS7QDhaXmM3UKqt6cuB3jzKzzEu8MS8cry0spn13jHe+aX+keIJgswSgSSGLFuA2+ujUotrSkvD4z1rk+5k5A9fEXBqiMGs1XHBR4oP73OR4sk7T2voz4tlbAngJiKfiRjAFCclFe7bGo6x1e5REEALjj5WBFDP8gKiAAIoJwHS9vQSJ3h/keVnOMmpImgMgra70mVpLGA64gwddhYzB+KnVtNX2qd2pm3ACgNsQGh8fn9EBAAYt81JD9Hyw75LKmuZtYwXy3CvICy6qJ0rufO1NApz050Eq6yyBdaFEAHrbFABYpUa9J5hHlihzRBrLRwixTMcAYxmTWW1n1P2c1EVHxkds1/2LPgV2WKH4H03Y0oAd282TwALOrbYsxMbIxIE0IK3IFYEEC7XDEV5MywfVh6paoVWfJZapQn51nl/kSFRIC8dJCA4CSFaViCjx6RVPk6ZHIH/R2wkr+AzCBmIllJqBeOhmkWV22cZAUSmbYYDyRZNGNfV1bE1K/UQtS2ykZe0C4c5LI5YH6xdINSoZWw04cjoWZq1AOL5WLuAA6UFAzGH8iZ9eYEod7wb7896vNebyPPzYikIYCKfZutbmyCAFpx5rAggrhRYXmDZQAYmrDpIiJAL9OICgjVITswQlweCGC5Dl/cXGWDLctop3RkgQzAwYT2Yx0prE+/xaLnA1caJJF5RywqL8WvcXpZcEAmWauvTmkvNmouzQNyjkphij7BM6tn/QGolC2KN20c1Xh8v9FHrbwZPKSQAY8QiCQRxqyCAynMAOPjCoVfCMGogygY2g2cs1tec5uDFMvYE0BM5nCkOShIWwMjxawZPCgJowSHFigBKS4W2HbJ8fb66QBapYg+49EAIbLYkFoAOq4MeKeP9RdZknSEma4Lxo+H+4z0ekF9IpMgvYDVpFIwbCQHUsrRhjvJqN9MaVMMSpJ3NKU/X1tlccVYa2aBdomhq60a8WWFmGrPISQ1fDuAy19P/k0vT4Fk8B6tytCumGD3bSN/NxneUycAEpHeQAcxzBkbXKP95AHFXhmEEBMxdYcMXeOeKtL9ZPCOdtyU+x4tlTAlg6RYin0kCmN+hJR6b2FMDAoIAWvAqxJoAWrDkkCF4f5FFYw1WjAmahWQIkOBA7ZBAdqycGGEe5gJuqHHLMy/LTFbR35NnwMqxZJm6DQkBjFzVE5VXG0uS0YxnrK9nVj1YebE3iXiDY2alOpiOH/5eqg0cbn8BC1moKz+QzOMmaP/FuzW3dxM1n5GxL5FAkD98MUCiUCK05oZnImCmtQZeLAUBTOTTbH1rEwTQgjMXBNACEC0eAjFqIEgBApNEIFNwAQZKl9UxKxDc1XquUbVlIRYTVkYpMxkXfElVIAEETboUdmzfzuZVkk95RQ09cobn1dyJzKLLEjsg0xIojxcJWQNRwX7U2t5aN5PQiXfjvWTjvV7MD+Kf4Qy45Gs8XmaJT5TWHPFMFOyU6+DFMrYEcKsFFsB9EhV6sS4LEBAE0AIQWwwBLGhDXlcNQ8Tr87PAfg6PpQVIRncIWO9g8cJlbFZEGuQvN93ByJ2UoYskEEh9SJfC3t27ZHWMm/YWEMzWr8yhVQpPDaVI3NkYR6uiiNHqIdE9sWBCzSNSHot1Ndc5eElLc91nLNbNi2VMCWDZNvMEsE37WMAo5ogTAoIAWgB8LAggXJb/frOK1s6cQ/a0VOpz2SVU3L2rBasPDIHsVlgs5M1oAoFlizAxEAiZpFkXiSVMb2rJnSz1UxfcrmNxgN66elZVpbJsN8uUVWt7a9z61VlQ7SMrOK5Pa52wagaqo/BZmrAvtTkiJZR6OEbyOe8lG8kcrekZgad1p82LpSCA1mEvRjKPgCCA5jGkaBNAkL/3rruV/lr6Bbn2VrAVp7fJo6OvGk3HXjPW9A4QOwYSoAxcl0ubmJ4kigOg9B3Tyvt/e+cBXFXx/fETCCUhQICg1JEiIEVQuvzVBHXQEScIShkHKQ5oQBBpopQgUpRORIRAEBBERUDEGREUFVBEFPGndAsgUVBaqKH7n++G+3g1efe9ffe1784wOnn37t397Obdb87Zc46KRkZ5vLzIaHhIERUNEYbPIGrMpivBeT+jogOsoRBuyEPoKdoYQQYnzl9UAvDoP0c8nq/zNicc3LPxRWJd0oo441RBKE5WRTX3uCICGyWSEZ/JvazOojk354oihks5UGldzG4Fsy9Zs/1H2/XkqW/FzbK0VACePOy/BbBMRX2w2FPIEaAA1LAkgRaA2T/+T97t9ozknsxxGG3CTeUlbf1qJQb9aQgaQOUCpJZxbhcgaM5d8Kf7gN4LcaRK0tnlXTMqYGDsCIpwSIlzvVKJN+IGTAxhaUzCKImGahjuE25flWNn8wQgXJZKnMYWsrGFuLpw6YqpWrQ4p2ekaMHcEBlsX+oPY8O47Mvj4Zl56YDso4KvqVrN7kQg+rCdadSYNFrH4pt9yep4ZiT3QZ76VtcsS+sFoB95J2OLSAwFoL7NEoI9UQBqWJRAC8BPXhojP7z9rsNIWz7xmNzfv7eUvaWqFIqLV6Wm8svzl980PZ018zVZsgakXnfhKVJWuYHdRP+iYyRRLigiE2IIpffciTzk+ysaW9gluAN9I+E2cgEaAhAMcfYQCZ3REJnr7/lDRBVDmOZXHs8Tl4IqwngN3sILzb5kLRxaWD6KPPUtm1mWFID62LMn/wlQAPrPMOAu4C9emy5fz8y0jTR11BBJ6dNT4kuXsv0M7k3Uu/U1aMNdfddAlBHTgNuhC4/1ka+nL/FkpUN5g4LMWgAAGWhJREFUtPwazhOCiXNFB9yDaidI6gvLo33/EJ15ibDFQQDqnjP6g3sXVkG4dhGp65yD0VMS6VA62+ctF7MvWW/7jdbryFPfyptlaaUAlJNHRK76YQEsXESkTAV9sNhTyBGgANSwJIG2AJ7662/JattJzh09pgJAxmz/SspWdQzP9zWvnTF9WJMqlC0tVy5fVFGtcJGiaoEVyZ3xPFjUIGbMpssohXJp19Nt2C/l5atXJUZi3FrpcE4PZwTza6qusptEzKqk14XLckZZAQspFzO8z1eu3iiHVtBLAdfHFY1VFjxEDUOU6W5JJYurBN3OjRZA3aTDr7+C9mf4zSh4IzbL0lIBmPOP/wIw8ebgweWTA06AAlAD4kALQAzx5xUfyfoJ06RMpQrS/8O3pWRSWZeR+1OH1+wXmQZsqgukIYElTeW6Q2k7JEo+f9Fr4QmhlpSAihl5pb4g0IwgBljIDKFljBdWTeTM80bYoppKieJFHM7bqcjos7l5Kfg8tPxY5pXqg2iMUXPGeCBI4Tb2tQEd3MKwWqJBvMMqWCruRjJi4+ency8q0RlOLVh7M5wYmRkreZqhlf+1ZllaKwD/1SAAb9IHiz2FHAEKQA1LYoUAxDAv5+bKX9v+J03u/z8pFlfcZeTenG3zRbRoQOS2C09nD31xU8YXKSzFisQqYYfEu4YrHOISZ/CMXH04K+kpCMLdICFQ8yyMyI2IKGL/yuq5c82qMmHnL5i2fhrjxXk/VfkEg7zeVMRz7iUVBQxLKPTq2et5CgO1noHq1+xLNlDjiJR+yVPfSpplSQGojz178p8ABaD/DAN+BtB5iM5BAHnWnbzzZ77WOTX7RaYBm8B9m1DctQoFBFFeTjt9lirnPH46xm9WTOcXbY3gEV9q73o6qwgrKAQg/igI9xaMvRnuzPIbP3nqW12zLC0VgKeO+m8BLF1eHyz2FHIEKAA1LIlVFkD7oSIRMSxbaPb56XydjtkvMl+f4zwH5+TT+NxdTjsdz7OqD08skU8QdYrdRhZ7EZnsbvywUJYp4WoNxrUIVME5znBvwdib4c6MAtCaFTS7Ny0VgKchAP34A7BwrEgpCkBrdlJwnhJRAnDt2rWyevVqycnJkSpVqkiPHj2kbt26Hsnu2rVLFi1aJNnZ2VKmTBlJTU2VNm3amF6JYAhA04Ms4AazX2Q6ng/rVVmVT++G6xL9Oue00/EsK/vIj6U7F7CZc4nO80AS53IJrulqQqmUm7/sg7E3/R1zKN9PnvpWxyxLCkB97NmT/wQiRgBu3rxZZs6cKb169ZI6derI559/LuvXr5fp06dLUlKSC6l///1XBg8eLPfff7888MADsnfvXsnKypIBAwZIy5YtTZGlADSFy+FiJEoublfpAmIIUbbnwth1md9LAaIXLnykl4HshasWbtozF3xP1+B8JAAW1LxgldBN4G1mx5h9yZrpOxqvJU99q26WpbUC8JgGC6Dru1MfPfYUbAIRIwCHDx8u1atXl969b5RGGzhwoDRr1kyeeOIJF85LliyRbdu2KYFotLlz58rBgwdl/PjxptaFAtAULpeL4RqNLxarXNlIsuzrOUb/RqHvbm9eCiowJSZGRQBDBPrbEorlRTyLxKizk2dyL6nAj0ho3vCMhHlaNQfy1EfaLEtLBeCZ4/4LwJLl9MFiTyFHICIE4JUrV6Rr164yaNAgad68uQ3yggUL5MCBAzJmzBgX8KNHj5Zq1apJz549bZ9t3bpVCcLFixdLbCxepo7t8uXLgn9Gwy9/XFycCgLBGMK5YS4VKlSQI0eOqDN4bL4TIEvf2bm7kzzJUy8Bfb2Z3Zt4r5Qvb9G5OgpAfQsdoT1FhAA8ceKEpKWlydixY5X712grV66UDRs2SEZGhsvywdWbnJwsHTp0sH0GN/CoUaMkMzNTnQl0bsuWLZPly5fbfgyL48SJEyN0a3BaJEACJEACYUsAAvCaH4aJQrEitACG7fJ7M/CIEoDjxo2T2rVrOwjAjRs3yowZM9wKwJSUFGnfvr3tsz179kh6errAFZyYmOhyDy2A3mwpXmPWKkBi+RMgT707hDz18TTL0loL4AkNAtC14IA+euwp2AQiQgBa5QL2tFg8AxjsbRxazzd7Lii0Rh96oyFPvWtCnvp4mmVp7RlACkB9Kx2ZPUWEAMTSIAikRo0aKgrYaGaDQObNm6fODDIIhGcA/fl1N/tS8OdZ0XAveepdZfLUx9MsS0sF4NmT/lsAE1yPQumjx56CTSBiBKCRBgZRwHADG2lgpk2bpg7dLl26VHBWsF+/foq5kQYGKWCQCmbfvn0CAcg0MIcZBOLnb6XZl4Kfj4v428lT7xKTpz6eZllaKgDPQQD6UU2pUGGREhSA+nZL6PUUMQIQaI1E0CdPnpSqVatK9+7dpV69eor6rFmzVLTuyy+/bFsFIxH0oUOHVNBHu3btmAj6MAWgv7+mZl8K/j4v0u8nT70rTJ76eJplaa0AzNEgAF3Pwuujx56CTSCiBGCwYPIMYLDIh+Zzzb4UQnMWoTMq8tS7FuSpj6dZlhSA+tizJ/8JUAD6z1BZFu3zA2ro0vIuzH6RWT7AMHogWepdLPIkT70E9PVmdm9aKgDPn/LfAhhfWh8s9hRyBCgANSwJBaAGiBHUhdmXQgRNPSBTIU+9WMlTH0+zLC0VgLmn/ReAcaVMwzKOYuXk5EiVKlWkR48eUrduXY/9GEexsrOz1VGs1NRUn45imR4obxAKQA2bgAJQA8QI6sLsSyGCph6QqZCnXqzkqY+nWZaRLgCNYExk40BRBiMYExW2kpJc6wobwZgIxERAJooxZGVl+RSMqW9Vo6cnCkANa00BqAFiBHVh9qUQQVMPyFTIUy9W8tTH0yxLawXgGQ0WwJKmYCEdGypkIRuH0cymY0MhhoMHD5pOx2ZqoLxYEaAA1LAREHUc7rWAgQHpciBm2fwnQJb+M7TvgTzJUy8Bfb2Z2ZuoBOKuzKi+0dj1dPG8/wKwWLzk5uY6pAaDiMU/5xbsggwBYRjhnVIARvgCc3okQAIkQAIk4AsBiLr+/fvL8ePHbbc//vjj0qlTJ5fukGc3LS1Nxo4dq9y/Rlu5cqVs2LBBMjIyXO5B3t3k5GTp0KGD7TO4gUeNGiWZmZnWiWVf4ETAPRSAEbCIOqaAv/KQIxH/4uLidHQZtX2Qpd6lJ0/y1EtAX2+RvjeR3cI5w4UnC6AhAMeNG6eKMdgLwI0bN8qMGTPcCsCUlBRp37697bM9e/ZIenq6wBWcmMg8hPp2q2tPFICBpBtGfZ8/f15Fay1cuFDi4+PDaOShN1Sy1Lsm5Emeegno64178wZLuoD17SureqIAtIp0iD+HX2T6Fogs9bFET+RJnnoJ6OuNe9ORJYJAatSoIYgCNprZIBCUZD1w4ACDQPRtU489UQBaADkcHsEvMn2rRJb6WFIA6mVJnnp58nfdkaeRBgZRwHADG2lgpk2bpoIMly5dKnAV9+vXT91opIFBChikgtm3b59AAOJsYMuWLfUuFntzIUAByE2hCOCcx4cffqjOYriL8CIm7wmQpfesvLmSPL2h5P015Ok9q4KuJEtXQkYiaGTHqFq1qnTv3l3q1aunLpw1a5bKNIGz5kYzEkEfOnRIBX20a9eOiaAL2niaPqcA1ASS3ZAACZAACZAACZBAuBCgAAyXleI4SYAESIAESIAESEATAQpATSDZDQmQAAmQAAmQAAmECwEKwHBZKY6TBEiABEiABEiABDQRoADUBJLdkAAJkAAJkAAJkEC4EKAADJeV8nOcRmRWTk6OVKlSRSV9rlu3rttev/vuO1m3bp3KxYTknri+Y8eOcscdd/g5isi53QxP+1kjyz0i4BAdN3ny5MgB4udMzPJE9OXy5ctl06ZNgj1drlw5FcF+3333+TmSyLjdLE9wXL16tRw+fFglgsfv+pNPPiklS5aMDCA+zgIRquCyf/9+QVTrkCFDpHnz5vn2ZkS1Zmdnq6jW1NRURrX6yJ+3BZYABWBg+YZE70ZuJiTnRI1GIzfT9OnTJSkpyWWMqAaCL6769etLiRIl5Msvv5SPP/5YJkyYINWrVw+JOQVzEGZ5GmNFzrBhw4ZJhQoVlGihAMwj4wvPSZMmyalTp6Rz586K5+nTp+Xq1asONUiDuUeC+WyzPPFHyejRo1W6jqZNm6o8bcjFBq5Dhw4N5lSC/uzt27cLatPie2/q1KkFCkAjrx1y2iG3He7NyspiXrugryQH4I4ABWAU7AtkZ8cXGJJzGi2/7OzukAwaNEhatWolKAQe7c1XnqiFiZdqoUKF5Pvvv6cAvL6RzPL86aefVF3RN954QxISEqJ9O7rM3yxPWLg+++wzmTlzpq2vNWvWKMvX7Nmzyfc6gU6dOhUoAJcsWSLbtm0T/HFtNNS0PXjwICtbcCeFHAEKwJBbEr0D8qU+o/MIrl27Js8++6xK0PnQQw/pHWCY9eYrT1hR4VZHofQVK1ZQAF5fd194wqICVyVKTqHIfPHixaVJkybSpUsXKVq0aJjtKL3D9YUnrFRjxoxR4ubOO+9UllUImMqVK8vTTz+td4Bh3Js3AhCW1GrVqknPnj1tM926daviuXjxYomNjQ1jAhx6pBGgAIy0FXWaD9w5aWlpMnbsWAf32MqVK2XDhg2SkZFRIAFYAlatWqW+xEqXLl3g9ZF8gS88IVbS09PVS7ZSpUqybNkyCsDrm8QXnuPHjxecs7r99tuVRRru3/nz56sjC3379o3k7Vfg3HzhiU63bNkib775pqoIBFc6XMGw+lOw3EDujQBECbPk5GTp0KGD7UYI7FGjRklmZqY6WsNGAqFCgAIwVFYiQOMwXgiwPKE2o9EgAGE9gSstv/b111+rLy6cBWrYsGGARhk+3ZrlCevpiBEjpHXr1raD4BSAN9bbLE/cib28e/dudU4NAQtoCFxCvVFYWaLZCugLTwQr4A/Etm3bSqNGjVSwA1yZNWvWlD59+oTPL2eAR+qtAExJSVEBSUbDGUv8AQhXcGJiYoBHye5JwHsCFIDeswrLK31xCRkTxWFyWAVgCWjcuHFYzl/3oM3yPHfunHIH4dyf0f777z/BP/xs5MiR0qBBA93DDJv+zPLExHD2D1YV+zNrEDHYp7BoV6xYMWzmr3ugvvAER1j+wM9ZtNBqdWOFvBGAdAHr3tHsL5AEKAADSTdE+sahcJyXQhSw0QoKAoHlDwfA4dIoKO1BiEzTsmGY4QkLIMSJfcNZwB07dqgX7k033aTOsEVzM8MTnBDFjkh1nAU02CGoZsqUKVFvAQQfszzBrXDhwoLvBKPt27dP/XEyZ84cKVu2bDRvT9vcvRGA7oJAYKlGSi0cXWAjgVAiQAEYSqsRoLEYaSEQBQw3sJEGBi6z8uXLy9KlS1Xqh379+qkRQPzNmjVL5Qps0aKFbVRwrRkutwANNSy6NcvTeVJ0ATsSMcvzwoULSqzUqlVL8FLGGUBYqpDXEuddo72Z5fnVV18pfrBUGy7gRYsWSUxMjEr9FM0Ne+3IkSMKwQsvvCDdunVTFntEnyOFlvN3p5EGBilgkAoGQhoCEH9It2zZMppRcu4hSIACMAQXJRBDMhLD4nwPkhAj51e9evXUoyD2jh49qhIUo+G/OGTv3HC4GdHAbCJmeFIAFrxjzPL866+/5K233lKuYCQrvuuuuxgFbIfZLE+kfUEqGAgY5P5EQE3Xrl2j3vq3c+dOFbzl6bvQ+bsT1xmJoA8dOqSCPpA9oU2bNgX/EvAKErCYAAWgxcD5OBIgARIgARIgARIINgEKwGCvAJ9PAiRAAiRAAiRAAhYToAC0GDgfRwIkQAIkQAIkQALBJkABGOwV4PNJgARIgARIgARIwGICFIAWA+fjSIAESIAESIAESCDYBCgAg70CfD4JkAAJkAAJkAAJWEyAAtBi4HwcCZAACZAACZAACQSbAAVgsFeAzycBEiABEiABEiABiwlQAFoMnI8jAV8JoILI8uXLBf+NpIZkulu2bFFl3ApqSESOBOZGQnIkLkYFm759+0pKSoq6HZUtUMMaNYNRag8N1W1OnTolbdu2LegR/JwESIAEooIABWBULDMnGQkEKABF9u/fL3FxcVKhQgW1pO4EIErDoXxX9erVpUiRIuq61157TVCZAWKTjQRIgARIQIQCkLuABMKEAAWg60K5E4DulpMCMEw2OYdJAiRgGQEKQMtQ80Ek4D2BH3/8Ud59911BzVvUE33wwQcFhentXcCffvqpfPvtt+qaixcvKnfnvffeq9ycsbGxtoehtvOZM2ekT58+8vbbb8sff/whiYmJgoL1qampUqhQIdu1586dkxUrVsjWrVvlxIkTEh8fLzVr1pRu3bpJ5cqV1XVXrlyRjz76SDZt2qQscLDINWnSRNWOLVWqlK2vzZs3yxdffCF//vmnoF+Mr2nTpvLYY49J8eLFbdcZLuAJEybIggUL5Ndff5WiRYtKq1atVJ/FihWzXeuLC9hTbev3339fBgwYIDfffLOMGDHCYXHA+plnnpF77rlHevXq5f3C8UoSIAESCBMCFIBhslAcZvQQ+OWXX2T8+PFSu3ZteeSRR+TatWtKcOEM27Fjx2xnABctWiQVK1ZUwgqC7+DBg7Jy5UolxnAmzmgQQHB/JiQkqP4geCDw1q1bp87SJScnq0tzc3Nl5MiRStShgH2tWrWU6Ny9e7cSbg0aNFBjgTUNP8M1GKMxJohFfAbxhgYhCaGHMeK/EKqYR/ny5WX06NEOAvCbb76xidJbb71V9u7dq+bSqFEjefHFF/0SgNnZ2ZKZmSn//POPDBkyxNYXxv7JJ58IOM6YMUON02hr166V+fPny7Rp06RKlSrRs/k4UxIggaghQAEYNUvNiYYLAVijIKpmzpxpE1MQZxBrZ8+edRsEAmH233//CYQUAiCysrKU4EMzLGCwsEFcGW3QoEFSrlw5m/XLsC5CBDZs2NAtLvSfkZEhgwcPlhYtWtiu+f333+Wll15S1rI2bdq43IuxYYwQdhjP5MmT5ZZbblHXwQK4YcMG6dGjhzz88MO2eyEA33vvPXnllVfktttuUz/3xQKI+zy5gME1LS1NWrdurZ5vz6Z06dIOQjVc9g/HSQIkQALeEKAA9IYSryEBiwjA4ta9e3fl8n3qqaccnmoIJSMKGAER+H+IKghD+wYLIix4hgD8+++/Ze7cuQ7XwOoFq+H06dPVzyH84CqGwPPUXn/9ddm+fbvMmzdPYmJiHC6Di7lu3boycOBA9XNY3CDgduzYIQjMgAg02vPPP69cvGjGvGBxK1mypO0a43xf586dldsYTbcARJ9wO0OAzpkzR1kqMV6ITmeRa9EW4GNIgARIwBICFICWYOZDSMA7AsePH1dn9bp06SIdOnRwuOmdd95RLlSIPlgIIbQqVaqkzvzBDYyI199++025LuFirV+/vk0AQthNnTrVoT8Ir127dtkiY5977jlJSkqS9PR0j4MdO3aswEXtqcFNjPshZHG+Du7gRx99VLlXcZYP85syZYpD2haMA2lacObRvl26dEmdAYRV0LDOBUIAImIYY+3du7c6F4nxwaKJcdmfj/RuBXkVCZAACYQHAQrA8FgnjjJKCHhrAcTZtYULFyqRgjN1Rlu/fr067+aLAPTGAgirIQTg8OHD3a4IAkIgSn/44QeZNGmScvcib5/Rfv75Zxk3bpyLAIQFLlgWQIwNLmKI02HDhqm8gp06dXIR4FGyBTlNEiCBKCFAARglC81phg8Bb84ArlmzRrku4dZFRC8aXKy4F1ZAXwSgcQYQFjxY8tw1RP7ibKK9i9nddYYAhNhDsIXREFSBpM/2iZutOAMIqx5c5XBdu2uGMIXVFNfNnj1bcAaQjQRIgAQilQAFYKSuLOcVtgQgRiCw6tSp4xAFnJOTo6xUcAEjonbo0KHqGqRyuXz5sorqPXr0qBw+fNgnAWhEAaMPuG0RMAI3LNzEjRs3tkUBT5w4UaVqgWsW1xQuXFiNa+fOndKsWTNp3ry5OktouJQ7duyoroF4xLlFjM9ZAHqKAkYwCoJLjOarC9jIoYgglRo1aqjzi0hvY98QFIOIYaR+6d+/f9juHw6cBEiABLwhQAHoDSVeQwIWE4AFDXnqIPRg4UNkLcSYfR7Abdu2qSALBHggeOLuu+9WIg3Rvr5YADFF5Ov74IMPVJqYkydPqkhiIw8gXLtoV69eVelTNm7cqJ4NcYdoYgSAQIwaVTr27dun8g4i0ATn/5BKBsEtcLM6C0BYBSF63eUBtM8Z6KsARJAMrKVwX58/f15ZS51L6mHe+FeQddPircDHkQAJkEBACFAABgQrOyUBEgg3Asg3CMvgq6++Gm5D53hJgARIwDQBCkDTyHgDCZBApBCANRBJsmFNXbVqlUoUDRc2GwmQAAlEOgEKwEhfYc6PBEjAIwGcWxwzZoxyocM9jehfNhIgARKIBgIUgNGwypwjCZAACZAACZAACdgRoADkdiABEiABEiABEiCBKCNAARhlC87pkgAJkAAJkAAJkAAFIPcACZAACZAACZAACUQZAQrAKFtwTpcESIAESIAESIAEKAC5B0iABEiABEiABEggyghQAEbZgnO6JEACJEACJEACJEAByD1AAiRAAiRAAiRAAlFGgAIwyhac0yUBEiABEiABEiCB/wcfRyP3at+eZwAAAABJRU5ErkJggg==\" width=\"640\">"
      ],
      "text/plain": [
       "<IPython.core.display.HTML object>"
      ]
     },
     "metadata": {}
    },
    {
     "output_type": "execute_result",
     "data": {
      "text/plain": [
       "<matplotlib.axes._subplots.AxesSubplot at 0x21833489970>"
      ]
     },
     "metadata": {},
     "execution_count": 27
    }
   ],
   "metadata": {
    "ExecuteTime": {
     "end_time": "2021-09-26T22:47:42.837998Z",
     "start_time": "2021-09-26T22:47:42.690001Z"
    }
   }
  },
  {
   "cell_type": "markdown",
   "source": [
    "- Separando uma coluna específica para futura análise"
   ],
   "metadata": {}
  },
  {
   "cell_type": "code",
   "execution_count": 3,
   "source": [
    "classes = dataset['target']"
   ],
   "outputs": [],
   "metadata": {
    "ExecuteTime": {
     "end_time": "2021-09-28T00:16:12.136984Z",
     "start_time": "2021-09-28T00:16:12.121992Z"
    }
   }
  },
  {
   "cell_type": "code",
   "execution_count": 4,
   "source": [
    "dataset.drop('target', axis=1, inplace=True)"
   ],
   "outputs": [],
   "metadata": {
    "ExecuteTime": {
     "end_time": "2021-09-28T00:16:13.459355Z",
     "start_time": "2021-09-28T00:16:13.385962Z"
    }
   }
  },
  {
   "cell_type": "code",
   "execution_count": 35,
   "source": [
    "dataset.head()"
   ],
   "outputs": [
    {
     "output_type": "execute_result",
     "data": {
      "text/html": [
       "<div>\n",
       "<style scoped>\n",
       "    .dataframe tbody tr th:only-of-type {\n",
       "        vertical-align: middle;\n",
       "    }\n",
       "\n",
       "    .dataframe tbody tr th {\n",
       "        vertical-align: top;\n",
       "    }\n",
       "\n",
       "    .dataframe thead th {\n",
       "        text-align: right;\n",
       "    }\n",
       "</style>\n",
       "<table border=\"1\" class=\"dataframe\">\n",
       "  <thead>\n",
       "    <tr style=\"text-align: right;\">\n",
       "      <th></th>\n",
       "      <th>id</th>\n",
       "      <th>acousticness</th>\n",
       "      <th>danceability</th>\n",
       "      <th>duration_ms</th>\n",
       "      <th>energy</th>\n",
       "      <th>instrumentalness</th>\n",
       "      <th>key</th>\n",
       "      <th>liveness</th>\n",
       "      <th>loudness</th>\n",
       "      <th>mode</th>\n",
       "      <th>speechiness</th>\n",
       "      <th>tempo</th>\n",
       "      <th>time_signature</th>\n",
       "      <th>valence</th>\n",
       "      <th>song_title</th>\n",
       "      <th>artist</th>\n",
       "    </tr>\n",
       "  </thead>\n",
       "  <tbody>\n",
       "    <tr>\n",
       "      <th>0</th>\n",
       "      <td>0</td>\n",
       "      <td>0.0102</td>\n",
       "      <td>0.833</td>\n",
       "      <td>204600</td>\n",
       "      <td>0.434</td>\n",
       "      <td>0.021900</td>\n",
       "      <td>2</td>\n",
       "      <td>0.1650</td>\n",
       "      <td>-8.795</td>\n",
       "      <td>1</td>\n",
       "      <td>0.4310</td>\n",
       "      <td>150.062</td>\n",
       "      <td>4.0</td>\n",
       "      <td>0.286</td>\n",
       "      <td>Mask Off</td>\n",
       "      <td>Future</td>\n",
       "    </tr>\n",
       "    <tr>\n",
       "      <th>1</th>\n",
       "      <td>1</td>\n",
       "      <td>0.1990</td>\n",
       "      <td>0.743</td>\n",
       "      <td>326933</td>\n",
       "      <td>0.359</td>\n",
       "      <td>0.006110</td>\n",
       "      <td>1</td>\n",
       "      <td>0.1370</td>\n",
       "      <td>-10.401</td>\n",
       "      <td>1</td>\n",
       "      <td>0.0794</td>\n",
       "      <td>160.083</td>\n",
       "      <td>4.0</td>\n",
       "      <td>0.588</td>\n",
       "      <td>Redbone</td>\n",
       "      <td>Childish Gambino</td>\n",
       "    </tr>\n",
       "    <tr>\n",
       "      <th>2</th>\n",
       "      <td>2</td>\n",
       "      <td>0.0344</td>\n",
       "      <td>0.838</td>\n",
       "      <td>185707</td>\n",
       "      <td>0.412</td>\n",
       "      <td>0.000234</td>\n",
       "      <td>2</td>\n",
       "      <td>0.1590</td>\n",
       "      <td>-7.148</td>\n",
       "      <td>1</td>\n",
       "      <td>0.2890</td>\n",
       "      <td>75.044</td>\n",
       "      <td>4.0</td>\n",
       "      <td>0.173</td>\n",
       "      <td>Xanny Family</td>\n",
       "      <td>Future</td>\n",
       "    </tr>\n",
       "    <tr>\n",
       "      <th>3</th>\n",
       "      <td>3</td>\n",
       "      <td>0.6040</td>\n",
       "      <td>0.494</td>\n",
       "      <td>199413</td>\n",
       "      <td>0.338</td>\n",
       "      <td>0.510000</td>\n",
       "      <td>5</td>\n",
       "      <td>0.0922</td>\n",
       "      <td>-15.236</td>\n",
       "      <td>1</td>\n",
       "      <td>0.0261</td>\n",
       "      <td>86.468</td>\n",
       "      <td>4.0</td>\n",
       "      <td>0.230</td>\n",
       "      <td>Master Of None</td>\n",
       "      <td>Beach House</td>\n",
       "    </tr>\n",
       "    <tr>\n",
       "      <th>4</th>\n",
       "      <td>4</td>\n",
       "      <td>0.1800</td>\n",
       "      <td>0.678</td>\n",
       "      <td>392893</td>\n",
       "      <td>0.561</td>\n",
       "      <td>0.512000</td>\n",
       "      <td>5</td>\n",
       "      <td>0.4390</td>\n",
       "      <td>-11.648</td>\n",
       "      <td>0</td>\n",
       "      <td>0.0694</td>\n",
       "      <td>174.004</td>\n",
       "      <td>4.0</td>\n",
       "      <td>0.904</td>\n",
       "      <td>Parallel Lines</td>\n",
       "      <td>Junior Boys</td>\n",
       "    </tr>\n",
       "  </tbody>\n",
       "</table>\n",
       "</div>"
      ],
      "text/plain": [
       "   id  acousticness  danceability  duration_ms  energy  instrumentalness  key  \\\n",
       "0   0        0.0102         0.833       204600   0.434          0.021900    2   \n",
       "1   1        0.1990         0.743       326933   0.359          0.006110    1   \n",
       "2   2        0.0344         0.838       185707   0.412          0.000234    2   \n",
       "3   3        0.6040         0.494       199413   0.338          0.510000    5   \n",
       "4   4        0.1800         0.678       392893   0.561          0.512000    5   \n",
       "\n",
       "   liveness  loudness  mode  speechiness    tempo  time_signature  valence  \\\n",
       "0    0.1650    -8.795     1       0.4310  150.062             4.0    0.286   \n",
       "1    0.1370   -10.401     1       0.0794  160.083             4.0    0.588   \n",
       "2    0.1590    -7.148     1       0.2890   75.044             4.0    0.173   \n",
       "3    0.0922   -15.236     1       0.0261   86.468             4.0    0.230   \n",
       "4    0.4390   -11.648     0       0.0694  174.004             4.0    0.904   \n",
       "\n",
       "       song_title            artist  \n",
       "0        Mask Off            Future  \n",
       "1         Redbone  Childish Gambino  \n",
       "2    Xanny Family            Future  \n",
       "3  Master Of None       Beach House  \n",
       "4  Parallel Lines       Junior Boys  "
      ]
     },
     "metadata": {},
     "execution_count": 35
    }
   ],
   "metadata": {
    "ExecuteTime": {
     "end_time": "2021-09-26T22:52:49.399606Z",
     "start_time": "2021-09-26T22:52:49.356623Z"
    }
   }
  },
  {
   "cell_type": "markdown",
   "source": [
    "### Pré-processamento dos dados"
   ],
   "metadata": {}
  },
  {
   "cell_type": "code",
   "execution_count": 6,
   "source": [
    "#Aplicação de método para remoção de colunas que não agregam ao estudo\r\n",
    "remove_features(['id', 'song_title'])"
   ],
   "outputs": [
    {
     "output_type": "execute_result",
     "data": {
      "text/plain": [
       "0"
      ]
     },
     "metadata": {},
     "execution_count": 6
    }
   ],
   "metadata": {
    "ExecuteTime": {
     "end_time": "2021-09-28T00:16:17.547943Z",
     "start_time": "2021-09-28T00:16:17.435941Z"
    }
   }
  },
  {
   "cell_type": "code",
   "execution_count": 38,
   "source": [
    "dataset.artist.head(10)"
   ],
   "outputs": [
    {
     "output_type": "execute_result",
     "data": {
      "text/plain": [
       "0              Future\n",
       "1    Childish Gambino\n",
       "2              Future\n",
       "3         Beach House\n",
       "4         Junior Boys\n",
       "5               Drake\n",
       "6               Drake\n",
       "7               Omega\n",
       "8         Death Grips\n",
       "9         Honey Claws\n",
       "Name: artist, dtype: object"
      ]
     },
     "metadata": {},
     "execution_count": 38
    }
   ],
   "metadata": {
    "ExecuteTime": {
     "end_time": "2021-09-26T22:55:27.763307Z",
     "start_time": "2021-09-26T22:55:27.750303Z"
    }
   }
  },
  {
   "cell_type": "code",
   "execution_count": 40,
   "source": [
    "dataset.info()"
   ],
   "outputs": [
    {
     "output_type": "stream",
     "name": "stdout",
     "text": [
      "<class 'pandas.core.frame.DataFrame'>\n",
      "RangeIndex: 2017 entries, 0 to 2016\n",
      "Data columns (total 14 columns):\n",
      " #   Column            Non-Null Count  Dtype  \n",
      "---  ------            --------------  -----  \n",
      " 0   acousticness      2017 non-null   float64\n",
      " 1   danceability      2017 non-null   float64\n",
      " 2   duration_ms       2017 non-null   int64  \n",
      " 3   energy            2017 non-null   float64\n",
      " 4   instrumentalness  2017 non-null   float64\n",
      " 5   key               2017 non-null   int64  \n",
      " 6   liveness          2017 non-null   float64\n",
      " 7   loudness          2017 non-null   float64\n",
      " 8   mode              2017 non-null   int64  \n",
      " 9   speechiness       2017 non-null   float64\n",
      " 10  tempo             2017 non-null   float64\n",
      " 11  time_signature    2017 non-null   float64\n",
      " 12  valence           2017 non-null   float64\n",
      " 13  artist            2017 non-null   object \n",
      "dtypes: float64(10), int64(3), object(1)\n",
      "memory usage: 220.7+ KB\n"
     ]
    }
   ],
   "metadata": {
    "ExecuteTime": {
     "end_time": "2021-09-26T22:55:54.271579Z",
     "start_time": "2021-09-26T22:55:54.243570Z"
    }
   }
  },
  {
   "cell_type": "markdown",
   "source": [
    "# Label Encolder"
   ],
   "metadata": {}
  },
  {
   "cell_type": "markdown",
   "source": [
    "Este método codifica em números inteiros os valores categóricos de uma classe"
   ],
   "metadata": {}
  },
  {
   "cell_type": "markdown",
   "source": [
    "- Guardando o método a ser utilizado em uma variável"
   ],
   "metadata": {}
  },
  {
   "cell_type": "code",
   "execution_count": 42,
   "source": [
    "enc = LabelEncoder()"
   ],
   "outputs": [],
   "metadata": {
    "ExecuteTime": {
     "end_time": "2021-09-26T22:58:01.440022Z",
     "start_time": "2021-09-26T22:58:01.435018Z"
    }
   }
  },
  {
   "cell_type": "code",
   "execution_count": 43,
   "source": [
    "inteiros = enc.fit_transform(dataset['artist'])"
   ],
   "outputs": [],
   "metadata": {
    "ExecuteTime": {
     "end_time": "2021-09-26T22:58:42.588417Z",
     "start_time": "2021-09-26T22:58:42.564415Z"
    }
   }
  },
  {
   "cell_type": "code",
   "execution_count": 45,
   "source": [
    "set(inteiros)"
   ],
   "outputs": [
    {
     "output_type": "execute_result",
     "data": {
      "text/plain": [
       "{0,\n",
       " 1,\n",
       " 2,\n",
       " 3,\n",
       " 4,\n",
       " 5,\n",
       " 6,\n",
       " 7,\n",
       " 8,\n",
       " 9,\n",
       " 10,\n",
       " 11,\n",
       " 12,\n",
       " 13,\n",
       " 14,\n",
       " 15,\n",
       " 16,\n",
       " 17,\n",
       " 18,\n",
       " 19,\n",
       " 20,\n",
       " 21,\n",
       " 22,\n",
       " 23,\n",
       " 24,\n",
       " 25,\n",
       " 26,\n",
       " 27,\n",
       " 28,\n",
       " 29,\n",
       " 30,\n",
       " 31,\n",
       " 32,\n",
       " 33,\n",
       " 34,\n",
       " 35,\n",
       " 36,\n",
       " 37,\n",
       " 38,\n",
       " 39,\n",
       " 40,\n",
       " 41,\n",
       " 42,\n",
       " 43,\n",
       " 44,\n",
       " 45,\n",
       " 46,\n",
       " 47,\n",
       " 48,\n",
       " 49,\n",
       " 50,\n",
       " 51,\n",
       " 52,\n",
       " 53,\n",
       " 54,\n",
       " 55,\n",
       " 56,\n",
       " 57,\n",
       " 58,\n",
       " 59,\n",
       " 60,\n",
       " 61,\n",
       " 62,\n",
       " 63,\n",
       " 64,\n",
       " 65,\n",
       " 66,\n",
       " 67,\n",
       " 68,\n",
       " 69,\n",
       " 70,\n",
       " 71,\n",
       " 72,\n",
       " 73,\n",
       " 74,\n",
       " 75,\n",
       " 76,\n",
       " 77,\n",
       " 78,\n",
       " 79,\n",
       " 80,\n",
       " 81,\n",
       " 82,\n",
       " 83,\n",
       " 84,\n",
       " 85,\n",
       " 86,\n",
       " 87,\n",
       " 88,\n",
       " 89,\n",
       " 90,\n",
       " 91,\n",
       " 92,\n",
       " 93,\n",
       " 94,\n",
       " 95,\n",
       " 96,\n",
       " 97,\n",
       " 98,\n",
       " 99,\n",
       " 100,\n",
       " 101,\n",
       " 102,\n",
       " 103,\n",
       " 104,\n",
       " 105,\n",
       " 106,\n",
       " 107,\n",
       " 108,\n",
       " 109,\n",
       " 110,\n",
       " 111,\n",
       " 112,\n",
       " 113,\n",
       " 114,\n",
       " 115,\n",
       " 116,\n",
       " 117,\n",
       " 118,\n",
       " 119,\n",
       " 120,\n",
       " 121,\n",
       " 122,\n",
       " 123,\n",
       " 124,\n",
       " 125,\n",
       " 126,\n",
       " 127,\n",
       " 128,\n",
       " 129,\n",
       " 130,\n",
       " 131,\n",
       " 132,\n",
       " 133,\n",
       " 134,\n",
       " 135,\n",
       " 136,\n",
       " 137,\n",
       " 138,\n",
       " 139,\n",
       " 140,\n",
       " 141,\n",
       " 142,\n",
       " 143,\n",
       " 144,\n",
       " 145,\n",
       " 146,\n",
       " 147,\n",
       " 148,\n",
       " 149,\n",
       " 150,\n",
       " 151,\n",
       " 152,\n",
       " 153,\n",
       " 154,\n",
       " 155,\n",
       " 156,\n",
       " 157,\n",
       " 158,\n",
       " 159,\n",
       " 160,\n",
       " 161,\n",
       " 162,\n",
       " 163,\n",
       " 164,\n",
       " 165,\n",
       " 166,\n",
       " 167,\n",
       " 168,\n",
       " 169,\n",
       " 170,\n",
       " 171,\n",
       " 172,\n",
       " 173,\n",
       " 174,\n",
       " 175,\n",
       " 176,\n",
       " 177,\n",
       " 178,\n",
       " 179,\n",
       " 180,\n",
       " 181,\n",
       " 182,\n",
       " 183,\n",
       " 184,\n",
       " 185,\n",
       " 186,\n",
       " 187,\n",
       " 188,\n",
       " 189,\n",
       " 190,\n",
       " 191,\n",
       " 192,\n",
       " 193,\n",
       " 194,\n",
       " 195,\n",
       " 196,\n",
       " 197,\n",
       " 198,\n",
       " 199,\n",
       " 200,\n",
       " 201,\n",
       " 202,\n",
       " 203,\n",
       " 204,\n",
       " 205,\n",
       " 206,\n",
       " 207,\n",
       " 208,\n",
       " 209,\n",
       " 210,\n",
       " 211,\n",
       " 212,\n",
       " 213,\n",
       " 214,\n",
       " 215,\n",
       " 216,\n",
       " 217,\n",
       " 218,\n",
       " 219,\n",
       " 220,\n",
       " 221,\n",
       " 222,\n",
       " 223,\n",
       " 224,\n",
       " 225,\n",
       " 226,\n",
       " 227,\n",
       " 228,\n",
       " 229,\n",
       " 230,\n",
       " 231,\n",
       " 232,\n",
       " 233,\n",
       " 234,\n",
       " 235,\n",
       " 236,\n",
       " 237,\n",
       " 238,\n",
       " 239,\n",
       " 240,\n",
       " 241,\n",
       " 242,\n",
       " 243,\n",
       " 244,\n",
       " 245,\n",
       " 246,\n",
       " 247,\n",
       " 248,\n",
       " 249,\n",
       " 250,\n",
       " 251,\n",
       " 252,\n",
       " 253,\n",
       " 254,\n",
       " 255,\n",
       " 256,\n",
       " 257,\n",
       " 258,\n",
       " 259,\n",
       " 260,\n",
       " 261,\n",
       " 262,\n",
       " 263,\n",
       " 264,\n",
       " 265,\n",
       " 266,\n",
       " 267,\n",
       " 268,\n",
       " 269,\n",
       " 270,\n",
       " 271,\n",
       " 272,\n",
       " 273,\n",
       " 274,\n",
       " 275,\n",
       " 276,\n",
       " 277,\n",
       " 278,\n",
       " 279,\n",
       " 280,\n",
       " 281,\n",
       " 282,\n",
       " 283,\n",
       " 284,\n",
       " 285,\n",
       " 286,\n",
       " 287,\n",
       " 288,\n",
       " 289,\n",
       " 290,\n",
       " 291,\n",
       " 292,\n",
       " 293,\n",
       " 294,\n",
       " 295,\n",
       " 296,\n",
       " 297,\n",
       " 298,\n",
       " 299,\n",
       " 300,\n",
       " 301,\n",
       " 302,\n",
       " 303,\n",
       " 304,\n",
       " 305,\n",
       " 306,\n",
       " 307,\n",
       " 308,\n",
       " 309,\n",
       " 310,\n",
       " 311,\n",
       " 312,\n",
       " 313,\n",
       " 314,\n",
       " 315,\n",
       " 316,\n",
       " 317,\n",
       " 318,\n",
       " 319,\n",
       " 320,\n",
       " 321,\n",
       " 322,\n",
       " 323,\n",
       " 324,\n",
       " 325,\n",
       " 326,\n",
       " 327,\n",
       " 328,\n",
       " 329,\n",
       " 330,\n",
       " 331,\n",
       " 332,\n",
       " 333,\n",
       " 334,\n",
       " 335,\n",
       " 336,\n",
       " 337,\n",
       " 338,\n",
       " 339,\n",
       " 340,\n",
       " 341,\n",
       " 342,\n",
       " 343,\n",
       " 344,\n",
       " 345,\n",
       " 346,\n",
       " 347,\n",
       " 348,\n",
       " 349,\n",
       " 350,\n",
       " 351,\n",
       " 352,\n",
       " 353,\n",
       " 354,\n",
       " 355,\n",
       " 356,\n",
       " 357,\n",
       " 358,\n",
       " 359,\n",
       " 360,\n",
       " 361,\n",
       " 362,\n",
       " 363,\n",
       " 364,\n",
       " 365,\n",
       " 366,\n",
       " 367,\n",
       " 368,\n",
       " 369,\n",
       " 370,\n",
       " 371,\n",
       " 372,\n",
       " 373,\n",
       " 374,\n",
       " 375,\n",
       " 376,\n",
       " 377,\n",
       " 378,\n",
       " 379,\n",
       " 380,\n",
       " 381,\n",
       " 382,\n",
       " 383,\n",
       " 384,\n",
       " 385,\n",
       " 386,\n",
       " 387,\n",
       " 388,\n",
       " 389,\n",
       " 390,\n",
       " 391,\n",
       " 392,\n",
       " 393,\n",
       " 394,\n",
       " 395,\n",
       " 396,\n",
       " 397,\n",
       " 398,\n",
       " 399,\n",
       " 400,\n",
       " 401,\n",
       " 402,\n",
       " 403,\n",
       " 404,\n",
       " 405,\n",
       " 406,\n",
       " 407,\n",
       " 408,\n",
       " 409,\n",
       " 410,\n",
       " 411,\n",
       " 412,\n",
       " 413,\n",
       " 414,\n",
       " 415,\n",
       " 416,\n",
       " 417,\n",
       " 418,\n",
       " 419,\n",
       " 420,\n",
       " 421,\n",
       " 422,\n",
       " 423,\n",
       " 424,\n",
       " 425,\n",
       " 426,\n",
       " 427,\n",
       " 428,\n",
       " 429,\n",
       " 430,\n",
       " 431,\n",
       " 432,\n",
       " 433,\n",
       " 434,\n",
       " 435,\n",
       " 436,\n",
       " 437,\n",
       " 438,\n",
       " 439,\n",
       " 440,\n",
       " 441,\n",
       " 442,\n",
       " 443,\n",
       " 444,\n",
       " 445,\n",
       " 446,\n",
       " 447,\n",
       " 448,\n",
       " 449,\n",
       " 450,\n",
       " 451,\n",
       " 452,\n",
       " 453,\n",
       " 454,\n",
       " 455,\n",
       " 456,\n",
       " 457,\n",
       " 458,\n",
       " 459,\n",
       " 460,\n",
       " 461,\n",
       " 462,\n",
       " 463,\n",
       " 464,\n",
       " 465,\n",
       " 466,\n",
       " 467,\n",
       " 468,\n",
       " 469,\n",
       " 470,\n",
       " 471,\n",
       " 472,\n",
       " 473,\n",
       " 474,\n",
       " 475,\n",
       " 476,\n",
       " 477,\n",
       " 478,\n",
       " 479,\n",
       " 480,\n",
       " 481,\n",
       " 482,\n",
       " 483,\n",
       " 484,\n",
       " 485,\n",
       " 486,\n",
       " 487,\n",
       " 488,\n",
       " 489,\n",
       " 490,\n",
       " 491,\n",
       " 492,\n",
       " 493,\n",
       " 494,\n",
       " 495,\n",
       " 496,\n",
       " 497,\n",
       " 498,\n",
       " 499,\n",
       " 500,\n",
       " 501,\n",
       " 502,\n",
       " 503,\n",
       " 504,\n",
       " 505,\n",
       " 506,\n",
       " 507,\n",
       " 508,\n",
       " 509,\n",
       " 510,\n",
       " 511,\n",
       " 512,\n",
       " 513,\n",
       " 514,\n",
       " 515,\n",
       " 516,\n",
       " 517,\n",
       " 518,\n",
       " 519,\n",
       " 520,\n",
       " 521,\n",
       " 522,\n",
       " 523,\n",
       " 524,\n",
       " 525,\n",
       " 526,\n",
       " 527,\n",
       " 528,\n",
       " 529,\n",
       " 530,\n",
       " 531,\n",
       " 532,\n",
       " 533,\n",
       " 534,\n",
       " 535,\n",
       " 536,\n",
       " 537,\n",
       " 538,\n",
       " 539,\n",
       " 540,\n",
       " 541,\n",
       " 542,\n",
       " 543,\n",
       " 544,\n",
       " 545,\n",
       " 546,\n",
       " 547,\n",
       " 548,\n",
       " 549,\n",
       " 550,\n",
       " 551,\n",
       " 552,\n",
       " 553,\n",
       " 554,\n",
       " 555,\n",
       " 556,\n",
       " 557,\n",
       " 558,\n",
       " 559,\n",
       " 560,\n",
       " 561,\n",
       " 562,\n",
       " 563,\n",
       " 564,\n",
       " 565,\n",
       " 566,\n",
       " 567,\n",
       " 568,\n",
       " 569,\n",
       " 570,\n",
       " 571,\n",
       " 572,\n",
       " 573,\n",
       " 574,\n",
       " 575,\n",
       " 576,\n",
       " 577,\n",
       " 578,\n",
       " 579,\n",
       " 580,\n",
       " 581,\n",
       " 582,\n",
       " 583,\n",
       " 584,\n",
       " 585,\n",
       " 586,\n",
       " 587,\n",
       " 588,\n",
       " 589,\n",
       " 590,\n",
       " 591,\n",
       " 592,\n",
       " 593,\n",
       " 594,\n",
       " 595,\n",
       " 596,\n",
       " 597,\n",
       " 598,\n",
       " 599,\n",
       " 600,\n",
       " 601,\n",
       " 602,\n",
       " 603,\n",
       " 604,\n",
       " 605,\n",
       " 606,\n",
       " 607,\n",
       " 608,\n",
       " 609,\n",
       " 610,\n",
       " 611,\n",
       " 612,\n",
       " 613,\n",
       " 614,\n",
       " 615,\n",
       " 616,\n",
       " 617,\n",
       " 618,\n",
       " 619,\n",
       " 620,\n",
       " 621,\n",
       " 622,\n",
       " 623,\n",
       " 624,\n",
       " 625,\n",
       " 626,\n",
       " 627,\n",
       " 628,\n",
       " 629,\n",
       " 630,\n",
       " 631,\n",
       " 632,\n",
       " 633,\n",
       " 634,\n",
       " 635,\n",
       " 636,\n",
       " 637,\n",
       " 638,\n",
       " 639,\n",
       " 640,\n",
       " 641,\n",
       " 642,\n",
       " 643,\n",
       " 644,\n",
       " 645,\n",
       " 646,\n",
       " 647,\n",
       " 648,\n",
       " 649,\n",
       " 650,\n",
       " 651,\n",
       " 652,\n",
       " 653,\n",
       " 654,\n",
       " 655,\n",
       " 656,\n",
       " 657,\n",
       " 658,\n",
       " 659,\n",
       " 660,\n",
       " 661,\n",
       " 662,\n",
       " 663,\n",
       " 664,\n",
       " 665,\n",
       " 666,\n",
       " 667,\n",
       " 668,\n",
       " 669,\n",
       " 670,\n",
       " 671,\n",
       " 672,\n",
       " 673,\n",
       " 674,\n",
       " 675,\n",
       " 676,\n",
       " 677,\n",
       " 678,\n",
       " 679,\n",
       " 680,\n",
       " 681,\n",
       " 682,\n",
       " 683,\n",
       " 684,\n",
       " 685,\n",
       " 686,\n",
       " 687,\n",
       " 688,\n",
       " 689,\n",
       " 690,\n",
       " 691,\n",
       " 692,\n",
       " 693,\n",
       " 694,\n",
       " 695,\n",
       " 696,\n",
       " 697,\n",
       " 698,\n",
       " 699,\n",
       " 700,\n",
       " 701,\n",
       " 702,\n",
       " 703,\n",
       " 704,\n",
       " 705,\n",
       " 706,\n",
       " 707,\n",
       " 708,\n",
       " 709,\n",
       " 710,\n",
       " 711,\n",
       " 712,\n",
       " 713,\n",
       " 714,\n",
       " 715,\n",
       " 716,\n",
       " 717,\n",
       " 718,\n",
       " 719,\n",
       " 720,\n",
       " 721,\n",
       " 722,\n",
       " 723,\n",
       " 724,\n",
       " 725,\n",
       " 726,\n",
       " 727,\n",
       " 728,\n",
       " 729,\n",
       " 730,\n",
       " 731,\n",
       " 732,\n",
       " 733,\n",
       " 734,\n",
       " 735,\n",
       " 736,\n",
       " 737,\n",
       " 738,\n",
       " 739,\n",
       " 740,\n",
       " 741,\n",
       " 742,\n",
       " 743,\n",
       " 744,\n",
       " 745,\n",
       " 746,\n",
       " 747,\n",
       " 748,\n",
       " 749,\n",
       " 750,\n",
       " 751,\n",
       " 752,\n",
       " 753,\n",
       " 754,\n",
       " 755,\n",
       " 756,\n",
       " 757,\n",
       " 758,\n",
       " 759,\n",
       " 760,\n",
       " 761,\n",
       " 762,\n",
       " 763,\n",
       " 764,\n",
       " 765,\n",
       " 766,\n",
       " 767,\n",
       " 768,\n",
       " 769,\n",
       " 770,\n",
       " 771,\n",
       " 772,\n",
       " 773,\n",
       " 774,\n",
       " 775,\n",
       " 776,\n",
       " 777,\n",
       " 778,\n",
       " 779,\n",
       " 780,\n",
       " 781,\n",
       " 782,\n",
       " 783,\n",
       " 784,\n",
       " 785,\n",
       " 786,\n",
       " 787,\n",
       " 788,\n",
       " 789,\n",
       " 790,\n",
       " 791,\n",
       " 792,\n",
       " 793,\n",
       " 794,\n",
       " 795,\n",
       " 796,\n",
       " 797,\n",
       " 798,\n",
       " 799,\n",
       " 800,\n",
       " 801,\n",
       " 802,\n",
       " 803,\n",
       " 804,\n",
       " 805,\n",
       " 806,\n",
       " 807,\n",
       " 808,\n",
       " 809,\n",
       " 810,\n",
       " 811,\n",
       " 812,\n",
       " 813,\n",
       " 814,\n",
       " 815,\n",
       " 816,\n",
       " 817,\n",
       " 818,\n",
       " 819,\n",
       " 820,\n",
       " 821,\n",
       " 822,\n",
       " 823,\n",
       " 824,\n",
       " 825,\n",
       " 826,\n",
       " 827,\n",
       " 828,\n",
       " 829,\n",
       " 830,\n",
       " 831,\n",
       " 832,\n",
       " 833,\n",
       " 834,\n",
       " 835,\n",
       " 836,\n",
       " 837,\n",
       " 838,\n",
       " 839,\n",
       " 840,\n",
       " 841,\n",
       " 842,\n",
       " 843,\n",
       " 844,\n",
       " 845,\n",
       " 846,\n",
       " 847,\n",
       " 848,\n",
       " 849,\n",
       " 850,\n",
       " 851,\n",
       " 852,\n",
       " 853,\n",
       " 854,\n",
       " 855,\n",
       " 856,\n",
       " 857,\n",
       " 858,\n",
       " 859,\n",
       " 860,\n",
       " 861,\n",
       " 862,\n",
       " 863,\n",
       " 864,\n",
       " 865,\n",
       " 866,\n",
       " 867,\n",
       " 868,\n",
       " 869,\n",
       " 870,\n",
       " 871,\n",
       " 872,\n",
       " 873,\n",
       " 874,\n",
       " 875,\n",
       " 876,\n",
       " 877,\n",
       " 878,\n",
       " 879,\n",
       " 880,\n",
       " 881,\n",
       " 882,\n",
       " 883,\n",
       " 884,\n",
       " 885,\n",
       " 886,\n",
       " 887,\n",
       " 888,\n",
       " 889,\n",
       " 890,\n",
       " 891,\n",
       " 892,\n",
       " 893,\n",
       " 894,\n",
       " 895,\n",
       " 896,\n",
       " 897,\n",
       " 898,\n",
       " 899,\n",
       " 900,\n",
       " 901,\n",
       " 902,\n",
       " 903,\n",
       " 904,\n",
       " 905,\n",
       " 906,\n",
       " 907,\n",
       " 908,\n",
       " 909,\n",
       " 910,\n",
       " 911,\n",
       " 912,\n",
       " 913,\n",
       " 914,\n",
       " 915,\n",
       " 916,\n",
       " 917,\n",
       " 918,\n",
       " 919,\n",
       " 920,\n",
       " 921,\n",
       " 922,\n",
       " 923,\n",
       " 924,\n",
       " 925,\n",
       " 926,\n",
       " 927,\n",
       " 928,\n",
       " 929,\n",
       " 930,\n",
       " 931,\n",
       " 932,\n",
       " 933,\n",
       " 934,\n",
       " 935,\n",
       " 936,\n",
       " 937,\n",
       " 938,\n",
       " 939,\n",
       " 940,\n",
       " 941,\n",
       " 942,\n",
       " 943,\n",
       " 944,\n",
       " 945,\n",
       " 946,\n",
       " 947,\n",
       " 948,\n",
       " 949,\n",
       " 950,\n",
       " 951,\n",
       " 952,\n",
       " 953,\n",
       " 954,\n",
       " 955,\n",
       " 956,\n",
       " 957,\n",
       " 958,\n",
       " 959,\n",
       " 960,\n",
       " 961,\n",
       " 962,\n",
       " 963,\n",
       " 964,\n",
       " 965,\n",
       " 966,\n",
       " 967,\n",
       " 968,\n",
       " 969,\n",
       " 970,\n",
       " 971,\n",
       " 972,\n",
       " 973,\n",
       " 974,\n",
       " 975,\n",
       " 976,\n",
       " 977,\n",
       " 978,\n",
       " 979,\n",
       " 980,\n",
       " 981,\n",
       " 982,\n",
       " 983,\n",
       " 984,\n",
       " 985,\n",
       " 986,\n",
       " 987,\n",
       " 988,\n",
       " 989,\n",
       " 990,\n",
       " 991,\n",
       " 992,\n",
       " 993,\n",
       " 994,\n",
       " 995,\n",
       " 996,\n",
       " 997,\n",
       " 998,\n",
       " 999,\n",
       " ...}"
      ]
     },
     "metadata": {},
     "execution_count": 45
    }
   ],
   "metadata": {
    "ExecuteTime": {
     "end_time": "2021-09-26T22:59:14.892810Z",
     "start_time": "2021-09-26T22:59:14.826816Z"
    }
   }
  },
  {
   "cell_type": "code",
   "execution_count": 46,
   "source": [
    "#Criando coluna no dataset para guardas os valores transformados\r\n",
    "dataset['artist_inteiros'] = inteiros"
   ],
   "outputs": [],
   "metadata": {
    "ExecuteTime": {
     "end_time": "2021-09-26T23:00:44.661253Z",
     "start_time": "2021-09-26T23:00:44.642244Z"
    }
   }
  },
  {
   "cell_type": "code",
   "execution_count": 47,
   "source": [
    "# Conferindo a adição da coluna\r\n",
    "dataset.head()"
   ],
   "outputs": [
    {
     "output_type": "execute_result",
     "data": {
      "text/html": [
       "<div>\n",
       "<style scoped>\n",
       "    .dataframe tbody tr th:only-of-type {\n",
       "        vertical-align: middle;\n",
       "    }\n",
       "\n",
       "    .dataframe tbody tr th {\n",
       "        vertical-align: top;\n",
       "    }\n",
       "\n",
       "    .dataframe thead th {\n",
       "        text-align: right;\n",
       "    }\n",
       "</style>\n",
       "<table border=\"1\" class=\"dataframe\">\n",
       "  <thead>\n",
       "    <tr style=\"text-align: right;\">\n",
       "      <th></th>\n",
       "      <th>acousticness</th>\n",
       "      <th>danceability</th>\n",
       "      <th>duration_ms</th>\n",
       "      <th>energy</th>\n",
       "      <th>instrumentalness</th>\n",
       "      <th>key</th>\n",
       "      <th>liveness</th>\n",
       "      <th>loudness</th>\n",
       "      <th>mode</th>\n",
       "      <th>speechiness</th>\n",
       "      <th>tempo</th>\n",
       "      <th>time_signature</th>\n",
       "      <th>valence</th>\n",
       "      <th>artist</th>\n",
       "      <th>artist_inteiros</th>\n",
       "    </tr>\n",
       "  </thead>\n",
       "  <tbody>\n",
       "    <tr>\n",
       "      <th>0</th>\n",
       "      <td>0.0102</td>\n",
       "      <td>0.833</td>\n",
       "      <td>204600</td>\n",
       "      <td>0.434</td>\n",
       "      <td>0.021900</td>\n",
       "      <td>2</td>\n",
       "      <td>0.1650</td>\n",
       "      <td>-8.795</td>\n",
       "      <td>1</td>\n",
       "      <td>0.4310</td>\n",
       "      <td>150.062</td>\n",
       "      <td>4.0</td>\n",
       "      <td>0.286</td>\n",
       "      <td>Future</td>\n",
       "      <td>449</td>\n",
       "    </tr>\n",
       "    <tr>\n",
       "      <th>1</th>\n",
       "      <td>0.1990</td>\n",
       "      <td>0.743</td>\n",
       "      <td>326933</td>\n",
       "      <td>0.359</td>\n",
       "      <td>0.006110</td>\n",
       "      <td>1</td>\n",
       "      <td>0.1370</td>\n",
       "      <td>-10.401</td>\n",
       "      <td>1</td>\n",
       "      <td>0.0794</td>\n",
       "      <td>160.083</td>\n",
       "      <td>4.0</td>\n",
       "      <td>0.588</td>\n",
       "      <td>Childish Gambino</td>\n",
       "      <td>222</td>\n",
       "    </tr>\n",
       "    <tr>\n",
       "      <th>2</th>\n",
       "      <td>0.0344</td>\n",
       "      <td>0.838</td>\n",
       "      <td>185707</td>\n",
       "      <td>0.412</td>\n",
       "      <td>0.000234</td>\n",
       "      <td>2</td>\n",
       "      <td>0.1590</td>\n",
       "      <td>-7.148</td>\n",
       "      <td>1</td>\n",
       "      <td>0.2890</td>\n",
       "      <td>75.044</td>\n",
       "      <td>4.0</td>\n",
       "      <td>0.173</td>\n",
       "      <td>Future</td>\n",
       "      <td>449</td>\n",
       "    </tr>\n",
       "    <tr>\n",
       "      <th>3</th>\n",
       "      <td>0.6040</td>\n",
       "      <td>0.494</td>\n",
       "      <td>199413</td>\n",
       "      <td>0.338</td>\n",
       "      <td>0.510000</td>\n",
       "      <td>5</td>\n",
       "      <td>0.0922</td>\n",
       "      <td>-15.236</td>\n",
       "      <td>1</td>\n",
       "      <td>0.0261</td>\n",
       "      <td>86.468</td>\n",
       "      <td>4.0</td>\n",
       "      <td>0.230</td>\n",
       "      <td>Beach House</td>\n",
       "      <td>95</td>\n",
       "    </tr>\n",
       "    <tr>\n",
       "      <th>4</th>\n",
       "      <td>0.1800</td>\n",
       "      <td>0.678</td>\n",
       "      <td>392893</td>\n",
       "      <td>0.561</td>\n",
       "      <td>0.512000</td>\n",
       "      <td>5</td>\n",
       "      <td>0.4390</td>\n",
       "      <td>-11.648</td>\n",
       "      <td>0</td>\n",
       "      <td>0.0694</td>\n",
       "      <td>174.004</td>\n",
       "      <td>4.0</td>\n",
       "      <td>0.904</td>\n",
       "      <td>Junior Boys</td>\n",
       "      <td>628</td>\n",
       "    </tr>\n",
       "  </tbody>\n",
       "</table>\n",
       "</div>"
      ],
      "text/plain": [
       "   acousticness  danceability  duration_ms  energy  instrumentalness  key  \\\n",
       "0        0.0102         0.833       204600   0.434          0.021900    2   \n",
       "1        0.1990         0.743       326933   0.359          0.006110    1   \n",
       "2        0.0344         0.838       185707   0.412          0.000234    2   \n",
       "3        0.6040         0.494       199413   0.338          0.510000    5   \n",
       "4        0.1800         0.678       392893   0.561          0.512000    5   \n",
       "\n",
       "   liveness  loudness  mode  speechiness    tempo  time_signature  valence  \\\n",
       "0    0.1650    -8.795     1       0.4310  150.062             4.0    0.286   \n",
       "1    0.1370   -10.401     1       0.0794  160.083             4.0    0.588   \n",
       "2    0.1590    -7.148     1       0.2890   75.044             4.0    0.173   \n",
       "3    0.0922   -15.236     1       0.0261   86.468             4.0    0.230   \n",
       "4    0.4390   -11.648     0       0.0694  174.004             4.0    0.904   \n",
       "\n",
       "             artist  artist_inteiros  \n",
       "0            Future              449  \n",
       "1  Childish Gambino              222  \n",
       "2            Future              449  \n",
       "3       Beach House               95  \n",
       "4       Junior Boys              628  "
      ]
     },
     "metadata": {},
     "execution_count": 47
    }
   ],
   "metadata": {
    "ExecuteTime": {
     "end_time": "2021-09-26T23:00:54.838146Z",
     "start_time": "2021-09-26T23:00:54.796139Z"
    }
   }
  },
  {
   "cell_type": "code",
   "execution_count": 50,
   "source": [
    "#Removeção da coluna 'artist' para que só fique a coluna com valores inteiros\r\n",
    "remove_features(['artist'])"
   ],
   "outputs": [
    {
     "output_type": "execute_result",
     "data": {
      "text/plain": [
       "0"
      ]
     },
     "metadata": {},
     "execution_count": 50
    }
   ],
   "metadata": {
    "ExecuteTime": {
     "end_time": "2021-09-26T23:02:26.697175Z",
     "start_time": "2021-09-26T23:02:26.678177Z"
    }
   }
  },
  {
   "cell_type": "code",
   "execution_count": 51,
   "source": [
    "dataset.head()"
   ],
   "outputs": [
    {
     "output_type": "execute_result",
     "data": {
      "text/html": [
       "<div>\n",
       "<style scoped>\n",
       "    .dataframe tbody tr th:only-of-type {\n",
       "        vertical-align: middle;\n",
       "    }\n",
       "\n",
       "    .dataframe tbody tr th {\n",
       "        vertical-align: top;\n",
       "    }\n",
       "\n",
       "    .dataframe thead th {\n",
       "        text-align: right;\n",
       "    }\n",
       "</style>\n",
       "<table border=\"1\" class=\"dataframe\">\n",
       "  <thead>\n",
       "    <tr style=\"text-align: right;\">\n",
       "      <th></th>\n",
       "      <th>acousticness</th>\n",
       "      <th>danceability</th>\n",
       "      <th>duration_ms</th>\n",
       "      <th>energy</th>\n",
       "      <th>instrumentalness</th>\n",
       "      <th>key</th>\n",
       "      <th>liveness</th>\n",
       "      <th>loudness</th>\n",
       "      <th>mode</th>\n",
       "      <th>speechiness</th>\n",
       "      <th>tempo</th>\n",
       "      <th>time_signature</th>\n",
       "      <th>valence</th>\n",
       "      <th>artist_inteiros</th>\n",
       "    </tr>\n",
       "  </thead>\n",
       "  <tbody>\n",
       "    <tr>\n",
       "      <th>0</th>\n",
       "      <td>0.0102</td>\n",
       "      <td>0.833</td>\n",
       "      <td>204600</td>\n",
       "      <td>0.434</td>\n",
       "      <td>0.021900</td>\n",
       "      <td>2</td>\n",
       "      <td>0.1650</td>\n",
       "      <td>-8.795</td>\n",
       "      <td>1</td>\n",
       "      <td>0.4310</td>\n",
       "      <td>150.062</td>\n",
       "      <td>4.0</td>\n",
       "      <td>0.286</td>\n",
       "      <td>449</td>\n",
       "    </tr>\n",
       "    <tr>\n",
       "      <th>1</th>\n",
       "      <td>0.1990</td>\n",
       "      <td>0.743</td>\n",
       "      <td>326933</td>\n",
       "      <td>0.359</td>\n",
       "      <td>0.006110</td>\n",
       "      <td>1</td>\n",
       "      <td>0.1370</td>\n",
       "      <td>-10.401</td>\n",
       "      <td>1</td>\n",
       "      <td>0.0794</td>\n",
       "      <td>160.083</td>\n",
       "      <td>4.0</td>\n",
       "      <td>0.588</td>\n",
       "      <td>222</td>\n",
       "    </tr>\n",
       "    <tr>\n",
       "      <th>2</th>\n",
       "      <td>0.0344</td>\n",
       "      <td>0.838</td>\n",
       "      <td>185707</td>\n",
       "      <td>0.412</td>\n",
       "      <td>0.000234</td>\n",
       "      <td>2</td>\n",
       "      <td>0.1590</td>\n",
       "      <td>-7.148</td>\n",
       "      <td>1</td>\n",
       "      <td>0.2890</td>\n",
       "      <td>75.044</td>\n",
       "      <td>4.0</td>\n",
       "      <td>0.173</td>\n",
       "      <td>449</td>\n",
       "    </tr>\n",
       "    <tr>\n",
       "      <th>3</th>\n",
       "      <td>0.6040</td>\n",
       "      <td>0.494</td>\n",
       "      <td>199413</td>\n",
       "      <td>0.338</td>\n",
       "      <td>0.510000</td>\n",
       "      <td>5</td>\n",
       "      <td>0.0922</td>\n",
       "      <td>-15.236</td>\n",
       "      <td>1</td>\n",
       "      <td>0.0261</td>\n",
       "      <td>86.468</td>\n",
       "      <td>4.0</td>\n",
       "      <td>0.230</td>\n",
       "      <td>95</td>\n",
       "    </tr>\n",
       "    <tr>\n",
       "      <th>4</th>\n",
       "      <td>0.1800</td>\n",
       "      <td>0.678</td>\n",
       "      <td>392893</td>\n",
       "      <td>0.561</td>\n",
       "      <td>0.512000</td>\n",
       "      <td>5</td>\n",
       "      <td>0.4390</td>\n",
       "      <td>-11.648</td>\n",
       "      <td>0</td>\n",
       "      <td>0.0694</td>\n",
       "      <td>174.004</td>\n",
       "      <td>4.0</td>\n",
       "      <td>0.904</td>\n",
       "      <td>628</td>\n",
       "    </tr>\n",
       "  </tbody>\n",
       "</table>\n",
       "</div>"
      ],
      "text/plain": [
       "   acousticness  danceability  duration_ms  energy  instrumentalness  key  \\\n",
       "0        0.0102         0.833       204600   0.434          0.021900    2   \n",
       "1        0.1990         0.743       326933   0.359          0.006110    1   \n",
       "2        0.0344         0.838       185707   0.412          0.000234    2   \n",
       "3        0.6040         0.494       199413   0.338          0.510000    5   \n",
       "4        0.1800         0.678       392893   0.561          0.512000    5   \n",
       "\n",
       "   liveness  loudness  mode  speechiness    tempo  time_signature  valence  \\\n",
       "0    0.1650    -8.795     1       0.4310  150.062             4.0    0.286   \n",
       "1    0.1370   -10.401     1       0.0794  160.083             4.0    0.588   \n",
       "2    0.1590    -7.148     1       0.2890   75.044             4.0    0.173   \n",
       "3    0.0922   -15.236     1       0.0261   86.468             4.0    0.230   \n",
       "4    0.4390   -11.648     0       0.0694  174.004             4.0    0.904   \n",
       "\n",
       "   artist_inteiros  \n",
       "0              449  \n",
       "1              222  \n",
       "2              449  \n",
       "3               95  \n",
       "4              628  "
      ]
     },
     "metadata": {},
     "execution_count": 51
    }
   ],
   "metadata": {
    "ExecuteTime": {
     "end_time": "2021-09-26T23:02:38.725190Z",
     "start_time": "2021-09-26T23:02:38.683192Z"
    }
   }
  },
  {
   "cell_type": "markdown",
   "source": [
    "### One Hot Encoder\n",
    "- Similar ao Label Encoder, porém cria uma matriz de presença, resolvendo o problema de **codificação** nos dados gerados pelo Label Encoder"
   ],
   "metadata": {}
  },
  {
   "cell_type": "code",
   "execution_count": 61,
   "source": [
    "# Instancia um objeto do tipo OnehotEncoder\r\n",
    "ohe = OneHotEncoder()"
   ],
   "outputs": [],
   "metadata": {
    "ExecuteTime": {
     "end_time": "2021-09-26T23:22:44.791195Z",
     "start_time": "2021-09-26T23:22:44.785193Z"
    }
   }
  },
  {
   "cell_type": "code",
   "execution_count": 62,
   "source": [
    "dataset.values"
   ],
   "outputs": [
    {
     "output_type": "execute_result",
     "data": {
      "text/plain": [
       "array([[1.02000e-02, 8.33000e-01, 2.04600e+05, ..., 4.00000e+00,\n",
       "        2.86000e-01, 4.49000e+02],\n",
       "       [1.99000e-01, 7.43000e-01, 3.26933e+05, ..., 4.00000e+00,\n",
       "        5.88000e-01, 2.22000e+02],\n",
       "       [3.44000e-02, 8.38000e-01, 1.85707e+05, ..., 4.00000e+00,\n",
       "        1.73000e-01, 4.49000e+02],\n",
       "       ...,\n",
       "       [8.57000e-03, 6.37000e-01, 2.07200e+05, ..., 4.00000e+00,\n",
       "        4.70000e-01, 9.47000e+02],\n",
       "       [1.64000e-03, 5.57000e-01, 1.85600e+05, ..., 4.00000e+00,\n",
       "        6.23000e-01, 1.24200e+03],\n",
       "       [2.81000e-03, 4.46000e-01, 2.04520e+05, ..., 4.00000e+00,\n",
       "        4.02000e-01, 1.32000e+02]])"
      ]
     },
     "metadata": {},
     "execution_count": 62
    }
   ],
   "metadata": {
    "ExecuteTime": {
     "end_time": "2021-09-26T23:23:00.730681Z",
     "start_time": "2021-09-26T23:23:00.712676Z"
    }
   }
  },
  {
   "cell_type": "code",
   "execution_count": 63,
   "source": [
    "# transforma em numpy array o dataset\r\n",
    "dataset_array = dataset.values"
   ],
   "outputs": [],
   "metadata": {
    "ExecuteTime": {
     "end_time": "2021-09-26T23:23:13.418997Z",
     "start_time": "2021-09-26T23:23:13.400989Z"
    }
   }
  },
  {
   "cell_type": "code",
   "execution_count": 64,
   "source": [
    "# Pega o numero de linhas.\r\n",
    "num_rows = dataset_array.shape[0]"
   ],
   "outputs": [],
   "metadata": {
    "ExecuteTime": {
     "end_time": "2021-09-26T23:24:07.748897Z",
     "start_time": "2021-09-26T23:24:07.731899Z"
    }
   }
  },
  {
   "cell_type": "code",
   "execution_count": 65,
   "source": [
    "# Visualiza coluna de inteiros\r\n",
    "dataset_array[:][:,13]"
   ],
   "outputs": [
    {
     "output_type": "execute_result",
     "data": {
      "text/plain": [
       "array([ 449.,  222.,  449., ...,  947., 1242.,  132.])"
      ]
     },
     "metadata": {},
     "execution_count": 65
    }
   ],
   "metadata": {
    "ExecuteTime": {
     "end_time": "2021-09-26T23:24:29.517160Z",
     "start_time": "2021-09-26T23:24:29.500164Z"
    }
   }
  },
  {
   "cell_type": "code",
   "execution_count": 66,
   "source": [
    "# Transforma a matriz em uma dimensão\r\n",
    "inteiros = inteiros.reshape(len(inteiros),1)"
   ],
   "outputs": [],
   "metadata": {
    "ExecuteTime": {
     "end_time": "2021-09-26T23:25:28.083338Z",
     "start_time": "2021-09-26T23:25:28.073340Z"
    }
   }
  },
  {
   "cell_type": "code",
   "execution_count": 67,
   "source": [
    "# Criar as novas features a partir da matriz de presença\r\n",
    "novas_features = ohe.fit_transform(inteiros)"
   ],
   "outputs": [],
   "metadata": {
    "ExecuteTime": {
     "end_time": "2021-09-26T23:25:47.309200Z",
     "start_time": "2021-09-26T23:25:47.272210Z"
    }
   }
  },
  {
   "cell_type": "code",
   "execution_count": 68,
   "source": [
    "novas_features"
   ],
   "outputs": [
    {
     "output_type": "execute_result",
     "data": {
      "text/plain": [
       "<2017x1343 sparse matrix of type '<class 'numpy.float64'>'\n",
       "\twith 2017 stored elements in Compressed Sparse Row format>"
      ]
     },
     "metadata": {},
     "execution_count": 68
    }
   ],
   "metadata": {
    "ExecuteTime": {
     "end_time": "2021-09-26T23:25:55.366100Z",
     "start_time": "2021-09-26T23:25:55.344102Z"
    }
   }
  },
  {
   "cell_type": "code",
   "execution_count": 69,
   "source": [
    "# Concatena as novas features ao array\r\n",
    "dataset_array = np.concatenate([dataset_array, novas_features.toarray()], axis=1)"
   ],
   "outputs": [],
   "metadata": {
    "ExecuteTime": {
     "end_time": "2021-09-26T23:26:44.043683Z",
     "start_time": "2021-09-26T23:26:43.963684Z"
    }
   }
  },
  {
   "cell_type": "code",
   "execution_count": 71,
   "source": [
    "dataset_array.shape"
   ],
   "outputs": [
    {
     "output_type": "execute_result",
     "data": {
      "text/plain": [
       "(2017, 1357)"
      ]
     },
     "metadata": {},
     "execution_count": 71
    }
   ],
   "metadata": {
    "ExecuteTime": {
     "end_time": "2021-09-26T23:27:00.681702Z",
     "start_time": "2021-09-26T23:27:00.671699Z"
    }
   }
  },
  {
   "cell_type": "code",
   "execution_count": 72,
   "source": [
    "# Transforma em dataframe e visualiza as colunas\r\n",
    "dataf = pd.DataFrame(dataset_array)"
   ],
   "outputs": [],
   "metadata": {
    "ExecuteTime": {
     "end_time": "2021-09-26T23:27:23.599626Z",
     "start_time": "2021-09-26T23:27:23.585632Z"
    }
   }
  },
  {
   "cell_type": "code",
   "execution_count": 74,
   "source": [
    "dataf.head(10)"
   ],
   "outputs": [
    {
     "output_type": "execute_result",
     "data": {
      "text/html": [
       "<div>\n",
       "<style scoped>\n",
       "    .dataframe tbody tr th:only-of-type {\n",
       "        vertical-align: middle;\n",
       "    }\n",
       "\n",
       "    .dataframe tbody tr th {\n",
       "        vertical-align: top;\n",
       "    }\n",
       "\n",
       "    .dataframe thead th {\n",
       "        text-align: right;\n",
       "    }\n",
       "</style>\n",
       "<table border=\"1\" class=\"dataframe\">\n",
       "  <thead>\n",
       "    <tr style=\"text-align: right;\">\n",
       "      <th></th>\n",
       "      <th>0</th>\n",
       "      <th>1</th>\n",
       "      <th>2</th>\n",
       "      <th>3</th>\n",
       "      <th>4</th>\n",
       "      <th>5</th>\n",
       "      <th>6</th>\n",
       "      <th>7</th>\n",
       "      <th>8</th>\n",
       "      <th>9</th>\n",
       "      <th>...</th>\n",
       "      <th>1347</th>\n",
       "      <th>1348</th>\n",
       "      <th>1349</th>\n",
       "      <th>1350</th>\n",
       "      <th>1351</th>\n",
       "      <th>1352</th>\n",
       "      <th>1353</th>\n",
       "      <th>1354</th>\n",
       "      <th>1355</th>\n",
       "      <th>1356</th>\n",
       "    </tr>\n",
       "  </thead>\n",
       "  <tbody>\n",
       "    <tr>\n",
       "      <th>0</th>\n",
       "      <td>0.0102</td>\n",
       "      <td>0.833</td>\n",
       "      <td>204600.0</td>\n",
       "      <td>0.434</td>\n",
       "      <td>0.021900</td>\n",
       "      <td>2.0</td>\n",
       "      <td>0.1650</td>\n",
       "      <td>-8.795</td>\n",
       "      <td>1.0</td>\n",
       "      <td>0.4310</td>\n",
       "      <td>...</td>\n",
       "      <td>0.0</td>\n",
       "      <td>0.0</td>\n",
       "      <td>0.0</td>\n",
       "      <td>0.0</td>\n",
       "      <td>0.0</td>\n",
       "      <td>0.0</td>\n",
       "      <td>0.0</td>\n",
       "      <td>0.0</td>\n",
       "      <td>0.0</td>\n",
       "      <td>0.0</td>\n",
       "    </tr>\n",
       "    <tr>\n",
       "      <th>1</th>\n",
       "      <td>0.1990</td>\n",
       "      <td>0.743</td>\n",
       "      <td>326933.0</td>\n",
       "      <td>0.359</td>\n",
       "      <td>0.006110</td>\n",
       "      <td>1.0</td>\n",
       "      <td>0.1370</td>\n",
       "      <td>-10.401</td>\n",
       "      <td>1.0</td>\n",
       "      <td>0.0794</td>\n",
       "      <td>...</td>\n",
       "      <td>0.0</td>\n",
       "      <td>0.0</td>\n",
       "      <td>0.0</td>\n",
       "      <td>0.0</td>\n",
       "      <td>0.0</td>\n",
       "      <td>0.0</td>\n",
       "      <td>0.0</td>\n",
       "      <td>0.0</td>\n",
       "      <td>0.0</td>\n",
       "      <td>0.0</td>\n",
       "    </tr>\n",
       "    <tr>\n",
       "      <th>2</th>\n",
       "      <td>0.0344</td>\n",
       "      <td>0.838</td>\n",
       "      <td>185707.0</td>\n",
       "      <td>0.412</td>\n",
       "      <td>0.000234</td>\n",
       "      <td>2.0</td>\n",
       "      <td>0.1590</td>\n",
       "      <td>-7.148</td>\n",
       "      <td>1.0</td>\n",
       "      <td>0.2890</td>\n",
       "      <td>...</td>\n",
       "      <td>0.0</td>\n",
       "      <td>0.0</td>\n",
       "      <td>0.0</td>\n",
       "      <td>0.0</td>\n",
       "      <td>0.0</td>\n",
       "      <td>0.0</td>\n",
       "      <td>0.0</td>\n",
       "      <td>0.0</td>\n",
       "      <td>0.0</td>\n",
       "      <td>0.0</td>\n",
       "    </tr>\n",
       "    <tr>\n",
       "      <th>3</th>\n",
       "      <td>0.6040</td>\n",
       "      <td>0.494</td>\n",
       "      <td>199413.0</td>\n",
       "      <td>0.338</td>\n",
       "      <td>0.510000</td>\n",
       "      <td>5.0</td>\n",
       "      <td>0.0922</td>\n",
       "      <td>-15.236</td>\n",
       "      <td>1.0</td>\n",
       "      <td>0.0261</td>\n",
       "      <td>...</td>\n",
       "      <td>0.0</td>\n",
       "      <td>0.0</td>\n",
       "      <td>0.0</td>\n",
       "      <td>0.0</td>\n",
       "      <td>0.0</td>\n",
       "      <td>0.0</td>\n",
       "      <td>0.0</td>\n",
       "      <td>0.0</td>\n",
       "      <td>0.0</td>\n",
       "      <td>0.0</td>\n",
       "    </tr>\n",
       "    <tr>\n",
       "      <th>4</th>\n",
       "      <td>0.1800</td>\n",
       "      <td>0.678</td>\n",
       "      <td>392893.0</td>\n",
       "      <td>0.561</td>\n",
       "      <td>0.512000</td>\n",
       "      <td>5.0</td>\n",
       "      <td>0.4390</td>\n",
       "      <td>-11.648</td>\n",
       "      <td>0.0</td>\n",
       "      <td>0.0694</td>\n",
       "      <td>...</td>\n",
       "      <td>0.0</td>\n",
       "      <td>0.0</td>\n",
       "      <td>0.0</td>\n",
       "      <td>0.0</td>\n",
       "      <td>0.0</td>\n",
       "      <td>0.0</td>\n",
       "      <td>0.0</td>\n",
       "      <td>0.0</td>\n",
       "      <td>0.0</td>\n",
       "      <td>0.0</td>\n",
       "    </tr>\n",
       "    <tr>\n",
       "      <th>...</th>\n",
       "      <td>...</td>\n",
       "      <td>...</td>\n",
       "      <td>...</td>\n",
       "      <td>...</td>\n",
       "      <td>...</td>\n",
       "      <td>...</td>\n",
       "      <td>...</td>\n",
       "      <td>...</td>\n",
       "      <td>...</td>\n",
       "      <td>...</td>\n",
       "      <td>...</td>\n",
       "      <td>...</td>\n",
       "      <td>...</td>\n",
       "      <td>...</td>\n",
       "      <td>...</td>\n",
       "      <td>...</td>\n",
       "      <td>...</td>\n",
       "      <td>...</td>\n",
       "      <td>...</td>\n",
       "      <td>...</td>\n",
       "      <td>...</td>\n",
       "    </tr>\n",
       "    <tr>\n",
       "      <th>95</th>\n",
       "      <td>0.1700</td>\n",
       "      <td>0.615</td>\n",
       "      <td>214150.0</td>\n",
       "      <td>0.814</td>\n",
       "      <td>0.000000</td>\n",
       "      <td>9.0</td>\n",
       "      <td>0.2180</td>\n",
       "      <td>-3.903</td>\n",
       "      <td>0.0</td>\n",
       "      <td>0.0677</td>\n",
       "      <td>...</td>\n",
       "      <td>0.0</td>\n",
       "      <td>0.0</td>\n",
       "      <td>0.0</td>\n",
       "      <td>0.0</td>\n",
       "      <td>0.0</td>\n",
       "      <td>0.0</td>\n",
       "      <td>0.0</td>\n",
       "      <td>0.0</td>\n",
       "      <td>0.0</td>\n",
       "      <td>0.0</td>\n",
       "    </tr>\n",
       "    <tr>\n",
       "      <th>96</th>\n",
       "      <td>0.0604</td>\n",
       "      <td>0.799</td>\n",
       "      <td>333520.0</td>\n",
       "      <td>0.789</td>\n",
       "      <td>0.000000</td>\n",
       "      <td>0.0</td>\n",
       "      <td>0.0338</td>\n",
       "      <td>-8.208</td>\n",
       "      <td>1.0</td>\n",
       "      <td>0.0396</td>\n",
       "      <td>...</td>\n",
       "      <td>0.0</td>\n",
       "      <td>0.0</td>\n",
       "      <td>0.0</td>\n",
       "      <td>0.0</td>\n",
       "      <td>0.0</td>\n",
       "      <td>0.0</td>\n",
       "      <td>0.0</td>\n",
       "      <td>0.0</td>\n",
       "      <td>0.0</td>\n",
       "      <td>0.0</td>\n",
       "    </tr>\n",
       "    <tr>\n",
       "      <th>97</th>\n",
       "      <td>0.0571</td>\n",
       "      <td>0.398</td>\n",
       "      <td>247390.0</td>\n",
       "      <td>0.776</td>\n",
       "      <td>0.017200</td>\n",
       "      <td>9.0</td>\n",
       "      <td>0.3030</td>\n",
       "      <td>-7.388</td>\n",
       "      <td>0.0</td>\n",
       "      <td>0.0374</td>\n",
       "      <td>...</td>\n",
       "      <td>0.0</td>\n",
       "      <td>0.0</td>\n",
       "      <td>0.0</td>\n",
       "      <td>0.0</td>\n",
       "      <td>0.0</td>\n",
       "      <td>0.0</td>\n",
       "      <td>0.0</td>\n",
       "      <td>0.0</td>\n",
       "      <td>0.0</td>\n",
       "      <td>0.0</td>\n",
       "    </tr>\n",
       "    <tr>\n",
       "      <th>98</th>\n",
       "      <td>0.7160</td>\n",
       "      <td>0.685</td>\n",
       "      <td>427227.0</td>\n",
       "      <td>0.423</td>\n",
       "      <td>0.518000</td>\n",
       "      <td>11.0</td>\n",
       "      <td>0.0765</td>\n",
       "      <td>-9.031</td>\n",
       "      <td>0.0</td>\n",
       "      <td>0.0475</td>\n",
       "      <td>...</td>\n",
       "      <td>0.0</td>\n",
       "      <td>0.0</td>\n",
       "      <td>0.0</td>\n",
       "      <td>0.0</td>\n",
       "      <td>0.0</td>\n",
       "      <td>0.0</td>\n",
       "      <td>0.0</td>\n",
       "      <td>0.0</td>\n",
       "      <td>0.0</td>\n",
       "      <td>0.0</td>\n",
       "    </tr>\n",
       "    <tr>\n",
       "      <th>99</th>\n",
       "      <td>0.0151</td>\n",
       "      <td>0.706</td>\n",
       "      <td>299799.0</td>\n",
       "      <td>0.581</td>\n",
       "      <td>0.000000</td>\n",
       "      <td>9.0</td>\n",
       "      <td>0.3680</td>\n",
       "      <td>-6.492</td>\n",
       "      <td>1.0</td>\n",
       "      <td>0.0550</td>\n",
       "      <td>...</td>\n",
       "      <td>0.0</td>\n",
       "      <td>0.0</td>\n",
       "      <td>0.0</td>\n",
       "      <td>0.0</td>\n",
       "      <td>0.0</td>\n",
       "      <td>0.0</td>\n",
       "      <td>0.0</td>\n",
       "      <td>0.0</td>\n",
       "      <td>0.0</td>\n",
       "      <td>0.0</td>\n",
       "    </tr>\n",
       "  </tbody>\n",
       "</table>\n",
       "<p>100 rows × 1357 columns</p>\n",
       "</div>"
      ],
      "text/plain": [
       "      0      1         2      3         4     5       6       7     8     \\\n",
       "0   0.0102  0.833  204600.0  0.434  0.021900   2.0  0.1650  -8.795   1.0   \n",
       "1   0.1990  0.743  326933.0  0.359  0.006110   1.0  0.1370 -10.401   1.0   \n",
       "2   0.0344  0.838  185707.0  0.412  0.000234   2.0  0.1590  -7.148   1.0   \n",
       "3   0.6040  0.494  199413.0  0.338  0.510000   5.0  0.0922 -15.236   1.0   \n",
       "4   0.1800  0.678  392893.0  0.561  0.512000   5.0  0.4390 -11.648   0.0   \n",
       "..     ...    ...       ...    ...       ...   ...     ...     ...   ...   \n",
       "95  0.1700  0.615  214150.0  0.814  0.000000   9.0  0.2180  -3.903   0.0   \n",
       "96  0.0604  0.799  333520.0  0.789  0.000000   0.0  0.0338  -8.208   1.0   \n",
       "97  0.0571  0.398  247390.0  0.776  0.017200   9.0  0.3030  -7.388   0.0   \n",
       "98  0.7160  0.685  427227.0  0.423  0.518000  11.0  0.0765  -9.031   0.0   \n",
       "99  0.0151  0.706  299799.0  0.581  0.000000   9.0  0.3680  -6.492   1.0   \n",
       "\n",
       "      9     ...  1347  1348  1349  1350  1351  1352  1353  1354  1355  1356  \n",
       "0   0.4310  ...   0.0   0.0   0.0   0.0   0.0   0.0   0.0   0.0   0.0   0.0  \n",
       "1   0.0794  ...   0.0   0.0   0.0   0.0   0.0   0.0   0.0   0.0   0.0   0.0  \n",
       "2   0.2890  ...   0.0   0.0   0.0   0.0   0.0   0.0   0.0   0.0   0.0   0.0  \n",
       "3   0.0261  ...   0.0   0.0   0.0   0.0   0.0   0.0   0.0   0.0   0.0   0.0  \n",
       "4   0.0694  ...   0.0   0.0   0.0   0.0   0.0   0.0   0.0   0.0   0.0   0.0  \n",
       "..     ...  ...   ...   ...   ...   ...   ...   ...   ...   ...   ...   ...  \n",
       "95  0.0677  ...   0.0   0.0   0.0   0.0   0.0   0.0   0.0   0.0   0.0   0.0  \n",
       "96  0.0396  ...   0.0   0.0   0.0   0.0   0.0   0.0   0.0   0.0   0.0   0.0  \n",
       "97  0.0374  ...   0.0   0.0   0.0   0.0   0.0   0.0   0.0   0.0   0.0   0.0  \n",
       "98  0.0475  ...   0.0   0.0   0.0   0.0   0.0   0.0   0.0   0.0   0.0   0.0  \n",
       "99  0.0550  ...   0.0   0.0   0.0   0.0   0.0   0.0   0.0   0.0   0.0   0.0  \n",
       "\n",
       "[100 rows x 1357 columns]"
      ]
     },
     "metadata": {},
     "execution_count": 74
    }
   ],
   "metadata": {
    "ExecuteTime": {
     "end_time": "2021-09-26T23:27:38.181331Z",
     "start_time": "2021-09-26T23:27:38.105334Z"
    }
   }
  },
  {
   "cell_type": "markdown",
   "source": [
    "# Pandas Get Dummies\r\n",
    "- Cria uma matriz de presença similar ao do One Hot Encoder"
   ],
   "metadata": {}
  },
  {
   "cell_type": "code",
   "execution_count": 7,
   "source": [
    "# Aplicando o get_dummies nos dados.\r\n",
    "dataset = pd.get_dummies(dataset, columns=['artist'], prefix=['artist'])"
   ],
   "outputs": [],
   "metadata": {
    "ExecuteTime": {
     "end_time": "2021-09-28T00:16:58.734668Z",
     "start_time": "2021-09-28T00:16:58.586667Z"
    }
   }
  },
  {
   "cell_type": "code",
   "execution_count": 8,
   "source": [
    "#Visualização dos recursos gerados\r\n",
    "dataset.columns"
   ],
   "outputs": [
    {
     "output_type": "execute_result",
     "data": {
      "text/plain": [
       "Index(['acousticness', 'danceability', 'duration_ms', 'energy',\n",
       "       'instrumentalness', 'key', 'liveness', 'loudness', 'mode',\n",
       "       'speechiness',\n",
       "       ...\n",
       "       'artist_alt-J', 'artist_deadmau5', 'artist_for KING & COUNTRY',\n",
       "       'artist_one sonic society', 'artist_tUnE-yArDs', 'artist_tobyMac',\n",
       "       'artist_권나무 Kwon Tree', 'artist_도시총각 Dosichonggak',\n",
       "       'artist_카우칩스 The CowChips', 'artist_플랫핏 Flat Feet'],\n",
       "      dtype='object', length=1356)"
      ]
     },
     "metadata": {},
     "execution_count": 8
    }
   ],
   "metadata": {
    "ExecuteTime": {
     "end_time": "2021-09-28T00:17:00.821401Z",
     "start_time": "2021-09-28T00:17:00.803412Z"
    }
   }
  },
  {
   "cell_type": "code",
   "execution_count": 27,
   "source": [
    "len(dataset.columns)"
   ],
   "outputs": [
    {
     "output_type": "execute_result",
     "data": {
      "text/plain": [
       "1356"
      ]
     },
     "metadata": {},
     "execution_count": 27
    }
   ],
   "metadata": {
    "ExecuteTime": {
     "end_time": "2021-09-27T17:10:37.333963Z",
     "start_time": "2021-09-27T17:10:37.323949Z"
    }
   }
  },
  {
   "cell_type": "code",
   "execution_count": 9,
   "source": [
    "dataset.isnull().sum()"
   ],
   "outputs": [
    {
     "output_type": "execute_result",
     "data": {
      "text/plain": [
       "acousticness                0\n",
       "danceability                0\n",
       "duration_ms                 0\n",
       "energy                      0\n",
       "instrumentalness            0\n",
       "                           ..\n",
       "artist_tobyMac              0\n",
       "artist_권나무 Kwon Tree        0\n",
       "artist_도시총각 Dosichonggak    0\n",
       "artist_카우칩스 The CowChips    0\n",
       "artist_플랫핏 Flat Feet        0\n",
       "Length: 1356, dtype: int64"
      ]
     },
     "metadata": {},
     "execution_count": 9
    }
   ],
   "metadata": {
    "ExecuteTime": {
     "end_time": "2021-09-28T00:17:04.987772Z",
     "start_time": "2021-09-28T00:17:04.920776Z"
    }
   }
  },
  {
   "cell_type": "code",
   "execution_count": 10,
   "source": [
    "dataset.dtypes"
   ],
   "outputs": [
    {
     "output_type": "execute_result",
     "data": {
      "text/plain": [
       "acousticness                float64\n",
       "danceability                float64\n",
       "duration_ms                   int64\n",
       "energy                      float64\n",
       "instrumentalness            float64\n",
       "                             ...   \n",
       "artist_tobyMac                uint8\n",
       "artist_권나무 Kwon Tree          uint8\n",
       "artist_도시총각 Dosichonggak      uint8\n",
       "artist_카우칩스 The CowChips      uint8\n",
       "artist_플랫핏 Flat Feet          uint8\n",
       "Length: 1356, dtype: object"
      ]
     },
     "metadata": {},
     "execution_count": 10
    }
   ],
   "metadata": {
    "ExecuteTime": {
     "end_time": "2021-09-28T00:17:05.612608Z",
     "start_time": "2021-09-28T00:17:05.602613Z"
    }
   }
  },
  {
   "cell_type": "markdown",
   "source": [
    "# Pipeline"
   ],
   "metadata": {}
  },
  {
   "cell_type": "code",
   "execution_count": 12,
   "source": [
    "# Treinando o algoritmo de SVM.\r\n",
    "clf = svm.SVC().fit(dataset,classes)"
   ],
   "outputs": [],
   "metadata": {
    "ExecuteTime": {
     "end_time": "2021-09-28T00:17:14.430145Z",
     "start_time": "2021-09-28T00:17:09.521462Z"
    }
   }
  },
  {
   "cell_type": "code",
   "execution_count": 16,
   "source": [
    "#Checando a acurácia do método\r\n",
    "Acuracia(clf,dataset,classes)"
   ],
   "outputs": [
    {
     "output_type": "execute_result",
     "data": {
      "text/plain": [
       "0.5577590480912246"
      ]
     },
     "metadata": {},
     "execution_count": 16
    }
   ],
   "metadata": {
    "ExecuteTime": {
     "end_time": "2021-09-28T00:18:32.751724Z",
     "start_time": "2021-09-28T00:17:51.210565Z"
    }
   }
  },
  {
   "cell_type": "code",
   "execution_count": 17,
   "source": [
    "# Criando um pipeline\r\n",
    "pip_1 = Pipeline([\r\n",
    "    ('scaler',StandardScaler()),\r\n",
    "    ('clf', svm.SVC())\r\n",
    "])"
   ],
   "outputs": [],
   "metadata": {
    "ExecuteTime": {
     "end_time": "2021-09-28T00:18:32.908686Z",
     "start_time": "2021-09-28T00:18:32.897682Z"
    }
   }
  },
  {
   "cell_type": "code",
   "execution_count": 18,
   "source": [
    "# Imprimindo Etapas do Pipeline\r\n",
    "pip_1.steps"
   ],
   "outputs": [
    {
     "output_type": "execute_result",
     "data": {
      "text/plain": [
       "[('scaler', StandardScaler()), ('clf', SVC())]"
      ]
     },
     "metadata": {},
     "execution_count": 18
    }
   ],
   "metadata": {
    "ExecuteTime": {
     "end_time": "2021-09-28T00:18:33.146683Z",
     "start_time": "2021-09-28T00:18:32.975680Z"
    }
   }
  },
  {
   "cell_type": "code",
   "execution_count": 19,
   "source": [
    "# Chama a função acuracia passando os dados de musicas e as classes\r\n",
    "# Usando o pipeline pip_1\r\n",
    "Acuracia(pip_1,dataset,classes)"
   ],
   "outputs": [
    {
     "output_type": "execute_result",
     "data": {
      "text/plain": [
       "0.58601883986118"
      ]
     },
     "metadata": {},
     "execution_count": 19
    }
   ],
   "metadata": {
    "ExecuteTime": {
     "end_time": "2021-09-28T00:19:15.705685Z",
     "start_time": "2021-09-28T00:18:33.227680Z"
    }
   }
  },
  {
   "cell_type": "code",
   "execution_count": 20,
   "source": [
    "# Criando vários Pipelines\r\n",
    "pip_2 = Pipeline([\r\n",
    "    ('min_max_scaler', MinMaxScaler()),\r\n",
    "    ('clf', svm.SVC())\r\n",
    "])\r\n",
    "\r\n",
    "pip_3 = Pipeline([\r\n",
    "    ('scaler',StandardScaler()),\r\n",
    "    ('clf', svm.SVC(kernel='rbf'))\r\n",
    "])\r\n",
    "\r\n",
    "pip_4 = Pipeline([\r\n",
    "    ('scaler',StandardScaler()),\r\n",
    "    ('clf', svm.SVC(kernel='poly'))\r\n",
    "])\r\n",
    "\r\n",
    "pip_5 = Pipeline([\r\n",
    "    ('scaler',StandardScaler()),\r\n",
    "    ('clf', svm.SVC(kernel='linear'))\r\n",
    "])"
   ],
   "outputs": [],
   "metadata": {
    "ExecuteTime": {
     "end_time": "2021-09-28T00:19:15.814681Z",
     "start_time": "2021-09-28T00:19:15.804683Z"
    }
   }
  },
  {
   "cell_type": "code",
   "execution_count": 21,
   "source": [
    "# Chama a função acuracia passando os dados de musicas e as classes\r\n",
    "# Usando o pipeline pip_2\r\n",
    "Acuracia(pip_2,dataset,classes)"
   ],
   "outputs": [
    {
     "output_type": "execute_result",
     "data": {
      "text/plain": [
       "0.7223599405057015"
      ]
     },
     "metadata": {},
     "execution_count": 21
    }
   ],
   "metadata": {
    "ExecuteTime": {
     "end_time": "2021-09-28T00:19:52.935730Z",
     "start_time": "2021-09-28T00:19:15.878682Z"
    }
   }
  },
  {
   "cell_type": "markdown",
   "source": [
    "### Teste da base de dados no Label Encoder"
   ],
   "metadata": {}
  },
  {
   "cell_type": "code",
   "execution_count": 22,
   "source": [
    "# Teste com apenas LabelEncoder na coluna 'artist' usando o pipeline 'pip_1'\r\n",
    "Acuracia(pip_1,dataset,classes)"
   ],
   "outputs": [
    {
     "output_type": "execute_result",
     "data": {
      "text/plain": [
       "0.58601883986118"
      ]
     },
     "metadata": {},
     "execution_count": 22
    }
   ],
   "metadata": {
    "ExecuteTime": {
     "end_time": "2021-09-28T00:20:34.088678Z",
     "start_time": "2021-09-28T00:19:53.018685Z"
    }
   }
  },
  {
   "cell_type": "code",
   "execution_count": 23,
   "source": [
    "# Teste com apenas LabelEncoder na coluna 'artist' usando o pipeline 'pip_2'\r\n",
    "Acuracia(pip_2,dataset,classes)"
   ],
   "outputs": [
    {
     "output_type": "execute_result",
     "data": {
      "text/plain": [
       "0.7223599405057015"
      ]
     },
     "metadata": {},
     "execution_count": 23
    }
   ],
   "metadata": {
    "ExecuteTime": {
     "end_time": "2021-09-28T00:21:10.872398Z",
     "start_time": "2021-09-28T00:20:34.169679Z"
    }
   }
  },
  {
   "cell_type": "markdown",
   "source": [
    "### Testando desempenho dos Kenerls"
   ],
   "metadata": {}
  },
  {
   "cell_type": "code",
   "execution_count": 24,
   "source": [
    "# Testando o Kernel RBF\r\n",
    "Acuracia(pip_3,dataset,classes)"
   ],
   "outputs": [
    {
     "output_type": "execute_result",
     "data": {
      "text/plain": [
       "0.58601883986118"
      ]
     },
     "metadata": {},
     "execution_count": 24
    }
   ],
   "metadata": {
    "ExecuteTime": {
     "end_time": "2021-09-28T00:21:52.185971Z",
     "start_time": "2021-09-28T00:21:10.954935Z"
    }
   }
  },
  {
   "cell_type": "code",
   "execution_count": 25,
   "source": [
    "# Teste de kernel poly\r\n",
    "Acuracia(pip_4,dataset,classes)"
   ],
   "outputs": [
    {
     "output_type": "execute_result",
     "data": {
      "text/plain": [
       "0.5751115518096183"
      ]
     },
     "metadata": {},
     "execution_count": 25
    }
   ],
   "metadata": {
    "ExecuteTime": {
     "end_time": "2021-09-28T00:22:33.214933Z",
     "start_time": "2021-09-28T00:21:52.285932Z"
    }
   }
  },
  {
   "cell_type": "code",
   "execution_count": 26,
   "source": [
    "# Teste de Kernel linear\r\n",
    "Acuracia(pip_5,dataset,classes)"
   ],
   "outputs": [
    {
     "output_type": "execute_result",
     "data": {
      "text/plain": [
       "0.6058502726822013"
      ]
     },
     "metadata": {},
     "execution_count": 26
    }
   ],
   "metadata": {
    "ExecuteTime": {
     "end_time": "2021-09-28T00:23:18.560927Z",
     "start_time": "2021-09-28T00:22:33.296932Z"
    }
   }
  },
  {
   "cell_type": "markdown",
   "source": [
    "# Teste de Overfitting"
   ],
   "metadata": {}
  },
  {
   "cell_type": "code",
   "execution_count": 27,
   "source": [
    "# Utiliza a função train_test_split para separar conjunto de treino e teste em 80/20\r\n",
    "from sklearn.model_selection import train_test_split\r\n",
    "X_train, X_test, y_train, y_test = train_test_split(dataset, classes, test_size=0.2, random_state=123)"
   ],
   "outputs": [],
   "metadata": {
    "ExecuteTime": {
     "end_time": "2021-09-28T00:32:48.018132Z",
     "start_time": "2021-09-28T00:32:47.957124Z"
    }
   }
  },
  {
   "cell_type": "code",
   "execution_count": 28,
   "source": [
    "# Scala os dados de treino e teste.\r\n",
    "scaler = StandardScaler().fit(X_train)\r\n",
    "X_train = scaler.transform(X_train)\r\n",
    "\r\n",
    "scaler2 = StandardScaler().fit(X_test)\r\n",
    "X_test = scaler2.transform(X_test)"
   ],
   "outputs": [],
   "metadata": {
    "ExecuteTime": {
     "end_time": "2021-09-28T00:43:10.311177Z",
     "start_time": "2021-09-28T00:43:09.931174Z"
    }
   }
  },
  {
   "cell_type": "code",
   "execution_count": 29,
   "source": [
    "# Treina o algoritmo\r\n",
    "clf.fit(X_train, y_train)"
   ],
   "outputs": [
    {
     "output_type": "execute_result",
     "data": {
      "text/plain": [
       "SVC()"
      ]
     },
     "metadata": {},
     "execution_count": 29
    }
   ],
   "metadata": {
    "ExecuteTime": {
     "end_time": "2021-09-28T00:43:38.375660Z",
     "start_time": "2021-09-28T00:43:35.336656Z"
    }
   }
  },
  {
   "cell_type": "code",
   "execution_count": 30,
   "source": [
    "# Resultados de predição.\r\n",
    "y_pred  = clf.predict(X_test)"
   ],
   "outputs": [],
   "metadata": {
    "ExecuteTime": {
     "end_time": "2021-09-28T00:43:48.473657Z",
     "start_time": "2021-09-28T00:43:47.053658Z"
    }
   }
  },
  {
   "cell_type": "code",
   "execution_count": 31,
   "source": [
    "# Imprime a acurácia.\r\n",
    "metrics.accuracy_score(y_test,y_pred)"
   ],
   "outputs": [
    {
     "output_type": "execute_result",
     "data": {
      "text/plain": [
       "0.6732673267326733"
      ]
     },
     "metadata": {},
     "execution_count": 31
    }
   ],
   "metadata": {
    "ExecuteTime": {
     "end_time": "2021-09-28T00:44:11.038642Z",
     "start_time": "2021-09-28T00:44:11.023649Z"
    }
   }
  },
  {
   "cell_type": "markdown",
   "source": [
    "- Testando a classificação com o próprio teste"
   ],
   "metadata": {}
  },
  {
   "cell_type": "code",
   "execution_count": 32,
   "source": [
    "# Resultados de predição\r\n",
    "y_pred  = clf.predict(X_train)"
   ],
   "outputs": [],
   "metadata": {
    "ExecuteTime": {
     "end_time": "2021-09-28T00:44:46.408739Z",
     "start_time": "2021-09-28T00:44:41.928420Z"
    }
   }
  },
  {
   "cell_type": "code",
   "execution_count": 33,
   "source": [
    "# Imprime a Acurácia.\r\n",
    "metrics.accuracy_score(y_train,y_pred)"
   ],
   "outputs": [
    {
     "output_type": "execute_result",
     "data": {
      "text/plain": [
       "0.9851208927464352"
      ]
     },
     "metadata": {},
     "execution_count": 33
    }
   ],
   "metadata": {
    "ExecuteTime": {
     "end_time": "2021-09-28T00:45:13.738015Z",
     "start_time": "2021-09-28T00:45:13.714017Z"
    }
   }
  },
  {
   "cell_type": "markdown",
   "source": [
    "# Tunning"
   ],
   "metadata": {}
  },
  {
   "cell_type": "code",
   "execution_count": null,
   "source": [
    "# Lista de Valores de C\r\n",
    "lista_C = [0.001, 0.01, 0.1, 1, 10, 100]\r\n",
    "\r\n",
    "# Lista de Valores de gamma\r\n",
    "lista_gamma = [0.001, 0.01, 0.1, 1, 10, 100]"
   ],
   "outputs": [],
   "metadata": {}
  },
  {
   "cell_type": "code",
   "execution_count": null,
   "source": [
    "# Define um dicionário que recebe as listas de parâmetros e valores.\r\n",
    "parametros_grid = dict(clf__C=lista_C, clf__gamma=lista_gamma, clf__kernel=lista_kernels)"
   ],
   "outputs": [],
   "metadata": {}
  },
  {
   "cell_type": "code",
   "execution_count": null,
   "source": [
    "# Objeto Grid recebe parâmetros de Pipeline, e configurações de cross validation\r\n",
    "grid = GridSearchCV(pip_3, parametros_grid, cv=10, scoring='accuracy')"
   ],
   "outputs": [],
   "metadata": {}
  },
  {
   "cell_type": "code",
   "execution_count": null,
   "source": [
    "# Aplica o gridsearch passando os dados de treino e classes.\r\n",
    "grid.fit(dataset,classes)"
   ],
   "outputs": [],
   "metadata": {}
  },
  {
   "cell_type": "code",
   "execution_count": null,
   "source": [
    "# Lista os parametros que podem ser testados\r\n",
    "grid.estimator.get_params().keys()"
   ],
   "outputs": [],
   "metadata": {}
  },
  {
   "cell_type": "markdown",
   "source": [
    "## Resultados GridSearch"
   ],
   "metadata": {}
  },
  {
   "cell_type": "markdown",
   "source": [
    "# Imprime os scores por combinações\r\n",
    "grid.cv_results_"
   ],
   "metadata": {}
  },
  {
   "cell_type": "code",
   "execution_count": null,
   "source": [
    "# Imprime os melhores parâmetros\r\n",
    "grid.best_params_"
   ],
   "outputs": [],
   "metadata": {}
  },
  {
   "cell_type": "code",
   "execution_count": null,
   "source": [
    "grid.best_score_"
   ],
   "outputs": [],
   "metadata": {}
  },
  {
   "cell_type": "markdown",
   "source": [
    "Adicionar aqui os resultados de forma condensada para facilitar a compreenssão do leitor."
   ],
   "metadata": {}
  }
 ],
 "metadata": {
  "kernelspec": {
   "display_name": "Python 3",
   "language": "python",
   "name": "python3"
  },
  "language_info": {
   "codemirror_mode": {
    "name": "ipython",
    "version": 3
   },
   "file_extension": ".py",
   "mimetype": "text/x-python",
   "name": "python",
   "nbconvert_exporter": "python",
   "pygments_lexer": "ipython3",
   "version": "3.8.3"
  },
  "varInspector": {
   "cols": {
    "lenName": 16,
    "lenType": 16,
    "lenVar": 40
   },
   "kernels_config": {
    "python": {
     "delete_cmd_postfix": "",
     "delete_cmd_prefix": "del ",
     "library": "var_list.py",
     "varRefreshCmd": "print(var_dic_list())"
    },
    "r": {
     "delete_cmd_postfix": ") ",
     "delete_cmd_prefix": "rm(",
     "library": "var_list.r",
     "varRefreshCmd": "cat(var_dic_list()) "
    }
   },
   "types_to_exclude": [
    "module",
    "function",
    "builtin_function_or_method",
    "instance",
    "_Feature"
   ],
   "window_display": false
  }
 },
 "nbformat": 4,
 "nbformat_minor": 4
}